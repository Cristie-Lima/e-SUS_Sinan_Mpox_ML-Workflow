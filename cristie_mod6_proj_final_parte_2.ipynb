{
  "cells": [
    {
      "cell_type": "markdown",
      "metadata": {
        "id": "view-in-github",
        "colab_type": "text"
      },
      "source": [
        "<a href=\"https://colab.research.google.com/github/Cristie-Lima/e-SUS_Sinan_Mpox_ML-Workflow/blob/main/cristie_mod6_proj_final_parte_2.ipynb\" target=\"_parent\"><img src=\"https://colab.research.google.com/assets/colab-badge.svg\" alt=\"Open In Colab\"/></a>"
      ]
    },
    {
      "cell_type": "markdown",
      "source": [
        "---\n",
        "---\n",
        "# **Ciência de Dados: Fundamentos de Machine Learning**\n",
        "---\n",
        "---"
      ],
      "metadata": {
        "id": "UZ4Wa0NV26dp"
      },
      "id": "UZ4Wa0NV26dp"
    },
    {
      "cell_type": "markdown",
      "metadata": {
        "id": "xdL1sKgB26dp"
      },
      "source": [
        "## **Pós-graduação em Ciência de Dados (2025/2026)**\n",
        "\n",
        "**Escola Superior de Tecnologia da Universidade Estadual do Amazonas - EST/UEA**\n",
        "    \n",
        "**Disciplina:** Fundamentos de Machine Learning\n",
        "\n",
        "**Prof. Me.:** Mario Bessa\n",
        "\n",
        "_**Repositório do Projeto Acadêmico no Github:** [e-SUS_Sinan_Mpox_ML-Workflow](https://github.com/Cristie-Lima/e-SUS_Sinan_Mpox_ML-Workflow)_\n",
        "\n",
        "_**Alunos:**_\n",
        "\n",
        "- _A. Cristiane R. Lima (Cristie)_\n",
        "- _José Henrique Santos Cavalcante (Henrique)_\n",
        "\n",
        "_**Data:** 30 de agosto de 2025_\n"
      ],
      "id": "xdL1sKgB26dp"
    },
    {
      "cell_type": "markdown",
      "metadata": {
        "id": "7itil0XZ26dq"
      },
      "source": [
        "## **Projeto Final**\n",
        "Este projeto está dividido em 2 notebooks para contemplar o fluxo completo de pré-modelagem e modelagem para o dataset [e-SUS Sinan/Mpox](https://opendatasus.saude.gov.br/ne/dataset/mpox), seguindo uma estrutura padronizada, do seguinte modo:\n",
        "\n",
        "- cristie_mod6_proj_final_parte_1.ipynb: Aquisição, Análise Descritiva e Exploratória de Dados (EDA), Pré-processamento (Correção )\n",
        "\n",
        "Foi desenvolvido a partir do notebook-base apresentado e explicado ao longo as aulas teórico-práticas em laboratório do Professor.\n",
        "\n",
        "---\n",
        "\n",
        "💡 **Nota técnica:** O link para o Dicionário de Dados está disponível na seção de *Análise Descritiva*. Recomenda-se mantê-lo aberto para facilitar a interpretação das variáveis.\n",
        "\n",
        "⚠️ **Observação:** Linhas com o comentário `#debug#` indicam trechos opcionais para testes e inspeções pontuais — como a geração de arquivos `.csv` temporários para verificar o estado do DataFrame após imputações.\n",
        "\n",
        "📚 **Referência:**  \n",
        "KELLEHER, John D.; MAC NAMEE, Brian; D’ARCY, Aoife. *Fundamentals of Machine Learning for Predictive Data Analytics: Algorithms, Worked Examples, and Case Studies*. 2. ed. Cambridge, MA: MIT Press, 2020.\n"
      ],
      "id": "7itil0XZ26dq"
    },
    {
      "cell_type": "markdown",
      "source": [
        "---\n",
        "### **Contextualização do Projeto**\n",
        "\n",
        "A Mpox (Monkeypox) é uma doença infecciosa emergente que ganhou atenção internacional devido ao seu potencial de disseminação e impacto na saúde pública. No Brasil, o sistema e-SUS Sinan tem sido fundamental para o registro e monitoramento dos casos, permitindo a construção de bases de dados estruturadas para análise epidemiológica.\n",
        "\n",
        "Este projeto tem como objetivo aplicar técnicas de aprendizado de máquina para explorar, tratar e modelar os dados disponíveis, com foco na geração de insights preditivos que possam apoiar estratégias de vigilância e resposta. A abordagem adotada contempla desde o pré-processamento e imputação de dados até a construção de modelos supervisionados, seguindo diretrizes metodológicas discutidas em ambiente acadêmico.\n",
        "\n",
        "---"
      ],
      "metadata": {
        "id": "pJXC5DR226dq"
      },
      "id": "pJXC5DR226dq"
    },
    {
      "cell_type": "markdown",
      "source": [
        "**Instruções:**\n",
        "\n",
        "- Realizar os processamentos abaixo:\n",
        "\n",
        "  - No notebook `cristie_mod6_proj_final_parte_1.ipynb`:\n",
        "    -  Atividade 1: Limpar dados incorretos\n",
        "    -  Atividade 2: Imputação de valores faltantes\n",
        "  - No notebook `cristie_mod6_proj_final_parte_2.ipynb`:\n",
        "    -  Atividade 3: Codificação de variáveis categóricas (OrdinalEncoder e OneHotEncoder)\n",
        "    -  Atividade 4: Escalonamento de variáveis numéricas (StandardScaler e MinMaxScaler)\n",
        "    -  Atividade 5: Balanceamento dos dados (Tomek e Smote)\n",
        "    -  Atividade 6: Treinamento dos modelos de Machine Learning\n",
        "    -  Atividade 7: Usar o modelo treinado"
      ],
      "metadata": {
        "id": "ivP80HuL26dq"
      },
      "id": "ivP80HuL26dq"
    },
    {
      "cell_type": "markdown",
      "source": [
        "## Importa bibliotecas"
      ],
      "metadata": {
        "id": "1zpmIGn2KjEU"
      },
      "id": "1zpmIGn2KjEU"
    },
    {
      "cell_type": "code",
      "source": [
        "from google.colab import drive\n",
        "import numpy as np\n",
        "import pandas as pd\n",
        "import seaborn as sns\n",
        "\n",
        "# Para filtro de variância\n",
        "from sklearn.feature_selection import VarianceThreshold\n",
        "\n",
        "\n",
        "# Para garantir X 100% numérico e sem NaN antes de Tomek/SMOTE\n",
        "from sklearn.impute import SimpleImputer\n",
        "\n",
        "# Para aplicar TomerkLinks e SMOTE\n",
        "from imblearn.under_sampling import TomekLinks\n",
        "from imblearn.over_sampling import SMOTE\n",
        "\n",
        "#import matplotlib.pyplot as plt"
      ],
      "metadata": {
        "id": "0GU1WqNWKnSu"
      },
      "id": "0GU1WqNWKnSu",
      "execution_count": 1,
      "outputs": []
    },
    {
      "cell_type": "markdown",
      "source": [
        "## Tarefas preliminares"
      ],
      "metadata": {
        "id": "hp4HG5TkPkxM"
      },
      "id": "hp4HG5TkPkxM"
    },
    {
      "cell_type": "markdown",
      "source": [
        "Montar o Google Drive no Colab"
      ],
      "metadata": {
        "id": "tca799qUKc9w"
      },
      "id": "tca799qUKc9w"
    },
    {
      "cell_type": "code",
      "source": [
        "#Montar o Google Drive no Colab\n",
        "#from google.colab import drive\n",
        "\n",
        "# Montar o Google Drive na pasta /content/drive\n",
        "drive.mount('/content/drive')"
      ],
      "metadata": {
        "colab": {
          "base_uri": "https://localhost:8080/"
        },
        "id": "HgH0Aln6LkoU",
        "outputId": "30d47051-cda7-47fa-c81e-d71c7aa3c87e"
      },
      "id": "HgH0Aln6LkoU",
      "execution_count": 3,
      "outputs": [
        {
          "output_type": "stream",
          "name": "stdout",
          "text": [
            "Mounted at /content/drive\n"
          ]
        }
      ]
    },
    {
      "cell_type": "markdown",
      "source": [
        "Registra o caminho da pasta do projeto"
      ],
      "metadata": {
        "id": "cnJREKnUP0VN"
      },
      "id": "cnJREKnUP0VN"
    },
    {
      "cell_type": "code",
      "source": [
        "\n",
        "# Caminho da pasta do projeto (ajuste conforme sua organização)\n",
        "project_path = \"/content/drive/MyDrive/data_mpox_2022_Part1/\"\n",
        "\n",
        "# Conferir se a pasta existe, senão criar\n",
        "import os\n",
        "os.makedirs(project_path, exist_ok=True)\n",
        "\n",
        "print(\"✅ Drive montado em:\", project_path)\n"
      ],
      "metadata": {
        "colab": {
          "base_uri": "https://localhost:8080/"
        },
        "id": "Qeq7TnEdKZuK",
        "outputId": "7a732ac1-37c8-4eca-eb08-7c45862aa1f3"
      },
      "id": "Qeq7TnEdKZuK",
      "execution_count": 4,
      "outputs": [
        {
          "output_type": "stream",
          "name": "stdout",
          "text": [
            "✅ Drive montado em: /content/drive/MyDrive/data_mpox_2022_Part1/\n"
          ]
        }
      ]
    },
    {
      "cell_type": "markdown",
      "source": [
        "## 📂 Desserialização do dataset pré-processado"
      ],
      "metadata": {
        "id": "9m67S9fAKAsC"
      },
      "id": "9m67S9fAKAsC"
    },
    {
      "cell_type": "code",
      "source": [
        "# 📂 Desserialização do dataset pré-processado\n",
        "\n",
        "filename = project_path + \"mpox_2022_prep.parquet\"\n",
        "df_prep = pd.read_parquet(filename)\n",
        "print(\"✅ df_prep carregado com sucesso:\", df_prep.shape)\n",
        "\n",
        "# Visualizar primeiras linhas\n",
        "df_prep.head(1)"
      ],
      "metadata": {
        "colab": {
          "base_uri": "https://localhost:8080/",
          "height": 147
        },
        "id": "8BNAEcNMJ-op",
        "outputId": "7678d470-fe3f-4acc-fec7-bbd7930195b1"
      },
      "id": "8BNAEcNMJ-op",
      "execution_count": 5,
      "outputs": [
        {
          "output_type": "stream",
          "name": "stdout",
          "text": [
            "✅ df_prep carregado com sucesso: (10920, 114)\n"
          ]
        },
        {
          "output_type": "execute_result",
          "data": {
            "text/plain": [
              "   CLASSI_FIN SG_UF SG_UF_NOT  ID_MUNICIP DT_NOTIFIC  CO_UF_RES  ID_MN_RESI  \\\n",
              "0           1    PB        PB      250750 2022-12-08         25      250750   \n",
              "\n",
              "   NU_IDADE_N  CS_SEXO  COMP_SEXUAL  ...  CLADO_missing  DOENCA_TRA.1_missing  \\\n",
              "0          34        1            1  ...              0                     0   \n",
              "\n",
              "   NU_IDADE_N_missing CONTAG_CD4_missing DT_NOTIFIC_missing  \\\n",
              "0                   0                  0                  0   \n",
              "\n",
              "   DT_SIN_PRI_missing  DT_COLETA_missing  DATA_VACINA_missing  \\\n",
              "0                   0                  0                    1   \n",
              "\n",
              "   DT_INTERNA_missing  DT_EVOLUCAO_missing  \n",
              "0                   1                    0  \n",
              "\n",
              "[1 rows x 114 columns]"
            ],
            "text/html": [
              "\n",
              "  <div id=\"df-bcd87c06-7ddd-4555-8122-e514a4cd5bff\" class=\"colab-df-container\">\n",
              "    <div>\n",
              "<style scoped>\n",
              "    .dataframe tbody tr th:only-of-type {\n",
              "        vertical-align: middle;\n",
              "    }\n",
              "\n",
              "    .dataframe tbody tr th {\n",
              "        vertical-align: top;\n",
              "    }\n",
              "\n",
              "    .dataframe thead th {\n",
              "        text-align: right;\n",
              "    }\n",
              "</style>\n",
              "<table border=\"1\" class=\"dataframe\">\n",
              "  <thead>\n",
              "    <tr style=\"text-align: right;\">\n",
              "      <th></th>\n",
              "      <th>CLASSI_FIN</th>\n",
              "      <th>SG_UF</th>\n",
              "      <th>SG_UF_NOT</th>\n",
              "      <th>ID_MUNICIP</th>\n",
              "      <th>DT_NOTIFIC</th>\n",
              "      <th>CO_UF_RES</th>\n",
              "      <th>ID_MN_RESI</th>\n",
              "      <th>NU_IDADE_N</th>\n",
              "      <th>CS_SEXO</th>\n",
              "      <th>COMP_SEXUAL</th>\n",
              "      <th>...</th>\n",
              "      <th>CLADO_missing</th>\n",
              "      <th>DOENCA_TRA.1_missing</th>\n",
              "      <th>NU_IDADE_N_missing</th>\n",
              "      <th>CONTAG_CD4_missing</th>\n",
              "      <th>DT_NOTIFIC_missing</th>\n",
              "      <th>DT_SIN_PRI_missing</th>\n",
              "      <th>DT_COLETA_missing</th>\n",
              "      <th>DATA_VACINA_missing</th>\n",
              "      <th>DT_INTERNA_missing</th>\n",
              "      <th>DT_EVOLUCAO_missing</th>\n",
              "    </tr>\n",
              "  </thead>\n",
              "  <tbody>\n",
              "    <tr>\n",
              "      <th>0</th>\n",
              "      <td>1</td>\n",
              "      <td>PB</td>\n",
              "      <td>PB</td>\n",
              "      <td>250750</td>\n",
              "      <td>2022-12-08</td>\n",
              "      <td>25</td>\n",
              "      <td>250750</td>\n",
              "      <td>34</td>\n",
              "      <td>1</td>\n",
              "      <td>1</td>\n",
              "      <td>...</td>\n",
              "      <td>0</td>\n",
              "      <td>0</td>\n",
              "      <td>0</td>\n",
              "      <td>0</td>\n",
              "      <td>0</td>\n",
              "      <td>0</td>\n",
              "      <td>0</td>\n",
              "      <td>1</td>\n",
              "      <td>1</td>\n",
              "      <td>0</td>\n",
              "    </tr>\n",
              "  </tbody>\n",
              "</table>\n",
              "<p>1 rows × 114 columns</p>\n",
              "</div>\n",
              "    <div class=\"colab-df-buttons\">\n",
              "\n",
              "  <div class=\"colab-df-container\">\n",
              "    <button class=\"colab-df-convert\" onclick=\"convertToInteractive('df-bcd87c06-7ddd-4555-8122-e514a4cd5bff')\"\n",
              "            title=\"Convert this dataframe to an interactive table.\"\n",
              "            style=\"display:none;\">\n",
              "\n",
              "  <svg xmlns=\"http://www.w3.org/2000/svg\" height=\"24px\" viewBox=\"0 -960 960 960\">\n",
              "    <path d=\"M120-120v-720h720v720H120Zm60-500h600v-160H180v160Zm220 220h160v-160H400v160Zm0 220h160v-160H400v160ZM180-400h160v-160H180v160Zm440 0h160v-160H620v160ZM180-180h160v-160H180v160Zm440 0h160v-160H620v160Z\"/>\n",
              "  </svg>\n",
              "    </button>\n",
              "\n",
              "  <style>\n",
              "    .colab-df-container {\n",
              "      display:flex;\n",
              "      gap: 12px;\n",
              "    }\n",
              "\n",
              "    .colab-df-convert {\n",
              "      background-color: #E8F0FE;\n",
              "      border: none;\n",
              "      border-radius: 50%;\n",
              "      cursor: pointer;\n",
              "      display: none;\n",
              "      fill: #1967D2;\n",
              "      height: 32px;\n",
              "      padding: 0 0 0 0;\n",
              "      width: 32px;\n",
              "    }\n",
              "\n",
              "    .colab-df-convert:hover {\n",
              "      background-color: #E2EBFA;\n",
              "      box-shadow: 0px 1px 2px rgba(60, 64, 67, 0.3), 0px 1px 3px 1px rgba(60, 64, 67, 0.15);\n",
              "      fill: #174EA6;\n",
              "    }\n",
              "\n",
              "    .colab-df-buttons div {\n",
              "      margin-bottom: 4px;\n",
              "    }\n",
              "\n",
              "    [theme=dark] .colab-df-convert {\n",
              "      background-color: #3B4455;\n",
              "      fill: #D2E3FC;\n",
              "    }\n",
              "\n",
              "    [theme=dark] .colab-df-convert:hover {\n",
              "      background-color: #434B5C;\n",
              "      box-shadow: 0px 1px 3px 1px rgba(0, 0, 0, 0.15);\n",
              "      filter: drop-shadow(0px 1px 2px rgba(0, 0, 0, 0.3));\n",
              "      fill: #FFFFFF;\n",
              "    }\n",
              "  </style>\n",
              "\n",
              "    <script>\n",
              "      const buttonEl =\n",
              "        document.querySelector('#df-bcd87c06-7ddd-4555-8122-e514a4cd5bff button.colab-df-convert');\n",
              "      buttonEl.style.display =\n",
              "        google.colab.kernel.accessAllowed ? 'block' : 'none';\n",
              "\n",
              "      async function convertToInteractive(key) {\n",
              "        const element = document.querySelector('#df-bcd87c06-7ddd-4555-8122-e514a4cd5bff');\n",
              "        const dataTable =\n",
              "          await google.colab.kernel.invokeFunction('convertToInteractive',\n",
              "                                                    [key], {});\n",
              "        if (!dataTable) return;\n",
              "\n",
              "        const docLinkHtml = 'Like what you see? Visit the ' +\n",
              "          '<a target=\"_blank\" href=https://colab.research.google.com/notebooks/data_table.ipynb>data table notebook</a>'\n",
              "          + ' to learn more about interactive tables.';\n",
              "        element.innerHTML = '';\n",
              "        dataTable['output_type'] = 'display_data';\n",
              "        await google.colab.output.renderOutput(dataTable, element);\n",
              "        const docLink = document.createElement('div');\n",
              "        docLink.innerHTML = docLinkHtml;\n",
              "        element.appendChild(docLink);\n",
              "      }\n",
              "    </script>\n",
              "  </div>\n",
              "\n",
              "\n",
              "    </div>\n",
              "  </div>\n"
            ],
            "application/vnd.google.colaboratory.intrinsic+json": {
              "type": "dataframe",
              "variable_name": "df_prep"
            }
          },
          "metadata": {},
          "execution_count": 5
        }
      ]
    },
    {
      "cell_type": "markdown",
      "source": [
        "---\n",
        "\n",
        "## **⚙️ Engenharia de Atributos: criando novas variáveis a partir das existentes.**\n",
        "\n",
        "---\n",
        "\n",
        "\n",
        "\n",
        "    Resumo da ações:\n",
        "      1. Explosão de SINTOMA → dummies (min_freq opcional; default preserva todos).\n",
        "      2. Deltas de datas (sem imputar; respeita NaT).\n",
        "      3. Agregados clínicos (ISTs, imuno, vacina).\n",
        "      4. Bins demográficos (idade, região).\n",
        "      5. Interações (ex.: imuno × sintomas, centralização de delay por região).\n",
        "      6. Targets (hosp, óbito).\n",
        "      7. Auditorias.\n",
        "\n",
        "\n",
        "---\n"
      ],
      "metadata": {
        "id": "tdoF2Scm6iWF"
      },
      "id": "tdoF2Scm6iWF"
    },
    {
      "cell_type": "markdown",
      "source": [
        "### Engenharia de Atributos — Funções"
      ],
      "metadata": {
        "id": "BprpIlrrDm5y"
      },
      "id": "BprpIlrrDm5y"
    },
    {
      "cell_type": "code",
      "source": [
        "# ==========================================\n",
        "# ⚙️ ENGENHARIA DE ATRIBUTOS — FUNÇÕES E EXECUÇÃO\n",
        "# ==========================================\n",
        "#import pandas as pd\n",
        "#import numpy as np\n",
        "\n",
        "# ------------------------------------------------------------\n",
        "# 1) Explosão de sintomas em dummies (com min_freq opcional)\n",
        "# ------------------------------------------------------------\n",
        "def explode_sintoma_dummies_simple(\n",
        "    df: pd.DataFrame,\n",
        "    col: str = \"SINTOMA\",\n",
        "    prefix: str = \"sx_\",\n",
        "    min_freq: int | None = None\n",
        ") -> tuple[pd.DataFrame, list]:\n",
        "    \"\"\"\n",
        "    Transforma a coluna de sintomas (strings separadas por vírgula) em colunas dummies (0/1).\n",
        "\n",
        "    Parâmetros\n",
        "    ----------\n",
        "    df : DataFrame\n",
        "        Base de entrada.\n",
        "    col : str\n",
        "        Nome da coluna que contém a lista de sintomas (ex.: \"Febre, Cefaleia\").\n",
        "    prefix : str\n",
        "        Prefixo a ser usado nas colunas dummies geradas (ex.: \"sx_\").\n",
        "    min_freq : int | None\n",
        "        - None → mantém TODOS os sintomas (recomendado para saúde; preserva informação).\n",
        "        - inteiro ≥1 → mantém apenas sintomas com frequência absoluta ≥ min_freq\n",
        "                       (útil futuramente para reduzir esparsidade).\n",
        "\n",
        "    Retorno\n",
        "    -------\n",
        "    df_out : DataFrame\n",
        "        DataFrame original + colunas dummies para cada sintoma selecionado.\n",
        "    sintomas_cols : list[str]\n",
        "        Lista com os nomes das colunas de sintomas criadas.\n",
        "    \"\"\"\n",
        "    df_out = df.copy()\n",
        "\n",
        "    if col not in df_out.columns:\n",
        "        return df_out, []\n",
        "\n",
        "    # Lista de sintomas por linha (minúsculas, trim de espaços; ignora strings vazias)\n",
        "    s_clean = df_out[col].fillna(\"\").astype(str)\n",
        "    listas = s_clean.str.split(\",\").apply(lambda xs: [t.strip().lower() for t in xs if t.strip() != \"\"])\n",
        "\n",
        "    # Frequência dos termos\n",
        "    freq = pd.Series([t for sub in listas for t in sub]).value_counts()\n",
        "\n",
        "    # Seleção por min_freq (se None → todos)\n",
        "    if min_freq is None:\n",
        "        termos = freq.index\n",
        "    else:\n",
        "        termos = freq[freq >= int(min_freq)].index\n",
        "\n",
        "    # Criação de dummies (0/1) linha a linha\n",
        "    for termo in termos:\n",
        "        c = f\"{prefix}{termo.replace(' ', '_')}\"\n",
        "        df_out[c] = listas.apply(lambda L: int(termo in L)).astype(\"Int64\")\n",
        "\n",
        "    sintomas_cols = [c for c in df_out.columns if c.startswith(prefix)]\n",
        "    return df_out, sintomas_cols\n",
        "\n",
        "\n",
        "# ------------------------------------------------------------\n",
        "# 2) Features derivadas de datas (sem imputar datas)\n",
        "# ------------------------------------------------------------\n",
        "def add_date_features(\n",
        "    df: pd.DataFrame,\n",
        "    col_notif: str = \"DT_NOTIFIC\",\n",
        "    col_inicio: str = \"DT_SIN_PRI\",\n",
        "    col_evol: str = \"DT_EVOLUCAO\",\n",
        "    col_intern: str = \"DT_INTERNA\",\n",
        "    create_missing_flags: bool = True\n",
        ") -> pd.DataFrame:\n",
        "    \"\"\"\n",
        "    Cria deltas de tempo (em dias) a partir de colunas de datas — sem imputação.\n",
        "    Se a linha não tiver ambas as datas válidas, o delta fica NaN.\n",
        "\n",
        "    Parâmetros\n",
        "    ----------\n",
        "    df : DataFrame\n",
        "        Base de entrada (datas podem estar em string; serão convertidas durante o cálculo).\n",
        "    col_notif, col_inicio, col_evol, col_intern : str\n",
        "        Nomes das colunas de datas conforme o dicionário.\n",
        "    create_missing_flags : bool\n",
        "        Se True, mantém/gera indicadores *_missing (0/1) para cada coluna de data original.\n",
        "\n",
        "    Retorno\n",
        "    -------\n",
        "    DataFrame com as colunas:\n",
        "      - delay_notif        = DT_NOTIFIC - DT_SIN_PRI\n",
        "      - tempo_internacao   = DT_EVOLUCAO - DT_INTERNA\n",
        "      - duracao_caso       = DT_EVOLUCAO - DT_SIN_PRI\n",
        "    \"\"\"\n",
        "    out = df.copy()\n",
        "\n",
        "    # Flags de ausência (se existirem as colunas)\n",
        "    def _flag(col):\n",
        "        if create_missing_flags and col in out.columns:\n",
        "            out[f\"{col}_missing\"] = out[col].isna().astype(\"Int64\")\n",
        "\n",
        "    for c in [col_notif, col_inicio, col_evol, col_intern]:\n",
        "        _flag(c)\n",
        "\n",
        "    # Converte sob demanda apenas para calcular deltas\n",
        "    to_dt = lambda s: pd.to_datetime(s, errors=\"coerce\", dayfirst=True)\n",
        "\n",
        "    if {col_notif, col_inicio}.issubset(out.columns):\n",
        "        out[\"delay_notif\"] = (to_dt(out[col_notif]) - to_dt(out[col_inicio])).dt.days\n",
        "\n",
        "    if {col_evol, col_intern}.issubset(out.columns):\n",
        "        out[\"tempo_internacao\"] = (to_dt(out[col_evol]) - to_dt(out[col_intern])).dt.days\n",
        "\n",
        "    if {col_evol, col_inicio}.issubset(out.columns):\n",
        "        out[\"duracao_caso\"] = (to_dt(out[col_evol]) - to_dt(out[col_inicio])).dt.days\n",
        "\n",
        "    return out\n",
        "\n",
        "\n",
        "# ------------------------------------------------------------\n",
        "# 3) Agregados clínicos (ISTs, imunossupressão, vacinação)\n",
        "# ------------------------------------------------------------\n",
        "def add_clinical_aggregates(\n",
        "    df: pd.DataFrame,\n",
        "    ist_cols: list | None = None,\n",
        "    col_imuno: str = \"PAC_IMUNOSSUP\",\n",
        "    col_vacina: str = \"VACINA\"\n",
        ") -> pd.DataFrame:\n",
        "    \"\"\"\n",
        "    Cria agregações clínicas:\n",
        "\n",
        "    - ist_any   : 1 se pelo menos uma IST específica = 1; 0 caso contrário (ignora NaN ao somar/max).\n",
        "    - ist_count : soma das ISTs específicas (contagem).\n",
        "    - imune_risco:\n",
        "        PAC_IMUNOSSUP (1,2,3) → 1; 4→0; outros (9/NaN) → NA.\n",
        "    - vacina_qualquer:\n",
        "        VACINA in {1,2,3} → 1; VACINA==4 → 0; caso contrário → NA.\n",
        "\n",
        "    Parâmetros\n",
        "    ----------\n",
        "    df : DataFrame\n",
        "    ist_cols : list | None\n",
        "        Lista explícita de colunas de ISTs. Se None, usa o conjunto padrão do mpox_2022.\n",
        "    col_imuno : str\n",
        "        Nome da coluna de imunossupressão.\n",
        "    col_vacina : str\n",
        "        Nome da coluna de vacinação.\n",
        "\n",
        "    Retorno\n",
        "    -------\n",
        "    DataFrame com novas colunas: ist_any, ist_count, imune_risco, vacina_qualquer.\n",
        "    \"\"\"\n",
        "    out = df.copy()\n",
        "\n",
        "    if ist_cols is None:\n",
        "        ist_cols = [\n",
        "            \"GONORREIA\",\"CLAMIDEA\",\"SIFILIS\",\"HERPES_GENITAL\",\"CANCRO_MOLE\",\n",
        "            \"TRICHOMOMAS_VAGINALS\",\"LINFOGRANULOMA\",\"MYCOPLASMA_GENITAL\",\n",
        "            \"HPV\",\"DIP\",\"DONOVANOSE\",\"HTLV\",\"VERRUGA_GENITAL\"\n",
        "        ]\n",
        "    ist_cols = [c for c in ist_cols if c in out.columns]\n",
        "\n",
        "    if ist_cols:\n",
        "        out[\"ist_any\"] = out[ist_cols].max(axis=1, skipna=True).astype(\"Int64\")\n",
        "        out[\"ist_count\"] = out[ist_cols].sum(axis=1, skipna=True).astype(\"Int64\")\n",
        "\n",
        "    if col_imuno in out.columns:\n",
        "        m = out[col_imuno].map({1:1, 2:1, 3:1, 4:0})\n",
        "        out[\"imune_risco\"] = m.astype(\"Int64\")\n",
        "\n",
        "    if col_vacina in out.columns:\n",
        "        v = pd.Series(pd.NA, index=out.index, dtype=\"Int64\")\n",
        "        v = v.mask(out[col_vacina].isin([1,2,3])==True, 1)\n",
        "        v = v.mask(out[col_vacina].eq(4)==True, 0)\n",
        "        out[\"vacina_qualquer\"] = v\n",
        "\n",
        "    return out\n",
        "\n",
        "\n",
        "# ------------------------------------------------------------\n",
        "# 4) Bins demográficos / Região (UF→região)\n",
        "# ------------------------------------------------------------\n",
        "def add_demo_bins(\n",
        "    df: pd.DataFrame,\n",
        "    col_idade: str = \"NU_IDADE_N\",\n",
        "    col_uf: str = \"SG_UF\"\n",
        ") -> pd.DataFrame:\n",
        "    \"\"\"\n",
        "    Cria faixas etárias e região (a partir de SG_UF).\n",
        "    - faixa_etaria: categorias textuais (0–9, 10–17, 18–29, 30–39, 40–49, 50–59, 60+).\n",
        "      (Mantém NaN quando NU_IDADE_N ausente).\n",
        "    - regiao: Norte, Nordeste, Centro-Oeste, Sudeste, Sul (NaN se SG_UF ausente ou desconhecido).\n",
        "\n",
        "    Parâmetros\n",
        "    ----------\n",
        "    df : DataFrame\n",
        "    col_idade : str\n",
        "        Nome da coluna de idade (anos).\n",
        "    col_uf : str\n",
        "        Nome da coluna de UF (sigla).\n",
        "\n",
        "    Retorno\n",
        "    -------\n",
        "    DataFrame com 'faixa_etaria' (category) e 'regiao' (category).\n",
        "    \"\"\"\n",
        "    out = df.copy()\n",
        "\n",
        "    # Faixas etárias (ajustáveis)\n",
        "    if col_idade in out.columns:\n",
        "        bins = [-np.inf, 9, 17, 29, 39, 49, 59, np.inf]\n",
        "        labels = [\"0-9\",\"10-17\",\"18-29\",\"30-39\",\"40-49\",\"50-59\",\"60+\"]\n",
        "        out[\"faixa_etaria\"] = pd.cut(out[col_idade], bins=bins, labels=labels).astype(\"category\")\n",
        "\n",
        "    # Mapeamento UF → Região (IBGE)\n",
        "    uf_regiao = {\n",
        "        # Norte\n",
        "        \"AC\":\"Norte\",\"AP\":\"Norte\",\"AM\":\"Norte\",\"PA\":\"Norte\",\"RO\":\"Norte\",\"RR\":\"Norte\",\"TO\":\"Norte\",\n",
        "        # Nordeste\n",
        "        \"AL\":\"Nordeste\",\"BA\":\"Nordeste\",\"CE\":\"Nordeste\",\"MA\":\"Nordeste\",\"PB\":\"Nordeste\",\n",
        "        \"PE\":\"Nordeste\",\"PI\":\"Nordeste\",\"RN\":\"Nordeste\",\"SE\":\"Nordeste\",\n",
        "        # Centro-Oeste\n",
        "        \"DF\":\"Centro-Oeste\",\"GO\":\"Centro-Oeste\",\"MS\":\"Centro-Oeste\",\"MT\":\"Centro-Oeste\",\n",
        "        # Sudeste\n",
        "        \"ES\":\"Sudeste\",\"MG\":\"Sudeste\",\"RJ\":\"Sudeste\",\"SP\":\"Sudeste\",\n",
        "        # Sul\n",
        "        \"PR\":\"Sul\",\"RS\":\"Sul\",\"SC\":\"Sul\",\n",
        "    }\n",
        "    if col_uf in out.columns:\n",
        "        out[\"regiao\"] = out[col_uf].map(uf_regiao).astype(\"category\")\n",
        "\n",
        "    return out\n",
        "\n",
        "\n",
        "# ------------------------------------------------------------\n",
        "# 5) Interações (exemplos pragmáticos)\n",
        "# ------------------------------------------------------------\n",
        "def add_interactions(\n",
        "    df: pd.DataFrame,\n",
        "    sintomas_prefix: str = \"sx_\",\n",
        "    center_delay_by: str = \"regiao\"\n",
        ") -> pd.DataFrame:\n",
        "    \"\"\"\n",
        "    Cria interações/transformações simples:\n",
        "\n",
        "    - sintoma_count: soma dos dummies de sintomas (se existirem colunas com prefixo sintomas_prefix).\n",
        "    - imune_risco_x_sintomas: produto de imune_risco * sintoma_count (se ambas existirem).\n",
        "    - delay_notif_centered_regiao: delay_notif centrado pela média da região (se 'regiao' existir).\n",
        "\n",
        "    Parâmetros\n",
        "    ----------\n",
        "    df : DataFrame\n",
        "    sintomas_prefix : str\n",
        "        Prefixo que identifica as colunas dummies de sintomas (default 'sx_').\n",
        "    center_delay_by : str\n",
        "        Coluna categórica para centralizar delay_notif por grupo (default 'regiao').\n",
        "\n",
        "    Retorno\n",
        "    -------\n",
        "    DataFrame com novas colunas se aplicáveis.\n",
        "    \"\"\"\n",
        "    out = df.copy()\n",
        "\n",
        "    # Conta dummies de sintomas\n",
        "    sint_cols = [c for c in out.columns if c.startswith(sintomas_prefix)]\n",
        "    if sint_cols:\n",
        "        out[\"sintoma_count\"] = out[sint_cols].sum(axis=1, skipna=True).astype(\"Int64\")\n",
        "\n",
        "    # Interação com imunossupressão\n",
        "    if {\"imune_risco\",\"sintoma_count\"}.issubset(out.columns):\n",
        "        # Usa 0 para NA ao multiplicar; resultado volta a Int64 com NA onde ambos eram NA\n",
        "        tmp = out[\"imune_risco\"].fillna(0) * out[\"sintoma_count\"].fillna(0)\n",
        "        tmp = tmp.mask(out[\"imune_risco\"].isna() & out[\"sintoma_count\"].isna(), pd.NA)\n",
        "        out[\"imune_risco_x_sintomas\"] = tmp.astype(\"Int64\")\n",
        "\n",
        "    # Centralização de delay_notif por região (ou outra coluna categórica)\n",
        "    if \"delay_notif\" in out.columns and center_delay_by in out.columns:\n",
        "        out[\"delay_notif_centered_regiao\"] = (\n",
        "            out[\"delay_notif\"] - out.groupby(center_delay_by)[\"delay_notif\"].transform(\"mean\")\n",
        "        )\n",
        "\n",
        "    return out\n",
        "\n",
        "\n",
        "# ------------------------------------------------------------\n",
        "# 6) Targets (variáveis-alvo binárias)\n",
        "# ------------------------------------------------------------\n",
        "def add_targets(\n",
        "    df: pd.DataFrame,\n",
        "    col_hosp: str = \"HOSPITAL\",\n",
        "    col_evol: str = \"EVOLUCAO\"\n",
        ") -> pd.DataFrame:\n",
        "    \"\"\"\n",
        "    Cria variáveis-alvo padronizadas para classificação:\n",
        "\n",
        "    - target_hosp      : 1 se HOSPITAL == 1; 0 caso contrário (Int64 com NA onde não há dado).\n",
        "    - target_obito_any : 1 se EVOLUCAO ∈ {1 (óbito MPX), 3 (óbito outra causa)}; 0 caso contrário.\n",
        "    - target_obito_mpx : 1 se EVOLUCAO == 1; 0 caso contrário.\n",
        "\n",
        "    Parâmetros\n",
        "    ----------\n",
        "    df : DataFrame\n",
        "    col_hosp : str\n",
        "        Nome da coluna de hospitalização (código).\n",
        "    col_evol : str\n",
        "        Nome da coluna de evolução (código).\n",
        "\n",
        "    Retorno\n",
        "    -------\n",
        "    DataFrame com as três colunas de target.\n",
        "    \"\"\"\n",
        "    out = df.copy()\n",
        "\n",
        "    if col_hosp in out.columns:\n",
        "        t = out[col_hosp].eq(1)\n",
        "        out[\"target_hosp\"] = t.where(out[col_hosp].notna(), pd.NA).astype(\"Int64\")\n",
        "\n",
        "    if col_evol in out.columns:\n",
        "        any_obito = out[col_evol].isin([1,3])\n",
        "        out[\"target_obito_any\"] = any_obito.where(out[col_evol].notna(), pd.NA).astype(\"Int64\")\n",
        "        mpx = out[col_evol].eq(1)\n",
        "        out[\"target_obito_mpx\"] = mpx.where(out[col_evol].notna(), pd.NA).astype(\"Int64\")\n",
        "\n",
        "    return out\n",
        "\n",
        "\n",
        "# ------------------------------------------------------------\n",
        "# 7) Auditorias\n",
        "# ------------------------------------------------------------\n",
        "def audit_sintomas(df: pd.DataFrame, sintomas_cols: list[str]) -> pd.DataFrame:\n",
        "    \"\"\"\n",
        "    Auditoria das dummies de sintomas:\n",
        "    - non_nulls, sum_positives, percent_positives\n",
        "    - status: marca colunas sempre-zero / sempre-NaN\n",
        "    \"\"\"\n",
        "    if not sintomas_cols:\n",
        "        return pd.DataFrame({\"msg\": [\"Sem colunas de sintomas (prefixo não encontrado).\"]})\n",
        "\n",
        "    audit = pd.DataFrame({\n",
        "        \"non_nulls\": df[sintomas_cols].notna().sum(),\n",
        "        \"sum_positives\": df[sintomas_cols].sum(),\n",
        "        \"percent_positives\": df[sintomas_cols].mean() * 100\n",
        "    })\n",
        "    audit[\"status\"] = \"-\"\n",
        "    audit.loc[audit[\"sum_positives\"] == 0, \"status\"] = \"⚠️ Sempre 0\"\n",
        "    audit.loc[audit[\"non_nulls\"] == 0, \"status\"] = \"⚠️ Sempre NaN\"\n",
        "    return audit.sort_values(\"percent_positives\", ascending=False)\n",
        "\n",
        "\n",
        "def audit_feature_engineering(df: pd.DataFrame) -> pd.DataFrame:\n",
        "    \"\"\"\n",
        "    Checagem rápida de presença e sanidade das principais novas features.\n",
        "    Retorna um pequeno quadro-resumo (counts/NA/descrição de colunas-chave).\n",
        "    \"\"\"\n",
        "    cols_check = [\n",
        "        \"delay_notif\",\"tempo_internacao\",\"duracao_caso\",\n",
        "        \"ist_any\",\"ist_count\",\"imune_risco\",\"vacina_qualquer\",\n",
        "        \"faixa_etaria\",\"regiao\",\"sintoma_count\",\"imune_risco_x_sintomas\",\n",
        "        \"delay_notif_centered_regiao\",\n",
        "        \"target_hosp\",\"target_obito_any\",\"target_obito_mpx\"\n",
        "    ]\n",
        "    cols_check = [c for c in cols_check if c in df.columns]\n",
        "    if not cols_check:\n",
        "        return pd.DataFrame({\"msg\": [\"Nenhuma coluna derivada encontrada para auditar.\"]})\n",
        "\n",
        "    out = []\n",
        "    for c in cols_check:\n",
        "        s = df[c]\n",
        "        out.append({\n",
        "            \"col\": c,\n",
        "            \"dtype\": str(s.dtype),\n",
        "            \"non_null\": int(s.notna().sum()),\n",
        "            \"na\": int(s.isna().sum()),\n",
        "            \"unique\": int(s.nunique(dropna=True)),\n",
        "            \"sample_values\": s.dropna().unique()[:5] if s.nunique(dropna=True) <= 10 else \"many\"\n",
        "        })\n",
        "    return pd.DataFrame(out).set_index(\"col\")"
      ],
      "metadata": {
        "id": "WHE72Kwv-8I7"
      },
      "execution_count": 6,
      "outputs": [],
      "id": "WHE72Kwv-8I7"
    },
    {
      "cell_type": "markdown",
      "source": [
        "### **Estrutura de Execução (orquestra todas as etapas)**\n",
        "\n",
        "Neste momento como ainda está-se a explorar e atuar na Engenharia de Atributos, melhor manter todos os dummies de sintomas"
      ],
      "metadata": {
        "id": "JOLTxaRnmdNw"
      },
      "id": "JOLTxaRnmdNw"
    },
    {
      "cell_type": "code",
      "source": [
        "# ------------------------------------------------------------\n",
        "# 8) PIPELINE DE EXECUÇÃO (orquestra todas as etapas)\n",
        "# ------------------------------------------------------------\n",
        "def run_feature_engineering_pipeline(\n",
        "    df: pd.DataFrame,\n",
        "    sintomas_min_freq: int | None = None\n",
        ") -> tuple[pd.DataFrame, dict]:\n",
        "    \"\"\"\n",
        "    Executa a Engenharia de Atributos end-to-end:\n",
        "\n",
        "    Etapas:\n",
        "      1. Explosão de SINTOMA → dummies (min_freq opcional; default preserva todos).\n",
        "      2. Deltas de datas (sem imputar; respeita NaT).\n",
        "      3. Agregados clínicos (ISTs, imuno, vacina).\n",
        "      4. Bins demográficos (idade, região).\n",
        "      5. Interações (ex.: imuno × sintomas, centralização de delay por região).\n",
        "      6. Targets (hosp, óbito).\n",
        "      7. Auditorias.\n",
        "\n",
        "    Parâmetros\n",
        "    ----------\n",
        "    df : DataFrame\n",
        "        DataFrame pós-imputação/limpeza.\n",
        "    sintomas_min_freq : int | None\n",
        "        Cutoff para filtrar sintomas raros (None = mantém todos).\n",
        "\n",
        "    Retorno\n",
        "    -------\n",
        "    df_feat : DataFrame\n",
        "        DataFrame final enriquecido com todas as features derivadas.\n",
        "    info : dict\n",
        "        Dicionário com artefatos úteis:\n",
        "          - 'sintomas_cols': lista de colunas dummies geradas\n",
        "          - 'audit_sintomas': DataFrame de auditoria de sintomas\n",
        "          - 'audit_features': DataFrame de auditoria final de features\n",
        "    \"\"\"\n",
        "    # 1) Sintomas → dummies\n",
        "    df1, sx_cols = explode_sintoma_dummies_simple(df, col=\"SINTOMA\", prefix=\"sx_\", min_freq=sintomas_min_freq)\n",
        "\n",
        "    # 2) Datas → deltas\n",
        "    df2 = add_date_features(df1)\n",
        "\n",
        "    # 3) Agregados clínicos\n",
        "    df3 = add_clinical_aggregates(df2)\n",
        "\n",
        "    # 4) Bins demográficos / região\n",
        "    df4 = add_demo_bins(df3)\n",
        "\n",
        "    # 5) Interações\n",
        "    df5 = add_interactions(df4)\n",
        "\n",
        "    # 6) Targets\n",
        "    df_feat = add_targets(df5)\n",
        "\n",
        "    # 7) Auditorias\n",
        "    audit_sx = audit_sintomas(df_feat, sx_cols)\n",
        "    audit_ft = audit_feature_engineering(df_feat)\n",
        "\n",
        "    info = {\n",
        "        \"sintomas_cols\": sx_cols,\n",
        "        \"audit_sintomas\": audit_sx,\n",
        "        \"audit_features\": audit_ft\n",
        "    }\n",
        "    return df_feat, info\n",
        "\n",
        "\n",
        "# ==========================================\n",
        "# 🚀 EXECUÇÃO REAL NO DATAFRAME\n",
        "# (assume que já existe mpox_2022_prep como df pós-imputação)\n",
        "# ==========================================\n",
        "df0 = df_prep.copy()\n",
        "\n",
        "# ► Mantém todos os sintomas (literatura/consenso: preservar informação clínica agora)\n",
        "df_feateng, fe_info = run_feature_engineering_pipeline(df0, sintomas_min_freq=None)\n",
        "\n",
        "print(\"\\n✔️ Engenharia de atributos concluída:\")\n",
        "print(\"\\nTotal de colunas:\", df_feateng.shape[1])\n",
        "print(\"Total de linhas :\", df_feateng.shape[0])\n"
      ],
      "metadata": {
        "colab": {
          "base_uri": "https://localhost:8080/"
        },
        "id": "p4wLF8FqtFKI",
        "outputId": "efcd5c02-deb4-4698-c3d4-266a1eab8b1a"
      },
      "execution_count": 7,
      "outputs": [
        {
          "output_type": "stream",
          "name": "stdout",
          "text": [
            "\n",
            "✔️ Engenharia de atributos concluída:\n",
            "\n",
            "Total de colunas: 222\n",
            "Total de linhas : 10920\n"
          ]
        },
        {
          "output_type": "stream",
          "name": "stderr",
          "text": [
            "/tmp/ipython-input-2614682301.py:280: FutureWarning: The default of observed=False is deprecated and will be changed to True in a future version of pandas. Pass observed=False to retain current behavior or observed=True to adopt the future default and silence this warning.\n",
            "  out[\"delay_notif\"] - out.groupby(center_delay_by)[\"delay_notif\"].transform(\"mean\")\n"
          ]
        }
      ],
      "id": "p4wLF8FqtFKI"
    },
    {
      "cell_type": "markdown",
      "source": [
        "## **⚙️ Auditoria Pós-Engenharia de Dados**"
      ],
      "metadata": {
        "id": "B19PnoRGe0AW"
      },
      "id": "B19PnoRGe0AW"
    },
    {
      "cell_type": "code",
      "source": [
        "# Amostra de auditorias\n",
        "print(\"\\n✔️ Resultado da Auditoria Pós-Engenharia de Dados:\")\n",
        "print(\"\\n[Audit] Dummies de sintomas (top 10 por % positivos):\")\n",
        "print(fe_info[\"audit_sintomas\"].head(10))\n",
        "\n",
        "print(\"\\n\\n[Audit] Quadro-resumo de features derivadas:\")\n",
        "print(fe_info[\"audit_features\"],'\\n')"
      ],
      "metadata": {
        "colab": {
          "base_uri": "https://localhost:8080/"
        },
        "id": "OI7tH48ze0pm",
        "outputId": "6774366a-0663-437d-e5ca-42281f6a6fad"
      },
      "execution_count": 8,
      "outputs": [
        {
          "output_type": "stream",
          "name": "stdout",
          "text": [
            "\n",
            "✔️ Resultado da Auditoria Pós-Engenharia de Dados:\n",
            "\n",
            "[Audit] Dummies de sintomas (top 10 por % positivos):\n",
            "                    non_nulls  sum_positives  percent_positives status\n",
            "sx_erupcao_cutanea      10920           7319           67.02381      -\n",
            "sx_febre                10920           6288          57.582418      -\n",
            "sx_lesao_genital        10920           4785          43.818681      -\n",
            "sx_cefaleia             10920           4287          39.258242      -\n",
            "sx_adenomegalia         10920           3809          34.880952      -\n",
            "sx_dor_muscular         10920           3551          32.518315      -\n",
            "sx_astenia              10920           3348          30.659341      -\n",
            "sx_fraqueza             10920           3219          29.478022      -\n",
            "sx_lesao_anal           10920           2335          21.382784      -\n",
            "sx_dor_nas_costas       10920           1946          17.820513      -\n",
            "\n",
            "\n",
            "[Audit] Quadro-resumo de features derivadas:\n",
            "                                dtype  non_null     na  unique  \\\n",
            "col                                                              \n",
            "delay_notif                   float64     10868     52      99   \n",
            "tempo_internacao              float64        38  10882      28   \n",
            "duracao_caso                  float64       985   9935     150   \n",
            "ist_any                         Int64     10920      0       2   \n",
            "ist_count                       Int64     10920      0       4   \n",
            "imune_risco                     Int64      8553   2367       2   \n",
            "vacina_qualquer                 Int64      4891   6029       2   \n",
            "faixa_etaria                 category     10920      0       7   \n",
            "regiao                       category     10920      0       5   \n",
            "sintoma_count                   Int64     10920      0      22   \n",
            "imune_risco_x_sintomas          Int64     10920      0      21   \n",
            "delay_notif_centered_regiao   float64     10868     52     249   \n",
            "target_hosp                     Int64     10920      0       2   \n",
            "target_obito_any                Int64     10920      0       2   \n",
            "target_obito_mpx                Int64     10920      0       2   \n",
            "\n",
            "                                                                 sample_values  \n",
            "col                                                                             \n",
            "delay_notif                                                               many  \n",
            "tempo_internacao                                                          many  \n",
            "duracao_caso                                                              many  \n",
            "ist_any                                                                 [0, 1]  \n",
            "ist_count                                                         [0, 1, 2, 3]  \n",
            "imune_risco                                                             [1, 0]  \n",
            "vacina_qualquer                                                         [0, 1]  \n",
            "faixa_etaria                 ['30-39', '18-29', '40-49', '10-17', '50-59']\n",
            "...  \n",
            "regiao                       ['Nordeste', 'Sul', 'Sudeste', 'Centro-Oeste',...  \n",
            "sintoma_count                                                             many  \n",
            "imune_risco_x_sintomas                                                    many  \n",
            "delay_notif_centered_regiao                                               many  \n",
            "target_hosp                                                             [0, 1]  \n",
            "target_obito_any                                                        [0, 1]  \n",
            "target_obito_mpx                                                        [0, 1]   \n",
            "\n"
          ]
        }
      ],
      "id": "OI7tH48ze0pm"
    },
    {
      "cell_type": "markdown",
      "source": [
        "## 📊 Distribuição das variáveis-alvo binárias"
      ],
      "metadata": {
        "id": "Al3JHwqoNa2w"
      },
      "id": "Al3JHwqoNa2w"
    },
    {
      "cell_type": "code",
      "source": [
        "# 📊 Distribuição das variáveis-alvo binárias (df_feateng) – barras horizontais\n",
        "import matplotlib.pyplot as plt\n",
        "\n",
        "target_cols = [\"target_hosp\", \"target_obito_any\", \"target_obito_mpx\"]\n",
        "\n",
        "fig, axes = plt.subplots(len(target_cols), 1, figsize=(12, 6))  # uma coluna, várias linhas\n",
        "\n",
        "for i, target_col in enumerate(target_cols):\n",
        "    y = df_feateng[target_col].astype(int)\n",
        "\n",
        "    counts = y.value_counts().sort_index()\n",
        "    ratios = (counts / counts.sum() * 100).round(2)\n",
        "\n",
        "    bars = axes[i].barh([str(k) for k in counts.index], counts.values,\n",
        "                        color=[\"lightgreen\", \"green\"], alpha=1)\n",
        "\n",
        "    # Adicionar percentuais ao lado de cada barra\n",
        "    for bar, pct in zip(bars, ratios):\n",
        "        width = bar.get_width()\n",
        "        axes[i].text(width + (0.01*width), bar.get_y() + bar.get_height()/2,\n",
        "                     f\"{pct:.2f}%\", ha=\"left\", va=\"center\", fontsize=10)\n",
        "\n",
        "    axes[i].set_title(f\"{target_col}\")\n",
        "    axes[i].set_xlabel(\"Contagem\")\n",
        "    axes[i].set_ylabel(\"Classe\")\n",
        "\n",
        "plt.suptitle(\"📊 Distribuição de classes – Variáveis-alvo binárias\", fontsize=14)\n",
        "plt.tight_layout(rect=[0, 0, 1, 0.95])\n",
        "plt.show()\n"
      ],
      "metadata": {
        "colab": {
          "base_uri": "https://localhost:8080/",
          "height": 678
        },
        "id": "9ZXxm3y2NaBt",
        "outputId": "07582267-37d8-46ac-f9ff-238c2e972308"
      },
      "execution_count": 9,
      "outputs": [
        {
          "output_type": "stream",
          "name": "stderr",
          "text": [
            "/tmp/ipython-input-1375392988.py:28: UserWarning: Glyph 128202 (\\N{BAR CHART}) missing from font(s) DejaVu Sans.\n",
            "  plt.tight_layout(rect=[0, 0, 1, 0.95])\n",
            "/usr/local/lib/python3.12/dist-packages/IPython/core/pylabtools.py:151: UserWarning: Glyph 128202 (\\N{BAR CHART}) missing from font(s) DejaVu Sans.\n",
            "  fig.canvas.print_figure(bytes_io, **kw)\n"
          ]
        },
        {
          "output_type": "display_data",
          "data": {
            "text/plain": [
              "<Figure size 1200x600 with 3 Axes>"
            ],
            "image/png": "[encoded data removed]"
          },
          "metadata": {}
        }
      ],
      "id": "9ZXxm3y2NaBt"
    },
    {
      "cell_type": "markdown",
      "source": [
        "## 📊 Verificação de Distribuição dos Targets após Engenharia de Atributos"
      ],
      "metadata": {
        "id": "TIqTEv3v9-xu"
      },
      "id": "TIqTEv3v9-xu"
    },
    {
      "cell_type": "code",
      "source": [
        "# 📊 Distribuição percentual dos targets + gráficos lado a lado (Seaborn)\n",
        "#import seaborn as sns\n",
        "#import matplotlib.pyplot as plt\n",
        "\n",
        "# Lista de possíveis targets\n",
        "targets = [\"target_hosp\", \"target_obito_any\", \"target_obito_mpx\"]\n",
        "\n",
        "# Impressão no console (percentuais simplificados)\n",
        "print(f\"Distribuição (%) de:\\n\")\n",
        "for t in targets:\n",
        "    if t in df_feateng.columns:\n",
        "        counts = (df_feateng[t].value_counts(normalize=True) * 100).round(2)\n",
        "        distrib_dict = counts.to_dict()\n",
        "\n",
        "        print(f\"{t}: {distrib_dict}\")\n",
        "\n",
        "# Preparar dados em formato longo para o seaborn\n",
        "plot_data = []\n",
        "for t in targets:\n",
        "    if t in df_feateng.columns:\n",
        "        counts = (df_feateng[t].value_counts(normalize=True) * 100).round(2)\n",
        "        for cls, val in counts.items():\n",
        "            plot_data.append({\"Target\": t, \"Classe\": str(cls), \"Percentual\": val})\n",
        "\n",
        "df_plot = pd.DataFrame(plot_data)\n",
        "\n",
        "# Plot com seaborn — um subplot por target\n",
        "n = df_plot[\"Target\"].nunique()\n",
        "fig, axes = plt.subplots(1, n, figsize=(5*n, 4), sharey=True)\n",
        "\n",
        "if n == 1:  # garante que axes seja iterável mesmo com 1 target\n",
        "    axes = [axes]\n",
        "\n",
        "for ax, target in zip(axes, df_plot[\"Target\"].unique()):\n",
        "    sns.barplot(\n",
        "        data=df_plot[df_plot[\"Target\"] == target],\n",
        "        x=\"Classe\", y=\"Percentual\",\n",
        "        color=\"lightgreen\", edgecolor=\"gray\", linewidth=1.2, ax=ax\n",
        "    )\n",
        "    ax.set_title(f\"{target}\", fontsize=10)\n",
        "    ax.set_ylabel(\"Percentual (%)\")\n",
        "    ax.set_xlabel(\"Classe\")\n",
        "\n",
        "plt.suptitle(\"Distribuição percentual dos targets\", fontsize=12, y=1.05)\n",
        "plt.tight_layout()\n",
        "plt.show()\n"
      ],
      "metadata": {
        "colab": {
          "base_uri": "https://localhost:8080/",
          "height": 504
        },
        "id": "p1AWzS8lGlbm",
        "outputId": "9214f3a5-1505-4fc1-82b5-adfe36e77b15"
      },
      "execution_count": 10,
      "outputs": [
        {
          "output_type": "stream",
          "name": "stdout",
          "text": [
            "Distribuição (%) de:\n",
            "\n",
            "target_hosp: {np.int64(0): 97.32, np.int64(1): 2.68}\n",
            "target_obito_any: {np.int64(0): 99.74, np.int64(1): 0.26}\n",
            "target_obito_mpx: {np.int64(0): 99.87, np.int64(1): 0.13}\n"
          ]
        },
        {
          "output_type": "display_data",
          "data": {
            "text/plain": [
              "<Figure size 1500x400 with 3 Axes>"
            ],
            "image/png": "[encoded data removed]"
          },
          "metadata": {}
        }
      ],
      "id": "p1AWzS8lGlbm"
    },
    {
      "cell_type": "markdown",
      "source": [
        "## 💾 Salvamento Final da Base Pós-Engenharia de Atributos"
      ],
      "metadata": {
        "id": "AVpOksWP91k9"
      },
      "id": "AVpOksWP91k9"
    },
    {
      "cell_type": "code",
      "source": [
        "# 💾 Salvamento final da base pós-engenharia de atributos\n",
        "output_path = \"mpox_2022_feateng.csv\"\n",
        "df_feateng.to_csv(output_path, index=False, encoding=\"utf-8\")\n",
        "print(f\"✔️ Arquivo salvo em: {output_path}\")\n",
        "\n",
        "# 🔍 Verificação pós-salvamento (recarrega e confere shape + distribuição dos targets)\n",
        "df_check = pd.read_csv(output_path)\n",
        "print(\"\\nCarregado de volta com sucesso:\", df_check.shape)\n",
        "\n",
        "# Lista de possíveis targets\n",
        "targets = [\"target_hosp\", \"target_obito_any\", \"target_obito_mpx\"]\n",
        "\n",
        "for t in targets:\n",
        "    if t in df_check.columns:\n",
        "        counts = (df_check[t].value_counts(normalize=True) * 100).round(2)\n",
        "        distrib_dict = counts.to_dict()\n",
        "        print(f\"Distribuição (%) de {t}: {distrib_dict}\")\n"
      ],
      "metadata": {
        "colab": {
          "base_uri": "https://localhost:8080/"
        },
        "id": "6xRH43kZtSSW",
        "outputId": "13d0cf96-28de-4f1c-a60c-b32a91799392"
      },
      "execution_count": 11,
      "outputs": [
        {
          "output_type": "stream",
          "name": "stdout",
          "text": [
            "✔️ Arquivo salvo em: mpox_2022_feateng.csv\n",
            "\n",
            "Carregado de volta com sucesso: (10920, 222)\n",
            "Distribuição (%) de target_hosp: {0: 97.32, 1: 2.68}\n",
            "Distribuição (%) de target_obito_any: {0: 99.74, 1: 0.26}\n",
            "Distribuição (%) de target_obito_mpx: {0: 99.87, 1: 0.13}\n"
          ]
        }
      ],
      "id": "6xRH43kZtSSW"
    },
    {
      "cell_type": "markdown",
      "source": [
        "---\n",
        "##🧹 **Seleção de Atributos — Resumo das Ações**\n",
        "\n",
        "---\n",
        "\n",
        "- ✂️ Elimina:\n",
        "\n",
        "  - Variáveis de datas (`DT_*`),  \n",
        "  - Identificadores técnicos (`__arquivo_origem__`),  \n",
        "  - Texto livre cru (`OUTRO_DES`).  \n",
        "\n",
        "- 📉 Aplica filtro de variância:\n",
        "  - Remove variáveis numéricas com variância < 1% (sem poder discriminativo:\n",
        "              `VarianceThreshold(threshold=0.01)`).  \n",
        "\n",
        "- 🎯 Mantém:\n",
        "  - Variáveis categóricas para uso em **codificadores** (LabelEncoder / OneHotEncoder)."
      ],
      "metadata": {
        "id": "XUAAz4hSoPQ8"
      },
      "id": "XUAAz4hSoPQ8"
    },
    {
      "cell_type": "markdown",
      "source": [
        "🧑 Esclarecimento\n",
        "\n",
        "Filtro de variância:\n",
        "- A variância de uma feature é uma medida estatística que indica o quanto os valores dessa variável se dispersam em relação à média.\n",
        "\n",
        "- Atributos com baixa variância tendem a ser pouco informativos, pois não ajudam a distinguir entre diferentes classes ou padrões nos dados.\n",
        "\n",
        "- Objetivo do filtro é melhorar a qualidade dos dados antes de aplicar algoritmos de aprendizado.\n",
        "\n",
        "    “Features that do not vary much across the dataset are unlikely to be useful for prediction and can be removed during preprocessing.” — Kelleher et al., 2nd Ed."
      ],
      "metadata": {
        "id": "tTYIGpJisSe5"
      },
      "id": "tTYIGpJisSe5"
    },
    {
      "cell_type": "code",
      "source": [
        "# 1. Seleção de Atributos — Remoção inicial de inviáveis + filtro de variância\n",
        "\n",
        "#import pandas as pd\n",
        "#from sklearn.feature_selection import VarianceThreshold\n",
        "\n",
        "# Carrega o dataset pós-engenharia de atributos\n",
        "df_feateng = pd.read_csv(\"mpox_2022_feateng.csv\")\n",
        "\n",
        "print(f\"[0] Dataset carregado com {df_feateng.shape[1]} variáveis\")\n",
        "\n",
        "print(\"\\nTotal de variáveis após:\\n\")\n",
        "# --------------------------\n",
        "# A) Remover variáveis inviáveis\n",
        "# --------------------------\n",
        "inviaveis = [\n",
        "    \"__arquivo_origem__\",   # identificador técnico\n",
        "    \"OUTRO_DES\"             # texto livre cru (já não entra em modelagem)\n",
        "] + [c for c in df_feateng.columns if c.startswith(\"DT_\")]  # datas puras\n",
        "\n",
        "df_reduced = df_feateng.drop(columns=[c for c in inviaveis if c in df_feateng.columns])\n",
        "\n",
        "print(f\"[1] Remoção de inviáveis: {df_reduced.shape[1]} variáveis\")\n",
        "\n",
        "# --------------------------\n",
        "# B) Filtro de variância\n",
        "# --------------------------\n",
        "sel = VarianceThreshold(threshold=0.01)  # <1% de variância → descartar\n",
        "sel.fit(df_reduced.select_dtypes(include=[\"int64\",\"float64\"]))\n",
        "\n",
        "variaveis_ok = df_reduced.select_dtypes(include=[\"int64\",\"float64\"]).columns[sel.get_support()]\n",
        "df_atribsel = df_reduced[variaveis_ok.tolist() + df_reduced.select_dtypes(include=[\"object\"]).columns.tolist()]\n",
        "\n",
        "print(f\"\\n[2] Filtro de variância: {df_atribsel.shape[1]} variáveis\")"
      ],
      "metadata": {
        "colab": {
          "base_uri": "https://localhost:8080/"
        },
        "id": "lCPoYJ-BoTxO",
        "outputId": "c17f52cb-363b-457a-bc8c-7a67f153d75f"
      },
      "execution_count": 12,
      "outputs": [
        {
          "output_type": "stream",
          "name": "stdout",
          "text": [
            "[0] Dataset carregado com 222 variáveis\n",
            "\n",
            "Total de variáveis após:\n",
            "\n",
            "[1] Remoção de inviáveis: 210 variáveis\n",
            "\n",
            "[2] Filtro de variância: 87 variáveis\n"
          ]
        },
        {
          "output_type": "stream",
          "name": "stderr",
          "text": [
            "/usr/local/lib/python3.12/dist-packages/sklearn/feature_selection/_variance_threshold.py:114: RuntimeWarning: Degrees of freedom <= 0 for slice.\n",
            "  self.variances_ = np.nanvar(X, axis=0)\n"
          ]
        }
      ],
      "id": "lCPoYJ-BoTxO"
    },
    {
      "cell_type": "markdown",
      "source": [
        "Filtro semântico\n"
      ],
      "metadata": {
        "id": "zSIhboIf_Ojz"
      },
      "id": "zSIhboIf_Ojz"
    },
    {
      "cell_type": "code",
      "source": [
        "# --------------------------\n",
        "# C) 🔎 Filtro semântico/manual — remoção de variáveis redundantes (após filtro estatístico)\n",
        "# --------------------------\n",
        "#\n",
        "redundant_cols = [\n",
        "    \"SG_UF\", \"CO_UF_RES\"  # exemplo redundância semântica com UF\n",
        "    # adiciona outras colunas redundantes aqui\n",
        "]\n",
        "\n",
        "df_atribsel = df_atribsel.drop(columns=[c for c in redundant_cols if c in df_atribsel.columns])\n",
        "\n",
        "print(f\"✅ Variáveis redundantes removidas. \\n\\nTotal atual de variáveis no dataframe: {df_atribsel.shape[1]}\")\n"
      ],
      "metadata": {
        "colab": {
          "base_uri": "https://localhost:8080/"
        },
        "id": "-2wprku1_Nny",
        "outputId": "e85e6471-6274-449e-fd94-f987ce205059"
      },
      "execution_count": 13,
      "outputs": [
        {
          "output_type": "stream",
          "name": "stdout",
          "text": [
            "✅ Variáveis redundantes removidas. \n",
            "\n",
            "Total atual de variáveis no dataframe: 85\n"
          ]
        }
      ],
      "id": "-2wprku1_Nny"
    },
    {
      "cell_type": "markdown",
      "source": [
        "## 📊 Diagnóstico de correlação (apenas numéricas reais contínuas/discretas)"
      ],
      "metadata": {
        "id": "p_YGe8KaScAk"
      },
      "id": "p_YGe8KaScAk"
    },
    {
      "cell_type": "code",
      "source": [
        "# 📊 Diagnóstico de correlação (apenas numéricas reais contínuas/discretas)\n",
        "def corr_diag_numeric_only(df, threshold=0.9):\n",
        "    # Apenas avalia correlação em colunas numéricas contínuas/discretas.\n",
        "    # Não remove nada — só retorna pares correlacionados.\n",
        "    num_df = df.select_dtypes(include=[\"number\"])\n",
        "    corr_matrix = num_df.corr().abs()\n",
        "\n",
        "    high_corr = [\n",
        "        (i, j, corr_matrix.loc[i, j])\n",
        "        for i in corr_matrix.columns\n",
        "        for j in corr_matrix.columns\n",
        "        if i != j and corr_matrix.loc[i, j] > threshold\n",
        "    ]\n",
        "\n",
        "    return sorted(high_corr, key=lambda x: -x[2])\n",
        "\n",
        "\n",
        "\n",
        "# ▶️ Execução: Diagnóstico de alta correlação em variáveis numéricas (pré-encoding)\n",
        "\n",
        "high_corr_pairs = corr_diag_numeric_only(df_atribsel, threshold=0.9)\n",
        "\n",
        "if not high_corr_pairs:\n",
        "    print(\"\\n✅ Nenhuma correlação forte encontrada entre variáveis numéricas.\")\n",
        "else:\n",
        "    print(f\"\\n⚠️ Total de {len(high_corr_pairs)} pares de variáveis altamente correlacionadas encontrados.\")\n",
        "    print(\"\\n[Diagnóstico] Pares de variáveis altamente correlacionadas (>0.9):\")\n",
        "    for i, j, corr in high_corr_pairs:\n",
        "      print(f\" - {i} vs {j}: {corr:.2f}\")\n",
        "print('\\n')"
      ],
      "metadata": {
        "colab": {
          "base_uri": "https://localhost:8080/"
        },
        "id": "xmCU4MwfSZLI",
        "outputId": "59419fd1-53f4-48fd-a90e-78f5733528e6"
      },
      "execution_count": 14,
      "outputs": [
        {
          "output_type": "stream",
          "name": "stdout",
          "text": [
            "\n",
            "⚠️ Total de 38 pares de variáveis altamente correlacionadas encontrados.\n",
            "\n",
            "[Diagnóstico] Pares de variáveis altamente correlacionadas (>0.9):\n",
            " - PROFIS_SAUDE_missing vs LOCAL_CONT_missing: 1.00\n",
            " - LOCAL_CONT_missing vs PROFIS_SAUDE_missing: 1.00\n",
            " - TRANSM_missing vs CONTAT_ANIMAL_missing: 1.00\n",
            " - TRANSM_missing vs CARACT_GENOMICA_missing: 1.00\n",
            " - TRANSM_missing vs CLADO_missing: 1.00\n",
            " - CONTAT_ANIMAL_missing vs TRANSM_missing: 1.00\n",
            " - CONTAT_ANIMAL_missing vs CARACT_GENOMICA_missing: 1.00\n",
            " - CONTAT_ANIMAL_missing vs CLADO_missing: 1.00\n",
            " - CARACT_GENOMICA_missing vs TRANSM_missing: 1.00\n",
            " - CARACT_GENOMICA_missing vs CONTAT_ANIMAL_missing: 1.00\n",
            " - CARACT_GENOMICA_missing vs CLADO_missing: 1.00\n",
            " - CLADO_missing vs TRANSM_missing: 1.00\n",
            " - CLADO_missing vs CONTAT_ANIMAL_missing: 1.00\n",
            " - CLADO_missing vs CARACT_GENOMICA_missing: 1.00\n",
            " - delay_notif vs delay_notif_centered_regiao: 1.00\n",
            " - delay_notif_centered_regiao vs delay_notif: 1.00\n",
            " - PAC_IMUNOSSUP vs imune_risco: 1.00\n",
            " - imune_risco vs PAC_IMUNOSSUP: 1.00\n",
            " - VACINA vs vacina_qualquer: 0.99\n",
            " - vacina_qualquer vs VACINA: 0.99\n",
            " - ist_any vs ist_count: 0.99\n",
            " - ist_count vs ist_any: 0.99\n",
            " - sx_astenia vs sx_fraqueza: 0.96\n",
            " - sx_fraqueza vs sx_astenia: 0.96\n",
            " - OUTRO_DES_missing vs sx_outros: 0.95\n",
            " - sx_outros vs OUTRO_DES_missing: 0.95\n",
            " - ID_MUNICIP vs ID_MN_RESI: 0.95\n",
            " - ID_MN_RESI vs ID_MUNICIP: 0.95\n",
            " - sx_nausea vs sx_vomito: 0.94\n",
            " - sx_vomito vs sx_nausea: 0.94\n",
            " - sx_calafrios vs sx_sudorese: 0.92\n",
            " - sx_sudorese vs sx_calafrios: 0.92\n",
            " - PROFIS_SAUDE_missing vs CONTAG_CD4_missing: 0.92\n",
            " - LOCAL_CONT_missing vs CONTAG_CD4_missing: 0.92\n",
            " - CONTAG_CD4_missing vs PROFIS_SAUDE_missing: 0.92\n",
            " - CONTAG_CD4_missing vs LOCAL_CONT_missing: 0.92\n",
            " - SIFILIS vs ist_any: 0.91\n",
            " - ist_any vs SIFILIS: 0.91\n",
            "\n",
            "\n"
          ]
        }
      ],
      "id": "xmCU4MwfSZLI"
    },
    {
      "cell_type": "markdown",
      "source": [
        "## Salva dados Pós-Seleção de Atributos"
      ],
      "metadata": {
        "id": "iLAyNAE6AoTd"
      },
      "id": "iLAyNAE6AoTd"
    },
    {
      "cell_type": "code",
      "source": [
        "# --------------------------\n",
        "# Exporta versão reduzida\n",
        "# --------------------------\n",
        "out_path = \"mpox_2022_atribsel.csv\"\n",
        "df_atribsel.to_csv(out_path, index=False)\n",
        "print(f\"\\n[3] Dataset salvo como: {out_path}\\n\")"
      ],
      "metadata": {
        "colab": {
          "base_uri": "https://localhost:8080/"
        },
        "id": "amrYgXJU_jEh",
        "outputId": "2d01d048-4967-44db-dba7-7770c8fc1774"
      },
      "execution_count": 15,
      "outputs": [
        {
          "output_type": "stream",
          "name": "stdout",
          "text": [
            "\n",
            "[3] Dataset salvo como: mpox_2022_atribsel.csv\n",
            "\n"
          ]
        }
      ],
      "id": "amrYgXJU_jEh"
    },
    {
      "cell_type": "markdown",
      "source": [
        "## 📌 Nota da seção – Dataset após Engenharia e Seleção de Atributos\n",
        "\n",
        "- `df_feateng` → saída da Engenharia de Atributos; é um dataframe derivado de df_prep\n",
        "- `df_atribsel` → dataframe derivado de `df_feateng`, após seleção inicial (remoção de inviáveis + filtro de variância + filtro semântico/manual):  \n",
        "  - Objetivo: evitar redundâncias e reduzir multicolinearidade.  \n",
        "  - Este dataframe será utilizado como entrada na etapa de **Codificação (Encoding)**.\n"
      ],
      "metadata": {
        "id": "bBhCadf3fkBg"
      },
      "id": "bBhCadf3fkBg"
    },
    {
      "cell_type": "markdown",
      "source": [
        "---\n",
        "## **Atividade 3: Codificação de variáveis categóricas (OrdinalEncoder e OneHotEncoder)**\n",
        "---\n",
        "\n",
        "-  Como não se tem variáveis categóricas ordinais, somente OneHotEncoder será **utilizado**"
      ],
      "metadata": {
        "id": "z8ju2I-CKsd_"
      },
      "id": "z8ju2I-CKsd_"
    },
    {
      "cell_type": "markdown",
      "source": [
        "### Vetores de Colunas por Tipo de Variáveis"
      ],
      "metadata": {
        "id": "EYlFQJV6ozrk"
      },
      "id": "EYlFQJV6ozrk"
    },
    {
      "cell_type": "code",
      "source": [
        "# ================================\n",
        "# CATEGÓRICAS NOMINAIS (texto / códigos IBGE)\n",
        "# ================================\n",
        "nominal_categorical_cols = [\n",
        "    'SG_UF',        # string, sigla da UF\n",
        "    'SG_UF_NOT',    # string, sigla da UF da notificação\n",
        "    'ID_MUNICIP',   # int64 (código IBGE)\n",
        "    'CO_UF_RES',    # int64 (código IBGE da UF residência)\n",
        "    'ID_MN_RESI'    # int64 (código IBGE município residência)\n",
        "]\n",
        "\n",
        "# ================================\n",
        "# CATEGÓRICAS MÚLTIPLAS (lista em texto)\n",
        "# ================================\n",
        "list_multiple_categorical_cols = [\n",
        "    'SINTOMA'   # object (lista de sintomas separados por vírgula)\n",
        "]\n",
        "\n",
        "# ================================\n",
        "# TEXTO LIVRE\n",
        "# ================================\n",
        "text_cols = [\n",
        "    'OUTRO_DES'   # object\n",
        "]\n",
        "\n",
        "# ================================\n",
        "# NUMÉRICAS CATEGÓRICAS BINÁRIAS (0/1 após recodificação)\n",
        "# ================================\n",
        "numerical_as_binary_categ_cols = [\n",
        "    'GONORREIA','CLAMIDEA','SIFILIS','HERPES_GENITAL','CANCRO_MOLE',\n",
        "    'TRICHOMOMAS_VAGINALS','LINFOGRANULOMA','MYCOPLASMA_GENITAL',\n",
        "    'HPV','DIP','DONOVANOSE','HTLV','VERRUGA_GENITAL'\n",
        "]\n",
        "\n",
        "# ================================\n",
        "# NUMÉRICAS CATEGÓRICAS NOMINAIS (códigos)\n",
        "# ================================\n",
        "numerical_as_nominal_categ_cols = [\n",
        "    'CLASSI_FIN', 'CS_SEXO','COMP_SEXUAL','ORIENTA_SEXUAL','IDENT_GENERO',\n",
        "    'CS_RACA','PAC_IMUNOSSUP','IST_ATIVA','TP_AMOST','ESTRANGEIRO',\n",
        "    'HIV','UTI','RESULTADO_EXA_LAB','PROFIS_SAUDE','VACINA',\n",
        "    'TRATAMENTO_MONKEYPOX','HOSPITAL','EVOLUCAO','VINCULO_EPI',\n",
        "    'LOCAL_CONT','TRANSM','CONTAT_ANIMAL', 'CS_GESTANT',\n",
        "    'MET_LAB','CARACT_GENOMICA','CLADO',\n",
        "    'DOENCA_TRA.1'   # ⚠️ ajustado: não é texto, é código categórico\n",
        "]\n",
        "\n",
        "# ==============COMENTADO==================\n",
        "# CATEGÓRICAS ORDINAIS (numéricas com hierarquia natural)\n",
        "# ================================\n",
        "#numerical_as_ordinal_categ_cols = [\n",
        "#    'CS_GESTANT'  # int64 → ordinal (ordem gestacional)]\n",
        "\n",
        "# =============COMENTADO===================\n",
        "# NUMÉRICAS REAIS / CONTÍNUAS\n",
        "# ================================\n",
        "\n",
        "# ================================\n",
        "# NUMÉRICAS REAIS / DISCRETAS\n",
        "# ================================\n",
        "numerical_discrete_cols = [\n",
        "    'NU_IDADE_N',   # int64 → idade em anos (discreta)\n",
        "    'CONTAG_CD4'    # contagem de células CD4 (discreta, mas pode ser analisada como contínua)\n",
        "]\n",
        "\n",
        "# ================================\n",
        "# TEMPORAIS (datas)\n",
        "# ================================\n",
        "date_temporal_cols = [\n",
        "    'DT_NOTIFIC','DT_SIN_PRI','DT_COLETA','DATA_VACINA',\n",
        "    'DT_INTERNA','DT_EVOLUCAO'   # todos devem virar datetime64[ns]\n",
        "]\n",
        "\n",
        "# ================================\n",
        "# IDENTIFICADOR TÉCNICO\n",
        "# ================================\n",
        "identif_cols = [\n",
        "    '__arquivo_origem__'  # object, só para rastreabilidade\n",
        "]\n",
        "\n"
      ],
      "metadata": {
        "id": "E0bmTkQ2LcYX"
      },
      "execution_count": 16,
      "outputs": [],
      "id": "E0bmTkQ2LcYX"
    },
    {
      "cell_type": "markdown",
      "source": [
        "### **Codificação OneHotEncoder**"
      ],
      "metadata": {
        "id": "BpDDTxi3Kt8d"
      },
      "id": "BpDDTxi3Kt8d"
    },
    {
      "cell_type": "code",
      "source": [
        "# 1) Codificação de variáveis categóricas (One-Hot)\n",
        "from sklearn.preprocessing import OneHotEncoder\n",
        "\n",
        "# Usa vetores já definidos (garantem todas categóricas relevantes)\n",
        "onehot_cols = [c for c in df_atribsel.columns\n",
        "               if c in nominal_categorical_cols\n",
        "               or c in numerical_as_nominal_categ_cols]\n",
        "\n",
        "# Inicializa encoder\n",
        "encoder = OneHotEncoder(drop='first', sparse_output=False, dtype=int, handle_unknown='ignore')\n",
        "\n",
        "# Aplica transform\n",
        "encoded = encoder.fit_transform(df_atribsel[onehot_cols])\n",
        "\n",
        "# Converte para DataFrame\n",
        "encoded_df = pd.DataFrame(encoded,\n",
        "                          columns=encoder.get_feature_names_out(onehot_cols),\n",
        "                          index=df_atribsel.index)\n",
        "\n",
        "# Junta e remove originais\n",
        "df_encoded = pd.concat([df_atribsel.drop(columns=onehot_cols), encoded_df], axis=1)\n",
        "\n",
        "print(\"[Encoding] Dataset final:\", df_encoded.shape)\n",
        "print(\"[Encoding] Categóricas originais:\", len(onehot_cols))\n",
        "print(\"[Encoding] Variáveis após OneHot:\", encoded_df.shape[1])\n"
      ],
      "metadata": {
        "colab": {
          "base_uri": "https://localhost:8080/"
        },
        "id": "h9lgdAQPKxGF",
        "outputId": "17d0c608-03aa-4b2d-97f4-7af8f9335ccc"
      },
      "execution_count": 17,
      "outputs": [
        {
          "output_type": "stream",
          "name": "stdout",
          "text": [
            "[Encoding] Dataset final: (10920, 1392)\n",
            "[Encoding] Categóricas originais: 30\n",
            "[Encoding] Variáveis após OneHot: 1337\n"
          ]
        }
      ],
      "id": "h9lgdAQPKxGF"
    },
    {
      "cell_type": "markdown",
      "source": [
        "## Auditoria Pós-codificação de Variáveis Categóricas"
      ],
      "metadata": {
        "id": "J14g1BtacZzF"
      },
      "id": "J14g1BtacZzF"
    },
    {
      "cell_type": "code",
      "source": [
        "# 2) Auditoria pós-codificação\n",
        "print(\"=== Auditoria Pós-codificação de Variáveis Categóricas ===\")\n",
        "\n",
        "# Total de colunas antes e depois\n",
        "print(f\"- Total antes da codificação: {df_atribsel.shape[1]}\")\n",
        "print(f\"- Total depois da codificação: {df_encoded.shape[1]}\")\n",
        "\n",
        "# Conferir se não há mais colunas categóricas \"cruas\"\n",
        "restantes_cat = df_encoded.select_dtypes(include=['object', 'category']).columns\n",
        "if len(restantes_cat) > 0:\n",
        "    print(\"⚠️ Restaram colunas categóricas sem codificação:\", list(restantes_cat))\n",
        "else:\n",
        "    print(\"✅ Todas as categóricas foram codificadas.\")\n",
        "\n",
        "# Conferir tipos predominantes\n",
        "print(\"\\nDtypes principais no dataset final:\")\n",
        "print(df_encoded.dtypes.value_counts())\n",
        "\n",
        "# Conferir presença de NaNs\n",
        "nulos = df_encoded.isna().sum().sum()\n",
        "print(f\"\\nValores ausentes após codificação: {nulos}\")\n"
      ],
      "metadata": {
        "colab": {
          "base_uri": "https://localhost:8080/"
        },
        "id": "YPf0aVbYcYRZ",
        "outputId": "5c3663f4-0701-41b2-d357-0311a50fbcb0"
      },
      "execution_count": 18,
      "outputs": [
        {
          "output_type": "stream",
          "name": "stdout",
          "text": [
            "=== Auditoria Pós-codificação de Variáveis Categóricas ===\n",
            "- Total antes da codificação: 85\n",
            "- Total depois da codificação: 1392\n",
            "⚠️ Restaram colunas categóricas sem codificação: ['SINTOMA', 'faixa_etaria', 'regiao']\n",
            "\n",
            "Dtypes principais no dataset final:\n",
            "int64      1383\n",
            "float64       6\n",
            "object        3\n",
            "Name: count, dtype: int64\n",
            "\n",
            "Valores ausentes após codificação: 29490\n"
          ]
        }
      ],
      "id": "YPf0aVbYcYRZ"
    },
    {
      "cell_type": "markdown",
      "source": [
        "## ▶️ **Filtro de Alta Correlação na Pós-codificação**"
      ],
      "metadata": {
        "id": "lAw5zRgGOKdD"
      },
      "id": "lAw5zRgGOKdD"
    },
    {
      "cell_type": "code",
      "source": [
        "# 3) Filtro de Alta Correlação na Pós-codificação\n",
        "import numpy as np\n",
        "\n",
        "def drop_high_corr(df, threshold=0.9):\n",
        "    \"\"\"\n",
        "    Remove variáveis altamente correlacionadas.\n",
        "\n",
        "    Parâmetros:\n",
        "    - df : DataFrame (numérico, já codificado)\n",
        "    - threshold : float (correlação acima desse valor será considerada redundante)\n",
        "\n",
        "    Retorna:\n",
        "    - df_reduced : DataFrame sem colunas redundantes\n",
        "    - dropped : lista de colunas removidas\n",
        "    \"\"\"\n",
        "    # Seleciona apenas numéricas (evita erro com datas)\n",
        "    num_df = df.select_dtypes(include=[np.number])\n",
        "\n",
        "    # Calcula matriz de correlação\n",
        "    corr = num_df.corr().abs()\n",
        "\n",
        "    # Seleciona parte triangular superior\n",
        "    upper = corr.where(np.triu(np.ones(corr.shape), k=1).astype(bool))\n",
        "\n",
        "    # Colunas a remover\n",
        "    to_drop = [col for col in upper.columns if any(upper[col] > threshold)]\n",
        "\n",
        "    df_reduced = df.drop(columns=to_drop, errors=\"ignore\")\n",
        "    return df_reduced, to_drop\n",
        "\n",
        "\n",
        "# ▶️ Aplicação: no df_encoded (já pós-codificação)\n",
        "df_atribsel, dropped_corr = drop_high_corr(df_encoded, threshold=0.9)\n",
        "\n",
        "print(f\"[Filtro de Alta Correlação] Colunas removidas: {len(dropped_corr)}\")\n",
        "#debug# print(\"Exemplo de colunas removidas:\", dropped_corr[:10])\n",
        "print(\"Shape final:\", df_atribsel.shape)\n"
      ],
      "metadata": {
        "colab": {
          "base_uri": "https://localhost:8080/"
        },
        "id": "DQwA9zMWOLM7",
        "outputId": "34b575b9-535c-45f4-a474-b91162d2911c"
      },
      "execution_count": 19,
      "outputs": [
        {
          "output_type": "stream",
          "name": "stdout",
          "text": [
            "[Filtro de Alta Correlação] Colunas removidas: 373\n",
            "Shape final: (10920, 1019)\n"
          ]
        }
      ],
      "id": "DQwA9zMWOLM7"
    },
    {
      "cell_type": "markdown",
      "source": [
        "## Auditoria Pós-filtro de Alta Correlação"
      ],
      "metadata": {
        "id": "FQR-BXlqlkP1"
      },
      "id": "FQR-BXlqlkP1"
    },
    {
      "cell_type": "code",
      "source": [
        "# Auditoria Pós-filtro de Correlação na Pós-codificação\n",
        "\n",
        "print(\"=== Auditoria Pós-Correlação ===\")\n",
        "print(f\"- Total de colunas antes: {df_encoded.shape[1]}\")\n",
        "print(f\"- Total de colunas depois: {df_atribsel.shape[1]}\")\n",
        "print(f\"- Colunas removidas por alta correlação: {len(dropped_corr)}\")\n",
        "\n",
        "if dropped_corr:\n",
        "    print(\"\\n⚠️ Lista das primeiras colunas removidas:\\n\", dropped_corr[:15])\n",
        "else:\n",
        "    print(\"\\n✅ Nenhuma coluna altamente correlacionada foi removida.\")\n",
        "\n",
        "# Conferir se restaram colunas categóricas (não deveria)\n",
        "restantes_cat = df_atribsel.select_dtypes(include=['object', 'category']).columns\n",
        "if len(restantes_cat) > 0:\n",
        "    print(\"\\n⚠️ Restaram colunas categóricas:\\n\", list(restantes_cat))\n",
        "else:\n",
        "    print(\"\\n✅ Apenas numéricas, pronto para escalonamento.\")\n",
        "\n",
        "print('\\n')"
      ],
      "metadata": {
        "colab": {
          "base_uri": "https://localhost:8080/"
        },
        "id": "QIu9OVB-ljWd",
        "outputId": "ae33c127-0106-4c59-9d69-bf32d030a64d"
      },
      "execution_count": 20,
      "outputs": [
        {
          "output_type": "stream",
          "name": "stdout",
          "text": [
            "=== Auditoria Pós-Correlação ===\n",
            "- Total de colunas antes: 1392\n",
            "- Total de colunas depois: 1019\n",
            "- Colunas removidas por alta correlação: 373\n",
            "\n",
            "⚠️ Lista das primeiras colunas removidas:\n",
            " ['LOCAL_CONT_missing', 'CONTAT_ANIMAL_missing', 'CARACT_GENOMICA_missing', 'CLADO_missing', 'CONTAG_CD4_missing', 'sx_fraqueza', 'sx_sudorese', 'sx_outros', 'sx_vomito', 'ist_any', 'ist_count', 'delay_notif_centered_regiao', 'ID_MUNICIP_410580', 'ID_MN_RESI_110012', 'ID_MN_RESI_110020']\n",
            "\n",
            "⚠️ Restaram colunas categóricas:\n",
            " ['SINTOMA', 'faixa_etaria', 'regiao']\n",
            "\n",
            "\n"
          ]
        }
      ],
      "id": "QIu9OVB-ljWd"
    },
    {
      "cell_type": "markdown",
      "source": [
        "## 🔎 Notas sobre trade-offs da codificação de variáveis categóricas\n",
        "\n",
        "- **OrdinalEncoder**: preserva ordem entre categorias, mas introduz risco de assumir relações numéricas inexistentes (ex.: \"azul\" < \"verde\").\n",
        "- **OneHotEncoder**: evita ordens artificiais, mas pode gerar explosão de dimensionalidade em variáveis com muitas categorias.\n",
        "- **Trade-off prático neste projeto**:\n",
        "  - Variáveis com ordem natural → `OrdinalEncoder`.\n",
        "  - Variáveis nominais sem ordem → `OneHotEncoder`.\n",
        "- Essa escolha equilibra **interpretabilidade** (menos colunas) e **capacidade preditiva** (evitar falsas relações).\n",
        "\n",
        "🎗 Lembrete: sem variáveis categóricas ordinais neste dataset, visto que `CS_GESTANTE`não pode ser considerada como ordinal (é somente em parte)\n"
      ],
      "metadata": {
        "id": "ci66h4-TwJrV"
      },
      "id": "ci66h4-TwJrV"
    },
    {
      "cell_type": "markdown",
      "source": [
        "---\n",
        "## **Atividade 4: Escalonamento de variáveis numéricas (StandardScaler e MinMaxScaler)**\n",
        "\n",
        "##### Percepção analítica: \"Idade tem muitos outliers em 80+, mas o StandardScaler reduz o impacto no treino do modelo, enquanto o MinMax preserva os extremos comprimidos em 1.\"\n",
        "---"
      ],
      "metadata": {
        "id": "HskBbrCBsEQB"
      },
      "id": "HskBbrCBsEQB"
    },
    {
      "cell_type": "markdown",
      "source": [
        "### **Escalonamento StandardScaler**"
      ],
      "metadata": {
        "id": "dRd-BNIluPDR"
      },
      "id": "dRd-BNIluPDR"
    },
    {
      "cell_type": "code",
      "source": [
        "# 4.1) Escalonamento de variáveis numéricas — StandardScaler\n",
        "from sklearn.preprocessing import StandardScaler\n",
        "\n",
        "def scale_with_standard(df):\n",
        "    \"\"\"\n",
        "    Aplica StandardScaler (z-score) às variáveis numéricas.\n",
        "    Retorna:\n",
        "    - df_scaled_std : dataframe escalonado\n",
        "    - num_cols : lista de colunas numéricas escalonadas\n",
        "    \"\"\"\n",
        "    num_cols = df.select_dtypes(include=[np.number]).columns\n",
        "    scaler = StandardScaler()\n",
        "\n",
        "    df_scaled_std = df.copy()\n",
        "    df_scaled_std[num_cols] = scaler.fit_transform(df[num_cols])\n",
        "\n",
        "    return df_scaled_std, num_cols\n",
        "\n",
        "\n",
        "# ▶️ Execução 4.1\n",
        "df_scaled_std, num_cols_std = scale_with_standard(df_atribsel)\n",
        "print(f\"[4.1] StandardScaler aplicado em {len(num_cols_std)} variáveis numéricas.\\n\")\n"
      ],
      "metadata": {
        "colab": {
          "base_uri": "https://localhost:8080/"
        },
        "id": "8s4W2d7TsnEE",
        "outputId": "31e9234b-0613-4a01-e54f-b21c6e19138b"
      },
      "execution_count": 21,
      "outputs": [
        {
          "output_type": "stream",
          "name": "stdout",
          "text": [
            "[4.1] StandardScaler aplicado em 1016 variáveis numéricas.\n",
            "\n"
          ]
        }
      ],
      "id": "8s4W2d7TsnEE"
    },
    {
      "cell_type": "markdown",
      "source": [
        "### Auditoria Pós-Escalonamento — StandardScaler"
      ],
      "metadata": {
        "id": "Hs8zw7KtW2TW"
      },
      "id": "Hs8zw7KtW2TW"
    },
    {
      "cell_type": "code",
      "source": [
        "# Auditoria 4.1 — StandardScaler\n",
        "def audit_standard_scaling(df_original, df_scaled, cols):\n",
        "    \"\"\"\n",
        "    Verifica se StandardScaler funcionou:\n",
        "    - média ≈ 0\n",
        "    - desvio padrão ≈ 1\n",
        "    \"\"\"\n",
        "    audit = {}\n",
        "    for col in cols:\n",
        "        sc = df_scaled[col]\n",
        "        audit[col] = {\n",
        "            \"mean_scaled\": float(sc.mean()),\n",
        "            \"std_scaled\": float(sc.std())\n",
        "        }\n",
        "    return pd.DataFrame(audit).T\n",
        "\n",
        "audit_std = audit_standard_scaling(df_atribsel, df_scaled_std, num_cols_std)\n",
        "print(audit_std.head(), '\\n')\n"
      ],
      "metadata": {
        "colab": {
          "base_uri": "https://localhost:8080/"
        },
        "id": "2mI3wC1cW7BA",
        "outputId": "dd2f32d9-8440-468a-c61d-4a050162a1f7"
      },
      "execution_count": 22,
      "outputs": [
        {
          "output_type": "stream",
          "name": "stdout",
          "text": [
            "                    mean_scaled  std_scaled\n",
            "NU_IDADE_N        -1.704782e-16    1.000046\n",
            "SIFILIS            5.205441e-18    1.000046\n",
            "CONTAG_CD4        -7.808162e-18    1.000046\n",
            "SINTOMA_missing   -1.041088e-17    1.000046\n",
            "OUTRO_DES_missing  1.353415e-16    1.000046 \n",
            "\n"
          ]
        }
      ],
      "id": "2mI3wC1cW7BA"
    },
    {
      "cell_type": "markdown",
      "source": [
        "### **Escalonamento de variáveis numéricas — MinMaxScaler**"
      ],
      "metadata": {
        "id": "LhphFguKwIEq"
      },
      "id": "LhphFguKwIEq"
    },
    {
      "cell_type": "code",
      "source": [
        "# 4.2) Escalonamento de variáveis numéricas — MinMaxScaler\n",
        "from sklearn.preprocessing import MinMaxScaler\n",
        "\n",
        "def scale_with_minmax(df):\n",
        "    \"\"\"\n",
        "    Aplica MinMaxScaler [0,1] às variáveis numéricas.\n",
        "    Retorna:\n",
        "    - df_scaled_mm : dataframe escalonado\n",
        "    - num_cols : lista de colunas numéricas escalonadas\n",
        "    \"\"\"\n",
        "    num_cols = df.select_dtypes(include=[np.number]).columns\n",
        "    scaler = MinMaxScaler()\n",
        "\n",
        "    df_scaled_mm = df.copy()\n",
        "    df_scaled_mm[num_cols] = scaler.fit_transform(df[num_cols])\n",
        "\n",
        "    return df_scaled_mm, num_cols\n",
        "\n",
        "\n",
        "# ▶️ Execução 4.2\n",
        "df_scaled_mm, num_cols_mm = scale_with_minmax(df_atribsel)\n",
        "print(f\"[4.2] MinMaxScaler aplicado em {len(num_cols_mm)} variáveis numéricas.\")\n"
      ],
      "metadata": {
        "colab": {
          "base_uri": "https://localhost:8080/"
        },
        "id": "uXlaYzoPvHxc",
        "outputId": "d93bbc6b-9084-498e-de72-75e471ff7b8c"
      },
      "execution_count": 23,
      "outputs": [
        {
          "output_type": "stream",
          "name": "stdout",
          "text": [
            "[4.2] MinMaxScaler aplicado em 1016 variáveis numéricas.\n"
          ]
        }
      ],
      "id": "uXlaYzoPvHxc"
    },
    {
      "cell_type": "markdown",
      "source": [
        " ### Auditoria Pós-Escalonamento — MinMaxScaler"
      ],
      "metadata": {
        "id": "xegl83s5wU1-"
      },
      "id": "xegl83s5wU1-"
    },
    {
      "cell_type": "code",
      "source": [
        "# Auditoria 4.2 — MinMaxScaler\n",
        "def audit_minmax_scaling(df_original, df_scaled, cols):\n",
        "    \"\"\"\n",
        "    Verifica se MinMaxScaler funcionou:\n",
        "    - min = 0\n",
        "    - max = 1\n",
        "    \"\"\"\n",
        "    audit = {}\n",
        "    for col in cols:\n",
        "        sc = df_scaled[col]\n",
        "        audit[col] = {\n",
        "            \"min_scaled\": float(sc.min()),\n",
        "            \"max_scaled\": float(sc.max())\n",
        "        }\n",
        "    return pd.DataFrame(audit).T\n",
        "\n",
        "audit_mm = audit_minmax_scaling(df_atribsel, df_scaled_mm, num_cols_mm)\n",
        "print(audit_mm.head())\n"
      ],
      "metadata": {
        "colab": {
          "base_uri": "https://localhost:8080/"
        },
        "id": "Ay3HyalFvtqI",
        "outputId": "0f5a1435-04e9-41ca-9952-8eb55fb40402"
      },
      "execution_count": 24,
      "outputs": [
        {
          "output_type": "stream",
          "name": "stdout",
          "text": [
            "                   min_scaled  max_scaled\n",
            "NU_IDADE_N                0.0         1.0\n",
            "SIFILIS                   0.0         1.0\n",
            "CONTAG_CD4                0.0         1.0\n",
            "SINTOMA_missing           0.0         1.0\n",
            "OUTRO_DES_missing         0.0         1.0\n"
          ]
        }
      ],
      "id": "Ay3HyalFvtqI"
    },
    {
      "cell_type": "markdown",
      "source": [
        "### 📊 Comparação gráfica e estatística dos escalonadores"
      ],
      "metadata": {
        "id": "7H0pPG4CWWGm"
      },
      "id": "7H0pPG4CWWGm"
    },
    {
      "cell_type": "code",
      "source": [
        "# 📊 Comparação gráfica e estatística dos escalonadores\n",
        "\n",
        "# Usar diretamente as colunas numéricas discretas já definidas\n",
        "focus_vars = numerical_discrete_cols  # Ex.: [\"NU_IDADE_N\", \"CONTAG_CD4\"]\n",
        "\n",
        "FIGSIZE = (18, 8)  # Altura fixa, já que será só uma linha de gráficos\n",
        "figsPerLine = 3    # Número de figuras por linha\n",
        "\n",
        "colors = [\"lightgreen\", \"blue\", \"green\"]\n",
        "titles = [\"Original (sem escalonamento)\", \"Após StandardScaler\", \"Após MinMaxScaler\"]\n",
        "\n",
        "scaler_std = StandardScaler()\n",
        "scaler_mm = MinMaxScaler()\n",
        "\n",
        "# Aplicar transformações e manter nomes das colunas\n",
        "df_scaled_std = pd.DataFrame(\n",
        "    scaler_std.fit_transform(df_atribsel[focus_vars].astype(float)),\n",
        "    columns=focus_vars\n",
        ")\n",
        "df_scaled_mm = pd.DataFrame(\n",
        "    scaler_mm.fit_transform(df_atribsel[focus_vars].astype(float)),\n",
        "    columns=focus_vars\n",
        ")\n",
        "\n",
        "# ----------------------------------------------------------\n",
        "# Boxplots lado a lado (Antes, Pós-Std, Pós-MinMax)\n",
        "# ----------------------------------------------------------\n",
        "datasets = {\n",
        "    \"Original (sem escalonamento)\": df_atribsel[focus_vars].astype(float).values,\n",
        "    \"Após StandardScaler\": df_scaled_std.values,\n",
        "    \"Após MinMaxScaler\": df_scaled_mm.values\n",
        "}\n",
        "\n",
        "fig, axes = plt.subplots(1, figsPerLine, figsize=FIGSIZE)\n",
        "\n",
        "for ax, (title, data), color in zip(axes, datasets.items(), colors):\n",
        "    ax.boxplot(data, labels=focus_vars, vert=True, patch_artist=True,\n",
        "               boxprops=dict(facecolor=color))\n",
        "    ax.set_title(title, fontsize=12)\n",
        "    ax.tick_params(axis='x', rotation=45)\n",
        "\n",
        "plt.suptitle(\"📊 Comparação dos Escalonadores – Variáveis Numéricas Discretas\", fontsize=14)\n",
        "plt.tight_layout(rect=[0, 0, 1, 0.95])\n",
        "plt.show()\n",
        "\n",
        "# ----------------------------------------------------------\n",
        "# Estatísticas comparativas em formato matricial\n",
        "# ----------------------------------------------------------\n",
        "def resumo_stats_matriz(df_before, df_std, df_mm, cols):\n",
        "    stats = {}\n",
        "    for col in cols:\n",
        "        stats[col] = {\n",
        "            (\"Antes\", \"Média\"):  df_before[col].mean(),\n",
        "            (\"Antes\", \"Desvio\"): df_before[col].std(),\n",
        "            (\"Antes\", \"Min\"):    df_before[col].min(),\n",
        "            (\"Antes\", \"Max\"):    df_before[col].max(),\n",
        "\n",
        "            (\"Pós-Std\", \"Média\"):  df_std[col].mean(),\n",
        "            (\"Pós-Std\", \"Desvio\"): df_std[col].std(),\n",
        "            (\"Pós-Std\", \"Min\"):    df_std[col].min(),\n",
        "            (\"Pós-Std\", \"Max\"):    df_std[col].max(),\n",
        "\n",
        "            (\"Pós-MinMax\", \"Média\"):  df_mm[col].mean(),\n",
        "            (\"Pós-MinMax\", \"Desvio\"): df_mm[col].std(),\n",
        "            (\"Pós-MinMax\", \"Min\"):    df_mm[col].min(),\n",
        "            (\"Pós-MinMax\", \"Max\"):    df_mm[col].max(),\n",
        "        }\n",
        "\n",
        "    df_stats = pd.DataFrame(stats).T.round(3)\n",
        "    df_stats.columns = pd.MultiIndex.from_tuples(df_stats.columns)  # cria hierarquia\n",
        "    return df_stats\n",
        "\n",
        "comparativo_stats_matriz = resumo_stats_matriz(\n",
        "    df_atribsel[focus_vars], df_scaled_std, df_scaled_mm, focus_vars\n",
        ")\n",
        "\n",
        "print(\"\\n=== Estatísticas comparativas ===\")\n",
        "display(comparativo_stats_matriz)\n"
      ],
      "metadata": {
        "colab": {
          "base_uri": "https://localhost:8080/",
          "height": 990
        },
        "id": "aO-umamiWSED",
        "outputId": "d2794ed1-0043-4319-90be-7be4cd5da20a"
      },
      "execution_count": 25,
      "outputs": [
        {
          "output_type": "stream",
          "name": "stderr",
          "text": [
            "/tmp/ipython-input-3779727366.py:37: MatplotlibDeprecationWarning: The 'labels' parameter of boxplot() has been renamed 'tick_labels' since Matplotlib 3.9; support for the old name will be dropped in 3.11.\n",
            "  ax.boxplot(data, labels=focus_vars, vert=True, patch_artist=True,\n",
            "/tmp/ipython-input-3779727366.py:37: MatplotlibDeprecationWarning: The 'labels' parameter of boxplot() has been renamed 'tick_labels' since Matplotlib 3.9; support for the old name will be dropped in 3.11.\n",
            "  ax.boxplot(data, labels=focus_vars, vert=True, patch_artist=True,\n",
            "/tmp/ipython-input-3779727366.py:37: MatplotlibDeprecationWarning: The 'labels' parameter of boxplot() has been renamed 'tick_labels' since Matplotlib 3.9; support for the old name will be dropped in 3.11.\n",
            "  ax.boxplot(data, labels=focus_vars, vert=True, patch_artist=True,\n",
            "/tmp/ipython-input-3779727366.py:43: UserWarning: Glyph 128202 (\\N{BAR CHART}) missing from font(s) DejaVu Sans.\n",
            "  plt.tight_layout(rect=[0, 0, 1, 0.95])\n",
            "/usr/local/lib/python3.12/dist-packages/IPython/core/pylabtools.py:151: UserWarning: Glyph 128202 (\\N{BAR CHART}) missing from font(s) DejaVu Sans.\n",
            "  fig.canvas.print_figure(bytes_io, **kw)\n"
          ]
        },
        {
          "output_type": "display_data",
          "data": {
            "text/plain": [
              "<Figure size 1800x800 with 3 Axes>"
            ],
            "image/png": "[encoded data removed]"
          },
          "metadata": {}
        },
        {
          "output_type": "stream",
          "name": "stdout",
          "text": [
            "\n",
            "=== Estatísticas comparativas ===\n"
          ]
        },
        {
          "output_type": "display_data",
          "data": {
            "text/plain": [
              "             Antes                          Pós-Std                        \\\n",
              "             Média    Desvio  Min       Max   Média Desvio    Min     Max   \n",
              "NU_IDADE_N  32.652    10.023  0.0      95.0    -0.0    1.0 -3.258   6.221   \n",
              "CONTAG_CD4  93.436  2352.481  0.0  222781.0    -0.0    1.0 -0.040  94.665   \n",
              "\n",
              "           Pós-MinMax                   \n",
              "                Média Desvio  Min  Max  \n",
              "NU_IDADE_N      0.344  0.106  0.0  1.0  \n",
              "CONTAG_CD4      0.000  0.011  0.0  1.0  "
            ],
            "text/html": [
              "\n",
              "  <div id=\"df-934427ea-a361-4fe9-b15a-2d0f0c0cb44f\" class=\"colab-df-container\">\n",
              "    <div>\n",
              "<style scoped>\n",
              "    .dataframe tbody tr th:only-of-type {\n",
              "        vertical-align: middle;\n",
              "    }\n",
              "\n",
              "    .dataframe tbody tr th {\n",
              "        vertical-align: top;\n",
              "    }\n",
              "\n",
              "    .dataframe thead tr th {\n",
              "        text-align: left;\n",
              "    }\n",
              "</style>\n",
              "<table border=\"1\" class=\"dataframe\">\n",
              "  <thead>\n",
              "    <tr>\n",
              "      <th></th>\n",
              "      <th colspan=\"4\" halign=\"left\">Antes</th>\n",
              "      <th colspan=\"4\" halign=\"left\">Pós-Std</th>\n",
              "      <th colspan=\"4\" halign=\"left\">Pós-MinMax</th>\n",
              "    </tr>\n",
              "    <tr>\n",
              "      <th></th>\n",
              "      <th>Média</th>\n",
              "      <th>Desvio</th>\n",
              "      <th>Min</th>\n",
              "      <th>Max</th>\n",
              "      <th>Média</th>\n",
              "      <th>Desvio</th>\n",
              "      <th>Min</th>\n",
              "      <th>Max</th>\n",
              "      <th>Média</th>\n",
              "      <th>Desvio</th>\n",
              "      <th>Min</th>\n",
              "      <th>Max</th>\n",
              "    </tr>\n",
              "  </thead>\n",
              "  <tbody>\n",
              "    <tr>\n",
              "      <th>NU_IDADE_N</th>\n",
              "      <td>32.652</td>\n",
              "      <td>10.023</td>\n",
              "      <td>0.0</td>\n",
              "      <td>95.0</td>\n",
              "      <td>-0.0</td>\n",
              "      <td>1.0</td>\n",
              "      <td>-3.258</td>\n",
              "      <td>6.221</td>\n",
              "      <td>0.344</td>\n",
              "      <td>0.106</td>\n",
              "      <td>0.0</td>\n",
              "      <td>1.0</td>\n",
              "    </tr>\n",
              "    <tr>\n",
              "      <th>CONTAG_CD4</th>\n",
              "      <td>93.436</td>\n",
              "      <td>2352.481</td>\n",
              "      <td>0.0</td>\n",
              "      <td>222781.0</td>\n",
              "      <td>-0.0</td>\n",
              "      <td>1.0</td>\n",
              "      <td>-0.040</td>\n",
              "      <td>94.665</td>\n",
              "      <td>0.000</td>\n",
              "      <td>0.011</td>\n",
              "      <td>0.0</td>\n",
              "      <td>1.0</td>\n",
              "    </tr>\n",
              "  </tbody>\n",
              "</table>\n",
              "</div>\n",
              "    <div class=\"colab-df-buttons\">\n",
              "\n",
              "  <div class=\"colab-df-container\">\n",
              "    <button class=\"colab-df-convert\" onclick=\"convertToInteractive('df-934427ea-a361-4fe9-b15a-2d0f0c0cb44f')\"\n",
              "            title=\"Convert this dataframe to an interactive table.\"\n",
              "            style=\"display:none;\">\n",
              "\n",
              "  <svg xmlns=\"http://www.w3.org/2000/svg\" height=\"24px\" viewBox=\"0 -960 960 960\">\n",
              "    <path d=\"M120-120v-720h720v720H120Zm60-500h600v-160H180v160Zm220 220h160v-160H400v160Zm0 220h160v-160H400v160ZM180-400h160v-160H180v160Zm440 0h160v-160H620v160ZM180-180h160v-160H180v160Zm440 0h160v-160H620v160Z\"/>\n",
              "  </svg>\n",
              "    </button>\n",
              "\n",
              "  <style>\n",
              "    .colab-df-container {\n",
              "      display:flex;\n",
              "      gap: 12px;\n",
              "    }\n",
              "\n",
              "    .colab-df-convert {\n",
              "      background-color: #E8F0FE;\n",
              "      border: none;\n",
              "      border-radius: 50%;\n",
              "      cursor: pointer;\n",
              "      display: none;\n",
              "      fill: #1967D2;\n",
              "      height: 32px;\n",
              "      padding: 0 0 0 0;\n",
              "      width: 32px;\n",
              "    }\n",
              "\n",
              "    .colab-df-convert:hover {\n",
              "      background-color: #E2EBFA;\n",
              "      box-shadow: 0px 1px 2px rgba(60, 64, 67, 0.3), 0px 1px 3px 1px rgba(60, 64, 67, 0.15);\n",
              "      fill: #174EA6;\n",
              "    }\n",
              "\n",
              "    .colab-df-buttons div {\n",
              "      margin-bottom: 4px;\n",
              "    }\n",
              "\n",
              "    [theme=dark] .colab-df-convert {\n",
              "      background-color: #3B4455;\n",
              "      fill: #D2E3FC;\n",
              "    }\n",
              "\n",
              "    [theme=dark] .colab-df-convert:hover {\n",
              "      background-color: #434B5C;\n",
              "      box-shadow: 0px 1px 3px 1px rgba(0, 0, 0, 0.15);\n",
              "      filter: drop-shadow(0px 1px 2px rgba(0, 0, 0, 0.3));\n",
              "      fill: #FFFFFF;\n",
              "    }\n",
              "  </style>\n",
              "\n",
              "    <script>\n",
              "      const buttonEl =\n",
              "        document.querySelector('#df-934427ea-a361-4fe9-b15a-2d0f0c0cb44f button.colab-df-convert');\n",
              "      buttonEl.style.display =\n",
              "        google.colab.kernel.accessAllowed ? 'block' : 'none';\n",
              "\n",
              "      async function convertToInteractive(key) {\n",
              "        const element = document.querySelector('#df-934427ea-a361-4fe9-b15a-2d0f0c0cb44f');\n",
              "        const dataTable =\n",
              "          await google.colab.kernel.invokeFunction('convertToInteractive',\n",
              "                                                    [key], {});\n",
              "        if (!dataTable) return;\n",
              "\n",
              "        const docLinkHtml = 'Like what you see? Visit the ' +\n",
              "          '<a target=\"_blank\" href=https://colab.research.google.com/notebooks/data_table.ipynb>data table notebook</a>'\n",
              "          + ' to learn more about interactive tables.';\n",
              "        element.innerHTML = '';\n",
              "        dataTable['output_type'] = 'display_data';\n",
              "        await google.colab.output.renderOutput(dataTable, element);\n",
              "        const docLink = document.createElement('div');\n",
              "        docLink.innerHTML = docLinkHtml;\n",
              "        element.appendChild(docLink);\n",
              "      }\n",
              "    </script>\n",
              "  </div>\n",
              "\n",
              "\n",
              "    <div id=\"df-ce53b285-5f97-412e-830c-7e757224784d\">\n",
              "      <button class=\"colab-df-quickchart\" onclick=\"quickchart('df-ce53b285-5f97-412e-830c-7e757224784d')\"\n",
              "                title=\"Suggest charts\"\n",
              "                style=\"display:none;\">\n",
              "\n",
              "<svg xmlns=\"http://www.w3.org/2000/svg\" height=\"24px\"viewBox=\"0 0 24 24\"\n",
              "     width=\"24px\">\n",
              "    <g>\n",
              "        <path d=\"M19 3H5c-1.1 0-2 .9-2 2v14c0 1.1.9 2 2 2h14c1.1 0 2-.9 2-2V5c0-1.1-.9-2-2-2zM9 17H7v-7h2v7zm4 0h-2V7h2v10zm4 0h-2v-4h2v4z\"/>\n",
              "    </g>\n",
              "</svg>\n",
              "      </button>\n",
              "\n",
              "<style>\n",
              "  .colab-df-quickchart {\n",
              "      --bg-color: #E8F0FE;\n",
              "      --fill-color: #1967D2;\n",
              "      --hover-bg-color: #E2EBFA;\n",
              "      --hover-fill-color: #174EA6;\n",
              "      --disabled-fill-color: #AAA;\n",
              "      --disabled-bg-color: #DDD;\n",
              "  }\n",
              "\n",
              "  [theme=dark] .colab-df-quickchart {\n",
              "      --bg-color: #3B4455;\n",
              "      --fill-color: #D2E3FC;\n",
              "      --hover-bg-color: #434B5C;\n",
              "      --hover-fill-color: #FFFFFF;\n",
              "      --disabled-bg-color: #3B4455;\n",
              "      --disabled-fill-color: #666;\n",
              "  }\n",
              "\n",
              "  .colab-df-quickchart {\n",
              "    background-color: var(--bg-color);\n",
              "    border: none;\n",
              "    border-radius: 50%;\n",
              "    cursor: pointer;\n",
              "    display: none;\n",
              "    fill: var(--fill-color);\n",
              "    height: 32px;\n",
              "    padding: 0;\n",
              "    width: 32px;\n",
              "  }\n",
              "\n",
              "  .colab-df-quickchart:hover {\n",
              "    background-color: var(--hover-bg-color);\n",
              "    box-shadow: 0 1px 2px rgba(60, 64, 67, 0.3), 0 1px 3px 1px rgba(60, 64, 67, 0.15);\n",
              "    fill: var(--button-hover-fill-color);\n",
              "  }\n",
              "\n",
              "  .colab-df-quickchart-complete:disabled,\n",
              "  .colab-df-quickchart-complete:disabled:hover {\n",
              "    background-color: var(--disabled-bg-color);\n",
              "    fill: var(--disabled-fill-color);\n",
              "    box-shadow: none;\n",
              "  }\n",
              "\n",
              "  .colab-df-spinner {\n",
              "    border: 2px solid var(--fill-color);\n",
              "    border-color: transparent;\n",
              "    border-bottom-color: var(--fill-color);\n",
              "    animation:\n",
              "      spin 1s steps(1) infinite;\n",
              "  }\n",
              "\n",
              "  @keyframes spin {\n",
              "    0% {\n",
              "      border-color: transparent;\n",
              "      border-bottom-color: var(--fill-color);\n",
              "      border-left-color: var(--fill-color);\n",
              "    }\n",
              "    20% {\n",
              "      border-color: transparent;\n",
              "      border-left-color: var(--fill-color);\n",
              "      border-top-color: var(--fill-color);\n",
              "    }\n",
              "    30% {\n",
              "      border-color: transparent;\n",
              "      border-left-color: var(--fill-color);\n",
              "      border-top-color: var(--fill-color);\n",
              "      border-right-color: var(--fill-color);\n",
              "    }\n",
              "    40% {\n",
              "      border-color: transparent;\n",
              "      border-right-color: var(--fill-color);\n",
              "      border-top-color: var(--fill-color);\n",
              "    }\n",
              "    60% {\n",
              "      border-color: transparent;\n",
              "      border-right-color: var(--fill-color);\n",
              "    }\n",
              "    80% {\n",
              "      border-color: transparent;\n",
              "      border-right-color: var(--fill-color);\n",
              "      border-bottom-color: var(--fill-color);\n",
              "    }\n",
              "    90% {\n",
              "      border-color: transparent;\n",
              "      border-bottom-color: var(--fill-color);\n",
              "    }\n",
              "  }\n",
              "</style>\n",
              "\n",
              "      <script>\n",
              "        async function quickchart(key) {\n",
              "          const quickchartButtonEl =\n",
              "            document.querySelector('#' + key + ' button');\n",
              "          quickchartButtonEl.disabled = true;  // To prevent multiple clicks.\n",
              "          quickchartButtonEl.classList.add('colab-df-spinner');\n",
              "          try {\n",
              "            const charts = await google.colab.kernel.invokeFunction(\n",
              "                'suggestCharts', [key], {});\n",
              "          } catch (error) {\n",
              "            console.error('Error during call to suggestCharts:', error);\n",
              "          }\n",
              "          quickchartButtonEl.classList.remove('colab-df-spinner');\n",
              "          quickchartButtonEl.classList.add('colab-df-quickchart-complete');\n",
              "        }\n",
              "        (() => {\n",
              "          let quickchartButtonEl =\n",
              "            document.querySelector('#df-ce53b285-5f97-412e-830c-7e757224784d button');\n",
              "          quickchartButtonEl.style.display =\n",
              "            google.colab.kernel.accessAllowed ? 'block' : 'none';\n",
              "        })();\n",
              "      </script>\n",
              "    </div>\n",
              "\n",
              "  <div id=\"id_2d5e6f1e-e7a9-40c3-bf4d-88d61196b626\">\n",
              "    <style>\n",
              "      .colab-df-generate {\n",
              "        background-color: #E8F0FE;\n",
              "        border: none;\n",
              "        border-radius: 50%;\n",
              "        cursor: pointer;\n",
              "        display: none;\n",
              "        fill: #1967D2;\n",
              "        height: 32px;\n",
              "        padding: 0 0 0 0;\n",
              "        width: 32px;\n",
              "      }\n",
              "\n",
              "      .colab-df-generate:hover {\n",
              "        background-color: #E2EBFA;\n",
              "        box-shadow: 0px 1px 2px rgba(60, 64, 67, 0.3), 0px 1px 3px 1px rgba(60, 64, 67, 0.15);\n",
              "        fill: #174EA6;\n",
              "      }\n",
              "\n",
              "      [theme=dark] .colab-df-generate {\n",
              "        background-color: #3B4455;\n",
              "        fill: #D2E3FC;\n",
              "      }\n",
              "\n",
              "      [theme=dark] .colab-df-generate:hover {\n",
              "        background-color: #434B5C;\n",
              "        box-shadow: 0px 1px 3px 1px rgba(0, 0, 0, 0.15);\n",
              "        filter: drop-shadow(0px 1px 2px rgba(0, 0, 0, 0.3));\n",
              "        fill: #FFFFFF;\n",
              "      }\n",
              "    </style>\n",
              "    <button class=\"colab-df-generate\" onclick=\"generateWithVariable('comparativo_stats_matriz')\"\n",
              "            title=\"Generate code using this dataframe.\"\n",
              "            style=\"display:none;\">\n",
              "\n",
              "  <svg xmlns=\"http://www.w3.org/2000/svg\" height=\"24px\"viewBox=\"0 0 24 24\"\n",
              "       width=\"24px\">\n",
              "    <path d=\"M7,19H8.4L18.45,9,17,7.55,7,17.6ZM5,21V16.75L18.45,3.32a2,2,0,0,1,2.83,0l1.4,1.43a1.91,1.91,0,0,1,.58,1.4,1.91,1.91,0,0,1-.58,1.4L9.25,21ZM18.45,9,17,7.55Zm-12,3A5.31,5.31,0,0,0,4.9,8.1,5.31,5.31,0,0,0,1,6.5,5.31,5.31,0,0,0,4.9,4.9,5.31,5.31,0,0,0,6.5,1,5.31,5.31,0,0,0,8.1,4.9,5.31,5.31,0,0,0,12,6.5,5.46,5.46,0,0,0,6.5,12Z\"/>\n",
              "  </svg>\n",
              "    </button>\n",
              "    <script>\n",
              "      (() => {\n",
              "      const buttonEl =\n",
              "        document.querySelector('#id_2d5e6f1e-e7a9-40c3-bf4d-88d61196b626 button.colab-df-generate');\n",
              "      buttonEl.style.display =\n",
              "        google.colab.kernel.accessAllowed ? 'block' : 'none';\n",
              "\n",
              "      buttonEl.onclick = () => {\n",
              "        google.colab.notebook.generateWithVariable('comparativo_stats_matriz');\n",
              "      }\n",
              "      })();\n",
              "    </script>\n",
              "  </div>\n",
              "\n",
              "    </div>\n",
              "  </div>\n"
            ],
            "application/vnd.google.colaboratory.intrinsic+json": {
              "type": "dataframe",
              "variable_name": "comparativo_stats_matriz",
              "summary": "{\n  \"name\": \"comparativo_stats_matriz\",\n  \"rows\": 2,\n  \"fields\": [\n    {\n      \"column\": [\n        \"Antes\",\n        \"M\\u00e9dia\"\n      ],\n      \"properties\": {\n        \"dtype\": \"number\",\n        \"std\": 42.98077858764311,\n        \"min\": 32.652,\n        \"max\": 93.436,\n        \"num_unique_values\": 2,\n        \"samples\": [\n          93.436,\n          32.652\n        ],\n        \"semantic_type\": \"\",\n        \"description\": \"\"\n      }\n    },\n    {\n      \"column\": [\n        \"Antes\",\n        \"Desvio\"\n      ],\n      \"properties\": {\n        \"dtype\": \"number\",\n        \"std\": 1656.367936444678,\n        \"min\": 10.023,\n        \"max\": 2352.481,\n        \"num_unique_values\": 2,\n        \"samples\": [\n          2352.481,\n          10.023\n        ],\n        \"semantic_type\": \"\",\n        \"description\": \"\"\n      }\n    },\n    {\n      \"column\": [\n        \"Antes\",\n        \"Min\"\n      ],\n      \"properties\": {\n        \"dtype\": \"number\",\n        \"std\": 0.0,\n        \"min\": 0.0,\n        \"max\": 0.0,\n        \"num_unique_values\": 1,\n        \"samples\": [\n          0.0\n        ],\n        \"semantic_type\": \"\",\n        \"description\": \"\"\n      }\n    },\n    {\n      \"column\": [\n        \"Antes\",\n        \"Max\"\n      ],\n      \"properties\": {\n        \"dtype\": \"number\",\n        \"std\": 157462.78067530753,\n        \"min\": 95.0,\n        \"max\": 222781.0,\n        \"num_unique_values\": 2,\n        \"samples\": [\n          222781.0\n        ],\n        \"semantic_type\": \"\",\n        \"description\": \"\"\n      }\n    },\n    {\n      \"column\": [\n        \"P\\u00f3s-Std\",\n        \"M\\u00e9dia\"\n      ],\n      \"properties\": {\n        \"dtype\": \"number\",\n        \"std\": 0.0,\n        \"min\": -0.0,\n        \"max\": -0.0,\n        \"num_unique_values\": 1,\n        \"samples\": [\n          -0.0\n        ],\n        \"semantic_type\": \"\",\n        \"description\": \"\"\n      }\n    },\n    {\n      \"column\": [\n        \"P\\u00f3s-Std\",\n        \"Desvio\"\n      ],\n      \"properties\": {\n        \"dtype\": \"number\",\n        \"std\": 0.0,\n        \"min\": 1.0,\n        \"max\": 1.0,\n        \"num_unique_values\": 1,\n        \"samples\": [\n          1.0\n        ],\n        \"semantic_type\": \"\",\n        \"description\": \"\"\n      }\n    },\n    {\n      \"column\": [\n        \"P\\u00f3s-Std\",\n        \"Min\"\n      ],\n      \"properties\": {\n        \"dtype\": \"number\",\n        \"std\": 2.27546962185831,\n        \"min\": -3.258,\n        \"max\": -0.04,\n        \"num_unique_values\": 2,\n        \"samples\": [\n          -0.04\n        ],\n        \"semantic_type\": \"\",\n        \"description\": \"\"\n      }\n    },\n    {\n      \"column\": [\n        \"P\\u00f3s-Std\",\n        \"Max\"\n      ],\n      \"properties\": {\n        \"dtype\": \"number\",\n        \"std\": 62.53935215526302,\n        \"min\": 6.221,\n        \"max\": 94.665,\n        \"num_unique_values\": 2,\n        \"samples\": [\n          94.665\n        ],\n        \"semantic_type\": \"\",\n        \"description\": \"\"\n      }\n    },\n    {\n      \"column\": [\n        \"P\\u00f3s-MinMax\",\n        \"M\\u00e9dia\"\n      ],\n      \"properties\": {\n        \"dtype\": \"number\",\n        \"std\": 0.24324473272817232,\n        \"min\": 0.0,\n        \"max\": 0.344,\n        \"num_unique_values\": 2,\n        \"samples\": [\n          0.0\n        ],\n        \"semantic_type\": \"\",\n        \"description\": \"\"\n      }\n    },\n    {\n      \"column\": [\n        \"P\\u00f3s-MinMax\",\n        \"Desvio\"\n      ],\n      \"properties\": {\n        \"dtype\": \"number\",\n        \"std\": 0.06717514421272201,\n        \"min\": 0.011,\n        \"max\": 0.106,\n        \"num_unique_values\": 2,\n        \"samples\": [\n          0.011\n        ],\n        \"semantic_type\": \"\",\n        \"description\": \"\"\n      }\n    },\n    {\n      \"column\": [\n        \"P\\u00f3s-MinMax\",\n        \"Min\"\n      ],\n      \"properties\": {\n        \"dtype\": \"number\",\n        \"std\": 0.0,\n        \"min\": 0.0,\n        \"max\": 0.0,\n        \"num_unique_values\": 1,\n        \"samples\": [\n          0.0\n        ],\n        \"semantic_type\": \"\",\n        \"description\": \"\"\n      }\n    },\n    {\n      \"column\": [\n        \"P\\u00f3s-MinMax\",\n        \"Max\"\n      ],\n      \"properties\": {\n        \"dtype\": \"number\",\n        \"std\": 0.0,\n        \"min\": 1.0,\n        \"max\": 1.0,\n        \"num_unique_values\": 1,\n        \"samples\": [\n          1.0\n        ],\n        \"semantic_type\": \"\",\n        \"description\": \"\"\n      }\n    }\n  ]\n}"
            }
          },
          "metadata": {}
        }
      ],
      "id": "aO-umamiWSED"
    },
    {
      "cell_type": "markdown",
      "source": [
        "## 📌 Nota da seção – Escolha do escalonador para modelagem\n",
        "\n",
        "- As variáveis numéricas do dataset (`NU_IDADE_N`, `CONTAG_CD4`) são **discretas** – não existem variáveis contínuas reais neste caso.\n",
        "\n",
        "- Foram avaliadas duas estratégias de escalonamento: `StandardScaler` e `MinMaxScaler`.  \n",
        "- A comparação gráfica e estatística mostrou que ambos funcionam conforme o esperado:\n",
        "  - `Original (sem escalonamento)`: mantém médias, desvios, mínimos e máximos originais.\n",
        "  - `StandardScaler`: centraliza variáveis em média ≈ 0 e desvio ≈ 1.  \n",
        "    - _Útil para modelos que assumem distribuição aproximadamente gaussiana (ex.: Regressão Logística, Redes Neurais)._\n",
        "\n",
        "  - `MinMaxScaler`: normaliza variáveis para o intervalo [0, 1].  \n",
        "    - _Essencial para modelos baseados em distância (ex.: kNN, SVM)._\n",
        "\n",
        "\n",
        "- **Decisão metodológica:**  \n",
        "  - Ambos os escalonadores serão mantidos no pipeline de pré-processamento.  \n",
        "  - A escolha final será feita na **Parte 2 (Modelagem)**, comparando o impacto de cada abordagem no desempenho dos modelos sensíveis à escala (ex.: kNN, SVM, Redes Neurais).\n",
        "  \n",
        "  ## 📌 Nota da seção – Impacto do escalonamento nas variáveis numéricas discretas\n",
        "\n",
        "- A comparação foi feita em **dois níveis**:\n",
        "  1. **Visual (boxplots)** → mostram a mudança da distribuição antes e depois de aplicar os escalonadores.\n",
        "  2. **Numérica (tabela comparativa)** → confirma estatisticamente os efeitos esperados.\n",
        "- **StandardScaler:**\n",
        "- **MinMaxScaler:**\n",
        "  - Normaliza cada variável para o intervalo **[0, 1]**.- **Decisão prática:**\n",
        "  - O uso de ambos os escalonadores será considerado nos pipelines, avaliando impacto direto no desempenho dos modelos sensíveis à escala.\n",
        "\n",
        "\n",
        "- As variáveis numéricas do dataset (`NU_IDADE_N`, `CONTAG_CD4`) são **discretas** – não existem variáveis contínuas reais neste caso.\n"
      ],
      "metadata": {
        "id": "B4H5wijhaOMR"
      },
      "id": "B4H5wijhaOMR"
    },
    {
      "cell_type": "markdown",
      "source": [
        "---\n",
        "\n",
        "## **Divisão de preditoras (X) e alvo (y)**\n",
        "\n",
        "---"
      ],
      "metadata": {
        "id": "mjRFb0vXayqQ"
      },
      "id": "mjRFb0vXayqQ"
    },
    {
      "cell_type": "code",
      "source": [
        "# 5.0 Divisão de preditoras (X) e alvo (y)\n",
        "# ----------------------------------------\n",
        "# - Objetivo: separar features (X) e variável-alvo (y).\n",
        "# - Aqui você escolhe QUAL alvo quer balancear (hospitalização ou óbito).\n",
        "# - Pré-requisito: df_encoded (ou df_enc) já codificado (OneHot) e sem colunas não-numéricas.\n",
        "# - Observação: por ora, vamos seguir com 'target_hosp'; depois você pode trocar pelo alvo de óbito.\n",
        "\n",
        "import pandas as pd\n",
        "\n",
        "# Escolhe o alvo aqui:\n",
        "target_col = \"target_hosp\"   # alternativas: \"target_obito_any\", \"target_obito_mpx\" (se estiverem com menor desbalanceamento)\n",
        "\n",
        "# Verificações básicas\n",
        "assert target_col in df_encoded.columns, f\"Alvo '{target_col}' não existe em df_encoded.\"\n",
        "assert set(df_encoded[target_col].dropna().unique()) <= {0,1}, \"Alvo precisa ser binário (0/1).\"\n",
        "\n",
        "# Separa X e y\n",
        "X = df_encoded.drop(columns=[target_col]).copy()\n",
        "y = df_encoded[target_col].copy()\n",
        "\n",
        "print(\"[5.0] X e y criados:\", X.shape, y.shape)\n",
        "print(\"Distribuição (%) do alvo selecionado:\",\n",
        "      (y.value_counts(normalize=True)*100).round(2).to_dict(), '\\n')\n"
      ],
      "metadata": {
        "colab": {
          "base_uri": "https://localhost:8080/"
        },
        "id": "Gg01OEkLavyk",
        "outputId": "600a22cd-e4a2-4b2e-aa3a-e619e647233d"
      },
      "execution_count": 26,
      "outputs": [
        {
          "output_type": "stream",
          "name": "stdout",
          "text": [
            "[5.0] X e y criados: (10920, 1391) (10920,)\n",
            "Distribuição (%) do alvo selecionado: {0: 97.32, 1: 2.68} \n",
            "\n"
          ]
        }
      ],
      "id": "Gg01OEkLavyk"
    },
    {
      "cell_type": "markdown",
      "source": [
        "---\n",
        "## **Atividade 5: Balanceamento dos dados (Tomek e Smote)**\n",
        "- Checar se os dados estão desbalanceados\n",
        "- Aplicar os algoritmos Tomek e Smote\n",
        "- Avaliar impacto no desempenho dos modelos treinados\n",
        "---"
      ],
      "metadata": {
        "id": "ebBpIesASikf"
      },
      "id": "ebBpIesASikf"
    },
    {
      "cell_type": "markdown",
      "source": [
        "### Checagem de desbalanceamento das classes\n"
      ],
      "metadata": {
        "id": "oI-Fh2VVbyxf"
      },
      "id": "oI-Fh2VVbyxf"
    },
    {
      "cell_type": "code",
      "source": [
        "# 5.1 Checagem de desbalanceamento das classes\n",
        "# --------------------------------------------\n",
        "# - Objetivo: medir a proporção das classes antes de balancear.\n",
        "# - Saída: distribuição percentual e alerta visual simples.\n",
        "\n",
        "from collections import Counter\n",
        "\n",
        "dist_original = (y.value_counts(normalize=True) * 100).round(2).to_dict()\n",
        "print(f\"\\nVariável-alvo: {target_col}\")\n",
        "print(\"\\n[5.1] Distribuição (%) do alvo (Original -> Pós-codificação/escalonamento):\\n\", dist_original)\n",
        "\n",
        "# Regras práticas (heurística):\n",
        "#   - Se min(classe) < 20% → dataset bastante desbalanceado\n",
        "#   - Entre 20% e 40% → moderadamente desbalanceado\n",
        "minority_pct = min(dist_original.values())\n",
        "if minority_pct < 20:\n",
        "    print(\"\\n⚠️ Alerta: classe minoritária < 20% (desbalanceamento alto).\")\n",
        "elif minority_pct < 40:\n",
        "    print(\"ℹ️ Observação: desbalanceamento moderado.\")\n",
        "else:\n",
        "    print(\"✅ Classes relativamente equilibradas.\")\n"
      ],
      "metadata": {
        "colab": {
          "base_uri": "https://localhost:8080/"
        },
        "id": "7S4nQbpuzmkJ",
        "outputId": "b44157d7-0a98-4680-e25d-59f2bd201256"
      },
      "execution_count": 27,
      "outputs": [
        {
          "output_type": "stream",
          "name": "stdout",
          "text": [
            "\n",
            "Variável-alvo: target_hosp\n",
            "\n",
            "[5.1] Distribuição (%) do alvo (Original -> Pós-codificação/escalonamento):\n",
            " {0: 97.32, 1: 2.68}\n",
            "\n",
            "⚠️ Alerta: classe minoritária < 20% (desbalanceamento alto).\n"
          ]
        }
      ],
      "id": "7S4nQbpuzmkJ"
    },
    {
      "cell_type": "markdown",
      "source": [
        "### 🔧 Sanitização e Imputação só para Balanceamento (garante só numéricos)"
      ],
      "metadata": {
        "id": "siFCYTsCiq_6"
      },
      "id": "siFCYTsCiq_6"
    },
    {
      "cell_type": "code",
      "source": [
        "# 5.2 Sanitização/Imputação (só para balanceamento) + Escalonamento\n",
        "# ------------------------------------------------------------------\n",
        "# - Objetivo: garantir que X esteja 100% numérico e sem NaN antes do Tomek/SMOTE.\n",
        "# - Passos:\n",
        "#   1) Selecionar apenas colunas numéricas (df_encoded já tende a ser numérico após OneHot).\n",
        "#   2) Imputar com mediana (robusta a outliers) — SOMENTE para esta etapa técnica.\n",
        "#   3) Padronizar (StandardScaler) para que SMOTE/Tomek usem distâncias sem viés de escala.\n",
        "# - Observação: Na modelagem final (cv/grid search), faremos TUDO em pipeline para evitar vazamento.\n",
        "\n",
        "#import numpy as np\n",
        "#from sklearn.impute import SimpleImputer\n",
        "#from sklearn.preprocessing import StandardScaler\n",
        "\n",
        "# 1) Garante numéricos\n",
        "X_num = X.select_dtypes(include=[np.number]).copy()\n",
        "drop_cols = [c for c in X.columns if c not in X_num.columns]\n",
        "if drop_cols:\n",
        "    print(f\"[5.2] Removidas do X (não numéricas para balanceamento): {drop_cols}\")\n",
        "\n",
        "# 2) Imputação simples (mediana)\n",
        "imp_bal = SimpleImputer(strategy=\"median\")\n",
        "X_num_imp = pd.DataFrame(\n",
        "    imp_bal.fit_transform(X_num),\n",
        "    columns=X_num.columns,\n",
        "    index=X_num.index\n",
        ")\n",
        "\n",
        "# 3) Escalonamento (StandardScaler)\n",
        "scaler_bal = StandardScaler()\n",
        "X_num_imp_scaled = pd.DataFrame(\n",
        "    scaler_bal.fit_transform(X_num_imp),\n",
        "    columns=X_num.columns,\n",
        "    index=X_num.index\n",
        ")\n",
        "\n",
        "print(\"[5.2] X_num_imp_scaled pronto para Tomek/SMOTE:\", X_num_imp_scaled.shape)\n",
        "\n",
        "# (Opcional) Salvar artefatos técnicos desta etapa\n",
        "# X_num_imp_scaled.to_csv(\"X_balance_ready.csv\", index=False)\n",
        "# y.to_csv(\"y_balance_ready.csv\", index=False)\n"
      ],
      "metadata": {
        "colab": {
          "base_uri": "https://localhost:8080/"
        },
        "id": "15p4qR1Z2Ux4",
        "outputId": "662021a6-5fdf-418f-cb4e-c599a9327716"
      },
      "execution_count": 28,
      "outputs": [
        {
          "output_type": "stream",
          "name": "stdout",
          "text": [
            "[5.2] Removidas do X (não numéricas para balanceamento): ['SINTOMA', 'faixa_etaria', 'regiao']\n",
            "[5.2] X_num_imp_scaled pronto para Tomek/SMOTE: (10920, 1388)\n"
          ]
        }
      ],
      "id": "15p4qR1Z2Ux4"
    },
    {
      "cell_type": "markdown",
      "source": [
        "### **Tomek Links (remoção de pares fronteira)**"
      ],
      "metadata": {
        "id": "1_MoefY9dKte"
      },
      "id": "1_MoefY9dKte"
    },
    {
      "cell_type": "code",
      "source": [
        "# 5.3 Tomek Links\n",
        "# ----------------\n",
        "# - Objetivo: remover pares (maioria/minoria) que formam \"bordas\" ruidosas, deixando as classes mais separáveis.\n",
        "# - Deve rodar APÓS escalonamento (distâncias ficam corretas).\n",
        "# - Resultado: base levemente menor e menos ruído.\n",
        "\n",
        "#from imblearn.under_sampling import TomekLinks\n",
        "\n",
        "tl = TomekLinks(n_jobs=-1)\n",
        "X_tomek, y_tomek = tl.fit_resample(X_num_imp_scaled, y)\n",
        "\n",
        "dist_tomek = (y_tomek.value_counts(normalize=True) * 100).round(2).to_dict()\n",
        "print(\"[5.3] Pós-Tomek — distribuição (%):\", dist_tomek)\n",
        "print(\"[5.3] Shape:\", X_tomek.shape)\n"
      ],
      "metadata": {
        "colab": {
          "base_uri": "https://localhost:8080/"
        },
        "id": "ITmvV0PHYezT",
        "outputId": "112050db-4745-48c3-f888-c2ead9a8e477"
      },
      "execution_count": 29,
      "outputs": [
        {
          "output_type": "stream",
          "name": "stdout",
          "text": [
            "[5.3] Pós-Tomek — distribuição (%): {0: 97.31, 1: 2.69}\n",
            "[5.3] Shape: (10892, 1388)\n"
          ]
        }
      ],
      "id": "ITmvV0PHYezT"
    },
    {
      "cell_type": "markdown",
      "source": [
        "### **SMOTE (_Oversampling_ da Minoritária)**\n"
      ],
      "metadata": {
        "id": "4CFPLm7bdwB3"
      },
      "id": "4CFPLm7bdwB3"
    },
    {
      "cell_type": "code",
      "source": [
        "# 5.4 Balanceamento com SMOTE (Synthetic Minority Oversampling Technique)\n",
        "# ----------------------------------------------------------------------\n",
        "# Objetivo: gerar amostras sintéticas da classe minoritária para reduzir desbalanceamento.\n",
        "# Sequência recomendada: aplicar após Tomek Links (limpa ruídos/pares conflitantes),\n",
        "#                        mas SMOTE também pode ser usado isoladamente.\n",
        "# Param k_neighbors: nº de vizinhos usados para gerar pontos sintéticos.\n",
        "#   - Ajuste dinâmico: k = min(5, minority_count - 1) → evita erro quando minoria tem poucos registros.\n",
        "# Param random_state: garante reprodutibilidade.\n",
        "# Obs: SMOTE não aceita 'n_jobs' (não paraleliza internamente).\n",
        "\n",
        "#from imblearn.over_sampling import SMOTE\n",
        "\n",
        "minority_count = y_tomek.value_counts().min()\n",
        "k = min(5, max(1, minority_count - 1))\n",
        "\n",
        "smote = SMOTE(k_neighbors=k, random_state=42)\n",
        "X_tomek_smote, y_tomek_smote = smote.fit_resample(X_tomek, y_tomek)\n",
        "\n",
        "dist_tomek_smote = (y_tomek_smote.value_counts(normalize=True) * 100).round(2).to_dict()\n",
        "print(\"[5.4] Pós-Tomek/SMOTE — distribuição (%):\", dist_tomek_smote)\n",
        "print(\"[5.4] Shape:\", X_tomek_smote.shape)\n"
      ],
      "metadata": {
        "colab": {
          "base_uri": "https://localhost:8080/"
        },
        "id": "qW69IJ1tYeoT",
        "outputId": "4faf93aa-df2d-4076-e960-a9d5b263c1fc"
      },
      "execution_count": 30,
      "outputs": [
        {
          "output_type": "stream",
          "name": "stdout",
          "text": [
            "[5.4] Pós-Tomek/SMOTE — distribuição (%): {0: 50.0, 1: 50.0}\n",
            "[5.4] Shape: (21198, 1388)\n"
          ]
        }
      ],
      "id": "qW69IJ1tYeoT"
    },
    {
      "cell_type": "markdown",
      "source": [
        "## 💾 Salvamento de Bases Balanceadas\n"
      ],
      "metadata": {
        "id": "iE7QyX4z5m-k"
      },
      "id": "iE7QyX4z5m-k"
    },
    {
      "cell_type": "code",
      "source": [
        "# (Opcional) salvar bases balanceadas\n",
        "pd.DataFrame(X_tomek, columns=X_num_imp_scaled.columns).to_csv(\"X_mpox_2022_target_hosp_tomek.csv\", index=False)\n",
        "y_tomek.to_csv(\"y_mpox_2022_target_hosp_tomek.csv\", index=False)\n",
        "pd.DataFrame(X_tomek_smote, columns=X_num_imp_scaled.columns).to_csv(\"X_mpox_2022_target_hosp_tomek_smote.csv\", index=False)\n",
        "y_tomek_smote.to_csv(\"y_mpox_2022_target_hosp_tomek_smote.csv\", index=False)"
      ],
      "metadata": {
        "id": "m2Oepf5S5ku3"
      },
      "execution_count": 31,
      "outputs": [],
      "id": "m2Oepf5S5ku3"
    },
    {
      "cell_type": "markdown",
      "source": [
        "## Auditoria comparativa de balanceamento: Antes → Tomek → SMOTE (Após Tomek)"
      ],
      "metadata": {
        "id": "1GUob4FCeHe7"
      },
      "id": "1GUob4FCeHe7"
    },
    {
      "cell_type": "code",
      "source": [
        "# 5.5 Auditoria comparativa (Antes → Tomek → SMOTE (Após Tomek))\n",
        "# ------------------------------------------------\n",
        "# - Objetivo: comparar a distribuição das classes ao longo das etapas de balanceamento.\n",
        "# ------------------------------------------------\n",
        "\n",
        "import matplotlib.pyplot as plt\n",
        "import seaborn as sns\n",
        "import pandas as pd\n",
        "\n",
        "dist_original = (y.value_counts(normalize=True) * 100).round(2).to_dict()\n",
        "dist_tomek    = (y_tomek.value_counts(normalize=True) * 100).round(2).to_dict()\n",
        "dist_tomek_smote    = (y_tomek_smote.value_counts(normalize=True) * 100).round(2).to_dict()\n",
        "\n",
        "audit_balance = pd.DataFrame({\n",
        "    \"Antes (%)\": dist_original,\n",
        "    \"Após Tomek (%)\": dist_tomek,\n",
        "    \"Após Tomek/SMOTE (%)\": dist_tomek_smote\n",
        "}).T\n",
        "\n",
        "print(\"=== Auditoria comparativa do balanceamento ===\")\n",
        "print(audit_balance)\n",
        "\n",
        "fig, axes = plt.subplots(1, 3, figsize=(15, 5), sharey=True)\n",
        "\n",
        "sns.barplot(x=list(dist_original.keys()), y=list(dist_original.values()),\n",
        "            ax=axes[0], color=\"lightblue\", edgecolor=\"gray\")\n",
        "axes[0].set_title(\"Antes\")\n",
        "\n",
        "sns.barplot(x=list(dist_tomek.keys()), y=list(dist_tomek.values()),\n",
        "            ax=axes[1], color=\"lightgreen\", edgecolor=\"gray\")\n",
        "axes[1].set_title(\"Após Tomek\")\n",
        "\n",
        "sns.barplot(x=list(dist_tomek_smote.keys()), y=list(dist_tomek_smote.values()),\n",
        "            ax=axes[2], color=\"green\", edgecolor=\"gray\")\n",
        "axes[2].set_title(\"Após Tomek/SMOTE\")\n",
        "\n",
        "for ax in axes:\n",
        "    ax.set_xlabel(\"Classe\")\n",
        "    ax.set_ylabel(\"Percentual (%)\")\n",
        "\n",
        "plt.suptitle(f\"Comparação de distribuição — alvo: {target_col}\", fontsize=13)\n",
        "plt.tight_layout()\n",
        "plt.show()\n"
      ],
      "metadata": {
        "colab": {
          "base_uri": "https://localhost:8080/",
          "height": 570
        },
        "id": "_9bOz-i24D0g",
        "outputId": "bfca6876-4234-4409-cdae-b7a55ac0e6ff"
      },
      "execution_count": 32,
      "outputs": [
        {
          "output_type": "stream",
          "name": "stdout",
          "text": [
            "=== Auditoria comparativa do balanceamento ===\n",
            "                          0      1\n",
            "Antes (%)             97.32   2.68\n",
            "Após Tomek (%)        97.31   2.69\n",
            "Após Tomek/SMOTE (%)  50.00  50.00\n"
          ]
        },
        {
          "output_type": "display_data",
          "data": {
            "text/plain": [
              "<Figure size 1500x500 with 3 Axes>"
            ],
            "image/png": "[encoded data removed]"
          },
          "metadata": {}
        }
      ],
      "id": "_9bOz-i24D0g"
    },
    {
      "cell_type": "markdown",
      "source": [
        "## 💾 Serialização dos dados balanceados (SMOTE)"
      ],
      "metadata": {
        "id": "3egZi21PLoIB"
      },
      "id": "3egZi21PLoIB"
    },
    {
      "cell_type": "code",
      "source": [
        "# 💾 Serialização em Pickle (PKL) — Pós-SMOTE\n",
        "# -------------------------------------------------\n",
        "# Objetivo:\n",
        "#   - Salvar os datasets balanceados em formato .pkl\n",
        "#   - Preserva dtypes (ex: Int64, categorias) que podem se perder no CSV\n",
        "# Saída:\n",
        "#   - X_mpox_2022_target_hosp_tomek_smote.pkl\n",
        "#   - y_mpox_2022_target_hosp_tomek_smote.pkl\n",
        "# -------------------------------------------------\n",
        "\n",
        "import joblib\n",
        "\n",
        "# Caminhos de saída\n",
        "X_tomek_smote_pkl = \"X_mpox_2022_target_hosp_tomek_smote.pkl\"\n",
        "y_tomek_smote_pkl = \"y_mpox_2022_target_hosp_tomek_smote.pkl\"\n",
        "\n",
        "# Serializa com joblib (mais eficiente para DataFrames grandes)\n",
        "joblib.dump(pd.DataFrame(X_tomek_smote, columns=X_num_imp_scaled.columns), X_tomek_smote_pkl)\n",
        "joblib.dump(y_tomek_smote, y_tomek_smote_pkl)\n",
        "\n",
        "print(f\"✔️ X_tomek_smote salvo em: {X_tomek_smote_pkl}\")\n",
        "print(f\"✔️ y_tomek_smote salvo em: {y_tomek_smote_pkl}\")\n",
        "\n",
        "# Checagem pós-salvamento\n",
        "X_check = joblib.load(X_tomek_smote_pkl)\n",
        "y_check = joblib.load(y_tomek_smote_pkl)\n",
        "\n",
        "print(\"\\nChecagem pós-salvamento PKL:\")\n",
        "print(\"X_tomek_smote:\", X_check.shape, \"→ dtypes:\", X_check.dtypes.unique())\n",
        "print(\"y_tomek_smote:\", y_check.shape, \"→ dtype:\", y_check.dtypes)\n",
        "print(f\"\\nDistribuição alvo ({y_tomek_smote_pkl[0:-4]}):\")\n",
        "print(\"🎯Variável-alvo:\", )\n",
        "print(y_check.value_counts(normalize=True) * 100)\n"
      ],
      "metadata": {
        "colab": {
          "base_uri": "https://localhost:8080/"
        },
        "id": "_2sXVKEDLlKh",
        "outputId": "e1387dbb-d629-4c81-a0cf-56fa313241b6"
      },
      "execution_count": 33,
      "outputs": [
        {
          "output_type": "stream",
          "name": "stdout",
          "text": [
            "✔️ X_tomek_smote salvo em: X_mpox_2022_target_hosp_tomek_smote.pkl\n",
            "✔️ y_tomek_smote salvo em: y_mpox_2022_target_hosp_tomek_smote.pkl\n",
            "\n",
            "Checagem pós-salvamento PKL:\n",
            "X_tomek_smote: (21198, 1388) → dtypes: [dtype('float64')]\n",
            "y_tomek_smote: (21198,) → dtype: int64\n",
            "\n",
            "Distribuição alvo (y_mpox_2022_target_hosp_tomek_smote):\n",
            "🎯Variável-alvo:\n",
            "target_hosp\n",
            "0    50.0\n",
            "1    50.0\n",
            "Name: proportion, dtype: float64\n"
          ]
        }
      ],
      "id": "_2sXVKEDLlKh"
    },
    {
      "cell_type": "markdown",
      "source": [
        "---\n",
        "## **Atividade 6: Treinamento dos modelos de Machine Learning**\n",
        "- Comparar modelos: testar diferentes classificadores\n",
        "    - Classificação binária\n",
        "    - Modelos: Naive Bayes, Árvore de Decisão, Random Forest, Aprendizagem baseada em instâncias - kNN, Regressão logística, SVM, Redes Neurais Artificiais\n",
        "- Medir desempenho com métricas adequadas e evitar overfitting\n",
        "- Investigar como técnicas de imputação e codificação impactam os resultados\n",
        "- Escolher e ajustar modelos (gridsearch/validação cruzada)\n",
        "---"
      ],
      "metadata": {
        "id": "mmBvj2PyShAA"
      },
      "id": "mmBvj2PyShAA"
    },
    {
      "cell_type": "markdown",
      "source": [
        "Configuração Inicial:\n",
        "\n",
        "- 📦 Importação das bibliotecas\n",
        "- 🔄 Carregar dados já pré-processados (Tomek + SMOTE aplicados)\n",
        "- ✂️ Divisão treino/teste\n"
      ],
      "metadata": {
        "id": "5wKu0RZ2jYVt"
      },
      "id": "5wKu0RZ2jYVt"
    },
    {
      "cell_type": "code",
      "source": [
        "# ================================\n",
        "# 📦 Importação das bibliotecas\n",
        "# ================================\n",
        "# pandas/numpy → manipulação de dados\n",
        "import pandas as pd\n",
        "import numpy as np\n",
        "\n",
        "# sklearn → modelagem e avaliação\n",
        "from sklearn.model_selection import train_test_split\n",
        "from sklearn.metrics import (\n",
        "    accuracy_score, precision_score, recall_score, f1_score, roc_auc_score,\n",
        "    classification_report, confusion_matrix, RocCurveDisplay\n",
        ")\n",
        "\n",
        "# visualização\n",
        "import matplotlib.pyplot as plt\n",
        "import seaborn as sns\n",
        "\n",
        "# salvar/carregar modelos\n",
        "import joblib\n",
        "\n",
        "# ================================\n",
        "# 🔄 Carregar dados já pré-processados (Tomek + SMOTE aplicados)\n",
        "# ================================\n",
        "X = joblib.load(\"/content/X_mpox_2022_target_hosp_tomek_smote.pkl\")\n",
        "y = joblib.load(\"/content/y_mpox_2022_target_hosp_tomek_smote.pkl\")\n",
        "\n",
        "# ================================\n",
        "# ✂️ Divisão treino/teste\n",
        "# - Mantemos proporção de classes (stratify=y)\n",
        "# - 80% treino, 20% teste\n",
        "# ================================\n",
        "X_train, X_test, y_train, y_test = train_test_split(\n",
        "    X, y, test_size=0.2, stratify=y, random_state=42\n",
        ")\n",
        "\n",
        "print(\"Tamanho treino:\", X_train.shape, \" | Tamanho teste:\", X_test.shape)\n",
        "print(\"Distribuição classes (treino):\\n\", y_train.value_counts(normalize=True))\n"
      ],
      "metadata": {
        "id": "7PJ77tJ2gI5e",
        "colab": {
          "base_uri": "https://localhost:8080/"
        },
        "outputId": "ff790f6c-826e-48e2-d0d8-e5e0fad19e1e"
      },
      "id": "7PJ77tJ2gI5e",
      "execution_count": 34,
      "outputs": [
        {
          "output_type": "stream",
          "name": "stdout",
          "text": [
            "Tamanho treino: (16958, 1388)  | Tamanho teste: (4240, 1388)\n",
            "Distribuição classes (treino):\n",
            " target_hosp\n",
            "1    0.5\n",
            "0    0.5\n",
            "Name: proportion, dtype: float64\n"
          ]
        }
      ]
    },
    {
      "cell_type": "code",
      "source": [
        "from google.colab import drive\n",
        "drive.mount('/content/drive')"
      ],
      "metadata": {
        "colab": {
          "base_uri": "https://localhost:8080/"
        },
        "id": "dtA91WQBvMYs",
        "outputId": "d578a678-42cf-494d-9a16-573420f0249e"
      },
      "id": "dtA91WQBvMYs",
      "execution_count": 35,
      "outputs": [
        {
          "output_type": "stream",
          "name": "stdout",
          "text": [
            "Drive already mounted at /content/drive; to attempt to forcibly remount, call drive.mount(\"/content/drive\", force_remount=True).\n"
          ]
        }
      ]
    },
    {
      "cell_type": "markdown",
      "source": [
        "Função auxiliar de avaliação"
      ],
      "metadata": {
        "id": "Hxp2AECcg3tc"
      },
      "id": "Hxp2AECcg3tc"
    },
    {
      "cell_type": "code",
      "source": [
        "def avaliar_modelo(modelo, X_train, y_train, X_test, y_test, nome_modelo):\n",
        "    \"\"\"\n",
        "    Treina e avalia um modelo de classificação.\n",
        "\n",
        "    Passos:\n",
        "    1. Treina com dados de treino.\n",
        "    2. Prediz nos dados de teste.\n",
        "    3. Calcula métricas (Accuracy, Precision, Recall, F1, AUC).\n",
        "    4. Exibe relatório, matriz de confusão e curva ROC.\n",
        "\n",
        "    Retorna: dicionário com métricas principais (para comparação entre modelos).\n",
        "    \"\"\"\n",
        "    # Treinamento do modelo\n",
        "    modelo.fit(X_train, y_train)\n",
        "\n",
        "    # Predição\n",
        "    y_pred = modelo.predict(X_test)\n",
        "    y_proba = modelo.predict_proba(X_test)[:,1] if hasattr(modelo, \"predict_proba\") else None\n",
        "\n",
        "    # Cálculo das métricas\n",
        "    acc = accuracy_score(y_test, y_pred)\n",
        "    prec = precision_score(y_test, y_pred)\n",
        "    rec = recall_score(y_test, y_pred)\n",
        "    f1 = f1_score(y_test, y_pred)\n",
        "    auc = roc_auc_score(y_test, y_proba) if y_proba is not None else np.nan\n",
        "\n",
        "    # Exibição de resultados\n",
        "    print(f\"\\n📊 Resultados - {nome_modelo}\")\n",
        "    print(classification_report(y_test, y_pred))\n",
        "    print(\"Matriz de Confusão:\\n\", confusion_matrix(y_test, y_pred))\n",
        "    print(f\"AUC: {auc:.3f}\")\n",
        "\n",
        "    # Curva ROC (quando disponível)\n",
        "    if y_proba is not None:\n",
        "        RocCurveDisplay.from_estimator(modelo, X_test, y_test)\n",
        "        plt.title(f\"Curva ROC - {nome_modelo}\")\n",
        "        plt.show()\n",
        "\n",
        "    # Retorno para comparação final\n",
        "    return {\"Modelo\": nome_modelo, \"Accuracy\": acc, \"Precision\": prec,\n",
        "            \"Recall\": rec, \"F1\": f1, \"AUC\": auc}\n",
        "\n",
        "# Lista para armazenar os resultados de todos os modelos\n",
        "resultados = []\n"
      ],
      "metadata": {
        "id": "itHAoB5WgQe1"
      },
      "id": "itHAoB5WgQe1",
      "execution_count": 36,
      "outputs": []
    },
    {
      "cell_type": "code",
      "source": [
        "# Visualização rápida\n",
        "print(X.head(1))\n",
        "print(y.value_counts())\n",
        "\n",
        "#type(X_loaded)\n",
        "#type(y_loaded)\n"
      ],
      "metadata": {
        "id": "AZm9Ms4apDcL",
        "colab": {
          "base_uri": "https://localhost:8080/"
        },
        "outputId": "70dc9593-5a7f-420b-8420-fa3c352d2fba"
      },
      "execution_count": 37,
      "outputs": [
        {
          "output_type": "stream",
          "name": "stdout",
          "text": [
            "   NU_IDADE_N   SIFILIS  CONTAG_CD4  SINTOMA_missing  OUTRO_DES_missing  \\\n",
            "0    0.134523 -0.289047    0.261253        -0.126876           0.293487   \n",
            "\n",
            "   PROFIS_SAUDE_missing  LOCAL_CONT_missing  TRANSM_missing  \\\n",
            "0              -2.68985            -2.68985       -0.115191   \n",
            "\n",
            "   CONTAT_ANIMAL_missing  CARACT_GENOMICA_missing  ...  SG_UF_NOT_PR  \\\n",
            "0              -0.115191                -0.115191  ...     -0.219054   \n",
            "\n",
            "   SG_UF_NOT_RJ  SG_UF_NOT_RN  SG_UF_NOT_RO  SG_UF_NOT_RR  SG_UF_NOT_RS  \\\n",
            "0     -0.382854     -0.113548     -0.027077     -0.023447     -0.178993   \n",
            "\n",
            "   SG_UF_NOT_SC  SG_UF_NOT_SE  SG_UF_NOT_SP  SG_UF_NOT_TO  \n",
            "0     -0.208514      -0.08316     -0.796853     -0.040633  \n",
            "\n",
            "[1 rows x 1388 columns]\n",
            "target_hosp\n",
            "0    10599\n",
            "1    10599\n",
            "Name: count, dtype: int64\n"
          ]
        }
      ],
      "id": "AZm9Ms4apDcL"
    },
    {
      "cell_type": "markdown",
      "source": [
        "🔹 1. Naive Bayes\n",
        "\n",
        "📘 Teoria: assume independência condicional entre atributos (Kelleher, cap. 8).\n",
        "Bom para baseline rápido, mesmo que a suposição seja simplista."
      ],
      "metadata": {
        "id": "1kaU9cahhA9B"
      },
      "id": "1kaU9cahhA9B"
    },
    {
      "cell_type": "code",
      "source": [
        "from sklearn.naive_bayes import GaussianNB\n",
        "\n",
        "nb = GaussianNB()\n",
        "resultados.append(avaliar_modelo(nb, X_train, y_train, X_test, y_test, \"Naive Bayes\"))\n"
      ],
      "metadata": {
        "colab": {
          "base_uri": "https://localhost:8080/",
          "height": 732
        },
        "id": "z80Grh2vgYxs",
        "outputId": "3b3fd5dd-b9ab-4af8-936d-cfdfc48d1772"
      },
      "id": "z80Grh2vgYxs",
      "execution_count": 38,
      "outputs": [
        {
          "output_type": "stream",
          "name": "stdout",
          "text": [
            "\n",
            "📊 Resultados - Naive Bayes\n",
            "              precision    recall  f1-score   support\n",
            "\n",
            "           0       1.00      1.00      1.00      2120\n",
            "           1       1.00      1.00      1.00      2120\n",
            "\n",
            "    accuracy                           1.00      4240\n",
            "   macro avg       1.00      1.00      1.00      4240\n",
            "weighted avg       1.00      1.00      1.00      4240\n",
            "\n",
            "Matriz de Confusão:\n",
            " [[2119    1]\n",
            " [   0 2120]]\n",
            "AUC: 1.000\n"
          ]
        },
        {
          "output_type": "display_data",
          "data": {
            "text/plain": [
              "<Figure size 640x480 with 1 Axes>"
            ],
            "image/png": "[encoded data removed]"
          },
          "metadata": {}
        }
      ]
    },
    {
      "cell_type": "markdown",
      "source": [
        "🔹 2. Regressão Logística\n",
        "\n",
        "📘 Teoria: modelo linear que estima probabilidades. Muito usado em saúde pela interpretabilidade (odds ratio)."
      ],
      "metadata": {
        "id": "_z9pZssuhMbS"
      },
      "id": "_z9pZssuhMbS"
    },
    {
      "cell_type": "code",
      "source": [
        "from sklearn.linear_model import LogisticRegression\n",
        "\n",
        "log_reg = LogisticRegression(max_iter=1000, random_state=42)\n",
        "resultados.append(avaliar_modelo(log_reg, X_train, y_train, X_test, y_test, \"Regressão Logística\"))\n"
      ],
      "metadata": {
        "colab": {
          "base_uri": "https://localhost:8080/",
          "height": 732
        },
        "id": "LeoQGC8HhF3L",
        "outputId": "458a5cc3-9799-419e-bbfa-16bf0ef15ab1"
      },
      "id": "LeoQGC8HhF3L",
      "execution_count": 39,
      "outputs": [
        {
          "output_type": "stream",
          "name": "stdout",
          "text": [
            "\n",
            "📊 Resultados - Regressão Logística\n",
            "              precision    recall  f1-score   support\n",
            "\n",
            "           0       1.00      0.98      0.99      2120\n",
            "           1       0.98      1.00      0.99      2120\n",
            "\n",
            "    accuracy                           0.99      4240\n",
            "   macro avg       0.99      0.99      0.99      4240\n",
            "weighted avg       0.99      0.99      0.99      4240\n",
            "\n",
            "Matriz de Confusão:\n",
            " [[2080   40]\n",
            " [   0 2120]]\n",
            "AUC: 1.000\n"
          ]
        },
        {
          "output_type": "display_data",
          "data": {
            "text/plain": [
              "<Figure size 640x480 with 1 Axes>"
            ],
            "image/png": "[encoded data removed]"
          },
          "metadata": {}
        }
      ]
    },
    {
      "cell_type": "markdown",
      "source": [
        "🔹 3. Árvore de Decisão\n",
        "\n",
        "📘 Teoria: gera regras hierárquicas “if-then”. Boa interpretabilidade, mas risco de overfitting se não podada."
      ],
      "metadata": {
        "id": "UbN7UCblhWdi"
      },
      "id": "UbN7UCblhWdi"
    },
    {
      "cell_type": "code",
      "source": [
        "from sklearn.tree import DecisionTreeClassifier\n",
        "\n",
        "tree = DecisionTreeClassifier(random_state=42)\n",
        "resultados.append(avaliar_modelo(tree, X_train, y_train, X_test, y_test, \"Árvore de Decisão\"))\n"
      ],
      "metadata": {
        "colab": {
          "base_uri": "https://localhost:8080/",
          "height": 732
        },
        "id": "n6R_Yha-hRIf",
        "outputId": "662cf7d5-05de-49b8-8e9a-00eea2ddb4f2"
      },
      "id": "n6R_Yha-hRIf",
      "execution_count": 40,
      "outputs": [
        {
          "output_type": "stream",
          "name": "stdout",
          "text": [
            "\n",
            "📊 Resultados - Árvore de Decisão\n",
            "              precision    recall  f1-score   support\n",
            "\n",
            "           0       1.00      1.00      1.00      2120\n",
            "           1       1.00      1.00      1.00      2120\n",
            "\n",
            "    accuracy                           1.00      4240\n",
            "   macro avg       1.00      1.00      1.00      4240\n",
            "weighted avg       1.00      1.00      1.00      4240\n",
            "\n",
            "Matriz de Confusão:\n",
            " [[2119    1]\n",
            " [   7 2113]]\n",
            "AUC: 0.998\n"
          ]
        },
        {
          "output_type": "display_data",
          "data": {
            "text/plain": [
              "<Figure size 640x480 with 1 Axes>"
            ],
            "image/png": "[encoded data removed]"
          },
          "metadata": {}
        }
      ]
    },
    {
      "cell_type": "markdown",
      "source": [
        "🔹 4. kNN\n",
        "\n",
        "📘 Teoria: classifica pelo “voto” dos vizinhos mais próximos. Simples, mas sensível a escala e dados ruidosos"
      ],
      "metadata": {
        "id": "pc6AvDUthc8E"
      },
      "id": "pc6AvDUthc8E"
    },
    {
      "cell_type": "code",
      "source": [
        "from sklearn.neighbors import KNeighborsClassifier\n",
        "\n",
        "knn = KNeighborsClassifier(n_neighbors=5)  # k=5 é default, pode ser ajustado\n",
        "resultados.append(avaliar_modelo(knn, X_train, y_train, X_test, y_test, \"kNN\"))\n"
      ],
      "metadata": {
        "colab": {
          "base_uri": "https://localhost:8080/",
          "height": 732
        },
        "id": "pf9v5skIhcV_",
        "outputId": "6f34c1cd-2e8b-4268-d657-2a4a8225078c"
      },
      "id": "pf9v5skIhcV_",
      "execution_count": 41,
      "outputs": [
        {
          "output_type": "stream",
          "name": "stdout",
          "text": [
            "\n",
            "📊 Resultados - kNN\n",
            "              precision    recall  f1-score   support\n",
            "\n",
            "           0       1.00      0.97      0.99      2120\n",
            "           1       0.97      1.00      0.99      2120\n",
            "\n",
            "    accuracy                           0.99      4240\n",
            "   macro avg       0.99      0.99      0.99      4240\n",
            "weighted avg       0.99      0.99      0.99      4240\n",
            "\n",
            "Matriz de Confusão:\n",
            " [[2064   56]\n",
            " [   0 2120]]\n",
            "AUC: 0.996\n"
          ]
        },
        {
          "output_type": "display_data",
          "data": {
            "text/plain": [
              "<Figure size 640x480 with 1 Axes>"
            ],
            "image/png": "[encoded data removed]"
          },
          "metadata": {}
        }
      ]
    },
    {
      "cell_type": "markdown",
      "source": [
        "🔹 5. Random Forest\n",
        "\n",
        "📘 Teoria: conjunto de várias árvores de decisão com amostragem aleatória. Reduz overfitting, aumenta robustez"
      ],
      "metadata": {
        "id": "YwXSJu7YhmE_"
      },
      "id": "YwXSJu7YhmE_"
    },
    {
      "cell_type": "code",
      "source": [
        "from sklearn.ensemble import RandomForestClassifier\n",
        "\n",
        "rf = RandomForestClassifier(n_estimators=200, random_state=42)\n",
        "resultados.append(avaliar_modelo(rf, X_train, y_train, X_test, y_test, \"Random Forest\"))\n"
      ],
      "metadata": {
        "colab": {
          "base_uri": "https://localhost:8080/",
          "height": 732
        },
        "id": "kR8gfULthis3",
        "outputId": "d38b073d-2ad2-402d-c0d9-b7cde076f082"
      },
      "id": "kR8gfULthis3",
      "execution_count": 42,
      "outputs": [
        {
          "output_type": "stream",
          "name": "stdout",
          "text": [
            "\n",
            "📊 Resultados - Random Forest\n",
            "              precision    recall  f1-score   support\n",
            "\n",
            "           0       0.99      1.00      1.00      2120\n",
            "           1       1.00      0.99      1.00      2120\n",
            "\n",
            "    accuracy                           1.00      4240\n",
            "   macro avg       1.00      1.00      1.00      4240\n",
            "weighted avg       1.00      1.00      1.00      4240\n",
            "\n",
            "Matriz de Confusão:\n",
            " [[2114    6]\n",
            " [  11 2109]]\n",
            "AUC: 1.000\n"
          ]
        },
        {
          "output_type": "display_data",
          "data": {
            "text/plain": [
              "<Figure size 640x480 with 1 Axes>"
            ],
            "image/png": "[encoded data removed]"
          },
          "metadata": {}
        }
      ]
    },
    {
      "cell_type": "markdown",
      "source": [
        "🔹 6. SVM\n",
        "\n",
        "📘 Teoria: encontra hiperplano ótimo para separar classes. Potente em dados complexos, mas exige tuning (kernel, C, γ)."
      ],
      "metadata": {
        "id": "FX5EUoWYhxJ8"
      },
      "id": "FX5EUoWYhxJ8"
    },
    {
      "cell_type": "code",
      "source": [
        "from sklearn.svm import SVC\n",
        "\n",
        "svm = SVC(probability=True, random_state=42)  # probability=True para permitir ROC\n",
        "resultados.append(avaliar_modelo(svm, X_train, y_train, X_test, y_test, \"SVM\"))\n"
      ],
      "metadata": {
        "id": "6ZPmU4xZhotm"
      },
      "id": "6ZPmU4xZhotm",
      "execution_count": null,
      "outputs": []
    },
    {
      "cell_type": "markdown",
      "source": [
        "🔹 7. Rede Neural (MLP)\n",
        "\n",
        "📘 Teoria: modelo inspirado no cérebro humano, com múltiplas camadas ocultas. Captura padrões complexos, mas menos interpretável."
      ],
      "metadata": {
        "id": "HzjZeB-Hh1yJ"
      },
      "id": "HzjZeB-Hh1yJ"
    },
    {
      "cell_type": "code",
      "source": [
        "from sklearn.neural_network import MLPClassifier\n",
        "\n",
        "mlp = MLPClassifier(hidden_layer_sizes=(50,50), max_iter=500, random_state=42)\n",
        "resultados.append(avaliar_modelo(mlp, X_train, y_train, X_test, y_test, \"Rede Neural (MLP)\"))\n"
      ],
      "metadata": {
        "id": "lgJloFZth1Pv"
      },
      "id": "lgJloFZth1Pv",
      "execution_count": null,
      "outputs": []
    },
    {
      "cell_type": "markdown",
      "source": [
        "🔹 Comparação final entre modelos"
      ],
      "metadata": {
        "id": "q9aFuevBh-Py"
      },
      "id": "q9aFuevBh-Py"
    },
    {
      "cell_type": "code",
      "source": [
        "# Criar DataFrame comparativo\n",
        "df_resultados = pd.DataFrame(resultados)\n",
        "\n",
        "print(\"\\n📊 Comparação de Métricas entre Modelos\")\n",
        "display(df_resultados.sort_values(by=\"F1\", ascending=False))\n"
      ],
      "metadata": {
        "id": "MFSbXC9Hh7C7"
      },
      "id": "MFSbXC9Hh7C7",
      "execution_count": null,
      "outputs": []
    },
    {
      "cell_type": "markdown",
      "source": [
        "---\n",
        "## **Atividade 7: Usar o modelo treinado**\n",
        "- Salvar os transformadores\n",
        "- Salvar o modelo\n",
        "- Fazer predição usando dados novos\n",
        "---\n"
      ],
      "metadata": {
        "id": "BdrXHnftSUui"
      },
      "id": "BdrXHnftSUui"
    },
    {
      "cell_type": "markdown",
      "source": [
        "Naive Bayes"
      ],
      "metadata": {
        "id": "jWn_51unn13_"
      },
      "id": "jWn_51unn13_"
    },
    {
      "cell_type": "code",
      "source": [
        "# ✅ Exemplo: supondo que Random Forest foi o melhor (ajustar conforme resultados)\n",
        "modelo_final = nb\n",
        "\n",
        "# Salvar pipeline completo (inclui pré-processamentos e modelo final)\n",
        "joblib.dump(modelo_final, \"modelo_final_nb.pkl\")\n",
        "\n",
        "# Recarregar modelo para validar reutilização\n",
        "modelo_carregado = joblib.load(\"modelo_final_nb.pkl\")\n",
        "\n",
        "# Simular predição em 5 registros de teste\n",
        "amostra = X_test.iloc[:5]\n",
        "print(\"\\n🔮 Predições em novos dados simulados:\")\n",
        "print(\"Probabilidades:\", modelo_carregado.predict_proba(amostra))\n",
        "print(\"Classe prevista:\", modelo_carregado.predict(amostra))\n"
      ],
      "metadata": {
        "id": "2aC-8x7vn5LC"
      },
      "id": "2aC-8x7vn5LC",
      "execution_count": null,
      "outputs": []
    },
    {
      "cell_type": "markdown",
      "source": [
        "SVM"
      ],
      "metadata": {
        "id": "mBgAESPkoY_H"
      },
      "id": "mBgAESPkoY_H"
    },
    {
      "cell_type": "code",
      "source": [
        "# ✅ Exemplo: supondo que Random Forest foi o melhor (ajustar conforme resultados)\n",
        "modelo_final = nb\n",
        "\n",
        "# Salvar pipeline completo (inclui pré-processamentos e modelo final)\n",
        "joblib.dump(modelo_final, \"modelo_final_nb.pkl\")\n",
        "\n",
        "# Recarregar modelo para validar reutilização\n",
        "modelo_carregado = joblib.load(\"modelo_final_nb.pkl\")\n",
        "\n",
        "# Simular predição em 5 registros de teste\n",
        "amostra = X_test.iloc[:5]\n",
        "print(\"\\n🔮 Predições em novos dados simulados:\")\n",
        "print(\"Probabilidades:\", modelo_carregado.predict_proba(amostra))\n",
        "print(\"Classe prevista:\", modelo_carregado.predict(amostra))\n"
      ],
      "metadata": {
        "id": "_AZWmPT5oYZj"
      },
      "id": "_AZWmPT5oYZj",
      "execution_count": null,
      "outputs": []
    },
    {
      "cell_type": "markdown",
      "source": [
        "Árvore de Decisão"
      ],
      "metadata": {
        "id": "qChqQlbRoenW"
      },
      "id": "qChqQlbRoenW"
    },
    {
      "cell_type": "code",
      "source": [
        "# ✅ Exemplo: supondo que Random Forest foi o melhor (ajustar conforme resultados)\n",
        "modelo_final = tree\n",
        "\n",
        "# Salvar pipeline completo (inclui pré-processamentos e modelo final)\n",
        "joblib.dump(modelo_final, \"modelo_final_nb.pkl\")\n",
        "\n",
        "# Recarregar modelo para validar reutilização\n",
        "modelo_carregado = joblib.load(\"modelo_final_nb.pkl\")\n",
        "\n",
        "# Simular predição em 5 registros de teste\n",
        "amostra = X_test.iloc[:5]\n",
        "print(\"\\n🔮 Predições em novos dados simulados:\")\n",
        "print(\"Probabilidades:\", modelo_carregado.predict_proba(amostra))\n",
        "print(\"Classe prevista:\", modelo_carregado.predict(amostra))\n"
      ],
      "metadata": {
        "id": "sS0pOseDoiKI"
      },
      "id": "sS0pOseDoiKI",
      "execution_count": null,
      "outputs": []
    },
    {
      "cell_type": "markdown",
      "source": [
        "Rede Neural (MLP)"
      ],
      "metadata": {
        "id": "Hi9YlpCPoqlJ"
      },
      "id": "Hi9YlpCPoqlJ"
    },
    {
      "cell_type": "code",
      "source": [
        "# ✅ Exemplo: supondo que Random Forest foi o melhor (ajustar conforme resultados)\n",
        "modelo_final = mlp\n",
        "\n",
        "# Salvar pipeline completo (inclui pré-processamentos e modelo final)\n",
        "joblib.dump(modelo_final, \"modelo_final_mlp.pkl\")\n",
        "\n",
        "# Recarregar modelo para validar reutilização\n",
        "modelo_carregado = joblib.load(\"modelo_final_mlp.pkl\")\n",
        "\n",
        "# Simular predição em 5 registros de teste\n",
        "amostra = X_test.iloc[:5]\n",
        "print(\"\\n🔮 Predições em novos dados simulados:\")\n",
        "print(\"Probabilidades:\", modelo_carregado.predict_proba(amostra))\n",
        "print(\"Classe prevista:\", modelo_carregado.predict(amostra))\n"
      ],
      "metadata": {
        "id": "-Y6rw7_0op1T"
      },
      "id": "-Y6rw7_0op1T",
      "execution_count": null,
      "outputs": []
    },
    {
      "cell_type": "markdown",
      "source": [
        "Random Forest"
      ],
      "metadata": {
        "id": "MgG-IbOonBsQ"
      },
      "id": "MgG-IbOonBsQ"
    },
    {
      "cell_type": "code",
      "source": [
        "# ✅ Exemplo: supondo que Random Forest foi o melhor (ajustar conforme resultados)\n",
        "modelo_final = rf\n",
        "\n",
        "# Salvar pipeline completo (inclui pré-processamentos e modelo final)\n",
        "joblib.dump(modelo_final, \"modelo_final_rf.pkl\")\n",
        "\n",
        "# Recarregar modelo para validar reutilização\n",
        "modelo_carregado = joblib.load(\"modelo_final_rf.pkl\")\n",
        "\n",
        "# Simular predição em 5 registros de teste\n",
        "amostra = X_test.iloc[:5]\n",
        "print(\"\\n🔮 Predições em novos dados simulados:\")\n",
        "print(\"Probabilidades:\", modelo_carregado.predict_proba(amostra))\n",
        "print(\"Classe prevista:\", modelo_carregado.predict(amostra))\n"
      ],
      "metadata": {
        "id": "e5YSzvyMiHv4"
      },
      "id": "e5YSzvyMiHv4",
      "execution_count": null,
      "outputs": []
    },
    {
      "cell_type": "markdown",
      "source": [
        "Regressão Logística"
      ],
      "metadata": {
        "id": "LOSaXP4QozYq"
      },
      "id": "LOSaXP4QozYq"
    },
    {
      "cell_type": "code",
      "source": [
        "# ✅ Exemplo: supondo que Random Forest foi o melhor (ajustar conforme resultados)\n",
        "modelo_final = log_reg\n",
        "\n",
        "# Salvar pipeline completo (inclui pré-processamentos e modelo final)\n",
        "joblib.dump(modelo_final, \"modelo_final_log_reg.pkl\")\n",
        "\n",
        "# Recarregar modelo para validar reutilização\n",
        "modelo_carregado = joblib.load(\"modelo_final_log_reg.pkl\")\n",
        "\n",
        "# Simular predição em 5 registros de teste\n",
        "amostra = X_test.iloc[:5]\n",
        "print(\"\\n🔮 Predições em novos dados simulados:\")\n",
        "print(\"Probabilidades:\", modelo_carregado.predict_proba(amostra))\n",
        "print(\"Classe prevista:\", modelo_carregado.predict(amostra))\n"
      ],
      "metadata": {
        "id": "sUahknWao0WU"
      },
      "id": "sUahknWao0WU",
      "execution_count": null,
      "outputs": []
    },
    {
      "cell_type": "markdown",
      "source": [
        "kNN"
      ],
      "metadata": {
        "id": "9LwP_6F_pB43"
      },
      "id": "9LwP_6F_pB43"
    },
    {
      "cell_type": "code",
      "source": [
        "# ✅ Exemplo: supondo que Random Forest foi o melhor (ajustar conforme resultados)\n",
        "modelo_final = knn\n",
        "\n",
        "# Salvar pipeline completo (inclui pré-processamentos e modelo final)\n",
        "joblib.dump(modelo_final, \"modelo_final_knn.pkl\")\n",
        "\n",
        "# Recarregar modelo para validar reutilização\n",
        "modelo_carregado = joblib.load(\"modelo_final_knn.pkl\")\n",
        "\n",
        "# Simular predição em 5 registros de teste\n",
        "amostra = X_test.iloc[:5]\n",
        "print(\"\\n🔮 Predições em novos dados simulados:\")\n",
        "print(\"Probabilidades:\", modelo_carregado.predict_proba(amostra))\n",
        "print(\"Classe prevista:\", modelo_carregado.predict(amostra))\n"
      ],
      "metadata": {
        "id": "RgEe8QGLpA-p"
      },
      "id": "RgEe8QGLpA-p",
      "execution_count": null,
      "outputs": []
    },
    {
      "cell_type": "code",
      "source": [
        "import os\n",
        "\n",
        "# ================================\n",
        "# 📂 Criar pasta para salvar os modelos\n",
        "# ================================\n",
        "os.makedirs(\"modelos_salvos\", exist_ok=True)\n",
        "\n",
        "# ================================\n",
        "# 🔄 Loop para salvar e recarregar todos os modelos\n",
        "# ================================\n",
        "modelos_treinados = {\n",
        "    \"NaiveBayes\": nb,\n",
        "    \"RegressaoLogistica\": log_reg,\n",
        "    \"ArvoreDecisao\": tree,\n",
        "    \"kNN\": knn,\n",
        "    \"RandomForest\": rf,\n",
        "    \"SVM\": svm,\n",
        "    \"RedeNeuralMLP\": mlp\n",
        "}\n",
        "\n",
        "for nome, modelo in modelos_treinados.items():\n",
        "    print(f\"\\n=== 🔄 Testando reuso do modelo: {nome} ===\")\n",
        "\n",
        "    # 1. Salvar modelo em arquivo PKL\n",
        "    caminho = f\"modelos_salvos/{nome}.pkl\"\n",
        "    joblib.dump(modelo, caminho)\n",
        "    print(f\"✅ Modelo salvo em: {caminho}\")\n",
        "\n",
        "    # 2. Recarregar modelo salvo\n",
        "    modelo_carregado = joblib.load(caminho)\n",
        "\n",
        "    # 3. Testar predição em uma pequena amostra (5 registros de teste)\n",
        "    amostra = X_test.iloc[:5]\n",
        "    pred = modelo_carregado.predict(amostra)\n",
        "    proba = modelo_carregado.predict_proba(amostra)[:,1] if hasattr(modelo_carregado, \"predict_proba\") else \"N/A\"\n",
        "\n",
        "    print(\"🔮 Predições:\", pred)\n",
        "    print(\"📊 Probabilidades:\", proba)\n"
      ],
      "metadata": {
        "id": "uQLxoccLp83m"
      },
      "id": "uQLxoccLp83m",
      "execution_count": null,
      "outputs": []
    },
    {
      "cell_type": "code",
      "source": [],
      "metadata": {
        "id": "bs58HZ6a5Ptq"
      },
      "id": "bs58HZ6a5Ptq",
      "execution_count": null,
      "outputs": []
    }
  ],
  "metadata": {
    "kernelspec": {
      "display_name": "Python 3",
      "language": "python",
      "name": "python3"
    },
    "language_info": {
      "codemirror_mode": {
        "name": "ipython",
        "version": 3
      },
      "file_extension": ".py",
      "mimetype": "text/x-python",
      "name": "python",
      "nbconvert_exporter": "python",
      "pygments_lexer": "ipython3",
      "version": "3.13.3"
    },
    "colab": {
      "provenance": [],
      "include_colab_link": true
    }
  },
  "nbformat": 4,
  "nbformat_minor": 5
}