{
  "cells": [
    {
      "cell_type": "markdown",
      "metadata": {
        "id": "view-in-github",
        "colab_type": "text"
      },
      "source": [
        "<a href=\"https://colab.research.google.com/github/Cristie-Lima/e-SUS_Sinan_Mpox_ML-Workflow/blob/main/fluxo_de_aprendizagem_de_maquina_mpox_2022.ipynb\" target=\"_parent\"><img src=\"https://colab.research.google.com/assets/colab-badge.svg\" alt=\"Open In Colab\"/></a>"
      ]
    },
    {
      "cell_type": "markdown",
      "metadata": {
        "id": "63bc8b54"
      },
      "source": [
        "# Fluxo de Aprendizagem de Máquina – Mpox 2022 (Hospitalização)\n",
        "“A Ciência de Dados, quando aplicada à saúde, não prevê apenas números: prevê vidas.”"
      ],
      "id": "63bc8b54"
    },
    {
      "cell_type": "markdown",
      "metadata": {
        "id": "0b0002f8"
      },
      "source": [
        "## Sumário\n",
        "- [0. Resumo Executivo](#0-resumo-executivo)\n",
        "- [1. Objetivo e Escopo](#1-objetivo-e-escopo)\n",
        "    - [Base teórica (Kelleher et al., `2020`)](#base-teórica-(kelleher-et-al,-`2020`))\n",
        "- [2. Fundamentos Metodológicos (Kelleher, `2020`)](#2-fundamentos-metodológicos-(kelleher,-`2020`))\n",
        "    - [Base teórica (Kelleher et al., `2020`)](#base-teórica-(kelleher-et-al,-`2020`))\n",
        "- [3. Dados, Dicionário e Governança](#3-dados,-dicionário-e-governança)\n",
        "    - [Base teórica (Kelleher et al., `2020`)](#base-teórica-(kelleher-et-al,-`2020`))\n",
        "  - [Tabela 3.1 – Dicionário resumido (variáveis principais)](#tabela-31-–-dicionário-resumido-(variáveis-principais))\n",
        "    - [Base teórica (Kelleher et al., `2020`)](#base-teórica-(kelleher-et-al,-`2020`))\n",
        "- [4. Análise Exploratória (`EDA`)](#4-análise-exploratória-(`eda`))\n",
        "    - [Base teórica (Kelleher et al., `2020`)](#base-teórica-(kelleher-et-al,-`2020`))\n",
        "- [5. Pré-processamento (Atividades 1–2)](#5-pré-processamento-(atividades-1–2))\n",
        "  - [Tabela 5.1 – Tratamentos por variável (exemplos críticos)](#tabela-51-–-tratamentos-por-variável-(exemplos-críticos))\n",
        "- [6. Construção e Seleção de Atributos (Atividades 3–5)](#6-construção-e-seleção-de-atributos-(atividades-3–5))\n",
        "    - [Base teórica (Kelleher et al., `2020`)](#base-teórica-(kelleher-et-al,-`2020`))\n",
        "- [6.1 Redução de Dimensionalidade (`PCA`)](#61-redução-de-dimensionalidade-(`pca`))\n",
        "    - [Base teórica (Kelleher et al., `2020`)](#base-teórica-(kelleher-et-al,-`2020`))\n",
        "  - [Tabela 6.1 – Aplicação de `PCA` por modelo](#tabela-61-–-aplicação-de-`pca`-por-modelo)\n",
        "    - [Base teórica (Kelleher et al., `2020`)](#base-teórica-(kelleher-et-al,-`2020`))\n",
        "- [6.2 Balanceamento](#62-balanceamento)\n",
        "    - [Base teórica (Kelleher et al., `2020`)](#base-teórica-(kelleher-et-al,-`2020`))\n",
        "  - [Tabela 6.2 – Comparação de técnicas de balanceamento](#tabela-62-–-comparação-de-técnicas-de-balanceamento)\n",
        "    - [Base teórica (Kelleher et al., `2020`)](#base-teórica-(kelleher-et-al,-`2020`))\n",
        "- [7. Modelagem (Atividade 6)](#7-modelagem-(atividade-6))\n",
        "  - [Tabela 7.1 – Modelos e grids sugeridos](#tabela-71-–-modelos-e-grids-sugeridos)\n",
        "    - [Base teórica (Kelleher et al., `2020`)](#base-teórica-(kelleher-et-al,-`2020`))\n",
        "- [8. Avaliação](#8-avaliação)\n",
        "    - [Base teórica (Kelleher et al., `2020`)](#base-teórica-(kelleher-et-al,-`2020`))\n",
        "- [9. Implementação (Atividade 7)](#9-implementação-(atividade-7))\n",
        "  - [Tabela 9.1 – Artefatos e Versionamento](#tabela-91-–-artefatos-e-versionamento)\n",
        "    - [Base teórica (Kelleher et al., `2020`)](#base-teórica-(kelleher-et-al,-`2020`))\n",
        "- [`10`. Riscos, Ética e Equidade](#`10`-riscos,-ética-e-equidade)\n",
        "- [`11`. Conclusão](#`11`-conclusão)\n",
        "- [Apêndice A – Métricas](#apêndice-a-–-métricas)\n",
        "    - [Base teórica (Kelleher et al., `2020`)](#base-teórica-(kelleher-et-al,-`2020`))\n",
        "- [Apêndice B – Técnicas de Balanceamento](#apêndice-b-–-técnicas-de-balanceamento)\n",
        "- [Apêndice C – Glossário `PT` → `EN`](#apêndice-c-–-glossário-`pt`-→-`en`)\n",
        "  - [Referências](#referências)"
      ],
      "id": "0b0002f8"
    },
    {
      "cell_type": "markdown",
      "metadata": {
        "id": "1225b043"
      },
      "source": [
        "## 0. Resumo Executivo"
      ],
      "id": "1225b043"
    },
    {
      "cell_type": "markdown",
      "metadata": {
        "id": "0e49c985"
      },
      "source": [
        "Este relatório técnico apresenta o fluxo completo de Aprendizado de Máquina aplicado ao dataset e-`SUS`/Sinan Mpox `2022`, com foco em prever hospitalização.\n",
        "\n",
        "Todas as etapas seguem a metodologia de Kelleher (`2020`) e estão descritas em profundidade, desde a preparação de dados até a implementação do modelo final.\n",
        "\n",
        " Cada escolha foi guiada por princípios técnicos sólidos e alinhada ao raciocínio clínico, garantindo robustez, interpretabilidade e aplicabilidade em saúde pública.\n",
        "\n",
        "Pontos-chave do pipeline:\n",
        "\n",
        "- Política de valores faltantes estratificada (≤5%, 5–`40`%, >`40`%), com flags informativas.\n",
        "\n",
        "- Correções de plausibilidade clínica (ex.: idades válidas, coerência temporal entre sintomas e internação).\n",
        "\n",
        "- Codificação adequada (nominais com One-Hot; rejeição a ordinais espúrios como `CS_GESTANT`).\n",
        "\n",
        "- Balanceamento dos dados com SMOTETomek dentro da validação cruzada.\n",
        "\n",
        "- Redução de dimensionalidade (`PCA`) aplicada quando benéfica (kNN, `SVM`, `MLP`).\n",
        "\n",
        "- Comparação entre sete modelos preditivos.\n",
        "\n",
        "- Priorização de Recall (sensibilidade) com ajuste de limiar e calibração.\n",
        "\n",
        "- Serialização do pipeline completo, garantindo segurança e reprodutibilidade.\n",
        "\n",
        "\n",
        "_\"O pipeline (estrutura) de um projeto é um protocolo clínico.\"_\n",
        "\n",
        "Assim como um protocolo clínico integra diagnóstico, conduta e seguimento, o pipeline integra preparação, modelagem e monitoramento para gerar impacto real."
      ],
      "id": "0e49c985"
    },
    {
      "cell_type": "markdown",
      "metadata": {
        "id": "93ca939d"
      },
      "source": [
        "## 1. Objetivo e Escopo"
      ],
      "id": "93ca939d"
    },
    {
      "cell_type": "markdown",
      "metadata": {
        "id": "dc2b0f12"
      },
      "source": [
        "Objetivo específico: prever a probabilidade de hospitalização de pacientes com Mpox, usando dados clínicos e demográficos.\n",
        "\n",
        "Uso: apoiar triagem, vigilância epidemiológica e planejamento de recursos hospitalares.\n",
        "\n",
        "Requisitos: interpretabilidade, recall elevado (evitar falsos negativos), ética e governança.\n",
        "\n",
        "Definir o objetivo é elaborar a anamnese de um paciente.\n",
        "\n",
        "A anamnese é o ponto inicial do diagnóstico, onde o médico coleta informações essenciais.\n",
        "\n",
        "Da mesma forma, definir claramente o objetivo da análise garante que o projeto siga uma direção alinhada à necessidade clínica."
      ],
      "id": "dc2b0f12"
    },
    {
      "cell_type": "markdown",
      "metadata": {
        "id": "6a730c93"
      },
      "source": [
        "#### Base teórica (Kelleher et al., `2020`)"
      ],
      "id": "6a730c93"
    },
    {
      "cell_type": "markdown",
      "metadata": {
        "id": "87adce30"
      },
      "source": [
        "- Pipeline preditivo em ciclos iterativos: Preparação → Modelagem → Avaliação → Implementação, alinhado à visão de processo descrita por Kelleher et al. (`2020`).\n",
        "\n",
        "- Reprodutibilidade e disciplina experimental: documentar decisões, versões e resultados a cada iteração (Kelleher et al., `2020`)."
      ],
      "id": "87adce30"
    },
    {
      "cell_type": "markdown",
      "metadata": {
        "id": "7958e408"
      },
      "source": [
        "## 2. Fundamentos Metodológicos (Kelleher, `2020`)"
      ],
      "id": "7958e408"
    },
    {
      "cell_type": "markdown",
      "metadata": {
        "id": "8fabb327"
      },
      "source": [
        "O fluxo adotado baseia-se no ciclo de Kelleher (`2020`), que organiza o processo de aprendizado de máquina em cinco macroetapas:\n",
        "\n",
        "Preparação dos dados (Data Preparation).\n",
        "\n",
        "Construção e seleção de atributos (Feature Engineering & Feature Selection).\n",
        "\n",
        "Modelagem (Model Building).\n",
        "\n",
        "Avaliação (Evaluation).\n",
        "\n",
        "Implementação (Deployment).\n",
        "\n",
        "Assim como um protocolo terapêutico define diagnóstico, tratamento e acompanhamento, o ciclo de aprendizado de máquina requer disciplina metodológica e revisões contínuas para garantir eficácia."
      ],
      "id": "8fabb327"
    },
    {
      "cell_type": "markdown",
      "metadata": {
        "id": "94e9057e"
      },
      "source": [
        "#### Base teórica (Kelleher et al., `2020`)"
      ],
      "id": "94e9057e"
    },
    {
      "cell_type": "markdown",
      "metadata": {
        "id": "182abdf2"
      },
      "source": [
        "- Caracterização do dataset e do problema: granularidade temporal, unidades e coerência semântica, preparando o desenho de atributos (Kelleher et al., `2020`).\n",
        "\n",
        "- Privacidade e governança desde o desenho: minimização de dados, consentimento e rastreabilidade (Kelleher et al., `2020`)."
      ],
      "id": "182abdf2"
    },
    {
      "cell_type": "markdown",
      "metadata": {
        "id": "a3fe9c7e"
      },
      "source": [
        "## 3. Dados, Dicionário e Governança"
      ],
      "id": "a3fe9c7e"
    },
    {
      "cell_type": "markdown",
      "metadata": {
        "id": "b9ff7995"
      },
      "source": [
        "O dataset contém `10`.`920` registros e `56` variáveis, incluindo demografia, sintomas, comorbidades, datas de eventos e exames laboratoriais.\n",
        "\n",
        "A variável-alvo é **`TARGET_HOSP`** (0 = não hospitalizado; 1 = hospitalizado)."
      ],
      "id": "b9ff7995"
    },
    {
      "cell_type": "markdown",
      "metadata": {
        "id": "21045227"
      },
      "source": [
        "#### Base teórica (Kelleher et al., `2020`)"
      ],
      "id": "21045227"
    },
    {
      "cell_type": "markdown",
      "metadata": {
        "id": "0a38193a"
      },
      "source": [
        "- Caracterização do dataset e do problema: granularidade temporal, unidades e coerência semântica, preparando o desenho de atributos (Kelleher et al., `2020`).\n",
        "\n",
        "- Privacidade e governança desde o desenho: minimização de dados, consentimento e rastreabilidade (Kelleher et al., `2020`)."
      ],
      "id": "0a38193a"
    },
    {
      "cell_type": "markdown",
      "metadata": {
        "id": "a17dd634"
      },
      "source": [
        "### Tabela 3.1 – Dicionário resumido (variáveis principais)"
      ],
      "id": "a17dd634"
    },
    {
      "cell_type": "markdown",
      "metadata": {
        "id": "1b2452af"
      },
      "source": [
        "| **Variável** | **Tipo** | **Papel** | **Notas** |\n",
        "| --- | --- | --- | --- |\n",
        "| `TARGET_HOSP` | Binária | Alvo | Hospitalização 0/1 |\n",
        "| `NU_IDADE_N` | Numérica | Preditor | Valores plausíveis entre 0–`110` |\n",
        "| `CS_SEXO` | Nominal | Preditor | Codificação One-Hot |\n",
        "| `CS_RACA` | Nominal | Preditor | One-Hot; missing tratado |\n",
        "| `CS_GESTANT` | Nominal | Preditor | Não ordinal; One-Hot + flag_missing |\n",
        "| `FEBRE` | Binária | Preditor | Sintoma-chave |\n",
        "| `HIV` | Binária | Preditor | Comorbidade crítica |\n",
        "| `CONTAG_CD4` | Numérica | Preditor | Alta ausência → flag_exame |\n",
        "| `DT_SIN_PRI` | Data | Preditor | Base para deltas temporais |\n",
        "| `DT_INTERNA` | Data | Preditor | Alto missing; derivação de `DELTA_SINTOMAS` |"
      ],
      "id": "1b2452af"
    },
    {
      "cell_type": "markdown",
      "metadata": {
        "id": "722438b1"
      },
      "source": [
        "Governança de dados: versionamento de datasets e artefatos, uso de seeds para reprodutibilidade, logs de transformações, e princípios de privacidade por design.\n",
        "\n",
        "Assim como uma cadeia de custódia em laboratório garante validade do diagnóstico, a governança garante a credibilidade do pipeline."
      ],
      "id": "722438b1"
    },
    {
      "cell_type": "markdown",
      "metadata": {
        "id": "1b611f61"
      },
      "source": [
        "#### Base teórica (Kelleher et al., `2020`)"
      ],
      "id": "1b611f61"
    },
    {
      "cell_type": "markdown",
      "metadata": {
        "id": "0cb75c79"
      },
      "source": [
        "- Relatório de qualidade: distribuição, faltantes, outliers e consistência; a `EDA` informa as escolhas de limpeza e transformação (Kelleher et al., `2020`).\n",
        "\n",
        "- Padrões de ausência (`MCAR`/`MAR`/`MNAR`) orientam o tratamento de faltantes e o risco de viés (Kelleher et al., `2020`)."
      ],
      "id": "0cb75c79"
    },
    {
      "cell_type": "markdown",
      "metadata": {
        "id": "e8b3e33d"
      },
      "source": [
        "## 4. Análise Exploratória (`EDA`)"
      ],
      "id": "e8b3e33d"
    },
    {
      "cell_type": "markdown",
      "metadata": {
        "id": "82613787"
      },
      "source": [
        "A análise exploratória investigou distribuições, padrões de valores faltantes e correlações.\n",
        "\n",
        "Principais achados:\n",
        "\n",
        "Distribuição etária ampla (0–`110` anos).\n",
        "\n",
        "Altos valores faltantes em ``DT_INTERNA`` (~`95`%) e ``DATA_VACINA`` (~`100`%).\n",
        "\n",
        "Ausência de exames como `CD4` foi tratada como informação clínica relevante.\n",
        "\n",
        "📊 Inserir: Histograma de Idade\n",
        "\n",
        "📦 Inserir: Boxplot de Idade\n",
        "\n",
        "🔥 Inserir: Heatmap de Correlação\n",
        "\n",
        "📉 Inserir: Gráfico de Missing Values por variável\n",
        "\n",
        "Assim como um check-up clínico revela o estado geral do paciente antes de uma intervenção, a `EDA` mostra as condições dos dados antes da modelagem."
      ],
      "id": "82613787"
    },
    {
      "cell_type": "markdown",
      "metadata": {
        "id": "175ec61c"
      },
      "source": [
        "#### Base teórica (Kelleher et al., `2020`)"
      ],
      "id": "175ec61c"
    },
    {
      "cell_type": "markdown",
      "metadata": {
        "id": "d60e3f71"
      },
      "source": [
        "- Tratamento de faltantes: imputação simples/indicadores é válida quando alinhada ao mecanismo de ausência e ao viés aceitável (Kelleher et al., `2020`).\n",
        "\n",
        "- Escalonamento/normalização: essencial para métodos baseados em distância/gradiente; aplicar após a separação treino/teste (Kelleher et al., `2020`).\n",
        "\n",
        "- Amostragem e redução de volume: decisões devem ser explicitadas e avaliadas por seu impacto estatístico (Kelleher et al., `2020`)."
      ],
      "id": "d60e3f71"
    },
    {
      "cell_type": "markdown",
      "metadata": {
        "id": "a175396c"
      },
      "source": [
        "## 5. Pré-processamento (Atividades 1–2)"
      ],
      "id": "a175396c"
    },
    {
      "cell_type": "markdown",
      "metadata": {
        "id": "13112fee"
      },
      "source": [
        "Tratamento de plausibilidade: idades limitadas entre 0 e `110` anos; coerência temporal (``DT_INTERNA`` ≥ ``DT_SIN_PRI``); proibição de datas futuras.\n",
        "\n",
        "Correções de tipo e unificação de categorias foram aplicadas.\n",
        "\n",
        "Política de valores faltantes:\n",
        "\n",
        "≤5% → imputação simples (mediana/moda).\n",
        "\n",
        "5–`40`% → imputação + flag_missing.\n",
        "\n",
        ">`40`% → não imputar; criação de flag_exame."
      ],
      "id": "13112fee"
    },
    {
      "cell_type": "markdown",
      "metadata": {
        "id": "bf6fdafb"
      },
      "source": [
        "### Tabela 5.1 – Tratamentos por variável (exemplos críticos)"
      ],
      "id": "bf6fdafb"
    },
    {
      "cell_type": "markdown",
      "metadata": {
        "id": "395e08bb"
      },
      "source": [
        "| **Variável** | **Tratamento aplicado** | **Justificativa** |\n",
        "| --- | --- | --- |\n",
        "| `NU_IDADE_N` | Mediana; remoção de outliers clínicos | Distribuição assimétrica |\n",
        "| `CS_SEXO` | Moda; One-Hot | Nominal, baixo missing |\n",
        "| `CS_RACA` | Moda; One-Hot | Preserva distribuição |\n",
        "| `CS_GESTANT` | Moda + flag_missing; One-Hot | Não ordinal; ausência informativa |\n",
        "| `FEBRE`, `ERUPCAO` | Moda + flag_missing | Sintomas-chave |\n",
        "| `HIV`, `DIABETES` | Moda + flag_missing | Comorbidades críticas |\n",
        "| `CONTAG_CD4` | Flag_exame | Alta ausência; exame não solicitado |\n",
        "| `CARGA_VIRAL` | Flag_exame | Alta ausência |"
      ],
      "id": "395e08bb"
    },
    {
      "cell_type": "markdown",
      "metadata": {
        "id": "0c453175"
      },
      "source": [
        "Assim como estabilizar um paciente antes da cirurgia reduz riscos, o pré-processamento garante que a modelagem comece em condições seguras."
      ],
      "id": "0c453175"
    },
    {
      "cell_type": "markdown",
      "metadata": {
        "id": "88ceef8c"
      },
      "source": [
        "## 6. Construção e Seleção de Atributos (Atividades 3–5)"
      ],
      "id": "88ceef8c"
    },
    {
      "cell_type": "markdown",
      "metadata": {
        "id": "562caeab"
      },
      "source": [
        "Atributos derivados:\n",
        "\n",
        "**`DELTA_SINTOMAS`** = diferença entre data de internação e início de sintomas.\n",
        "\n",
        "**`SCORE_SINTOMAS`** = soma ponderada de sintomas clínicos.\n",
        "\n",
        "Interações plausíveis, como idade × `HIV`.\n",
        "\n",
        "Seleção: `ANOVA`, `RFE`, Random Forest importance, LogReg `L1`, Permutation Importance.\n",
        "\n",
        "Escalonamento aplicado para modelos sensíveis à escala.\n",
        "\n",
        "📊 Inserir: Importância de atributos (`RF`)\n",
        "\n",
        "📊 Inserir: `SHAP` summary (opcional)\n",
        "\n",
        "Assim como na farmacotécnica de precisão, escolhemos os ingredientes ativos que geram efeito e descartamos impurezas que não agregam."
      ],
      "id": "562caeab"
    },
    {
      "cell_type": "markdown",
      "metadata": {
        "id": "96ed2113"
      },
      "source": [
        "#### Base teórica (Kelleher et al., `2020`)"
      ],
      "id": "96ed2113"
    },
    {
      "cell_type": "markdown",
      "metadata": {
        "id": "43ede700"
      },
      "source": [
        "- Redução de dimensionalidade é coerente com os princípios sobre distância e vizinhança em alta dimensão (Kelleher et al., `2020`).\n",
        "\n",
        "- Aplique após escalonar; em modelos de árvore, avalie o custo-benefício, pois nem sempre ajuda (princípios em Kelleher et al., `2020`)."
      ],
      "id": "43ede700"
    },
    {
      "cell_type": "markdown",
      "metadata": {
        "id": "b7d7c1de"
      },
      "source": [
        "## 6.1 Redução de Dimensionalidade (`PCA`)"
      ],
      "id": "b7d7c1de"
    },
    {
      "cell_type": "markdown",
      "metadata": {
        "id": "abcb66c5"
      },
      "source": [
        "O `PCA` foi aplicado após escalonamento em modelos sensíveis à dimensionalidade (kNN, `SVM`, `MLP`), mas evitado em árvores e Random Forest."
      ],
      "id": "abcb66c5"
    },
    {
      "cell_type": "markdown",
      "metadata": {
        "id": "bbcf5941"
      },
      "source": [
        "#### Base teórica (Kelleher et al., `2020`)"
      ],
      "id": "bbcf5941"
    },
    {
      "cell_type": "markdown",
      "metadata": {
        "id": "3c56dc94"
      },
      "source": [
        "- Redução de dimensionalidade é coerente com os princípios sobre distância e vizinhança em alta dimensão (Kelleher et al., `2020`).\n",
        "\n",
        "- Aplique após escalonar; em modelos de árvore, avalie o custo-benefício, pois nem sempre ajuda (princípios em Kelleher et al., `2020`)."
      ],
      "id": "3c56dc94"
    },
    {
      "cell_type": "markdown",
      "metadata": {
        "id": "6a236a60"
      },
      "source": [
        "### Tabela 6.1 – Aplicação de `PCA` por modelo"
      ],
      "id": "6a236a60"
    },
    {
      "cell_type": "markdown",
      "metadata": {
        "id": "50fc3655"
      },
      "source": [
        "| **Modelo** | **`PCA`?** | **Motivo** |\n",
        "| --- | --- | --- |\n",
        "| `SVM` | Sim | Estabiliza margem |\n",
        "| kNN | Sim | Distâncias mais informativas |\n",
        "| `MLP` | Sim | Reduz ruído e overfitting |\n",
        "| Regressão Logística | Ocasional | Mitiga multicolinearidade |\n",
        "| Árvores/`RF` | Não | Não se beneficiam |"
      ],
      "id": "50fc3655"
    },
    {
      "cell_type": "markdown",
      "metadata": {
        "id": "9658240b"
      },
      "source": [
        "Assim como uma tomografia sintetiza diferentes ângulos para revelar o interior do corpo, o `PCA` sintetiza variáveis para revelar estruturas ocultas."
      ],
      "id": "9658240b"
    },
    {
      "cell_type": "markdown",
      "metadata": {
        "id": "dca8ae19"
      },
      "source": [
        "#### Base teórica (Kelleher et al., `2020`)"
      ],
      "id": "dca8ae19"
    },
    {
      "cell_type": "markdown",
      "metadata": {
        "id": "c6f60a64"
      },
      "source": [
        "- Reamostragem altera priors; executar dentro da validação para medir efeito real sem vazamento (princípios experimentais em Kelleher et al., `2020`).\n",
        "\n",
        "- Avalie por `AUC`-`PR`/Recall quando a classe positiva é rara; `ROC` pode mascarar melhorias relevantes (Kelleher et al., `2020`)."
      ],
      "id": "c6f60a64"
    },
    {
      "cell_type": "markdown",
      "metadata": {
        "id": "812092c0"
      },
      "source": [
        "## 6.2 Balanceamento"
      ],
      "id": "812092c0"
    },
    {
      "cell_type": "markdown",
      "metadata": {
        "id": "c65995fa"
      },
      "source": [
        "Estratégia adotada: **SMOTETomek** (`SMOTE` → Tomek), dentro da validação cruzada.\n",
        "\n",
        "Alternativas: `SMOTEENN`, `ADASYN`, Class Weights."
      ],
      "id": "c65995fa"
    },
    {
      "cell_type": "markdown",
      "metadata": {
        "id": "23b3b4b8"
      },
      "source": [
        "#### Base teórica (Kelleher et al., `2020`)"
      ],
      "id": "23b3b4b8"
    },
    {
      "cell_type": "markdown",
      "metadata": {
        "id": "07fbd910"
      },
      "source": [
        "- Reamostragem altera priors; executar dentro da validação para medir efeito real sem vazamento (princípios experimentais em Kelleher et al., `2020`).\n",
        "\n",
        "- Avalie por `AUC`-`PR`/Recall quando a classe positiva é rara; `ROC` pode mascarar melhorias relevantes (Kelleher et al., `2020`)."
      ],
      "id": "07fbd910"
    },
    {
      "cell_type": "markdown",
      "metadata": {
        "id": "a580c855"
      },
      "source": [
        "### Tabela 6.2 – Comparação de técnicas de balanceamento"
      ],
      "id": "a580c855"
    },
    {
      "cell_type": "markdown",
      "metadata": {
        "id": "8a3a0a13"
      },
      "source": [
        "| **Técnica** | **Vantagens** | **Limitações** | **Melhor uso** |\n",
        "| --- | --- | --- | --- |\n",
        "| `SMOTE` | Amplia classe minoritária | Pode gerar ruído | Desbalanceamento leve |\n",
        "| Tomek | Remove pares ambíguos | Não corrige severos | Ruído moderado |\n",
        "| SMOTETomek | Equilibra + limpa | Mais custoso | Dados com ruído |\n",
        "| `SMOTEENN` | Limpeza agressiva | Pode excluir úteis | Bases ruidosas |\n",
        "| `ADASYN` | Foco adaptativo | Exagero em nichos | Subgrupos raros |\n",
        "| Class Weights | Sem reamostragem | Suporte varia | LogReg/`SVM`/`RF` |"
      ],
      "id": "8a3a0a13"
    },
    {
      "cell_type": "markdown",
      "metadata": {
        "id": "f9f18c5d"
      },
      "source": [
        "Assim como uma transfusão corrige deficiências e remove impurezas, o balanceamento ajusta as classes para treinos mais justos."
      ],
      "id": "f9f18c5d"
    },
    {
      "cell_type": "markdown",
      "metadata": {
        "id": "aa5ddcb9"
      },
      "source": [
        "#### Base teórica (Kelleher et al., `2020`)"
      ],
      "id": "aa5ddcb9"
    },
    {
      "cell_type": "markdown",
      "metadata": {
        "id": "b806d74e"
      },
      "source": [
        "- Naive Bayes: fatorização por independência condicional; ótimo baseline em dados esparsos (Kelleher et al., `2020`).\n",
        "\n",
        "- Regressão Logística: fronteira linear, otimização por gradiente; interpreta pesos/odds (Kelleher et al., `2020`).\n",
        "\n",
        "- Árvores/Random Forest: instabilidade das árvores é mitigada por bagging e subamostragem de atributos (Kelleher et al., `2020`).\n",
        "\n",
        "- kNN e `SVM`: sensíveis a escalas e distância; `SVM` maximiza margem e se beneficia de kernels (Kelleher et al., `2020`).\n",
        "\n",
        "- Redes neurais: regularização com dropout/early stopping; softmax para multiclasse (Kelleher et al., `2020`)."
      ],
      "id": "b806d74e"
    },
    {
      "cell_type": "markdown",
      "metadata": {
        "id": "67327d90"
      },
      "source": [
        "## 7. Modelagem (Atividade 6)"
      ],
      "id": "67327d90"
    },
    {
      "cell_type": "markdown",
      "metadata": {
        "id": "0fc74253"
      },
      "source": [
        "Modelos avaliados: Naive Bayes, Regressão Logística, Árvore de Decisão, kNN, Random Forest, `SVM`, `MLP`.\n",
        "\n",
        "Validação cruzada estratificada, tuning com GridSearchCV, ajuste de limiar e calibração."
      ],
      "id": "0fc74253"
    },
    {
      "cell_type": "markdown",
      "metadata": {
        "id": "14a61e92"
      },
      "source": [
        "### Tabela 7.1 – Modelos e grids sugeridos"
      ],
      "id": "14a61e92"
    },
    {
      "cell_type": "markdown",
      "metadata": {
        "id": "05fb7100"
      },
      "source": [
        "| **Modelo** | **Grid sugerido (exemplos)** | **Forças** | **Limitações** |\n",
        "| --- | --- | --- | --- |\n",
        "| Naive Bayes | var_smoothing=[1e-9..1e-6] | Simples, rápido | Supõe independência |\n",
        "| Regressão Logística | C=[0.`01`,1,`10`]; penalty=[l1,l2]; class_weight | Interpretável | Sensível à multicolinearidade |\n",
        "| Árvore de Decisão | max_depth=[3..`20`] | Não linear | Overfitting |\n",
        "| kNN | n_neighbors=[3..`31`] | Intuitivo | Sensível a escala |\n",
        "| Random Forest | n_estimators=[`200`..`1000`] | Robusto | Mais custoso |\n",
        "| `SVM` | kernel=[rbf,linear]; C=[0.1..`10`] | Boa margem | Alto custo |\n",
        "| `MLP` | hidden_layer_sizes=[(`64`,`32`),(`128`,`64`)] | Flexível | Requer tuning |"
      ],
      "id": "05fb7100"
    },
    {
      "cell_type": "markdown",
      "metadata": {
        "id": "fe5e446d"
      },
      "source": [
        "📈 Inserir: Curvas `ROC`\n",
        "\n",
        "📈 Inserir: Curvas Precision-Recall\n",
        "\n",
        "📊 Inserir: Matrizes de Confusão\n",
        "\n",
        "Assim como equipes médicas têm especializações diferentes, cada modelo tem forças e limitações, cabendo à avaliação escolher o mais adequado."
      ],
      "id": "fe5e446d"
    },
    {
      "cell_type": "markdown",
      "metadata": {
        "id": "30340c21"
      },
      "source": [
        "#### Base teórica (Kelleher et al., `2020`)"
      ],
      "id": "30340c21"
    },
    {
      "cell_type": "markdown",
      "metadata": {
        "id": "6364f677"
      },
      "source": [
        "- Validação cruzada estratificada e desenho experimental adequado evitam viés/otimismo (Kelleher et al., `2020`).\n",
        "\n",
        "- Métricas adequadas ao objetivo: Precision/Recall/`F1` e `AUC`-`PR` para desbalanceamento; `ROC` para separabilidade global (Kelleher et al., `2020`)."
      ],
      "id": "6364f677"
    },
    {
      "cell_type": "markdown",
      "metadata": {
        "id": "53a9b78e"
      },
      "source": [
        "## 8. Avaliação"
      ],
      "id": "53a9b78e"
    },
    {
      "cell_type": "markdown",
      "metadata": {
        "id": "f5dfe49e"
      },
      "source": [
        "Métricas principais: Recall, Precisão, `F1`, `AUC`-`ROC` e `AUC`-`PR`.\n",
        "\n",
        "Ajuste de limiar para maximizar Recall, análises por subgrupo (sexo, idade, raça) e intervalos de confiança via bootstrap.\n",
        "\n",
        "📊 Inserir: Tabela comparativa de métricas\n",
        "\n",
        "📈 Inserir: Curvas `ROC` e `PR`\n",
        "\n",
        "📊 Inserir: Matrizes de Confusão\n",
        "\n",
        "Assim como exames de seguimento confirmam a eficácia de um tratamento, as métricas confirmam a qualidade do modelo antes do deploy."
      ],
      "id": "f5dfe49e"
    },
    {
      "cell_type": "markdown",
      "metadata": {
        "id": "30047952"
      },
      "source": [
        "#### Base teórica (Kelleher et al., `2020`)"
      ],
      "id": "30047952"
    },
    {
      "cell_type": "markdown",
      "metadata": {
        "id": "a21b664a"
      },
      "source": [
        "- Validação cruzada estratificada e desenho experimental adequado evitam viés/otimismo (Kelleher et al., `2020`).\n",
        "\n",
        "- Métricas adequadas ao objetivo: Precision/Recall/`F1` e `AUC`-`PR` para desbalanceamento; `ROC` para separabilidade global (Kelleher et al., `2020`)."
      ],
      "id": "a21b664a"
    },
    {
      "cell_type": "markdown",
      "metadata": {
        "id": "dfa1dce2"
      },
      "source": [
        "## 9. Implementação (Atividade 7)"
      ],
      "id": "dfa1dce2"
    },
    {
      "cell_type": "markdown",
      "metadata": {
        "id": "de69592e"
      },
      "source": [
        "Serialização: salvar, na ordem, o pipeline completo (pré-processadores, seletores, `PCA`, balanceadores e o modelo).\n",
        "\n",
        "Esquema de entrada (schema) validado com checagens (tipos, intervalos, categorias conhecidas).\n",
        "\n",
        "Monitoramento: drift de dados/rotulagem, quedas de Recall, recalibração de limiar e rotinas de re-treino.\n",
        "\n",
        "Segurança: privacidade e minimização de dados, controle de acesso e logs."
      ],
      "id": "de69592e"
    },
    {
      "cell_type": "markdown",
      "metadata": {
        "id": "033ad1b3"
      },
      "source": [
        "### Tabela 9.1 – Artefatos e Versionamento"
      ],
      "id": "033ad1b3"
    },
    {
      "cell_type": "markdown",
      "metadata": {
        "id": "54ee994c"
      },
      "source": [
        "| **Artefato** | **Status** | **Observação** |\n",
        "| --- | --- | --- |\n",
        "| Encoders/Scalers/Selectors/`PCA` | Serializados | Acoplados no pipeline para evitar desvio de distribuição |\n",
        "| Modelo final | Serializado | `RF` (operação) e LogReg (explicabilidade) |\n",
        "| Seeds e configs | Registrados | Reprodutibilidade e auditoria |\n",
        "| Dados balanceados | Não serializar | Regerar no treino para evitar leakage |"
      ],
      "id": "54ee994c"
    },
    {
      "cell_type": "markdown",
      "metadata": {
        "id": "86d951b6"
      },
      "source": [
        "Implementar um modelo é como dar alta hospitalar com um plano de seguimento.\n",
        "\n",
        "A alta não significa o fim do cuidado, mas o início de uma nova fase em que o paciente é monitorado, ajustado quando necessário e acompanhado para evitar recaídas."
      ],
      "id": "86d951b6"
    },
    {
      "cell_type": "markdown",
      "metadata": {
        "id": "a44a39c2"
      },
      "source": [
        "#### Base teórica (Kelleher et al., `2020`)"
      ],
      "id": "a44a39c2"
    },
    {
      "cell_type": "markdown",
      "metadata": {
        "id": "bc794bf7"
      },
      "source": [
        "- Questões legais, éticas e de viés devem ser tratadas desde o design; transparência e minimização de danos (Kelleher et al., `2020`)."
      ],
      "id": "bc794bf7"
    },
    {
      "cell_type": "markdown",
      "metadata": {
        "id": "a133cea0"
      },
      "source": [
        "## `10`. Riscos, Ética e Equidade"
      ],
      "id": "a133cea0"
    },
    {
      "cell_type": "markdown",
      "metadata": {
        "id": "5750348d"
      },
      "source": [
        "Auditoria por subgrupos (sexo, raça, idade), explicabilidade via coeficientes (LogReg) e `SHAP` (`RF`), privacidade por design.\n",
        "\n",
        "Controle de vieses é essencial para segurança do paciente.\n",
        "\n",
        "Assim como um comitê de ética clínica avalia riscos antes de liberar um tratamento, precisamos avaliar impactos éticos antes de colocar modelos em produção."
      ],
      "id": "5750348d"
    },
    {
      "cell_type": "markdown",
      "metadata": {
        "id": "987d43e3"
      },
      "source": [
        "## `11`. Conclusão"
      ],
      "id": "987d43e3"
    },
    {
      "cell_type": "markdown",
      "metadata": {
        "id": "472a4048"
      },
      "source": [
        "O pipeline é robusto, auditável e clinicamente relevante.\n",
        "\n",
        "Random Forest foi selecionado como modelo de produção, e Regressão Logística como referência explicável.\n",
        "\n",
        "As analogias clínicas tornam o fluxo mais acessível para equipes de saúde."
      ],
      "id": "472a4048"
    },
    {
      "cell_type": "markdown",
      "metadata": {
        "id": "9b8115e4"
      },
      "source": [
        "## Apêndice A – Métricas"
      ],
      "id": "9b8115e4"
    },
    {
      "cell_type": "markdown",
      "metadata": {
        "id": "62eb3613"
      },
      "source": [
        "Recall (Sensibilidade): triagem que evita altas indevidas.\n",
        "\n",
        "Precisão (Precision): evita tratar quem não precisa.\n",
        "\n",
        "`F1`-Score: equilíbrio entre captar casos e evitar sobrecarga.\n",
        "\n",
        "`AUC`-`ROC`: visão global de separabilidade.\n",
        "\n",
        "`AUC`-`PR`: útil em cenários desbalanceados.\n",
        "\n",
        "Calibração: fidedignidade das probabilidades."
      ],
      "id": "62eb3613"
    },
    {
      "cell_type": "markdown",
      "metadata": {
        "id": "c5b0dcb7"
      },
      "source": [
        "#### Base teórica (Kelleher et al., `2020`)"
      ],
      "id": "c5b0dcb7"
    },
    {
      "cell_type": "markdown",
      "metadata": {
        "id": "f3f4edbc"
      },
      "source": [
        "- Reamostragem altera priors; executar dentro da validação para medir efeito real sem vazamento (princípios experimentais em Kelleher et al., `2020`).\n",
        "\n",
        "- Avalie por `AUC`-`PR`/Recall quando a classe positiva é rara; `ROC` pode mascarar melhorias relevantes (Kelleher et al., `2020`)."
      ],
      "id": "f3f4edbc"
    },
    {
      "cell_type": "markdown",
      "metadata": {
        "id": "a6a47a75"
      },
      "source": [
        "## Apêndice B – Técnicas de Balanceamento"
      ],
      "id": "a6a47a75"
    },
    {
      "cell_type": "markdown",
      "metadata": {
        "id": "43b3f6ff"
      },
      "source": [
        "Ver Tabela 6.2."
      ],
      "id": "43b3f6ff"
    },
    {
      "cell_type": "markdown",
      "metadata": {
        "id": "08d1afe2"
      },
      "source": [
        "## Apêndice C – Glossário `PT` → `EN`"
      ],
      "id": "08d1afe2"
    },
    {
      "cell_type": "markdown",
      "metadata": {
        "id": "a3bb54c7"
      },
      "source": [
        "Sensibilidade → Recall\n",
        "\n",
        "Precisão → Precision\n",
        "\n",
        "Equilíbrio → `F1`\n",
        "\n",
        "Curva `ROC` → `ROC` Curve\n",
        "\n",
        "Curva Precisão-Revocação → Precision-Recall Curve\n",
        "\n",
        "Reamostragem → Resampling\n",
        "\n",
        "Engenharia de atributos → Feature Engineering\n",
        "\n",
        "Seleção de atributos → Feature Selection\n",
        "\n",
        "Redução de dimensionalidade → Dimensionality Reduction\n",
        "\n",
        "Validação cruzada → Cross-Validation"
      ],
      "id": "a3bb54c7"
    },
    {
      "cell_type": "markdown",
      "metadata": {
        "id": "03d681ed"
      },
      "source": [
        "### Referências"
      ],
      "id": "03d681ed"
    },
    {
      "cell_type": "markdown",
      "metadata": {
        "id": "b52db800"
      },
      "source": [
        "Kelleher, J. D.; Mac Namee, B.; D’Arcy, A. (`2020`). *Fundamentals of Machine Learning for Predictive Data Analytics*. 2nd ed. `MIT` Press.\n",
        "\n",
        "`CDC`/`NIH`: Diretrizes clínicas sobre `CD4`.\n",
        "\n",
        "`OMS`/`WHO`: Relatórios epidemiológicos.\n",
        "\n",
        "Documentação scikit-learn e imbalanced-learn.\n",
        "\n",
        "*Gerado em: `2025`-`09`-`03` `10`:`33`:`38`*\n",
        "\n",
        "Kelleher, J. D., Mac Namee, B., & D’Arcy, A. (`2020`). Fundamentals of Machine Learning for Predictive Data Analytics (2nd ed.). `MIT` Press."
      ],
      "id": "b52db800"
    }
  ],
  "metadata": {
    "colab": {
      "provenance": [],
      "include_colab_link": true
    },
    "language_info": {
      "name": "python"
    },
    "kernelspec": {
      "name": "python3",
      "display_name": "Python 3"
    }
  },
  "nbformat": 4,
  "nbformat_minor": 5
}