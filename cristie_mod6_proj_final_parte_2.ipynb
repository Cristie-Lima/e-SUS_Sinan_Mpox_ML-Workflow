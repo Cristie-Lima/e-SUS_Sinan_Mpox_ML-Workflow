{
  "cells": [
    {
      "cell_type": "markdown",
      "metadata": {
        "id": "view-in-github",
        "colab_type": "text"
      },
      "source": [
        "<a href=\"https://colab.research.google.com/github/Cristie-Lima/e-SUS_Sinan_Mpox_ML-Workflow/blob/main/cristie_mod6_proj_final_parte_2.ipynb\" target=\"_parent\"><img src=\"https://colab.research.google.com/assets/colab-badge.svg\" alt=\"Open In Colab\"/></a>"
      ]
    },
    {
      "cell_type": "markdown",
      "source": [
        "---\n",
        "---\n",
        "# **Ciência de Dados: Fundamentos de Machine Learning**\n",
        "---\n",
        "---"
      ],
      "metadata": {
        "id": "UZ4Wa0NV26dp"
      },
      "id": "UZ4Wa0NV26dp"
    },
    {
      "cell_type": "markdown",
      "metadata": {
        "id": "xdL1sKgB26dp"
      },
      "source": [
        "## **Pós-graduação em Ciência de Dados (2025/2026)**\n",
        "\n",
        "**Escola Superior de Tecnologia da Universidade Estadual do Amazonas - EST/UEA**\n",
        "    \n",
        "**Disciplina:** Fundamentos de Machine Learning\n",
        "\n",
        "**Prof. Me.:** Mario Bessa\n",
        "\n",
        "_**Repositório do Projeto Acadêmico no Github:** [e-SUS_Sinan_Mpox_ML-Workflow](https://github.com/Cristie-Lima/e-SUS_Sinan_Mpox_ML-Workflow)_\n",
        "\n",
        "_**Alunos:**_\n",
        "\n",
        "- _A. Cristiane R. Lima (Cristie)_\n",
        "- _José Henrique Santos Cavalcante (Henrique)_\n",
        "\n",
        "_**Data:** 30 de agosto de 2025_\n"
      ],
      "id": "xdL1sKgB26dp"
    },
    {
      "cell_type": "markdown",
      "metadata": {
        "id": "7itil0XZ26dq"
      },
      "source": [
        "## **Projeto Final**\n",
        "Este projeto está dividido em 2 notebooks para contemplar o fluxo completo de pré-modelagem e modelagem para o dataset [e-SUS Sinan/Mpox](https://opendatasus.saude.gov.br/ne/dataset/mpox), seguindo uma estrutura padronizada, do seguinte modo:\n",
        "\n",
        "- cristie_mod6_proj_final_parte_1.ipynb: Aquisição, Análise Descritiva e Exploratória de Dados (EDA), Pré-processamento (Correção )\n",
        "\n",
        "Foi desenvolvido a partir do notebook-base apresentado e explicado ao longo as aulas teórico-práticas em laboratório do Professor.\n",
        "\n",
        "---\n",
        "\n",
        "💡 **Nota técnica:** O link para o Dicionário de Dados está disponível na seção de *Análise Descritiva*. Recomenda-se mantê-lo aberto para facilitar a interpretação das variáveis.\n",
        "\n",
        "⚠️ **Observação:** Linhas com o comentário `#debug#` indicam trechos opcionais para testes e inspeções pontuais — como a geração de arquivos `.csv` temporários para verificar o estado do DataFrame após imputações.\n",
        "\n",
        "📚 **Referência:**  \n",
        "KELLEHER, John D.; MAC NAMEE, Brian; D’ARCY, Aoife. *Fundamentals of Machine Learning for Predictive Data Analytics: Algorithms, Worked Examples, and Case Studies*. 2. ed. Cambridge, MA: MIT Press, 2020.\n"
      ],
      "id": "7itil0XZ26dq"
    },
    {
      "cell_type": "markdown",
      "source": [
        "---\n",
        "### **Contextualização do Projeto**\n",
        "\n",
        "A Mpox (Monkeypox) é uma doença infecciosa emergente que ganhou atenção internacional devido ao seu potencial de disseminação e impacto na saúde pública. No Brasil, o sistema e-SUS Sinan tem sido fundamental para o registro e monitoramento dos casos, permitindo a construção de bases de dados estruturadas para análise epidemiológica.\n",
        "\n",
        "Este projeto tem como objetivo aplicar técnicas de aprendizado de máquina para explorar, tratar e modelar os dados disponíveis, com foco na geração de insights preditivos que possam apoiar estratégias de vigilância e resposta. A abordagem adotada contempla desde o pré-processamento e imputação de dados até a construção de modelos supervisionados, seguindo diretrizes metodológicas discutidas em ambiente acadêmico.\n",
        "\n",
        "---"
      ],
      "metadata": {
        "id": "pJXC5DR226dq"
      },
      "id": "pJXC5DR226dq"
    },
    {
      "cell_type": "markdown",
      "source": [
        "**Instruções:**\n",
        "\n",
        "- Realizar os processamentos abaixo:\n",
        "\n",
        "  - No notebook `cristie_mod6_proj_final_parte_1.ipynb`:\n",
        "    -  Atividade 1: Limpar dados incorretos\n",
        "    -  Atividade 2: Imputação de valores faltantes\n",
        "    -  Atividade 3: Codificação de variáveis categóricas (OrdinalEncoder e OneHotEncoder)\n",
        "    -  Atividade 4: Escalonamento de variáveis numéricas (StandardScaler e MinMaxScaler)\n",
        "  - No notebook `cristie_mod6_proj_final_parte_2.ipynb`:\n",
        "    -  Atividade 5: Balanceamento dos dados (Tomek e Smote)\n",
        "    -  Atividade 6: Treinamento dos modelos de Machine Learning\n",
        "    -  Atividade 7: Usar o modelo treinado"
      ],
      "metadata": {
        "id": "ivP80HuL26dq"
      },
      "id": "ivP80HuL26dq"
    },
    {
      "cell_type": "markdown",
      "source": [
        "---\n",
        "## **Atividade 6: Treinamento dos modelos de Machine Learning**\n",
        "- Comparar modelos: testar diferentes classificadores\n",
        "    - Classificação binária\n",
        "    - Modelos: Naive Bayes, Árvore de Decisão, Random Forest, Aprendizagem baseada em instâncias - kNN, Regressão logística, SVM, Redes Neurais Artificiais\n",
        "- Medir desempenho com métricas adequadas e evitar overfitting\n",
        "- Investigar como técnicas de imputação e codificação impactam os resultados\n",
        "- Escolher e ajustar modelos (gridsearch/validação cruzada)\n",
        "---"
      ],
      "metadata": {
        "id": "mmBvj2PyShAA"
      },
      "id": "mmBvj2PyShAA"
    },
    {
      "cell_type": "markdown",
      "source": [
        "Configuração Inicial:\n",
        "\n",
        "- 📦 Importação das bibliotecas\n",
        "- 🔄 Carregar dados já pré-processados (Tomek + SMOTE aplicados)\n",
        "- ✂️ Divisão treino/teste\n"
      ],
      "metadata": {
        "id": "5wKu0RZ2jYVt"
      },
      "id": "5wKu0RZ2jYVt"
    },
    {
      "cell_type": "code",
      "source": [
        "# ================================\n",
        "# 📦 Importação das bibliotecas\n",
        "# ================================\n",
        "# pandas/numpy → manipulação de dados\n",
        "import pandas as pd\n",
        "import numpy as np\n",
        "\n",
        "# sklearn → modelagem e avaliação\n",
        "from sklearn.model_selection import train_test_split\n",
        "from sklearn.metrics import (\n",
        "    accuracy_score, precision_score, recall_score, f1_score, roc_auc_score,\n",
        "    classification_report, confusion_matrix, RocCurveDisplay\n",
        ")\n",
        "\n",
        "# visualização\n",
        "import matplotlib.pyplot as plt\n",
        "import seaborn as sns\n",
        "\n",
        "# salvar/carregar modelos\n",
        "import joblib\n",
        "\n",
        "# ================================\n",
        "# 🔄 Carregar dados já pré-processados (Tomek + SMOTE aplicados)\n",
        "# ================================\n",
        "X = joblib.load(\"/content/X_mpox_2022_target_hosp_tomek_smote.pkl\")\n",
        "y = joblib.load(\"/content/y_mpox_2022_target_hosp_tomek_smote.pkl\")\n",
        "\n",
        "# ================================\n",
        "# ✂️ Divisão treino/teste\n",
        "# - Mantemos proporção de classes (stratify=y)\n",
        "# - 80% treino, 20% teste\n",
        "# ================================\n",
        "X_train, X_test, y_train, y_test = train_test_split(\n",
        "    X, y, test_size=0.2, stratify=y, random_state=42\n",
        ")\n",
        "\n",
        "print(\"Tamanho treino:\", X_train.shape, \" | Tamanho teste:\", X_test.shape)\n",
        "print(\"Distribuição classes (treino):\\n\", y_train.value_counts(normalize=True))\n"
      ],
      "metadata": {
        "colab": {
          "base_uri": "https://localhost:8080/"
        },
        "id": "7PJ77tJ2gI5e",
        "outputId": "0a3131c1-918e-448d-f888-dd5f4ff7af03"
      },
      "id": "7PJ77tJ2gI5e",
      "execution_count": null,
      "outputs": [
        {
          "output_type": "stream",
          "name": "stdout",
          "text": [
            "Tamanho treino: (16958, 1388)  | Tamanho teste: (4240, 1388)\n",
            "Distribuição classes (treino):\n",
            " target_hosp\n",
            "1    0.5\n",
            "0    0.5\n",
            "Name: proportion, dtype: float64\n"
          ]
        }
      ]
    },
    {
      "cell_type": "code",
      "source": [
        "from google.colab import drive\n",
        "drive.mount('/content/drive')"
      ],
      "metadata": {
        "colab": {
          "base_uri": "https://localhost:8080/"
        },
        "id": "dtA91WQBvMYs",
        "outputId": "ff22b2c0-2ec5-4fee-c497-9a39b2486c83"
      },
      "id": "dtA91WQBvMYs",
      "execution_count": null,
      "outputs": [
        {
          "output_type": "stream",
          "name": "stdout",
          "text": [
            "Mounted at /content/drive\n"
          ]
        }
      ]
    },
    {
      "cell_type": "markdown",
      "source": [
        "Função auxiliar de avaliação"
      ],
      "metadata": {
        "id": "Hxp2AECcg3tc"
      },
      "id": "Hxp2AECcg3tc"
    },
    {
      "cell_type": "code",
      "source": [
        "def avaliar_modelo(modelo, X_train, y_train, X_test, y_test, nome_modelo):\n",
        "    \"\"\"\n",
        "    Treina e avalia um modelo de classificação.\n",
        "\n",
        "    Passos:\n",
        "    1. Treina com dados de treino.\n",
        "    2. Prediz nos dados de teste.\n",
        "    3. Calcula métricas (Accuracy, Precision, Recall, F1, AUC).\n",
        "    4. Exibe relatório, matriz de confusão e curva ROC.\n",
        "\n",
        "    Retorna: dicionário com métricas principais (para comparação entre modelos).\n",
        "    \"\"\"\n",
        "    # Treinamento do modelo\n",
        "    modelo.fit(X_train, y_train)\n",
        "\n",
        "    # Predição\n",
        "    y_pred = modelo.predict(X_test)\n",
        "    y_proba = modelo.predict_proba(X_test)[:,1] if hasattr(modelo, \"predict_proba\") else None\n",
        "\n",
        "    # Cálculo das métricas\n",
        "    acc = accuracy_score(y_test, y_pred)\n",
        "    prec = precision_score(y_test, y_pred)\n",
        "    rec = recall_score(y_test, y_pred)\n",
        "    f1 = f1_score(y_test, y_pred)\n",
        "    auc = roc_auc_score(y_test, y_proba) if y_proba is not None else np.nan\n",
        "\n",
        "    # Exibição de resultados\n",
        "    print(f\"\\n📊 Resultados - {nome_modelo}\")\n",
        "    print(classification_report(y_test, y_pred))\n",
        "    print(\"Matriz de Confusão:\\n\", confusion_matrix(y_test, y_pred))\n",
        "    print(f\"AUC: {auc:.3f}\")\n",
        "\n",
        "    # Curva ROC (quando disponível)\n",
        "    if y_proba is not None:\n",
        "        RocCurveDisplay.from_estimator(modelo, X_test, y_test)\n",
        "        plt.title(f\"Curva ROC - {nome_modelo}\")\n",
        "        plt.show()\n",
        "\n",
        "    # Retorno para comparação final\n",
        "    return {\"Modelo\": nome_modelo, \"Accuracy\": acc, \"Precision\": prec,\n",
        "            \"Recall\": rec, \"F1\": f1, \"AUC\": auc}\n",
        "\n",
        "# Lista para armazenar os resultados de todos os modelos\n",
        "resultados = []\n"
      ],
      "metadata": {
        "id": "itHAoB5WgQe1"
      },
      "id": "itHAoB5WgQe1",
      "execution_count": null,
      "outputs": []
    },
    {
      "cell_type": "code",
      "source": [
        "# Visualização rápida\n",
        "print(X.head(1))\n",
        "print(y.value_counts())\n",
        "\n",
        "#type(X_loaded)\n",
        "#type(y_loaded)\n"
      ],
      "metadata": {
        "id": "AZm9Ms4apDcL",
        "colab": {
          "base_uri": "https://localhost:8080/"
        },
        "outputId": "1d394530-ec06-4e5d-dca6-cb4fab3a1313"
      },
      "execution_count": null,
      "outputs": [
        {
          "output_type": "stream",
          "name": "stdout",
          "text": [
            "   NU_IDADE_N   SIFILIS  CONTAG_CD4  SINTOMA_missing  OUTRO_DES_missing  \\\n",
            "0    0.134523 -0.289047    0.261253        -0.126876           0.293487   \n",
            "\n",
            "   PROFIS_SAUDE_missing  LOCAL_CONT_missing  TRANSM_missing  \\\n",
            "0              -2.68985            -2.68985       -0.115191   \n",
            "\n",
            "   CONTAT_ANIMAL_missing  CARACT_GENOMICA_missing  ...  SG_UF_NOT_PR  \\\n",
            "0              -0.115191                -0.115191  ...     -0.219054   \n",
            "\n",
            "   SG_UF_NOT_RJ  SG_UF_NOT_RN  SG_UF_NOT_RO  SG_UF_NOT_RR  SG_UF_NOT_RS  \\\n",
            "0     -0.382854     -0.113548     -0.027077     -0.023447     -0.178993   \n",
            "\n",
            "   SG_UF_NOT_SC  SG_UF_NOT_SE  SG_UF_NOT_SP  SG_UF_NOT_TO  \n",
            "0     -0.208514      -0.08316     -0.796853     -0.040633  \n",
            "\n",
            "[1 rows x 1388 columns]\n",
            "target_hosp\n",
            "0    10599\n",
            "1    10599\n",
            "Name: count, dtype: int64\n"
          ]
        }
      ],
      "id": "AZm9Ms4apDcL"
    },
    {
      "cell_type": "markdown",
      "source": [
        "🔹 1. Naive Bayes\n",
        "\n",
        "📘 Teoria: assume independência condicional entre atributos (Kelleher, cap. 8).\n",
        "Bom para baseline rápido, mesmo que a suposição seja simplista."
      ],
      "metadata": {
        "id": "1kaU9cahhA9B"
      },
      "id": "1kaU9cahhA9B"
    },
    {
      "cell_type": "code",
      "source": [
        "from sklearn.naive_bayes import GaussianNB\n",
        "\n",
        "nb = GaussianNB()\n",
        "resultados.append(avaliar_modelo(nb, X_train, y_train, X_test, y_test, \"Naive Bayes\"))\n"
      ],
      "metadata": {
        "colab": {
          "base_uri": "https://localhost:8080/",
          "height": 732
        },
        "id": "z80Grh2vgYxs",
        "outputId": "1f1e3106-c892-45fc-936c-d9ad51a00b8c"
      },
      "id": "z80Grh2vgYxs",
      "execution_count": null,
      "outputs": [
        {
          "output_type": "stream",
          "name": "stdout",
          "text": [
            "\n",
            "📊 Resultados - Naive Bayes\n",
            "              precision    recall  f1-score   support\n",
            "\n",
            "           0       1.00      1.00      1.00      2120\n",
            "           1       1.00      1.00      1.00      2120\n",
            "\n",
            "    accuracy                           1.00      4240\n",
            "   macro avg       1.00      1.00      1.00      4240\n",
            "weighted avg       1.00      1.00      1.00      4240\n",
            "\n",
            "Matriz de Confusão:\n",
            " [[2119    1]\n",
            " [   0 2120]]\n",
            "AUC: 1.000\n"
          ]
        },
        {
          "output_type": "display_data",
          "data": {
            "text/plain": [
              "<Figure size 640x480 with 1 Axes>"
            ],
            "image/png": "[encoded data removed]"
          },
          "metadata": {}
        }
      ]
    },
    {
      "cell_type": "markdown",
      "source": [
        "🔹 2. Regressão Logística\n",
        "\n",
        "📘 Teoria: modelo linear que estima probabilidades. Muito usado em saúde pela interpretabilidade (odds ratio)."
      ],
      "metadata": {
        "id": "_z9pZssuhMbS"
      },
      "id": "_z9pZssuhMbS"
    },
    {
      "cell_type": "code",
      "source": [
        "from sklearn.linear_model import LogisticRegression\n",
        "\n",
        "log_reg = LogisticRegression(max_iter=1000, random_state=42)\n",
        "resultados.append(avaliar_modelo(log_reg, X_train, y_train, X_test, y_test, \"Regressão Logística\"))\n"
      ],
      "metadata": {
        "colab": {
          "base_uri": "https://localhost:8080/",
          "height": 732
        },
        "id": "LeoQGC8HhF3L",
        "outputId": "400a554c-a7b3-4b89-8d3a-45b59c8dd367"
      },
      "id": "LeoQGC8HhF3L",
      "execution_count": null,
      "outputs": [
        {
          "output_type": "stream",
          "name": "stdout",
          "text": [
            "\n",
            "📊 Resultados - Regressão Logística\n",
            "              precision    recall  f1-score   support\n",
            "\n",
            "           0       1.00      0.98      0.99      2120\n",
            "           1       0.98      1.00      0.99      2120\n",
            "\n",
            "    accuracy                           0.99      4240\n",
            "   macro avg       0.99      0.99      0.99      4240\n",
            "weighted avg       0.99      0.99      0.99      4240\n",
            "\n",
            "Matriz de Confusão:\n",
            " [[2080   40]\n",
            " [   0 2120]]\n",
            "AUC: 1.000\n"
          ]
        },
        {
          "output_type": "display_data",
          "data": {
            "text/plain": [
              "<Figure size 640x480 with 1 Axes>"
            ],
            "image/png": "[encoded data removed]"
          },
          "metadata": {}
        }
      ]
    },
    {
      "cell_type": "markdown",
      "source": [
        "🔹 3. Árvore de Decisão\n",
        "\n",
        "📘 Teoria: gera regras hierárquicas “if-then”. Boa interpretabilidade, mas risco de overfitting se não podada."
      ],
      "metadata": {
        "id": "UbN7UCblhWdi"
      },
      "id": "UbN7UCblhWdi"
    },
    {
      "cell_type": "code",
      "source": [
        "from sklearn.tree import DecisionTreeClassifier\n",
        "\n",
        "tree = DecisionTreeClassifier(random_state=42)\n",
        "resultados.append(avaliar_modelo(tree, X_train, y_train, X_test, y_test, \"Árvore de Decisão\"))\n"
      ],
      "metadata": {
        "colab": {
          "base_uri": "https://localhost:8080/",
          "height": 732
        },
        "id": "n6R_Yha-hRIf",
        "outputId": "f5e6992b-2f01-436e-8b27-ec7e9933822a"
      },
      "id": "n6R_Yha-hRIf",
      "execution_count": null,
      "outputs": [
        {
          "output_type": "stream",
          "name": "stdout",
          "text": [
            "\n",
            "📊 Resultados - Árvore de Decisão\n",
            "              precision    recall  f1-score   support\n",
            "\n",
            "           0       1.00      1.00      1.00      2120\n",
            "           1       1.00      1.00      1.00      2120\n",
            "\n",
            "    accuracy                           1.00      4240\n",
            "   macro avg       1.00      1.00      1.00      4240\n",
            "weighted avg       1.00      1.00      1.00      4240\n",
            "\n",
            "Matriz de Confusão:\n",
            " [[2119    1]\n",
            " [   7 2113]]\n",
            "AUC: 0.998\n"
          ]
        },
        {
          "output_type": "display_data",
          "data": {
            "text/plain": [
              "<Figure size 640x480 with 1 Axes>"
            ],
            "image/png": "[encoded data removed]"
          },
          "metadata": {}
        }
      ]
    },
    {
      "cell_type": "markdown",
      "source": [
        "🔹 4. kNN\n",
        "\n",
        "📘 Teoria: classifica pelo “voto” dos vizinhos mais próximos. Simples, mas sensível a escala e dados ruidosos"
      ],
      "metadata": {
        "id": "pc6AvDUthc8E"
      },
      "id": "pc6AvDUthc8E"
    },
    {
      "cell_type": "code",
      "source": [
        "from sklearn.neighbors import KNeighborsClassifier\n",
        "\n",
        "knn = KNeighborsClassifier(n_neighbors=5)  # k=5 é default, pode ser ajustado\n",
        "resultados.append(avaliar_modelo(knn, X_train, y_train, X_test, y_test, \"kNN\"))\n"
      ],
      "metadata": {
        "colab": {
          "base_uri": "https://localhost:8080/",
          "height": 732
        },
        "id": "pf9v5skIhcV_",
        "outputId": "c3b46bf5-9e78-411b-b4c1-310c6458cc8f"
      },
      "id": "pf9v5skIhcV_",
      "execution_count": null,
      "outputs": [
        {
          "output_type": "stream",
          "name": "stdout",
          "text": [
            "\n",
            "📊 Resultados - kNN\n",
            "              precision    recall  f1-score   support\n",
            "\n",
            "           0       1.00      0.97      0.99      2120\n",
            "           1       0.97      1.00      0.99      2120\n",
            "\n",
            "    accuracy                           0.99      4240\n",
            "   macro avg       0.99      0.99      0.99      4240\n",
            "weighted avg       0.99      0.99      0.99      4240\n",
            "\n",
            "Matriz de Confusão:\n",
            " [[2064   56]\n",
            " [   0 2120]]\n",
            "AUC: 0.996\n"
          ]
        },
        {
          "output_type": "display_data",
          "data": {
            "text/plain": [
              "<Figure size 640x480 with 1 Axes>"
            ],
            "image/png": "[encoded data removed]"
          },
          "metadata": {}
        }
      ]
    },
    {
      "cell_type": "markdown",
      "source": [
        "🔹 5. Random Forest\n",
        "\n",
        "📘 Teoria: conjunto de várias árvores de decisão com amostragem aleatória. Reduz overfitting, aumenta robustez"
      ],
      "metadata": {
        "id": "YwXSJu7YhmE_"
      },
      "id": "YwXSJu7YhmE_"
    },
    {
      "cell_type": "code",
      "source": [
        "from sklearn.ensemble import RandomForestClassifier\n",
        "\n",
        "rf = RandomForestClassifier(n_estimators=200, random_state=42)\n",
        "resultados.append(avaliar_modelo(rf, X_train, y_train, X_test, y_test, \"Random Forest\"))\n"
      ],
      "metadata": {
        "colab": {
          "base_uri": "https://localhost:8080/",
          "height": 732
        },
        "id": "kR8gfULthis3",
        "outputId": "9ae01011-0ccb-495f-e032-8a6d133dffdb"
      },
      "id": "kR8gfULthis3",
      "execution_count": null,
      "outputs": [
        {
          "output_type": "stream",
          "name": "stdout",
          "text": [
            "\n",
            "📊 Resultados - Random Forest\n",
            "              precision    recall  f1-score   support\n",
            "\n",
            "           0       0.99      1.00      1.00      2120\n",
            "           1       1.00      0.99      1.00      2120\n",
            "\n",
            "    accuracy                           1.00      4240\n",
            "   macro avg       1.00      1.00      1.00      4240\n",
            "weighted avg       1.00      1.00      1.00      4240\n",
            "\n",
            "Matriz de Confusão:\n",
            " [[2114    6]\n",
            " [  11 2109]]\n",
            "AUC: 1.000\n"
          ]
        },
        {
          "output_type": "display_data",
          "data": {
            "text/plain": [
              "<Figure size 640x480 with 1 Axes>"
            ],
            "image/png": "[encoded data removed]"
          },
          "metadata": {}
        }
      ]
    },
    {
      "cell_type": "markdown",
      "source": [
        "🔹 6. SVM\n",
        "\n",
        "📘 Teoria: encontra hiperplano ótimo para separar classes. Potente em dados complexos, mas exige tuning (kernel, C, γ)."
      ],
      "metadata": {
        "id": "FX5EUoWYhxJ8"
      },
      "id": "FX5EUoWYhxJ8"
    },
    {
      "cell_type": "code",
      "source": [
        "from sklearn.svm import SVC\n",
        "\n",
        "svm = SVC(probability=True, random_state=42)  # probability=True para permitir ROC\n",
        "resultados.append(avaliar_modelo(svm, X_train, y_train, X_test, y_test, \"SVM\"))\n"
      ],
      "metadata": {
        "colab": {
          "base_uri": "https://localhost:8080/",
          "height": 732
        },
        "id": "6ZPmU4xZhotm",
        "outputId": "115a92c5-b986-43bd-e01e-0e09b182b3cd"
      },
      "id": "6ZPmU4xZhotm",
      "execution_count": null,
      "outputs": [
        {
          "output_type": "stream",
          "name": "stdout",
          "text": [
            "\n",
            "📊 Resultados - SVM\n",
            "              precision    recall  f1-score   support\n",
            "\n",
            "           0       1.00      1.00      1.00      2120\n",
            "           1       1.00      1.00      1.00      2120\n",
            "\n",
            "    accuracy                           1.00      4240\n",
            "   macro avg       1.00      1.00      1.00      4240\n",
            "weighted avg       1.00      1.00      1.00      4240\n",
            "\n",
            "Matriz de Confusão:\n",
            " [[2116    4]\n",
            " [   0 2120]]\n",
            "AUC: 1.000\n"
          ]
        },
        {
          "output_type": "display_data",
          "data": {
            "text/plain": [
              "<Figure size 640x480 with 1 Axes>"
            ],
            "image/png": "[encoded data removed]"
          },
          "metadata": {}
        }
      ]
    },
    {
      "cell_type": "markdown",
      "source": [
        "🔹 7. Rede Neural (MLP)\n",
        "\n",
        "📘 Teoria: modelo inspirado no cérebro humano, com múltiplas camadas ocultas. Captura padrões complexos, mas menos interpretável."
      ],
      "metadata": {
        "id": "HzjZeB-Hh1yJ"
      },
      "id": "HzjZeB-Hh1yJ"
    },
    {
      "cell_type": "code",
      "source": [
        "from sklearn.neural_network import MLPClassifier\n",
        "\n",
        "mlp = MLPClassifier(hidden_layer_sizes=(50,50), max_iter=500, random_state=42)\n",
        "resultados.append(avaliar_modelo(mlp, X_train, y_train, X_test, y_test, \"Rede Neural (MLP)\"))\n"
      ],
      "metadata": {
        "colab": {
          "base_uri": "https://localhost:8080/",
          "height": 732
        },
        "id": "lgJloFZth1Pv",
        "outputId": "3a0d7567-7afc-4704-fed8-5bb52557a4e6"
      },
      "id": "lgJloFZth1Pv",
      "execution_count": null,
      "outputs": [
        {
          "output_type": "stream",
          "name": "stdout",
          "text": [
            "\n",
            "📊 Resultados - Rede Neural (MLP)\n",
            "              precision    recall  f1-score   support\n",
            "\n",
            "           0       1.00      0.99      1.00      2120\n",
            "           1       0.99      1.00      1.00      2120\n",
            "\n",
            "    accuracy                           1.00      4240\n",
            "   macro avg       1.00      1.00      1.00      4240\n",
            "weighted avg       1.00      1.00      1.00      4240\n",
            "\n",
            "Matriz de Confusão:\n",
            " [[2108   12]\n",
            " [   0 2120]]\n",
            "AUC: 1.000\n"
          ]
        },
        {
          "output_type": "display_data",
          "data": {
            "text/plain": [
              "<Figure size 640x480 with 1 Axes>"
            ],
            "image/png": "[encoded data removed]"
          },
          "metadata": {}
        }
      ]
    },
    {
      "cell_type": "markdown",
      "source": [
        "🔹 Comparação final entre modelos"
      ],
      "metadata": {
        "id": "q9aFuevBh-Py"
      },
      "id": "q9aFuevBh-Py"
    },
    {
      "cell_type": "code",
      "source": [
        "# Criar DataFrame comparativo\n",
        "df_resultados = pd.DataFrame(resultados)\n",
        "\n",
        "print(\"\\n📊 Comparação de Métricas entre Modelos\")\n",
        "display(df_resultados.sort_values(by=\"F1\", ascending=False))\n"
      ],
      "metadata": {
        "colab": {
          "base_uri": "https://localhost:8080/",
          "height": 303
        },
        "id": "MFSbXC9Hh7C7",
        "outputId": "f05c7ec5-cb98-4237-c7a8-d94e33be0b22"
      },
      "id": "MFSbXC9Hh7C7",
      "execution_count": null,
      "outputs": [
        {
          "output_type": "stream",
          "name": "stdout",
          "text": [
            "\n",
            "📊 Comparação de Métricas entre Modelos\n"
          ]
        },
        {
          "output_type": "display_data",
          "data": {
            "text/plain": [
              "                Modelo  Accuracy  Precision    Recall        F1       AUC\n",
              "0          Naive Bayes  0.999764   0.999529  1.000000  0.999764  0.999764\n",
              "5                  SVM  0.999057   0.998117  1.000000  0.999057  1.000000\n",
              "2    Árvore de Decisão  0.998113   0.999527  0.996698  0.998111  0.998113\n",
              "6    Rede Neural (MLP)  0.997170   0.994371  1.000000  0.997178  1.000000\n",
              "4        Random Forest  0.995991   0.997163  0.994811  0.995986  0.999969\n",
              "1  Regressão Logística  0.990566   0.981481  1.000000  0.990654  0.999844\n",
              "3                  kNN  0.986792   0.974265  1.000000  0.986965  0.996462"
            ],
            "text/html": [
              "\n",
              "  <div id=\"df-c9a41a38-d624-4577-9e9b-6f0ac669de32\" class=\"colab-df-container\">\n",
              "    <div>\n",
              "<style scoped>\n",
              "    .dataframe tbody tr th:only-of-type {\n",
              "        vertical-align: middle;\n",
              "    }\n",
              "\n",
              "    .dataframe tbody tr th {\n",
              "        vertical-align: top;\n",
              "    }\n",
              "\n",
              "    .dataframe thead th {\n",
              "        text-align: right;\n",
              "    }\n",
              "</style>\n",
              "<table border=\"1\" class=\"dataframe\">\n",
              "  <thead>\n",
              "    <tr style=\"text-align: right;\">\n",
              "      <th></th>\n",
              "      <th>Modelo</th>\n",
              "      <th>Accuracy</th>\n",
              "      <th>Precision</th>\n",
              "      <th>Recall</th>\n",
              "      <th>F1</th>\n",
              "      <th>AUC</th>\n",
              "    </tr>\n",
              "  </thead>\n",
              "  <tbody>\n",
              "    <tr>\n",
              "      <th>0</th>\n",
              "      <td>Naive Bayes</td>\n",
              "      <td>0.999764</td>\n",
              "      <td>0.999529</td>\n",
              "      <td>1.000000</td>\n",
              "      <td>0.999764</td>\n",
              "      <td>0.999764</td>\n",
              "    </tr>\n",
              "    <tr>\n",
              "      <th>5</th>\n",
              "      <td>SVM</td>\n",
              "      <td>0.999057</td>\n",
              "      <td>0.998117</td>\n",
              "      <td>1.000000</td>\n",
              "      <td>0.999057</td>\n",
              "      <td>1.000000</td>\n",
              "    </tr>\n",
              "    <tr>\n",
              "      <th>2</th>\n",
              "      <td>Árvore de Decisão</td>\n",
              "      <td>0.998113</td>\n",
              "      <td>0.999527</td>\n",
              "      <td>0.996698</td>\n",
              "      <td>0.998111</td>\n",
              "      <td>0.998113</td>\n",
              "    </tr>\n",
              "    <tr>\n",
              "      <th>6</th>\n",
              "      <td>Rede Neural (MLP)</td>\n",
              "      <td>0.997170</td>\n",
              "      <td>0.994371</td>\n",
              "      <td>1.000000</td>\n",
              "      <td>0.997178</td>\n",
              "      <td>1.000000</td>\n",
              "    </tr>\n",
              "    <tr>\n",
              "      <th>4</th>\n",
              "      <td>Random Forest</td>\n",
              "      <td>0.995991</td>\n",
              "      <td>0.997163</td>\n",
              "      <td>0.994811</td>\n",
              "      <td>0.995986</td>\n",
              "      <td>0.999969</td>\n",
              "    </tr>\n",
              "    <tr>\n",
              "      <th>1</th>\n",
              "      <td>Regressão Logística</td>\n",
              "      <td>0.990566</td>\n",
              "      <td>0.981481</td>\n",
              "      <td>1.000000</td>\n",
              "      <td>0.990654</td>\n",
              "      <td>0.999844</td>\n",
              "    </tr>\n",
              "    <tr>\n",
              "      <th>3</th>\n",
              "      <td>kNN</td>\n",
              "      <td>0.986792</td>\n",
              "      <td>0.974265</td>\n",
              "      <td>1.000000</td>\n",
              "      <td>0.986965</td>\n",
              "      <td>0.996462</td>\n",
              "    </tr>\n",
              "  </tbody>\n",
              "</table>\n",
              "</div>\n",
              "    <div class=\"colab-df-buttons\">\n",
              "\n",
              "  <div class=\"colab-df-container\">\n",
              "    <button class=\"colab-df-convert\" onclick=\"convertToInteractive('df-c9a41a38-d624-4577-9e9b-6f0ac669de32')\"\n",
              "            title=\"Convert this dataframe to an interactive table.\"\n",
              "            style=\"display:none;\">\n",
              "\n",
              "  <svg xmlns=\"http://www.w3.org/2000/svg\" height=\"24px\" viewBox=\"0 -960 960 960\">\n",
              "    <path d=\"M120-120v-720h720v720H120Zm60-500h600v-160H180v160Zm220 220h160v-160H400v160Zm0 220h160v-160H400v160ZM180-400h160v-160H180v160Zm440 0h160v-160H620v160ZM180-180h160v-160H180v160Zm440 0h160v-160H620v160Z\"/>\n",
              "  </svg>\n",
              "    </button>\n",
              "\n",
              "  <style>\n",
              "    .colab-df-container {\n",
              "      display:flex;\n",
              "      gap: 12px;\n",
              "    }\n",
              "\n",
              "    .colab-df-convert {\n",
              "      background-color: #E8F0FE;\n",
              "      border: none;\n",
              "      border-radius: 50%;\n",
              "      cursor: pointer;\n",
              "      display: none;\n",
              "      fill: #1967D2;\n",
              "      height: 32px;\n",
              "      padding: 0 0 0 0;\n",
              "      width: 32px;\n",
              "    }\n",
              "\n",
              "    .colab-df-convert:hover {\n",
              "      background-color: #E2EBFA;\n",
              "      box-shadow: 0px 1px 2px rgba(60, 64, 67, 0.3), 0px 1px 3px 1px rgba(60, 64, 67, 0.15);\n",
              "      fill: #174EA6;\n",
              "    }\n",
              "\n",
              "    .colab-df-buttons div {\n",
              "      margin-bottom: 4px;\n",
              "    }\n",
              "\n",
              "    [theme=dark] .colab-df-convert {\n",
              "      background-color: #3B4455;\n",
              "      fill: #D2E3FC;\n",
              "    }\n",
              "\n",
              "    [theme=dark] .colab-df-convert:hover {\n",
              "      background-color: #434B5C;\n",
              "      box-shadow: 0px 1px 3px 1px rgba(0, 0, 0, 0.15);\n",
              "      filter: drop-shadow(0px 1px 2px rgba(0, 0, 0, 0.3));\n",
              "      fill: #FFFFFF;\n",
              "    }\n",
              "  </style>\n",
              "\n",
              "    <script>\n",
              "      const buttonEl =\n",
              "        document.querySelector('#df-c9a41a38-d624-4577-9e9b-6f0ac669de32 button.colab-df-convert');\n",
              "      buttonEl.style.display =\n",
              "        google.colab.kernel.accessAllowed ? 'block' : 'none';\n",
              "\n",
              "      async function convertToInteractive(key) {\n",
              "        const element = document.querySelector('#df-c9a41a38-d624-4577-9e9b-6f0ac669de32');\n",
              "        const dataTable =\n",
              "          await google.colab.kernel.invokeFunction('convertToInteractive',\n",
              "                                                    [key], {});\n",
              "        if (!dataTable) return;\n",
              "\n",
              "        const docLinkHtml = 'Like what you see? Visit the ' +\n",
              "          '<a target=\"_blank\" href=https://colab.research.google.com/notebooks/data_table.ipynb>data table notebook</a>'\n",
              "          + ' to learn more about interactive tables.';\n",
              "        element.innerHTML = '';\n",
              "        dataTable['output_type'] = 'display_data';\n",
              "        await google.colab.output.renderOutput(dataTable, element);\n",
              "        const docLink = document.createElement('div');\n",
              "        docLink.innerHTML = docLinkHtml;\n",
              "        element.appendChild(docLink);\n",
              "      }\n",
              "    </script>\n",
              "  </div>\n",
              "\n",
              "\n",
              "    <div id=\"df-3a55ad47-04d4-472f-a934-fd966021b319\">\n",
              "      <button class=\"colab-df-quickchart\" onclick=\"quickchart('df-3a55ad47-04d4-472f-a934-fd966021b319')\"\n",
              "                title=\"Suggest charts\"\n",
              "                style=\"display:none;\">\n",
              "\n",
              "<svg xmlns=\"http://www.w3.org/2000/svg\" height=\"24px\"viewBox=\"0 0 24 24\"\n",
              "     width=\"24px\">\n",
              "    <g>\n",
              "        <path d=\"M19 3H5c-1.1 0-2 .9-2 2v14c0 1.1.9 2 2 2h14c1.1 0 2-.9 2-2V5c0-1.1-.9-2-2-2zM9 17H7v-7h2v7zm4 0h-2V7h2v10zm4 0h-2v-4h2v4z\"/>\n",
              "    </g>\n",
              "</svg>\n",
              "      </button>\n",
              "\n",
              "<style>\n",
              "  .colab-df-quickchart {\n",
              "      --bg-color: #E8F0FE;\n",
              "      --fill-color: #1967D2;\n",
              "      --hover-bg-color: #E2EBFA;\n",
              "      --hover-fill-color: #174EA6;\n",
              "      --disabled-fill-color: #AAA;\n",
              "      --disabled-bg-color: #DDD;\n",
              "  }\n",
              "\n",
              "  [theme=dark] .colab-df-quickchart {\n",
              "      --bg-color: #3B4455;\n",
              "      --fill-color: #D2E3FC;\n",
              "      --hover-bg-color: #434B5C;\n",
              "      --hover-fill-color: #FFFFFF;\n",
              "      --disabled-bg-color: #3B4455;\n",
              "      --disabled-fill-color: #666;\n",
              "  }\n",
              "\n",
              "  .colab-df-quickchart {\n",
              "    background-color: var(--bg-color);\n",
              "    border: none;\n",
              "    border-radius: 50%;\n",
              "    cursor: pointer;\n",
              "    display: none;\n",
              "    fill: var(--fill-color);\n",
              "    height: 32px;\n",
              "    padding: 0;\n",
              "    width: 32px;\n",
              "  }\n",
              "\n",
              "  .colab-df-quickchart:hover {\n",
              "    background-color: var(--hover-bg-color);\n",
              "    box-shadow: 0 1px 2px rgba(60, 64, 67, 0.3), 0 1px 3px 1px rgba(60, 64, 67, 0.15);\n",
              "    fill: var(--button-hover-fill-color);\n",
              "  }\n",
              "\n",
              "  .colab-df-quickchart-complete:disabled,\n",
              "  .colab-df-quickchart-complete:disabled:hover {\n",
              "    background-color: var(--disabled-bg-color);\n",
              "    fill: var(--disabled-fill-color);\n",
              "    box-shadow: none;\n",
              "  }\n",
              "\n",
              "  .colab-df-spinner {\n",
              "    border: 2px solid var(--fill-color);\n",
              "    border-color: transparent;\n",
              "    border-bottom-color: var(--fill-color);\n",
              "    animation:\n",
              "      spin 1s steps(1) infinite;\n",
              "  }\n",
              "\n",
              "  @keyframes spin {\n",
              "    0% {\n",
              "      border-color: transparent;\n",
              "      border-bottom-color: var(--fill-color);\n",
              "      border-left-color: var(--fill-color);\n",
              "    }\n",
              "    20% {\n",
              "      border-color: transparent;\n",
              "      border-left-color: var(--fill-color);\n",
              "      border-top-color: var(--fill-color);\n",
              "    }\n",
              "    30% {\n",
              "      border-color: transparent;\n",
              "      border-left-color: var(--fill-color);\n",
              "      border-top-color: var(--fill-color);\n",
              "      border-right-color: var(--fill-color);\n",
              "    }\n",
              "    40% {\n",
              "      border-color: transparent;\n",
              "      border-right-color: var(--fill-color);\n",
              "      border-top-color: var(--fill-color);\n",
              "    }\n",
              "    60% {\n",
              "      border-color: transparent;\n",
              "      border-right-color: var(--fill-color);\n",
              "    }\n",
              "    80% {\n",
              "      border-color: transparent;\n",
              "      border-right-color: var(--fill-color);\n",
              "      border-bottom-color: var(--fill-color);\n",
              "    }\n",
              "    90% {\n",
              "      border-color: transparent;\n",
              "      border-bottom-color: var(--fill-color);\n",
              "    }\n",
              "  }\n",
              "</style>\n",
              "\n",
              "      <script>\n",
              "        async function quickchart(key) {\n",
              "          const quickchartButtonEl =\n",
              "            document.querySelector('#' + key + ' button');\n",
              "          quickchartButtonEl.disabled = true;  // To prevent multiple clicks.\n",
              "          quickchartButtonEl.classList.add('colab-df-spinner');\n",
              "          try {\n",
              "            const charts = await google.colab.kernel.invokeFunction(\n",
              "                'suggestCharts', [key], {});\n",
              "          } catch (error) {\n",
              "            console.error('Error during call to suggestCharts:', error);\n",
              "          }\n",
              "          quickchartButtonEl.classList.remove('colab-df-spinner');\n",
              "          quickchartButtonEl.classList.add('colab-df-quickchart-complete');\n",
              "        }\n",
              "        (() => {\n",
              "          let quickchartButtonEl =\n",
              "            document.querySelector('#df-3a55ad47-04d4-472f-a934-fd966021b319 button');\n",
              "          quickchartButtonEl.style.display =\n",
              "            google.colab.kernel.accessAllowed ? 'block' : 'none';\n",
              "        })();\n",
              "      </script>\n",
              "    </div>\n",
              "\n",
              "    </div>\n",
              "  </div>\n"
            ],
            "application/vnd.google.colaboratory.intrinsic+json": {
              "type": "dataframe",
              "summary": "{\n  \"name\": \"display(df_resultados\",\n  \"rows\": 7,\n  \"fields\": [\n    {\n      \"column\": \"Modelo\",\n      \"properties\": {\n        \"dtype\": \"string\",\n        \"num_unique_values\": 7,\n        \"samples\": [\n          \"Naive Bayes\",\n          \"SVM\",\n          \"Regress\\u00e3o Log\\u00edstica\"\n        ],\n        \"semantic_type\": \"\",\n        \"description\": \"\"\n      }\n    },\n    {\n      \"column\": \"Accuracy\",\n      \"properties\": {\n        \"dtype\": \"number\",\n        \"std\": 0.004842501101189128,\n        \"min\": 0.9867924528301887,\n        \"max\": 0.9997641509433962,\n        \"num_unique_values\": 7,\n        \"samples\": [\n          0.9997641509433962,\n          0.9990566037735849,\n          0.9905660377358491\n        ],\n        \"semantic_type\": \"\",\n        \"description\": \"\"\n      }\n    },\n    {\n      \"column\": \"Precision\",\n      \"properties\": {\n        \"dtype\": \"number\",\n        \"std\": 0.010067943557636273,\n        \"min\": 0.9742647058823529,\n        \"max\": 0.9995285242809995,\n        \"num_unique_values\": 7,\n        \"samples\": [\n          0.9995285242809995,\n          0.9981167608286252,\n          0.9814814814814815\n        ],\n        \"semantic_type\": \"\",\n        \"description\": \"\"\n      }\n    },\n    {\n      \"column\": \"Recall\",\n      \"properties\": {\n        \"dtype\": \"number\",\n        \"std\": 0.0021418962963596208,\n        \"min\": 0.994811320754717,\n        \"max\": 1.0,\n        \"num_unique_values\": 3,\n        \"samples\": [\n          1.0,\n          0.9966981132075472,\n          0.994811320754717\n        ],\n        \"semantic_type\": \"\",\n        \"description\": \"\"\n      }\n    },\n    {\n      \"column\": \"F1\",\n      \"properties\": {\n        \"dtype\": \"number\",\n        \"std\": 0.004777577914921908,\n        \"min\": 0.9869646182495344,\n        \"max\": 0.9997642065550578,\n        \"num_unique_values\": 7,\n        \"samples\": [\n          0.9997642065550578,\n          0.9990574929311969,\n          0.9906542056074766\n        ],\n        \"semantic_type\": \"\",\n        \"description\": \"\"\n      }\n    },\n    {\n      \"column\": \"AUC\",\n      \"properties\": {\n        \"dtype\": \"number\",\n        \"std\": 0.00137063097338234,\n        \"min\": 0.9964622641509434,\n        \"max\": 1.0,\n        \"num_unique_values\": 7,\n        \"samples\": [\n          0.9997641509433962,\n          0.99999977750089,\n          0.9998438056247775\n        ],\n        \"semantic_type\": \"\",\n        \"description\": \"\"\n      }\n    }\n  ]\n}"
            }
          },
          "metadata": {}
        }
      ]
    },
    {
      "cell_type": "markdown",
      "source": [
        "---\n",
        "## **Atividade 7: Usar o modelo treinado**\n",
        "- Salvar os transformadores\n",
        "- Salvar o modelo\n",
        "- Fazer predição usando dados novos\n",
        "---\n"
      ],
      "metadata": {
        "id": "BdrXHnftSUui"
      },
      "id": "BdrXHnftSUui"
    },
    {
      "cell_type": "markdown",
      "source": [
        "Naive Bayes"
      ],
      "metadata": {
        "id": "jWn_51unn13_"
      },
      "id": "jWn_51unn13_"
    },
    {
      "cell_type": "code",
      "source": [
        "# ✅ Exemplo: supondo que Random Forest foi o melhor (ajustar conforme resultados)\n",
        "modelo_final = nb\n",
        "\n",
        "# Salvar pipeline completo (inclui pré-processamentos e modelo final)\n",
        "joblib.dump(modelo_final, \"modelo_final_nb.pkl\")\n",
        "\n",
        "# Recarregar modelo para validar reutilização\n",
        "modelo_carregado = joblib.load(\"modelo_final_nb.pkl\")\n",
        "\n",
        "# Simular predição em 5 registros de teste\n",
        "amostra = X_test.iloc[:5]\n",
        "print(\"\\n🔮 Predições em novos dados simulados:\")\n",
        "print(\"Probabilidades:\", modelo_carregado.predict_proba(amostra))\n",
        "print(\"Classe prevista:\", modelo_carregado.predict(amostra))\n"
      ],
      "metadata": {
        "colab": {
          "base_uri": "https://localhost:8080/"
        },
        "id": "2aC-8x7vn5LC",
        "outputId": "8dc72eee-b41b-47b4-a185-6be7b86e9314"
      },
      "id": "2aC-8x7vn5LC",
      "execution_count": null,
      "outputs": [
        {
          "output_type": "stream",
          "name": "stdout",
          "text": [
            "\n",
            "🔮 Predições em novos dados simulados:\n",
            "Probabilidades: [[0. 1.]\n",
            " [1. 0.]\n",
            " [1. 0.]\n",
            " [1. 0.]\n",
            " [0. 1.]]\n",
            "Classe prevista: [1 0 0 0 1]\n"
          ]
        }
      ]
    },
    {
      "cell_type": "markdown",
      "source": [
        "SVM"
      ],
      "metadata": {
        "id": "mBgAESPkoY_H"
      },
      "id": "mBgAESPkoY_H"
    },
    {
      "cell_type": "code",
      "source": [
        "# ✅ Exemplo: supondo que Random Forest foi o melhor (ajustar conforme resultados)\n",
        "modelo_final = nb\n",
        "\n",
        "# Salvar pipeline completo (inclui pré-processamentos e modelo final)\n",
        "joblib.dump(modelo_final, \"modelo_final_nb.pkl\")\n",
        "\n",
        "# Recarregar modelo para validar reutilização\n",
        "modelo_carregado = joblib.load(\"modelo_final_nb.pkl\")\n",
        "\n",
        "# Simular predição em 5 registros de teste\n",
        "amostra = X_test.iloc[:5]\n",
        "print(\"\\n🔮 Predições em novos dados simulados:\")\n",
        "print(\"Probabilidades:\", modelo_carregado.predict_proba(amostra))\n",
        "print(\"Classe prevista:\", modelo_carregado.predict(amostra))\n"
      ],
      "metadata": {
        "id": "_AZWmPT5oYZj",
        "colab": {
          "base_uri": "https://localhost:8080/"
        },
        "outputId": "9763fce5-0cd6-4c83-b92c-1b072801718d"
      },
      "id": "_AZWmPT5oYZj",
      "execution_count": null,
      "outputs": [
        {
          "output_type": "stream",
          "name": "stdout",
          "text": [
            "\n",
            "🔮 Predições em novos dados simulados:\n",
            "Probabilidades: [[0. 1.]\n",
            " [1. 0.]\n",
            " [1. 0.]\n",
            " [1. 0.]\n",
            " [0. 1.]]\n",
            "Classe prevista: [1 0 0 0 1]\n"
          ]
        }
      ]
    },
    {
      "cell_type": "markdown",
      "source": [
        "Árvore de Decisão"
      ],
      "metadata": {
        "id": "qChqQlbRoenW"
      },
      "id": "qChqQlbRoenW"
    },
    {
      "cell_type": "code",
      "source": [
        "# ✅ Exemplo: supondo que Random Forest foi o melhor (ajustar conforme resultados)\n",
        "modelo_final = tree\n",
        "\n",
        "# Salvar pipeline completo (inclui pré-processamentos e modelo final)\n",
        "joblib.dump(modelo_final, \"modelo_final_nb.pkl\")\n",
        "\n",
        "# Recarregar modelo para validar reutilização\n",
        "modelo_carregado = joblib.load(\"modelo_final_nb.pkl\")\n",
        "\n",
        "# Simular predição em 5 registros de teste\n",
        "amostra = X_test.iloc[:5]\n",
        "print(\"\\n🔮 Predições em novos dados simulados:\")\n",
        "print(\"Probabilidades:\", modelo_carregado.predict_proba(amostra))\n",
        "print(\"Classe prevista:\", modelo_carregado.predict(amostra))\n"
      ],
      "metadata": {
        "id": "sS0pOseDoiKI",
        "colab": {
          "base_uri": "https://localhost:8080/"
        },
        "outputId": "a2206958-b87d-4ab3-8452-6ca508d17123"
      },
      "id": "sS0pOseDoiKI",
      "execution_count": null,
      "outputs": [
        {
          "output_type": "stream",
          "name": "stdout",
          "text": [
            "\n",
            "🔮 Predições em novos dados simulados:\n",
            "Probabilidades: [[0. 1.]\n",
            " [1. 0.]\n",
            " [1. 0.]\n",
            " [1. 0.]\n",
            " [0. 1.]]\n",
            "Classe prevista: [1 0 0 0 1]\n"
          ]
        }
      ]
    },
    {
      "cell_type": "markdown",
      "source": [
        "Rede Neural (MLP)"
      ],
      "metadata": {
        "id": "Hi9YlpCPoqlJ"
      },
      "id": "Hi9YlpCPoqlJ"
    },
    {
      "cell_type": "code",
      "source": [
        "# ✅ Exemplo: supondo que Random Forest foi o melhor (ajustar conforme resultados)\n",
        "modelo_final = mlp\n",
        "\n",
        "# Salvar pipeline completo (inclui pré-processamentos e modelo final)\n",
        "joblib.dump(modelo_final, \"modelo_final_mlp.pkl\")\n",
        "\n",
        "# Recarregar modelo para validar reutilização\n",
        "modelo_carregado = joblib.load(\"modelo_final_mlp.pkl\")\n",
        "\n",
        "# Simular predição em 5 registros de teste\n",
        "amostra = X_test.iloc[:5]\n",
        "print(\"\\n🔮 Predições em novos dados simulados:\")\n",
        "print(\"Probabilidades:\", modelo_carregado.predict_proba(amostra))\n",
        "print(\"Classe prevista:\", modelo_carregado.predict(amostra))\n"
      ],
      "metadata": {
        "colab": {
          "base_uri": "https://localhost:8080/"
        },
        "id": "-Y6rw7_0op1T",
        "outputId": "25f9aa7c-862b-4d0f-e0df-da22e3ea9b40"
      },
      "id": "-Y6rw7_0op1T",
      "execution_count": null,
      "outputs": [
        {
          "output_type": "stream",
          "name": "stdout",
          "text": [
            "\n",
            "🔮 Predições em novos dados simulados:\n",
            "Probabilidades: [[8.24430331e-07 9.99999176e-01]\n",
            " [9.99269372e-01 7.30627899e-04]\n",
            " [9.99983475e-01 1.65247660e-05]\n",
            " [9.99999910e-01 8.98081783e-08]\n",
            " [8.51169840e-08 9.99999915e-01]]\n",
            "Classe prevista: [1 0 0 0 1]\n"
          ]
        }
      ]
    },
    {
      "cell_type": "markdown",
      "source": [
        "Random Forest"
      ],
      "metadata": {
        "id": "MgG-IbOonBsQ"
      },
      "id": "MgG-IbOonBsQ"
    },
    {
      "cell_type": "code",
      "source": [
        "# ✅ Exemplo: supondo que Random Forest foi o melhor (ajustar conforme resultados)\n",
        "modelo_final = rf\n",
        "\n",
        "# Salvar pipeline completo (inclui pré-processamentos e modelo final)\n",
        "joblib.dump(modelo_final, \"modelo_final_rf.pkl\")\n",
        "\n",
        "# Recarregar modelo para validar reutilização\n",
        "modelo_carregado = joblib.load(\"modelo_final_rf.pkl\")\n",
        "\n",
        "# Simular predição em 5 registros de teste\n",
        "amostra = X_test.iloc[:5]\n",
        "print(\"\\n🔮 Predições em novos dados simulados:\")\n",
        "print(\"Probabilidades:\", modelo_carregado.predict_proba(amostra))\n",
        "print(\"Classe prevista:\", modelo_carregado.predict(amostra))\n"
      ],
      "metadata": {
        "colab": {
          "base_uri": "https://localhost:8080/"
        },
        "id": "e5YSzvyMiHv4",
        "outputId": "0fb0703b-7b58-4479-f4dc-ebf5922568c3"
      },
      "id": "e5YSzvyMiHv4",
      "execution_count": null,
      "outputs": [
        {
          "output_type": "stream",
          "name": "stdout",
          "text": [
            "\n",
            "🔮 Predições em novos dados simulados:\n",
            "Probabilidades: [[0.075 0.925]\n",
            " [0.91  0.09 ]\n",
            " [0.965 0.035]\n",
            " [1.    0.   ]\n",
            " [0.    1.   ]]\n",
            "Classe prevista: [1 0 0 0 1]\n"
          ]
        }
      ]
    },
    {
      "cell_type": "markdown",
      "source": [
        "Regressão Logística"
      ],
      "metadata": {
        "id": "LOSaXP4QozYq"
      },
      "id": "LOSaXP4QozYq"
    },
    {
      "cell_type": "code",
      "source": [
        "# ✅ Exemplo: supondo que Random Forest foi o melhor (ajustar conforme resultados)\n",
        "modelo_final = log_reg\n",
        "\n",
        "# Salvar pipeline completo (inclui pré-processamentos e modelo final)\n",
        "joblib.dump(modelo_final, \"modelo_final_log_reg.pkl\")\n",
        "\n",
        "# Recarregar modelo para validar reutilização\n",
        "modelo_carregado = joblib.load(\"modelo_final_log_reg.pkl\")\n",
        "\n",
        "# Simular predição em 5 registros de teste\n",
        "amostra = X_test.iloc[:5]\n",
        "print(\"\\n🔮 Predições em novos dados simulados:\")\n",
        "print(\"Probabilidades:\", modelo_carregado.predict_proba(amostra))\n",
        "print(\"Classe prevista:\", modelo_carregado.predict(amostra))\n"
      ],
      "metadata": {
        "colab": {
          "base_uri": "https://localhost:8080/"
        },
        "id": "sUahknWao0WU",
        "outputId": "d00def76-43a8-46e7-8c52-3f00bdd89f9d"
      },
      "id": "sUahknWao0WU",
      "execution_count": null,
      "outputs": [
        {
          "output_type": "stream",
          "name": "stdout",
          "text": [
            "\n",
            "🔮 Predições em novos dados simulados:\n",
            "Probabilidades: [[3.32600837e-06 9.99996674e-01]\n",
            " [9.98462664e-01 1.53733641e-03]\n",
            " [9.99567555e-01 4.32445114e-04]\n",
            " [9.99985824e-01 1.41757249e-05]\n",
            " [4.71354035e-06 9.99995286e-01]]\n",
            "Classe prevista: [1 0 0 0 1]\n"
          ]
        }
      ]
    },
    {
      "cell_type": "markdown",
      "source": [
        "kNN"
      ],
      "metadata": {
        "id": "9LwP_6F_pB43"
      },
      "id": "9LwP_6F_pB43"
    },
    {
      "cell_type": "code",
      "source": [
        "# ✅ Exemplo: supondo que Random Forest foi o melhor (ajustar conforme resultados)\n",
        "modelo_final = knn\n",
        "\n",
        "# Salvar pipeline completo (inclui pré-processamentos e modelo final)\n",
        "joblib.dump(modelo_final, \"modelo_final_knn.pkl\")\n",
        "\n",
        "# Recarregar modelo para validar reutilização\n",
        "modelo_carregado = joblib.load(\"modelo_final_knn.pkl\")\n",
        "\n",
        "# Simular predição em 5 registros de teste\n",
        "amostra = X_test.iloc[:5]\n",
        "print(\"\\n🔮 Predições em novos dados simulados:\")\n",
        "print(\"Probabilidades:\", modelo_carregado.predict_proba(amostra))\n",
        "print(\"Classe prevista:\", modelo_carregado.predict(amostra))\n"
      ],
      "metadata": {
        "colab": {
          "base_uri": "https://localhost:8080/"
        },
        "id": "RgEe8QGLpA-p",
        "outputId": "c0c08975-4cad-4d52-a5da-f39f2210cb3d"
      },
      "id": "RgEe8QGLpA-p",
      "execution_count": null,
      "outputs": [
        {
          "output_type": "stream",
          "name": "stdout",
          "text": [
            "\n",
            "🔮 Predições em novos dados simulados:\n",
            "Probabilidades: [[0. 1.]\n",
            " [1. 0.]\n",
            " [1. 0.]\n",
            " [1. 0.]\n",
            " [0. 1.]]\n",
            "Classe prevista: [1 0 0 0 1]\n"
          ]
        }
      ]
    },
    {
      "cell_type": "code",
      "source": [
        "import os\n",
        "\n",
        "# ================================\n",
        "# 📂 Criar pasta para salvar os modelos\n",
        "# ================================\n",
        "os.makedirs(\"modelos_salvos\", exist_ok=True)\n",
        "\n",
        "# ================================\n",
        "# 🔄 Loop para salvar e recarregar todos os modelos\n",
        "# ================================\n",
        "modelos_treinados = {\n",
        "    \"NaiveBayes\": nb,\n",
        "    \"RegressaoLogistica\": log_reg,\n",
        "    \"ArvoreDecisao\": tree,\n",
        "    \"kNN\": knn,\n",
        "    \"RandomForest\": rf,\n",
        "    \"SVM\": svm,\n",
        "    \"RedeNeuralMLP\": mlp\n",
        "}\n",
        "\n",
        "for nome, modelo in modelos_treinados.items():\n",
        "    print(f\"\\n=== 🔄 Testando reuso do modelo: {nome} ===\")\n",
        "\n",
        "    # 1. Salvar modelo em arquivo PKL\n",
        "    caminho = f\"modelos_salvos/{nome}.pkl\"\n",
        "    joblib.dump(modelo, caminho)\n",
        "    print(f\"✅ Modelo salvo em: {caminho}\")\n",
        "\n",
        "    # 2. Recarregar modelo salvo\n",
        "    modelo_carregado = joblib.load(caminho)\n",
        "\n",
        "    # 3. Testar predição em uma pequena amostra (5 registros de teste)\n",
        "    amostra = X_test.iloc[:5]\n",
        "    pred = modelo_carregado.predict(amostra)\n",
        "    proba = modelo_carregado.predict_proba(amostra)[:,1] if hasattr(modelo_carregado, \"predict_proba\") else \"N/A\"\n",
        "\n",
        "    print(\"🔮 Predições:\", pred)\n",
        "    print(\"📊 Probabilidades:\", proba)\n"
      ],
      "metadata": {
        "colab": {
          "base_uri": "https://localhost:8080/"
        },
        "id": "uQLxoccLp83m",
        "outputId": "d8bfec27-70ed-4567-9732-acb218a620cd"
      },
      "id": "uQLxoccLp83m",
      "execution_count": null,
      "outputs": [
        {
          "output_type": "stream",
          "name": "stdout",
          "text": [
            "\n",
            "=== 🔄 Testando reuso do modelo: NaiveBayes ===\n",
            "✅ Modelo salvo em: modelos_salvos/NaiveBayes.pkl\n",
            "🔮 Predições: [1 0 0 0 1]\n",
            "📊 Probabilidades: [1. 0. 0. 0. 1.]\n",
            "\n",
            "=== 🔄 Testando reuso do modelo: RegressaoLogistica ===\n",
            "✅ Modelo salvo em: modelos_salvos/RegressaoLogistica.pkl\n",
            "🔮 Predições: [1 0 0 0 1]\n",
            "📊 Probabilidades: [9.99996674e-01 1.53733641e-03 4.32445114e-04 1.41757249e-05\n",
            " 9.99995286e-01]\n",
            "\n",
            "=== 🔄 Testando reuso do modelo: ArvoreDecisao ===\n",
            "✅ Modelo salvo em: modelos_salvos/ArvoreDecisao.pkl\n",
            "🔮 Predições: [1 0 0 0 1]\n",
            "📊 Probabilidades: [1. 0. 0. 0. 1.]\n",
            "\n",
            "=== 🔄 Testando reuso do modelo: kNN ===\n",
            "✅ Modelo salvo em: modelos_salvos/kNN.pkl\n",
            "🔮 Predições: [1 0 0 0 1]\n",
            "📊 Probabilidades: [1. 0. 0. 0. 1.]\n",
            "\n",
            "=== 🔄 Testando reuso do modelo: RandomForest ===\n",
            "✅ Modelo salvo em: modelos_salvos/RandomForest.pkl\n",
            "🔮 Predições: [1 0 0 0 1]\n",
            "📊 Probabilidades: [0.925 0.09  0.035 0.    1.   ]\n",
            "\n",
            "=== 🔄 Testando reuso do modelo: SVM ===\n",
            "✅ Modelo salvo em: modelos_salvos/SVM.pkl\n",
            "🔮 Predições: [1 0 0 0 1]\n",
            "📊 Probabilidades: [1.00000000e+00 5.86865104e-05 1.47114478e-05 4.39018742e-06\n",
            " 1.00000000e+00]\n",
            "\n",
            "=== 🔄 Testando reuso do modelo: RedeNeuralMLP ===\n",
            "✅ Modelo salvo em: modelos_salvos/RedeNeuralMLP.pkl\n",
            "🔮 Predições: [1 0 0 0 1]\n",
            "📊 Probabilidades: [9.99999176e-01 7.30627899e-04 1.65247660e-05 8.98081783e-08\n",
            " 9.99999915e-01]\n"
          ]
        }
      ]
    }
  ],
  "metadata": {
    "kernelspec": {
      "display_name": "Python 3",
      "language": "python",
      "name": "python3"
    },
    "language_info": {
      "codemirror_mode": {
        "name": "ipython",
        "version": 3
      },
      "file_extension": ".py",
      "mimetype": "text/x-python",
      "name": "python",
      "nbconvert_exporter": "python",
      "pygments_lexer": "ipython3",
      "version": "3.13.3"
    },
    "colab": {
      "provenance": [],
      "include_colab_link": true
    }
  },
  "nbformat": 4,
  "nbformat_minor": 5
}