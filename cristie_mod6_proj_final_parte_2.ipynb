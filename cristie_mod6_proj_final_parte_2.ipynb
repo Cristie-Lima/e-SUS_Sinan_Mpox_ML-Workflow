{
  "cells": [
    {
      "cell_type": "markdown",
      "metadata": {
        "id": "view-in-github",
        "colab_type": "text"
      },
      "source": [
        "<a href=\"https://colab.research.google.com/github/Cristie-Lima/e-SUS_Sinan_Mpox_ML-Workflow/blob/main/cristie_mod6_proj_final_parte_2.ipynb\" target=\"_parent\"><img src=\"https://colab.research.google.com/assets/colab-badge.svg\" alt=\"Open In Colab\"/></a>"
      ]
    },
    {
      "cell_type": "markdown",
      "source": [
        "---\n",
        "---\n",
        "# **Ciência de Dados: Fundamentos de Machine Learning**\n",
        "---\n",
        "---"
      ],
      "metadata": {
        "id": "UZ4Wa0NV26dp"
      },
      "id": "UZ4Wa0NV26dp"
    },
    {
      "cell_type": "markdown",
      "metadata": {
        "id": "xdL1sKgB26dp"
      },
      "source": [
        "## **Pós-graduação em Ciência de Dados (2025/2026)**\n",
        "\n",
        "**Escola Superior de Tecnologia da Universidade Estadual do Amazonas - EST/UEA**\n",
        "    \n",
        "**Disciplina:** Fundamentos de Machine Learning\n",
        "\n",
        "**Prof. Me.:** Mario Bessa\n",
        "\n",
        "_**Repositório do Projeto Acadêmico no Github:** [e-SUS_Sinan_Mpox_ML-Workflow](https://github.com/Cristie-Lima/e-SUS_Sinan_Mpox_ML-Workflow)_\n",
        "\n",
        "_**Aluna:**_\n",
        "\n",
        "- _A. Cristiane R. Lima (Cristie)_\n",
        "\n",
        "_**Data:** 07 de setembro de 2025_\n"
      ],
      "id": "xdL1sKgB26dp"
    },
    {
      "cell_type": "markdown",
      "metadata": {
        "id": "7itil0XZ26dq"
      },
      "source": [
        "## **Projeto Final**\n",
        "Este projeto está dividido em 2 notebooks para contemplar o fluxo completo de pré-modelagem e modelagem para o dataset [e-SUS Sinan/Mpox](https://opendatasus.saude.gov.br/ne/dataset/mpox), seguindo uma estrutura padronizada, do seguinte modo:\n",
        "\n",
        "- cristie_mod6_proj_final_parte_1.ipynb: Aquisição, Análise Descritiva e Exploratória de Dados (EDA), Pré-processamento (Correção )\n",
        "\n",
        "Foi desenvolvido a partir do notebook-base apresentado e explicado ao longo as aulas teórico-práticas em laboratório do Professor.\n",
        "\n",
        "---\n",
        "\n",
        "💡 **Nota técnica:** O link para o Dicionário de Dados está disponível na seção de *Análise Descritiva*. Recomenda-se mantê-lo aberto para facilitar a interpretação das variáveis.\n",
        "\n",
        "⚠️ **Observação:** Linhas com o comentário `#debug#` indicam trechos opcionais para testes e inspeções pontuais — como a geração de arquivos `.csv` temporários para verificar o estado do DataFrame após imputações.\n",
        "\n",
        "📚 **Referência:**  \n",
        "KELLEHER, John D.; MAC NAMEE, Brian; D’ARCY, Aoife. *Fundamentals of Machine Learning for Predictive Data Analytics: Algorithms, Worked Examples, and Case Studies*. 2. ed. Cambridge, MA: MIT Press, 2020.\n"
      ],
      "id": "7itil0XZ26dq"
    },
    {
      "cell_type": "markdown",
      "source": [
        "---\n",
        "### **Contextualização do Projeto**\n",
        "\n",
        "A Mpox (Monkeypox) é uma doença infecciosa emergente que ganhou atenção internacional devido ao seu potencial de disseminação e impacto na saúde pública. No Brasil, o sistema e-SUS Sinan tem sido fundamental para o registro e monitoramento dos casos, permitindo a construção de bases de dados estruturadas para análise epidemiológica.\n",
        "\n",
        "Este projeto tem como objetivo aplicar técnicas de aprendizado de máquina para explorar, tratar e modelar os dados disponíveis, com foco na geração de insights preditivos que possam apoiar estratégias de vigilância e resposta. A abordagem adotada contempla desde o pré-processamento e imputação de dados até a construção de modelos supervisionados, seguindo diretrizes metodológicas discutidas em ambiente acadêmico.\n",
        "\n",
        "---"
      ],
      "metadata": {
        "id": "pJXC5DR226dq"
      },
      "id": "pJXC5DR226dq"
    },
    {
      "cell_type": "markdown",
      "source": [
        "**Instruções:**\n",
        "\n",
        "- Realizar os processamentos abaixo:\n",
        "\n",
        "  - No notebook `cristie_mod6_proj_final_parte_1.ipynb`:\n",
        "    -  Atividade 1: Limpar dados incorretos\n",
        "    -  Atividade 2: Imputação de valores faltantes\n",
        "  - No notebook `cristie_mod6_proj_final_parte_2.ipynb`:\n",
        "    -  Atividade 3: Codificação de variáveis categóricas (OrdinalEncoder e OneHotEncoder)\n",
        "    -  Atividade 4: Escalonamento de variáveis numéricas (StandardScaler e MinMaxScaler)\n",
        "    -  Atividade 5: Balanceamento dos dados (Tomek e Smote)\n",
        "    -  Atividade 6: Treinamento dos modelos de Machine Learning\n",
        "    -  Atividade 7: Usar o modelo treinado"
      ],
      "metadata": {
        "id": "ivP80HuL26dq"
      },
      "id": "ivP80HuL26dq"
    },
    {
      "cell_type": "markdown",
      "source": [
        "## Importa bibliotecas"
      ],
      "metadata": {
        "id": "1zpmIGn2KjEU"
      },
      "id": "1zpmIGn2KjEU"
    },
    {
      "cell_type": "code",
      "source": [
        "# !pip -q install\n",
        "\"\"\"\n",
        "!pip install pandas --upgrade\n",
        "!pip install numpy --upgrade\n",
        "\n",
        "!pip install matplotlib --upgrade\n",
        "!pip install seaborn --upgrade\n",
        "\n",
        "!pip install plotly --upgrade\n",
        "!pip install yellowbrick --upgrade\n",
        "\n",
        "!pip install sklearn --upgrade\n",
        "\"\"\""
      ],
      "metadata": {
        "id": "O5I_Hd9nHry9"
      },
      "id": "O5I_Hd9nHry9",
      "execution_count": null,
      "outputs": []
    },
    {
      "cell_type": "code",
      "source": [
        "from google.colab import drive\n",
        "import numpy as np\n",
        "import pandas as pd\n",
        "import seaborn as sns\n",
        "\n",
        "import joblib\n",
        "import matplotlib.pyplot as plt\n",
        "import warnings"
      ],
      "metadata": {
        "id": "0GU1WqNWKnSu"
      },
      "id": "0GU1WqNWKnSu",
      "execution_count": 2,
      "outputs": []
    },
    {
      "cell_type": "code",
      "source": [
        "# Para aplicar OrdinalEncoder ou OneHotEncoder em variáveis categóricas\n",
        "from sklearn.preprocessing import OrdinalEncoder, OneHotEncoder\n",
        "\n",
        "# Para aplicar StandardScaler e MinMaxScaler\n",
        "from sklearn.preprocessing import StandardScaler, MinMaxScaler\n",
        "\n",
        "# Para filtro de variância\n",
        "from sklearn.feature_selection import VarianceThreshold\n",
        "\n",
        "# Para seleção supervisionada — RFE (Recursive Feature Elimination)\n",
        "from sklearn.feature_selection import RFE\n",
        "from sklearn.linear_model import LogisticRegression\n",
        "\n",
        "# Para seleção supervisionada — Feature Importance (Random Forest)\n",
        "from sklearn.ensemble import RandomForestClassifier\n",
        "\n",
        "# Para garantir X 100% numérico e sem NaN antes de Tomek/SMOTE\n",
        "from sklearn.impute import SimpleImputer\n",
        "\n",
        "# Para aplicar TomerkLinks e SMOTE\n",
        "from imblearn.under_sampling import TomekLinks\n",
        "from imblearn.over_sampling import SMOTE\n",
        "\n"
      ],
      "metadata": {
        "id": "4ufQbevfoIwK"
      },
      "id": "4ufQbevfoIwK",
      "execution_count": 3,
      "outputs": []
    },
    {
      "cell_type": "code",
      "source": [
        "# Para divisão das bases em treinamento e teste\n",
        "from sklearn.model_selection import train_test_split"
      ],
      "metadata": {
        "id": "J3hiEWgKoNWY"
      },
      "id": "J3hiEWgKoNWY",
      "execution_count": 4,
      "outputs": []
    },
    {
      "cell_type": "markdown",
      "source": [
        "## Tarefas preliminares: Desserialização inicial"
      ],
      "metadata": {
        "id": "hp4HG5TkPkxM"
      },
      "id": "hp4HG5TkPkxM"
    },
    {
      "cell_type": "code",
      "source": [
        "# Tarefas preliminares\n",
        "#import pandas as pd\n",
        "\n",
        "url = \"https://github.com/Cristie-Lima/e-SUS_Sinan_Mpox_ML-Workflow/raw/refs/heads/main/data/mpox_2022_prep.parquet\"\n",
        "#url = \"https://raw.githubusercontent.com/Cristie-Lima/e-SUS_Sinan_Mpox_ML-Workflow/main/data/mpox_2022_prep.parquet\" outra opção válida\n",
        "\n",
        "# Carregar o parquet diretamente do GitHub\n",
        "df_prep = pd.read_parquet(url, engine=\"pyarrow\")  # ou engine=\"fastparquet\"\n",
        "\n",
        "print(\"✅ df_prep carregado com sucesso:\", df_prep.shape)\n",
        "df_prep.head()\n"
      ],
      "metadata": {
        "colab": {
          "base_uri": "https://localhost:8080/",
          "height": 273
        },
        "id": "jNuITvy0qI2f",
        "outputId": "28dff70d-d970-4fc8-8e5e-c904d5f5261d"
      },
      "id": "jNuITvy0qI2f",
      "execution_count": 5,
      "outputs": [
        {
          "output_type": "stream",
          "name": "stdout",
          "text": [
            "✅ df_prep carregado com sucesso: (10920, 114)\n"
          ]
        },
        {
          "output_type": "execute_result",
          "data": {
            "text/plain": [
              "   CLASSI_FIN SG_UF SG_UF_NOT  ID_MUNICIP DT_NOTIFIC  CO_UF_RES  ID_MN_RESI  \\\n",
              "0           1    PB        PB      250750 2022-12-08         25      250750   \n",
              "1           1    PR        PR      410690 2022-08-09         41      410690   \n",
              "2           1    PR        PR      410690 2022-08-08         41      410690   \n",
              "3           1    ES        PR      410690 2022-08-08         32      320520   \n",
              "4           1    PR        PR      410690 2022-08-05         41      410690   \n",
              "\n",
              "   NU_IDADE_N  CS_SEXO  COMP_SEXUAL  ...  CLADO_missing  DOENCA_TRA.1_missing  \\\n",
              "0          34        1            1  ...              0                     0   \n",
              "1          36        1            1  ...              0                     0   \n",
              "2          32        1            1  ...              0                     0   \n",
              "3          29        1            1  ...              0                     0   \n",
              "4          47        2            1  ...              0                     0   \n",
              "\n",
              "   NU_IDADE_N_missing CONTAG_CD4_missing DT_NOTIFIC_missing  \\\n",
              "0                   0                  0                  0   \n",
              "1                   0                  1                  0   \n",
              "2                   0                  1                  0   \n",
              "3                   0                  1                  0   \n",
              "4                   0                  1                  0   \n",
              "\n",
              "   DT_SIN_PRI_missing  DT_COLETA_missing  DATA_VACINA_missing  \\\n",
              "0                   0                  0                    1   \n",
              "1                   0                  0                    1   \n",
              "2                   0                  0                    1   \n",
              "3                   0                  0                    1   \n",
              "4                   0                  1                    1   \n",
              "\n",
              "   DT_INTERNA_missing  DT_EVOLUCAO_missing  \n",
              "0                   1                    0  \n",
              "1                   1                    0  \n",
              "2                   1                    0  \n",
              "3                   1                    0  \n",
              "4                   1                    0  \n",
              "\n",
              "[5 rows x 114 columns]"
            ],
            "text/html": [
              "\n",
              "  <div id=\"df-f7b2aa61-688e-403e-afde-f553266f4de0\" class=\"colab-df-container\">\n",
              "    <div>\n",
              "<style scoped>\n",
              "    .dataframe tbody tr th:only-of-type {\n",
              "        vertical-align: middle;\n",
              "    }\n",
              "\n",
              "    .dataframe tbody tr th {\n",
              "        vertical-align: top;\n",
              "    }\n",
              "\n",
              "    .dataframe thead th {\n",
              "        text-align: right;\n",
              "    }\n",
              "</style>\n",
              "<table border=\"1\" class=\"dataframe\">\n",
              "  <thead>\n",
              "    <tr style=\"text-align: right;\">\n",
              "      <th></th>\n",
              "      <th>CLASSI_FIN</th>\n",
              "      <th>SG_UF</th>\n",
              "      <th>SG_UF_NOT</th>\n",
              "      <th>ID_MUNICIP</th>\n",
              "      <th>DT_NOTIFIC</th>\n",
              "      <th>CO_UF_RES</th>\n",
              "      <th>ID_MN_RESI</th>\n",
              "      <th>NU_IDADE_N</th>\n",
              "      <th>CS_SEXO</th>\n",
              "      <th>COMP_SEXUAL</th>\n",
              "      <th>...</th>\n",
              "      <th>CLADO_missing</th>\n",
              "      <th>DOENCA_TRA.1_missing</th>\n",
              "      <th>NU_IDADE_N_missing</th>\n",
              "      <th>CONTAG_CD4_missing</th>\n",
              "      <th>DT_NOTIFIC_missing</th>\n",
              "      <th>DT_SIN_PRI_missing</th>\n",
              "      <th>DT_COLETA_missing</th>\n",
              "      <th>DATA_VACINA_missing</th>\n",
              "      <th>DT_INTERNA_missing</th>\n",
              "      <th>DT_EVOLUCAO_missing</th>\n",
              "    </tr>\n",
              "  </thead>\n",
              "  <tbody>\n",
              "    <tr>\n",
              "      <th>0</th>\n",
              "      <td>1</td>\n",
              "      <td>PB</td>\n",
              "      <td>PB</td>\n",
              "      <td>250750</td>\n",
              "      <td>2022-12-08</td>\n",
              "      <td>25</td>\n",
              "      <td>250750</td>\n",
              "      <td>34</td>\n",
              "      <td>1</td>\n",
              "      <td>1</td>\n",
              "      <td>...</td>\n",
              "      <td>0</td>\n",
              "      <td>0</td>\n",
              "      <td>0</td>\n",
              "      <td>0</td>\n",
              "      <td>0</td>\n",
              "      <td>0</td>\n",
              "      <td>0</td>\n",
              "      <td>1</td>\n",
              "      <td>1</td>\n",
              "      <td>0</td>\n",
              "    </tr>\n",
              "    <tr>\n",
              "      <th>1</th>\n",
              "      <td>1</td>\n",
              "      <td>PR</td>\n",
              "      <td>PR</td>\n",
              "      <td>410690</td>\n",
              "      <td>2022-08-09</td>\n",
              "      <td>41</td>\n",
              "      <td>410690</td>\n",
              "      <td>36</td>\n",
              "      <td>1</td>\n",
              "      <td>1</td>\n",
              "      <td>...</td>\n",
              "      <td>0</td>\n",
              "      <td>0</td>\n",
              "      <td>0</td>\n",
              "      <td>1</td>\n",
              "      <td>0</td>\n",
              "      <td>0</td>\n",
              "      <td>0</td>\n",
              "      <td>1</td>\n",
              "      <td>1</td>\n",
              "      <td>0</td>\n",
              "    </tr>\n",
              "    <tr>\n",
              "      <th>2</th>\n",
              "      <td>1</td>\n",
              "      <td>PR</td>\n",
              "      <td>PR</td>\n",
              "      <td>410690</td>\n",
              "      <td>2022-08-08</td>\n",
              "      <td>41</td>\n",
              "      <td>410690</td>\n",
              "      <td>32</td>\n",
              "      <td>1</td>\n",
              "      <td>1</td>\n",
              "      <td>...</td>\n",
              "      <td>0</td>\n",
              "      <td>0</td>\n",
              "      <td>0</td>\n",
              "      <td>1</td>\n",
              "      <td>0</td>\n",
              "      <td>0</td>\n",
              "      <td>0</td>\n",
              "      <td>1</td>\n",
              "      <td>1</td>\n",
              "      <td>0</td>\n",
              "    </tr>\n",
              "    <tr>\n",
              "      <th>3</th>\n",
              "      <td>1</td>\n",
              "      <td>ES</td>\n",
              "      <td>PR</td>\n",
              "      <td>410690</td>\n",
              "      <td>2022-08-08</td>\n",
              "      <td>32</td>\n",
              "      <td>320520</td>\n",
              "      <td>29</td>\n",
              "      <td>1</td>\n",
              "      <td>1</td>\n",
              "      <td>...</td>\n",
              "      <td>0</td>\n",
              "      <td>0</td>\n",
              "      <td>0</td>\n",
              "      <td>1</td>\n",
              "      <td>0</td>\n",
              "      <td>0</td>\n",
              "      <td>0</td>\n",
              "      <td>1</td>\n",
              "      <td>1</td>\n",
              "      <td>0</td>\n",
              "    </tr>\n",
              "    <tr>\n",
              "      <th>4</th>\n",
              "      <td>1</td>\n",
              "      <td>PR</td>\n",
              "      <td>PR</td>\n",
              "      <td>410690</td>\n",
              "      <td>2022-08-05</td>\n",
              "      <td>41</td>\n",
              "      <td>410690</td>\n",
              "      <td>47</td>\n",
              "      <td>2</td>\n",
              "      <td>1</td>\n",
              "      <td>...</td>\n",
              "      <td>0</td>\n",
              "      <td>0</td>\n",
              "      <td>0</td>\n",
              "      <td>1</td>\n",
              "      <td>0</td>\n",
              "      <td>0</td>\n",
              "      <td>1</td>\n",
              "      <td>1</td>\n",
              "      <td>1</td>\n",
              "      <td>0</td>\n",
              "    </tr>\n",
              "  </tbody>\n",
              "</table>\n",
              "<p>5 rows × 114 columns</p>\n",
              "</div>\n",
              "    <div class=\"colab-df-buttons\">\n",
              "\n",
              "  <div class=\"colab-df-container\">\n",
              "    <button class=\"colab-df-convert\" onclick=\"convertToInteractive('df-f7b2aa61-688e-403e-afde-f553266f4de0')\"\n",
              "            title=\"Convert this dataframe to an interactive table.\"\n",
              "            style=\"display:none;\">\n",
              "\n",
              "  <svg xmlns=\"http://www.w3.org/2000/svg\" height=\"24px\" viewBox=\"0 -960 960 960\">\n",
              "    <path d=\"M120-120v-720h720v720H120Zm60-500h600v-160H180v160Zm220 220h160v-160H400v160Zm0 220h160v-160H400v160ZM180-400h160v-160H180v160Zm440 0h160v-160H620v160ZM180-180h160v-160H180v160Zm440 0h160v-160H620v160Z\"/>\n",
              "  </svg>\n",
              "    </button>\n",
              "\n",
              "  <style>\n",
              "    .colab-df-container {\n",
              "      display:flex;\n",
              "      gap: 12px;\n",
              "    }\n",
              "\n",
              "    .colab-df-convert {\n",
              "      background-color: #E8F0FE;\n",
              "      border: none;\n",
              "      border-radius: 50%;\n",
              "      cursor: pointer;\n",
              "      display: none;\n",
              "      fill: #1967D2;\n",
              "      height: 32px;\n",
              "      padding: 0 0 0 0;\n",
              "      width: 32px;\n",
              "    }\n",
              "\n",
              "    .colab-df-convert:hover {\n",
              "      background-color: #E2EBFA;\n",
              "      box-shadow: 0px 1px 2px rgba(60, 64, 67, 0.3), 0px 1px 3px 1px rgba(60, 64, 67, 0.15);\n",
              "      fill: #174EA6;\n",
              "    }\n",
              "\n",
              "    .colab-df-buttons div {\n",
              "      margin-bottom: 4px;\n",
              "    }\n",
              "\n",
              "    [theme=dark] .colab-df-convert {\n",
              "      background-color: #3B4455;\n",
              "      fill: #D2E3FC;\n",
              "    }\n",
              "\n",
              "    [theme=dark] .colab-df-convert:hover {\n",
              "      background-color: #434B5C;\n",
              "      box-shadow: 0px 1px 3px 1px rgba(0, 0, 0, 0.15);\n",
              "      filter: drop-shadow(0px 1px 2px rgba(0, 0, 0, 0.3));\n",
              "      fill: #FFFFFF;\n",
              "    }\n",
              "  </style>\n",
              "\n",
              "    <script>\n",
              "      const buttonEl =\n",
              "        document.querySelector('#df-f7b2aa61-688e-403e-afde-f553266f4de0 button.colab-df-convert');\n",
              "      buttonEl.style.display =\n",
              "        google.colab.kernel.accessAllowed ? 'block' : 'none';\n",
              "\n",
              "      async function convertToInteractive(key) {\n",
              "        const element = document.querySelector('#df-f7b2aa61-688e-403e-afde-f553266f4de0');\n",
              "        const dataTable =\n",
              "          await google.colab.kernel.invokeFunction('convertToInteractive',\n",
              "                                                    [key], {});\n",
              "        if (!dataTable) return;\n",
              "\n",
              "        const docLinkHtml = 'Like what you see? Visit the ' +\n",
              "          '<a target=\"_blank\" href=https://colab.research.google.com/notebooks/data_table.ipynb>data table notebook</a>'\n",
              "          + ' to learn more about interactive tables.';\n",
              "        element.innerHTML = '';\n",
              "        dataTable['output_type'] = 'display_data';\n",
              "        await google.colab.output.renderOutput(dataTable, element);\n",
              "        const docLink = document.createElement('div');\n",
              "        docLink.innerHTML = docLinkHtml;\n",
              "        element.appendChild(docLink);\n",
              "      }\n",
              "    </script>\n",
              "  </div>\n",
              "\n",
              "\n",
              "    <div id=\"df-9eb1a000-d66d-4d4f-8638-45cf488e6c18\">\n",
              "      <button class=\"colab-df-quickchart\" onclick=\"quickchart('df-9eb1a000-d66d-4d4f-8638-45cf488e6c18')\"\n",
              "                title=\"Suggest charts\"\n",
              "                style=\"display:none;\">\n",
              "\n",
              "<svg xmlns=\"http://www.w3.org/2000/svg\" height=\"24px\"viewBox=\"0 0 24 24\"\n",
              "     width=\"24px\">\n",
              "    <g>\n",
              "        <path d=\"M19 3H5c-1.1 0-2 .9-2 2v14c0 1.1.9 2 2 2h14c1.1 0 2-.9 2-2V5c0-1.1-.9-2-2-2zM9 17H7v-7h2v7zm4 0h-2V7h2v10zm4 0h-2v-4h2v4z\"/>\n",
              "    </g>\n",
              "</svg>\n",
              "      </button>\n",
              "\n",
              "<style>\n",
              "  .colab-df-quickchart {\n",
              "      --bg-color: #E8F0FE;\n",
              "      --fill-color: #1967D2;\n",
              "      --hover-bg-color: #E2EBFA;\n",
              "      --hover-fill-color: #174EA6;\n",
              "      --disabled-fill-color: #AAA;\n",
              "      --disabled-bg-color: #DDD;\n",
              "  }\n",
              "\n",
              "  [theme=dark] .colab-df-quickchart {\n",
              "      --bg-color: #3B4455;\n",
              "      --fill-color: #D2E3FC;\n",
              "      --hover-bg-color: #434B5C;\n",
              "      --hover-fill-color: #FFFFFF;\n",
              "      --disabled-bg-color: #3B4455;\n",
              "      --disabled-fill-color: #666;\n",
              "  }\n",
              "\n",
              "  .colab-df-quickchart {\n",
              "    background-color: var(--bg-color);\n",
              "    border: none;\n",
              "    border-radius: 50%;\n",
              "    cursor: pointer;\n",
              "    display: none;\n",
              "    fill: var(--fill-color);\n",
              "    height: 32px;\n",
              "    padding: 0;\n",
              "    width: 32px;\n",
              "  }\n",
              "\n",
              "  .colab-df-quickchart:hover {\n",
              "    background-color: var(--hover-bg-color);\n",
              "    box-shadow: 0 1px 2px rgba(60, 64, 67, 0.3), 0 1px 3px 1px rgba(60, 64, 67, 0.15);\n",
              "    fill: var(--button-hover-fill-color);\n",
              "  }\n",
              "\n",
              "  .colab-df-quickchart-complete:disabled,\n",
              "  .colab-df-quickchart-complete:disabled:hover {\n",
              "    background-color: var(--disabled-bg-color);\n",
              "    fill: var(--disabled-fill-color);\n",
              "    box-shadow: none;\n",
              "  }\n",
              "\n",
              "  .colab-df-spinner {\n",
              "    border: 2px solid var(--fill-color);\n",
              "    border-color: transparent;\n",
              "    border-bottom-color: var(--fill-color);\n",
              "    animation:\n",
              "      spin 1s steps(1) infinite;\n",
              "  }\n",
              "\n",
              "  @keyframes spin {\n",
              "    0% {\n",
              "      border-color: transparent;\n",
              "      border-bottom-color: var(--fill-color);\n",
              "      border-left-color: var(--fill-color);\n",
              "    }\n",
              "    20% {\n",
              "      border-color: transparent;\n",
              "      border-left-color: var(--fill-color);\n",
              "      border-top-color: var(--fill-color);\n",
              "    }\n",
              "    30% {\n",
              "      border-color: transparent;\n",
              "      border-left-color: var(--fill-color);\n",
              "      border-top-color: var(--fill-color);\n",
              "      border-right-color: var(--fill-color);\n",
              "    }\n",
              "    40% {\n",
              "      border-color: transparent;\n",
              "      border-right-color: var(--fill-color);\n",
              "      border-top-color: var(--fill-color);\n",
              "    }\n",
              "    60% {\n",
              "      border-color: transparent;\n",
              "      border-right-color: var(--fill-color);\n",
              "    }\n",
              "    80% {\n",
              "      border-color: transparent;\n",
              "      border-right-color: var(--fill-color);\n",
              "      border-bottom-color: var(--fill-color);\n",
              "    }\n",
              "    90% {\n",
              "      border-color: transparent;\n",
              "      border-bottom-color: var(--fill-color);\n",
              "    }\n",
              "  }\n",
              "</style>\n",
              "\n",
              "      <script>\n",
              "        async function quickchart(key) {\n",
              "          const quickchartButtonEl =\n",
              "            document.querySelector('#' + key + ' button');\n",
              "          quickchartButtonEl.disabled = true;  // To prevent multiple clicks.\n",
              "          quickchartButtonEl.classList.add('colab-df-spinner');\n",
              "          try {\n",
              "            const charts = await google.colab.kernel.invokeFunction(\n",
              "                'suggestCharts', [key], {});\n",
              "          } catch (error) {\n",
              "            console.error('Error during call to suggestCharts:', error);\n",
              "          }\n",
              "          quickchartButtonEl.classList.remove('colab-df-spinner');\n",
              "          quickchartButtonEl.classList.add('colab-df-quickchart-complete');\n",
              "        }\n",
              "        (() => {\n",
              "          let quickchartButtonEl =\n",
              "            document.querySelector('#df-9eb1a000-d66d-4d4f-8638-45cf488e6c18 button');\n",
              "          quickchartButtonEl.style.display =\n",
              "            google.colab.kernel.accessAllowed ? 'block' : 'none';\n",
              "        })();\n",
              "      </script>\n",
              "    </div>\n",
              "\n",
              "    </div>\n",
              "  </div>\n"
            ],
            "application/vnd.google.colaboratory.intrinsic+json": {
              "type": "dataframe",
              "variable_name": "df_prep"
            }
          },
          "metadata": {},
          "execution_count": 5
        }
      ]
    },
    {
      "cell_type": "markdown",
      "source": [
        "## 📌 Nota da seção – Desserialização dos dados\n",
        "\n",
        "- O dataset pré-processado (`df_prep`) foi desserializado a partir do arquivo `.parquet`.  \n",
        "- Esta etapa marca o início da **Parte 2 (Engenharia de Atributos & Modelagem)**.  \n",
        "- Próximas etapas: **codificação das variáveis categóricas** e **escalonamento das variáveis numéricas**."
      ],
      "metadata": {
        "id": "cnJREKnUP0VN"
      },
      "id": "cnJREKnUP0VN"
    },
    {
      "cell_type": "markdown",
      "source": [
        "---\n",
        "\n",
        "## 🛠️ Engenharia de Atributos — Criação de novas variáveis a partir das existentes  \n",
        "\n",
        "Nesta etapa, o dataset é enriquecido com variáveis derivadas, combinando atributos originais para aumentar a expressividade do modelo.  \n",
        "\n",
        "**Resumo das ações implementadas:**  \n",
        "1. **Explosão de `SINTOMA` → dummies** (`sx_*`), preservando todos os sintomas (min_freq=None).  \n",
        "2. **Deltas de datas**: cálculo de intervalos temporais (notificação, evolução, internação, duração do caso).  \n",
        "3. **Agregados clínicos**: indicadores de ISTs, imunossupressão e vacinação.  \n",
        "4. **Bins demográficos / Região**: faixas etárias e classificação por região (IBGE).  \n",
        "5. **Interações**: combinações pragmáticas, como imuno × sintomas e centralização de `delay_notif` por região.  \n",
        "6. **Targets**: derivação das variáveis-alvo binárias (`target_hosp`, `target_obito_any`, `target_obito_mpx`).  \n",
        "7. **Auditorias**: checagem de sanidade, NAs e relevância clínica das novas variáveis.  \n",
        "\n",
        "---\n"
      ],
      "metadata": {
        "id": "tdoF2Scm6iWF"
      },
      "id": "tdoF2Scm6iWF"
    },
    {
      "cell_type": "markdown",
      "source": [
        "### Engenharia de Atributos — Funções"
      ],
      "metadata": {
        "id": "BprpIlrrDm5y"
      },
      "id": "BprpIlrrDm5y"
    },
    {
      "cell_type": "code",
      "source": [
        "# ==========================================\n",
        "# ⚙️ ENGENHARIA DE ATRIBUTOS — FUNÇÕES E EXECUÇÃO\n",
        "# ==========================================\n",
        "#import pandas as pd\n",
        "#import numpy as np\n",
        "\n",
        "# ------------------------------------------------------------\n",
        "# 1) Explosão de sintomas em dummies (com min_freq opcional)\n",
        "# ------------------------------------------------------------\n",
        "def explode_sintoma_dummies_simple(\n",
        "    df: pd.DataFrame,\n",
        "    col: str = \"SINTOMA\",\n",
        "    prefix: str = \"sx_\",\n",
        "    min_freq: int | None = None\n",
        ") -> tuple[pd.DataFrame, list]:\n",
        "    \"\"\"\n",
        "    Transforma a coluna de sintomas (strings separadas por vírgula) em colunas dummies (0/1).\n",
        "\n",
        "    Parâmetros\n",
        "    ----------\n",
        "    df : DataFrame\n",
        "        Base de entrada.\n",
        "    col : str\n",
        "        Nome da coluna que contém a lista de sintomas (ex.: \"Febre, Cefaleia\").\n",
        "    prefix : str\n",
        "        Prefixo a ser usado nas colunas dummies geradas (ex.: \"sx_\").\n",
        "    min_freq : int | None\n",
        "        - None → mantém TODOS os sintomas (recomendado para saúde; preserva informação).\n",
        "        - inteiro ≥1 → mantém apenas sintomas com frequência absoluta ≥ min_freq\n",
        "                       (útil futuramente para reduzir esparsidade).\n",
        "\n",
        "    Retorno\n",
        "    -------\n",
        "    df_out : DataFrame\n",
        "        DataFrame original + colunas dummies para cada sintoma selecionado.\n",
        "    sintomas_cols : list[str]\n",
        "        Lista com os nomes das colunas de sintomas criadas.\n",
        "    \"\"\"\n",
        "    df_out = df.copy()\n",
        "\n",
        "    if col not in df_out.columns:\n",
        "        return df_out, []\n",
        "\n",
        "    # Lista de sintomas por linha (minúsculas, trim de espaços; ignora strings vazias)\n",
        "    s_clean = df_out[col].fillna(\"\").astype(str)\n",
        "    listas = s_clean.str.split(\",\").apply(lambda xs: [t.strip().lower() for t in xs if t.strip() != \"\"])\n",
        "\n",
        "    # Frequência dos termos\n",
        "    freq = pd.Series([t for sub in listas for t in sub]).value_counts()\n",
        "\n",
        "    # Seleção por min_freq (se None → todos)\n",
        "    if min_freq is None:\n",
        "        termos = freq.index\n",
        "    else:\n",
        "        termos = freq[freq >= int(min_freq)].index\n",
        "\n",
        "    # Criação de dummies (0/1) linha a linha\n",
        "    for termo in termos:\n",
        "        c = f\"{prefix}{termo.replace(' ', '_')}\"\n",
        "        df_out[c] = listas.apply(lambda L: int(termo in L)).astype(\"Int64\")\n",
        "\n",
        "    sintomas_cols = [c for c in df_out.columns if c.startswith(prefix)]\n",
        "    return df_out, sintomas_cols\n",
        "\n",
        "\n",
        "# ------------------------------------------------------------\n",
        "# 2) Features derivadas de datas (sem imputar datas)\n",
        "# ------------------------------------------------------------\n",
        "def add_date_features(\n",
        "    df: pd.DataFrame,\n",
        "    col_notif: str = \"DT_NOTIFIC\",\n",
        "    col_inicio: str = \"DT_SIN_PRI\",\n",
        "    col_evol: str = \"DT_EVOLUCAO\",\n",
        "    col_intern: str = \"DT_INTERNA\",\n",
        "    create_missing_flags: bool = True\n",
        ") -> pd.DataFrame:\n",
        "    \"\"\"\n",
        "    Cria deltas de tempo (em dias) a partir de colunas de datas — sem imputação.\n",
        "    Se a linha não tiver ambas as datas válidas, o delta fica NaN.\n",
        "\n",
        "    Parâmetros\n",
        "    ----------\n",
        "    df : DataFrame\n",
        "        Base de entrada (datas podem estar em string; serão convertidas durante o cálculo).\n",
        "    col_notif, col_inicio, col_evol, col_intern : str\n",
        "        Nomes das colunas de datas conforme o dicionário.\n",
        "    create_missing_flags : bool\n",
        "        Se True, mantém/gera indicadores *_missing (0/1) para cada coluna de data original.\n",
        "\n",
        "    Retorno\n",
        "    -------\n",
        "    DataFrame com as colunas:\n",
        "      - delay_notif        = DT_NOTIFIC - DT_SIN_PRI\n",
        "      - tempo_internacao   = DT_EVOLUCAO - DT_INTERNA\n",
        "      - duracao_caso       = DT_EVOLUCAO - DT_SIN_PRI\n",
        "    \"\"\"\n",
        "    out = df.copy()\n",
        "\n",
        "    # Flags de ausência (se existirem as colunas)\n",
        "    def _flag(col):\n",
        "        if create_missing_flags and col in out.columns:\n",
        "            out[f\"{col}_missing\"] = out[col].isna().astype(\"Int64\")\n",
        "\n",
        "    for c in [col_notif, col_inicio, col_evol, col_intern]:\n",
        "        _flag(c)\n",
        "\n",
        "    # Converte sob demanda apenas para calcular deltas\n",
        "    to_dt = lambda s: pd.to_datetime(s, errors=\"coerce\", dayfirst=True)\n",
        "\n",
        "    if {col_notif, col_inicio}.issubset(out.columns):\n",
        "        out[\"delay_notif\"] = (to_dt(out[col_notif]) - to_dt(out[col_inicio])).dt.days\n",
        "\n",
        "    if {col_evol, col_intern}.issubset(out.columns):\n",
        "        out[\"tempo_internacao\"] = (to_dt(out[col_evol]) - to_dt(out[col_intern])).dt.days\n",
        "\n",
        "    if {col_evol, col_inicio}.issubset(out.columns):\n",
        "        out[\"duracao_caso\"] = (to_dt(out[col_evol]) - to_dt(out[col_inicio])).dt.days\n",
        "\n",
        "    return out\n",
        "\n",
        "\n",
        "# ------------------------------------------------------------\n",
        "# 3) Agregados clínicos (ISTs, imunossupressão, vacinação)\n",
        "# ------------------------------------------------------------\n",
        "def add_clinical_aggregates(\n",
        "    df: pd.DataFrame,\n",
        "    ist_cols: list | None = None,\n",
        "    col_imuno: str = \"PAC_IMUNOSSUP\",\n",
        "    col_vacina: str = \"VACINA\"\n",
        ") -> pd.DataFrame:\n",
        "    \"\"\"\n",
        "    Cria agregações clínicas:\n",
        "\n",
        "    - ist_any   : 1 se pelo menos uma IST específica = 1; 0 caso contrário (ignora NaN ao somar/max).\n",
        "    - ist_count : soma das ISTs específicas (contagem).\n",
        "    - imune_risco:\n",
        "        PAC_IMUNOSSUP (1,2,3) → 1; 4→0; outros (9/NaN) → NA.\n",
        "    - vacina_qualquer:\n",
        "        VACINA in {1,2,3} → 1; VACINA==4 → 0; caso contrário → NA.\n",
        "\n",
        "    Parâmetros\n",
        "    ----------\n",
        "    df : DataFrame\n",
        "    ist_cols : list | None\n",
        "        Lista explícita de colunas de ISTs. Se None, usa o conjunto padrão do mpox_2022.\n",
        "    col_imuno : str\n",
        "        Nome da coluna de imunossupressão.\n",
        "    col_vacina : str\n",
        "        Nome da coluna de vacinação.\n",
        "\n",
        "    Retorno\n",
        "    -------\n",
        "    DataFrame com novas colunas: ist_any, ist_count, imune_risco, vacina_qualquer.\n",
        "    \"\"\"\n",
        "    out = df.copy()\n",
        "\n",
        "    if ist_cols is None:\n",
        "        ist_cols = [\n",
        "            \"GONORREIA\",\"CLAMIDEA\",\"SIFILIS\",\"HERPES_GENITAL\",\"CANCRO_MOLE\",\n",
        "            \"TRICHOMOMAS_VAGINALS\",\"LINFOGRANULOMA\",\"MYCOPLASMA_GENITAL\",\n",
        "            \"HPV\",\"DIP\",\"DONOVANOSE\",\"HTLV\",\"VERRUGA_GENITAL\"\n",
        "        ]\n",
        "    ist_cols = [c for c in ist_cols if c in out.columns]\n",
        "\n",
        "    if ist_cols:\n",
        "        out[\"ist_any\"] = out[ist_cols].max(axis=1, skipna=True).astype(\"Int64\")\n",
        "        out[\"ist_count\"] = out[ist_cols].sum(axis=1, skipna=True).astype(\"Int64\")\n",
        "\n",
        "    if col_imuno in out.columns:\n",
        "        m = out[col_imuno].map({1:1, 2:1, 3:1, 4:0})\n",
        "        out[\"imune_risco\"] = m.astype(\"Int64\")\n",
        "\n",
        "    if col_vacina in out.columns:\n",
        "        v = pd.Series(pd.NA, index=out.index, dtype=\"Int64\")\n",
        "        v = v.mask(out[col_vacina].isin([1,2,3])==True, 1)\n",
        "        v = v.mask(out[col_vacina].eq(4)==True, 0)\n",
        "        out[\"vacina_qualquer\"] = v\n",
        "\n",
        "    return out\n",
        "\n",
        "\n",
        "# ------------------------------------------------------------\n",
        "# 4) Bins demográficos / Região (UF→região)\n",
        "# ------------------------------------------------------------\n",
        "def add_demo_bins(\n",
        "    df: pd.DataFrame,\n",
        "    col_idade: str = \"NU_IDADE_N\",\n",
        "    col_uf: str = \"SG_UF\"\n",
        ") -> pd.DataFrame:\n",
        "    \"\"\"\n",
        "    Cria faixas etárias e região (a partir de SG_UF).\n",
        "    - faixa_etaria: categorias textuais (0–9, 10–17, 18–29, 30–39, 40–49, 50–59, 60+).\n",
        "      (Mantém NaN quando NU_IDADE_N ausente).\n",
        "    - regiao: Norte, Nordeste, Centro-Oeste, Sudeste, Sul (NaN se SG_UF ausente ou desconhecido).\n",
        "\n",
        "    Parâmetros\n",
        "    ----------\n",
        "    df : DataFrame\n",
        "    col_idade : str\n",
        "        Nome da coluna de idade (anos).\n",
        "    col_uf : str\n",
        "        Nome da coluna de UF (sigla).\n",
        "\n",
        "    Retorno\n",
        "    -------\n",
        "    DataFrame com 'faixa_etaria' (category) e 'regiao' (category).\n",
        "    \"\"\"\n",
        "    out = df.copy()\n",
        "\n",
        "    # Faixas etárias (ajustáveis)\n",
        "    if col_idade in out.columns:\n",
        "        bins = [-np.inf, 9, 17, 29, 39, 49, 59, np.inf]\n",
        "        labels = [\"0-9\",\"10-17\",\"18-29\",\"30-39\",\"40-49\",\"50-59\",\"60+\"]\n",
        "        out[\"faixa_etaria\"] = pd.cut(out[col_idade], bins=bins, labels=labels).astype(\"category\")\n",
        "\n",
        "    # Mapeamento UF → Região (IBGE)\n",
        "    uf_regiao = {\n",
        "        # Norte\n",
        "        \"AC\":\"Norte\",\"AP\":\"Norte\",\"AM\":\"Norte\",\"PA\":\"Norte\",\"RO\":\"Norte\",\"RR\":\"Norte\",\"TO\":\"Norte\",\n",
        "        # Nordeste\n",
        "        \"AL\":\"Nordeste\",\"BA\":\"Nordeste\",\"CE\":\"Nordeste\",\"MA\":\"Nordeste\",\"PB\":\"Nordeste\",\n",
        "        \"PE\":\"Nordeste\",\"PI\":\"Nordeste\",\"RN\":\"Nordeste\",\"SE\":\"Nordeste\",\n",
        "        # Centro-Oeste\n",
        "        \"DF\":\"Centro-Oeste\",\"GO\":\"Centro-Oeste\",\"MS\":\"Centro-Oeste\",\"MT\":\"Centro-Oeste\",\n",
        "        # Sudeste\n",
        "        \"ES\":\"Sudeste\",\"MG\":\"Sudeste\",\"RJ\":\"Sudeste\",\"SP\":\"Sudeste\",\n",
        "        # Sul\n",
        "        \"PR\":\"Sul\",\"RS\":\"Sul\",\"SC\":\"Sul\",\n",
        "    }\n",
        "    if col_uf in out.columns:\n",
        "        out[\"regiao\"] = out[col_uf].map(uf_regiao).astype(\"category\")\n",
        "\n",
        "    return out\n",
        "\n",
        "\n",
        "# ------------------------------------------------------------\n",
        "# 5) Interações (exemplos pragmáticos)\n",
        "# ------------------------------------------------------------\n",
        "def add_interactions(\n",
        "    df: pd.DataFrame,\n",
        "    sintomas_prefix: str = \"sx_\",\n",
        "    center_delay_by: str = \"regiao\"\n",
        ") -> pd.DataFrame:\n",
        "    \"\"\"\n",
        "    Cria interações/transformações simples:\n",
        "\n",
        "    - sintoma_count: soma dos dummies de sintomas (se existirem colunas com prefixo sintomas_prefix).\n",
        "    - imune_risco_x_sintomas: produto de imune_risco * sintoma_count (se ambas existirem).\n",
        "    - delay_notif_centered_regiao: delay_notif centrado pela média da região (se 'regiao' existir).\n",
        "\n",
        "    Parâmetros\n",
        "    ----------\n",
        "    df : DataFrame\n",
        "    sintomas_prefix : str\n",
        "        Prefixo que identifica as colunas dummies de sintomas (default 'sx_').\n",
        "    center_delay_by : str\n",
        "        Coluna categórica para centralizar delay_notif por grupo (default 'regiao').\n",
        "\n",
        "    Retorno\n",
        "    -------\n",
        "    DataFrame com novas colunas se aplicáveis.\n",
        "    \"\"\"\n",
        "    out = df.copy()\n",
        "\n",
        "    # Conta dummies de sintomas\n",
        "    sint_cols = [c for c in out.columns if c.startswith(sintomas_prefix)]\n",
        "    if sint_cols:\n",
        "        out[\"sintoma_count\"] = out[sint_cols].sum(axis=1, skipna=True).astype(\"Int64\")\n",
        "\n",
        "    # Interação com imunossupressão\n",
        "    if {\"imune_risco\",\"sintoma_count\"}.issubset(out.columns):\n",
        "        # Usa 0 para NA ao multiplicar; resultado volta a Int64 com NA onde ambos eram NA\n",
        "        tmp = out[\"imune_risco\"].fillna(0) * out[\"sintoma_count\"].fillna(0)\n",
        "        tmp = tmp.mask(out[\"imune_risco\"].isna() & out[\"sintoma_count\"].isna(), pd.NA)\n",
        "        out[\"imune_risco_x_sintomas\"] = tmp.astype(\"Int64\")\n",
        "\n",
        "    # Centralização de delay_notif por região (ou outra coluna categórica)\n",
        "    if \"delay_notif\" in out.columns and center_delay_by in out.columns:\n",
        "        out[\"delay_notif_centered_regiao\"] = (\n",
        "            out[\"delay_notif\"] - out.groupby(center_delay_by, observed=False)[\"delay_notif\"].transform(\"mean\")\n",
        "        )\n",
        "\n",
        "    return out\n",
        "\n",
        "\n",
        "# ------------------------------------------------------------\n",
        "# 6) Targets (variáveis-alvo binárias)\n",
        "# ------------------------------------------------------------\n",
        "def add_targets(\n",
        "    df: pd.DataFrame,\n",
        "    col_hosp: str = \"HOSPITAL\",\n",
        "    col_evol: str = \"EVOLUCAO\"\n",
        ") -> pd.DataFrame:\n",
        "    \"\"\"\n",
        "    Cria variáveis-alvo padronizadas para classificação:\n",
        "\n",
        "    - target_hosp      : 1 se HOSPITAL == 1; 0 caso contrário (Int64 com NA onde não há dado).\n",
        "    - target_obito_any : 1 se EVOLUCAO ∈ {1 (óbito MPX), 3 (óbito outra causa)}; 0 caso contrário.\n",
        "    - target_obito_mpx : 1 se EVOLUCAO == 1; 0 caso contrário.\n",
        "\n",
        "    Parâmetros\n",
        "    ----------\n",
        "    df : DataFrame\n",
        "    col_hosp : str\n",
        "        Nome da coluna de hospitalização (código).\n",
        "    col_evol : str\n",
        "        Nome da coluna de evolução (código).\n",
        "\n",
        "    Retorno\n",
        "    -------\n",
        "    DataFrame com as três colunas de target.\n",
        "    \"\"\"\n",
        "    out = df.copy()\n",
        "\n",
        "    if col_hosp in out.columns:\n",
        "        t = out[col_hosp].eq(1)\n",
        "        out[\"target_hosp\"] = t.where(out[col_hosp].notna(), pd.NA).astype(\"Int64\")\n",
        "\n",
        "    if col_evol in out.columns:\n",
        "        any_obito = out[col_evol].isin([1,3])\n",
        "        out[\"target_obito_any\"] = any_obito.where(out[col_evol].notna(), pd.NA).astype(\"Int64\")\n",
        "        mpx = out[col_evol].eq(1)\n",
        "        out[\"target_obito_mpx\"] = mpx.where(out[col_evol].notna(), pd.NA).astype(\"Int64\")\n",
        "\n",
        "    return out\n",
        "\n",
        "\n",
        "# ------------------------------------------------------------\n",
        "# 7) Auditorias\n",
        "# ------------------------------------------------------------\n",
        "def audit_sintomas(df: pd.DataFrame, sintomas_cols: list[str]) -> pd.DataFrame:\n",
        "    \"\"\"\n",
        "    Auditoria das dummies de sintomas:\n",
        "    - non_nulls, sum_positives, percent_positives\n",
        "    - status: marca colunas sempre-zero / sempre-NaN\n",
        "    \"\"\"\n",
        "    if not sintomas_cols:\n",
        "        return pd.DataFrame({\"msg\": [\"Sem colunas de sintomas (prefixo não encontrado).\"]})\n",
        "\n",
        "    audit = pd.DataFrame({\n",
        "        \"non_nulls\": df[sintomas_cols].notna().sum(),\n",
        "        \"sum_positives\": df[sintomas_cols].sum(),\n",
        "        \"percent_positives\": df[sintomas_cols].mean() * 100\n",
        "    })\n",
        "    audit[\"status\"] = \"-\"\n",
        "    audit.loc[audit[\"sum_positives\"] == 0, \"status\"] = \"⚠️ Sempre 0\"\n",
        "    audit.loc[audit[\"non_nulls\"] == 0, \"status\"] = \"⚠️ Sempre NaN\"\n",
        "    return audit.sort_values(\"percent_positives\", ascending=False)\n",
        "\n",
        "\n",
        "def audit_feature_engineering(df: pd.DataFrame) -> pd.DataFrame:\n",
        "    \"\"\"\n",
        "    Checagem rápida de presença e sanidade das principais novas features.\n",
        "    Retorna um pequeno quadro-resumo (counts/NA/descrição de colunas-chave).\n",
        "    \"\"\"\n",
        "    cols_check = [\n",
        "        \"delay_notif\",\"tempo_internacao\",\"duracao_caso\",\n",
        "        \"ist_any\",\"ist_count\",\"imune_risco\",\"vacina_qualquer\",\n",
        "        \"faixa_etaria\",\"regiao\",\"sintoma_count\",\"imune_risco_x_sintomas\",\n",
        "        \"delay_notif_centered_regiao\",\n",
        "        \"target_hosp\",\"target_obito_any\",\"target_obito_mpx\"\n",
        "    ]\n",
        "    cols_check = [c for c in cols_check if c in df.columns]\n",
        "    if not cols_check:\n",
        "        return pd.DataFrame({\"msg\": [\"Nenhuma coluna derivada encontrada para auditar.\"]})\n",
        "\n",
        "    out = []\n",
        "    for c in cols_check:\n",
        "        s = df[c]\n",
        "        out.append({\n",
        "            \"col\": c,\n",
        "            \"dtype\": str(s.dtype),\n",
        "            \"non_null\": int(s.notna().sum()),\n",
        "            \"na\": int(s.isna().sum()),\n",
        "            \"unique\": int(s.nunique(dropna=True)),\n",
        "            \"sample_values\": s.dropna().unique()[:5] if s.nunique(dropna=True) <= 10 else \"many\"\n",
        "        })\n",
        "    return pd.DataFrame(out).set_index(\"col\")"
      ],
      "metadata": {
        "id": "WHE72Kwv-8I7"
      },
      "execution_count": 6,
      "outputs": [],
      "id": "WHE72Kwv-8I7"
    },
    {
      "cell_type": "markdown",
      "source": [
        "### **Implementação da Estrutura de Engenharia de Atributos**\n",
        "\n",
        "Neste momento como ainda está-se a explorar e atuar na Engenharia de Atributos, melhor manter todos os dummies de sintomas"
      ],
      "metadata": {
        "id": "JOLTxaRnmdNw"
      },
      "id": "JOLTxaRnmdNw"
    },
    {
      "cell_type": "code",
      "source": [
        "# ------------------------------------------------------------\n",
        "# 8) PIPELINE DE EXECUÇÃO (orquestra todas as etapas)\n",
        "# ------------------------------------------------------------\n",
        "def run_feature_engineering_pipeline(\n",
        "    df: pd.DataFrame,\n",
        "    sintomas_min_freq: int | None = None\n",
        ") -> tuple[pd.DataFrame, dict]:\n",
        "    \"\"\"\n",
        "    Executa a Engenharia de Atributos end-to-end:\n",
        "\n",
        "    Etapas:\n",
        "      1. Explosão de SINTOMA → dummies (min_freq opcional; default preserva todos).\n",
        "      2. Deltas de datas (sem imputar; respeita NaT).\n",
        "      3. Agregados clínicos (ISTs, imuno, vacina).\n",
        "      4. Bins demográficos (idade, região).\n",
        "      5. Interações (ex.: imuno × sintomas, centralização de delay por região).\n",
        "      6. Targets (hosp, óbito).\n",
        "      7. Auditorias.\n",
        "\n",
        "    Parâmetros\n",
        "    ----------\n",
        "    df : DataFrame\n",
        "        DataFrame pós-imputação/limpeza.\n",
        "    sintomas_min_freq : int | None\n",
        "        Cutoff para filtrar sintomas raros (None = mantém todos).\n",
        "\n",
        "    Retorno\n",
        "    -------\n",
        "    df_feat : DataFrame\n",
        "        DataFrame final enriquecido com todas as features derivadas.\n",
        "    info : dict\n",
        "        Dicionário com artefatos úteis:\n",
        "          - 'sintomas_cols': lista de colunas dummies geradas\n",
        "          - 'audit_sintomas': DataFrame de auditoria de sintomas\n",
        "          - 'audit_features': DataFrame de auditoria final de features\n",
        "    \"\"\"\n",
        "    # 1) Sintomas → dummies\n",
        "    df1, sx_cols = explode_sintoma_dummies_simple(df, col=\"SINTOMA\", prefix=\"sx_\", min_freq=sintomas_min_freq)\n",
        "\n",
        "    # 2) Datas → deltas\n",
        "    df2 = add_date_features(df1)\n",
        "\n",
        "    # 3) Agregados clínicos\n",
        "    df3 = add_clinical_aggregates(df2)\n",
        "\n",
        "    # 4) Bins demográficos / região\n",
        "    df4 = add_demo_bins(df3)\n",
        "\n",
        "    # 5) Interações\n",
        "    df5 = add_interactions(df4)\n",
        "\n",
        "    # 6) Targets\n",
        "    df_feat = add_targets(df5)\n",
        "\n",
        "    # 7) Auditorias\n",
        "    audit_sx = audit_sintomas(df_feat, sx_cols)\n",
        "    audit_ft = audit_feature_engineering(df_feat)\n",
        "\n",
        "    info = {\n",
        "        \"sintomas_cols\": sx_cols,\n",
        "        \"audit_sintomas\": audit_sx,\n",
        "        \"audit_features\": audit_ft\n",
        "    }\n",
        "    return df_feat, info\n",
        "\n",
        "\n",
        "# ==========================================\n",
        "# 🚀 EXECUÇÃO REAL NO DATAFRAME\n",
        "# (assume que já existe mpox_2022_prep como df pós-imputação)\n",
        "# ==========================================\n",
        "df0 = df_prep.copy()\n",
        "\n",
        "# ► Mantém todos os sintomas (literatura/consenso: preservar informação clínica agora)\n",
        "df_feateng, fe_info = run_feature_engineering_pipeline(df0, sintomas_min_freq=None)\n",
        "\n",
        "print(\"\\n✔️ Engenharia de atributos concluída:\")\n",
        "print(\"\\nTotal de colunas:\", df_feateng.shape[1])\n",
        "print(\"Total de linhas :\", df_feateng.shape[0])\n"
      ],
      "metadata": {
        "colab": {
          "base_uri": "https://localhost:8080/"
        },
        "id": "p4wLF8FqtFKI",
        "outputId": "73a8cb4e-feb2-4fc8-8dc9-a98af55febaf"
      },
      "execution_count": 7,
      "outputs": [
        {
          "output_type": "stream",
          "name": "stdout",
          "text": [
            "\n",
            "✔️ Engenharia de atributos concluída:\n",
            "\n",
            "Total de colunas: 222\n",
            "Total de linhas : 10920\n"
          ]
        }
      ],
      "id": "p4wLF8FqtFKI"
    },
    {
      "cell_type": "markdown",
      "source": [
        "## **🛠️ Auditoria Pós-Engenharia de Dados**"
      ],
      "metadata": {
        "id": "B19PnoRGe0AW"
      },
      "id": "B19PnoRGe0AW"
    },
    {
      "cell_type": "code",
      "source": [
        "# Amostra de auditorias\n",
        "print(\"\\n✔️ Resultado da Auditoria Pós-Engenharia de Dados:\")\n",
        "print(\"\\n[Audit] Quadro-resumo de Dummy Features de Sintomas (top 10 por % positivos):\")\n",
        "print(fe_info[\"audit_sintomas\"].head(10))\n",
        "\n",
        "print(\"\\n\\n[Audit] Quadro-resumo de Features Derivadas:\")\n",
        "print(fe_info[\"audit_features\"],'\\n')"
      ],
      "metadata": {
        "id": "OI7tH48ze0pm",
        "colab": {
          "base_uri": "https://localhost:8080/"
        },
        "outputId": "c546e7f9-af9f-4b14-bc9c-8486c1a30204"
      },
      "execution_count": 8,
      "outputs": [
        {
          "output_type": "stream",
          "name": "stdout",
          "text": [
            "\n",
            "✔️ Resultado da Auditoria Pós-Engenharia de Dados:\n",
            "\n",
            "[Audit] Quadro-resumo de Dummy Features de Sintomas (top 10 por % positivos):\n",
            "                    non_nulls  sum_positives  percent_positives status\n",
            "sx_erupcao_cutanea      10920           7319           67.02381      -\n",
            "sx_febre                10920           6288          57.582418      -\n",
            "sx_lesao_genital        10920           4785          43.818681      -\n",
            "sx_cefaleia             10920           4287          39.258242      -\n",
            "sx_adenomegalia         10920           3809          34.880952      -\n",
            "sx_dor_muscular         10920           3551          32.518315      -\n",
            "sx_astenia              10920           3348          30.659341      -\n",
            "sx_fraqueza             10920           3219          29.478022      -\n",
            "sx_lesao_anal           10920           2335          21.382784      -\n",
            "sx_dor_nas_costas       10920           1946          17.820513      -\n",
            "\n",
            "\n",
            "[Audit] Quadro-resumo de Features Derivadas:\n",
            "                                dtype  non_null     na  unique  \\\n",
            "col                                                              \n",
            "delay_notif                   float64     10868     52      99   \n",
            "tempo_internacao              float64        38  10882      28   \n",
            "duracao_caso                  float64       985   9935     150   \n",
            "ist_any                         Int64     10920      0       2   \n",
            "ist_count                       Int64     10920      0       4   \n",
            "imune_risco                     Int64      8553   2367       2   \n",
            "vacina_qualquer                 Int64      4891   6029       2   \n",
            "faixa_etaria                 category     10920      0       7   \n",
            "regiao                       category     10920      0       5   \n",
            "sintoma_count                   Int64     10920      0      22   \n",
            "imune_risco_x_sintomas          Int64     10920      0      21   \n",
            "delay_notif_centered_regiao   float64     10868     52     249   \n",
            "target_hosp                     Int64     10920      0       2   \n",
            "target_obito_any                Int64     10920      0       2   \n",
            "target_obito_mpx                Int64     10920      0       2   \n",
            "\n",
            "                                                                 sample_values  \n",
            "col                                                                             \n",
            "delay_notif                                                               many  \n",
            "tempo_internacao                                                          many  \n",
            "duracao_caso                                                              many  \n",
            "ist_any                                                                 [0, 1]  \n",
            "ist_count                                                         [0, 1, 2, 3]  \n",
            "imune_risco                                                             [1, 0]  \n",
            "vacina_qualquer                                                         [0, 1]  \n",
            "faixa_etaria                 ['30-39', '18-29', '40-49', '10-17', '50-59']\n",
            "...  \n",
            "regiao                       ['Nordeste', 'Sul', 'Sudeste', 'Centro-Oeste',...  \n",
            "sintoma_count                                                             many  \n",
            "imune_risco_x_sintomas                                                    many  \n",
            "delay_notif_centered_regiao                                               many  \n",
            "target_hosp                                                             [0, 1]  \n",
            "target_obito_any                                                        [0, 1]  \n",
            "target_obito_mpx                                                        [0, 1]   \n",
            "\n"
          ]
        }
      ],
      "id": "OI7tH48ze0pm"
    },
    {
      "cell_type": "code",
      "source": [
        "# ==========================================\n",
        "# 📊 AUDITORIA VISUAL RÁPIDA – FEATURES ENGENHARIA DE ATRIBUTOS (com hue explícito)\n",
        "# ==========================================\n",
        "#import matplotlib.pyplot as plt\n",
        "#import seaborn as sns\n",
        "\n",
        "fig, axes = plt.subplots(2, 3, figsize=(18, 10))\n",
        "axes = axes.flatten()\n",
        "\n",
        "# -----------------------------\n",
        "# 1) Delay de notificação por região\n",
        "# -----------------------------\n",
        "col_delay = \"delay_notif\"\n",
        "df_regiao = df_feateng[\"regiao\"]\n",
        "if df_regiao.isna().sum() > 0:\n",
        "    df_regiao = df_regiao.cat.add_categories([\"Ausente\"]).fillna(\"Ausente\")\n",
        "\n",
        "sns.boxplot(\n",
        "    data=df_feateng.assign(regiao=df_regiao),\n",
        "    x=\"regiao\",\n",
        "    y=col_delay,\n",
        "    hue=\"regiao\",          # ✅ agora palette tem hue correspondente\n",
        "    palette=\"Set2\",\n",
        "    legend=False,\n",
        "    ax=axes[0]\n",
        ")\n",
        "axes[0].set_title(\"Delay de Notificação por Região\")\n",
        "axes[0].set_xlabel(\"Região\")\n",
        "axes[0].set_ylabel(\"Dias\")\n",
        "axes[0].tick_params(axis=\"x\", rotation=30)\n",
        "\n",
        "# -----------------------------\n",
        "# 2) Distribuição faixa_etaria\n",
        "# -----------------------------\n",
        "col_faixa = \"faixa_etaria\"\n",
        "df_faixa = df_feateng[col_faixa]\n",
        "ordered_faixa = [\"0-9\",\"10-17\",\"18-29\",\"30-39\",\"40-49\",\"50-59\",\"60+\"]\n",
        "if df_faixa.isna().sum() > 0:\n",
        "    df_faixa = df_faixa.cat.add_categories([\"Ausente\"]).fillna(\"Ausente\")\n",
        "    ordered_faixa = [\"Ausente\"] + ordered_faixa\n",
        "\n",
        "sns.countplot(\n",
        "    data=df_feateng.assign(faixa_etaria=df_faixa),\n",
        "    x=\"faixa_etaria\",\n",
        "    hue=\"faixa_etaria\",   # ✅ hue explícito\n",
        "    order=ordered_faixa,\n",
        "    palette=([\"lightgrey\"] + sns.color_palette(\"Blues\", len(ordered_faixa)-1)) if \"Ausente\" in ordered_faixa else \"Blues\",\n",
        "    legend=False,\n",
        "    ax=axes[1]\n",
        ")\n",
        "axes[1].set_title(\"Distribuição – Faixa Etária\")\n",
        "axes[1].set_xlabel(\"Faixa etária\")\n",
        "axes[1].set_ylabel(\"Contagem\")\n",
        "axes[1].tick_params(axis=\"x\", rotation=30)\n",
        "\n",
        "# -----------------------------\n",
        "# 3) Distribuição imune_risco\n",
        "# -----------------------------\n",
        "df_imuno = df_feateng[\"imune_risco\"].astype(\"Int64\").astype(\"string\")\n",
        "order_imuno = [\"0\",\"1\"]\n",
        "if df_imuno.isna().sum() > 0:\n",
        "    df_imuno = df_imuno.fillna(\"Ausente\")\n",
        "    order_imuno = [\"Ausente\"] + order_imuno\n",
        "\n",
        "sns.countplot(\n",
        "    data=df_feateng.assign(imune_risco=df_imuno),\n",
        "    x=\"imune_risco\",\n",
        "    hue=\"imune_risco\",   # ✅ hue explícito\n",
        "    order=order_imuno,\n",
        "    palette=([\"lightgrey\"] + sns.color_palette(\"Greens\", len(order_imuno)-1)) if \"Ausente\" in order_imuno else \"Greens\",\n",
        "    legend=False,\n",
        "    ax=axes[2]\n",
        ")\n",
        "axes[2].set_title(\"Distribuição – Imunossuprimidos\")\n",
        "axes[2].set_xlabel(\"Imune em risco (1=Sim, 0=Não)\")\n",
        "axes[2].set_ylabel(\"Contagem\")\n",
        "\n",
        "# -----------------------------\n",
        "# 4) Distribuição vacina_qualquer\n",
        "# -----------------------------\n",
        "df_vacina = df_feateng[\"vacina_qualquer\"].astype(\"Int64\").astype(\"string\")\n",
        "order_vacina = [\"0\",\"1\"]\n",
        "if df_vacina.isna().sum() > 0:\n",
        "    df_vacina = df_vacina.fillna(\"Ausente\")\n",
        "    order_vacina = [\"Ausente\"] + order_vacina\n",
        "\n",
        "sns.countplot(\n",
        "    data=df_feateng.assign(vacina_qualquer=df_vacina),\n",
        "    x=\"vacina_qualquer\",\n",
        "    hue=\"vacina_qualquer\",   # ✅ hue explícito\n",
        "    order=order_vacina,\n",
        "    palette=([\"lightgrey\"] + sns.color_palette(\"Purples\", len(order_vacina)-1)) if \"Ausente\" in order_vacina else \"Purples\",\n",
        "    legend=False,\n",
        "    ax=axes[3]\n",
        ")\n",
        "axes[3].set_title(\"Distribuição – Vacina (qualquer)\")\n",
        "axes[3].set_xlabel(\"Vacina registrada (1=Sim, 0=Não)\")\n",
        "axes[3].set_ylabel(\"Contagem\")\n",
        "\n",
        "# -----------------------------\n",
        "# 5) Distribuição sintoma_count\n",
        "# -----------------------------\n",
        "sns.histplot(\n",
        "    data=df_feateng,\n",
        "    x=\"sintoma_count\",\n",
        "    bins=30,\n",
        "    color=\"orange\",\n",
        "    kde=False,\n",
        "    ax=axes[4]\n",
        ")\n",
        "axes[4].set_title(\"Distribuição – Quantidade de Sintomas\")\n",
        "axes[4].set_xlabel(\"Nº de sintomas reportados\")\n",
        "axes[4].set_ylabel(\"Frequência\")\n",
        "\n",
        "# -----------------------------\n",
        "# Layout final\n",
        "# -----------------------------\n",
        "fig.delaxes(axes[5])  # remove subplot vazio\n",
        "plt.suptitle(\"Auditoria Visual Rápida – Features da Engenharia de Atributos\", fontsize=16)\n",
        "plt.tight_layout(rect=[0, 0, 1, 0.95])\n",
        "plt.show()\n"
      ],
      "metadata": {
        "colab": {
          "base_uri": "https://localhost:8080/",
          "height": 364
        },
        "id": "8pJMo0eLJdRK",
        "outputId": "9adf0893-dcd4-4f9e-b816-ea4ae10a4d50"
      },
      "id": "8pJMo0eLJdRK",
      "execution_count": 9,
      "outputs": [
        {
          "output_type": "display_data",
          "data": {
            "text/plain": [
              "<Figure size 1800x1000 with 5 Axes>"
            ],
            "image/png": "[encoded data removed]"
          },
          "metadata": {}
        }
      ]
    },
    {
      "cell_type": "markdown",
      "source": [
        "## 📌 Nota da seção – Auditoria Pós-Engenharia de Atributos  \n",
        "\n",
        "- Foi realizada auditoria das variáveis criadas durante a Engenharia de Atributos.  \n",
        "\n",
        "- **Resultados principais:**  \n",
        "  - Dummies de sintomas (`sx_*`) → relatório com as 10 mais frequentes, confirmando relevância clínica.  \n",
        "  - Quadro-resumo das features derivadas → checagem de NAs, distribuição e amostras de valores.  \n",
        "  - Targets binários (`target_hosp`, `target_obito_any`, `target_obito_mpx`) → corretamente gerados e preservados.  \n",
        "\n",
        "- **Interpretação:**  \n",
        "  - Nenhuma feature essencial foi perdida.  \n",
        "  - Sintomas raros foram preservados (min_freq=None), em conformidade com literatura em saúde.  \n",
        "  - A base encontra-se consistente para uso em etapas subsequentes (codificação e escalonamento).  \n"
      ],
      "metadata": {
        "id": "NiV57BRRMtXu"
      },
      "id": "NiV57BRRMtXu"
    },
    {
      "cell_type": "markdown",
      "source": [
        "### 📊 Distribuição das opções de variáveis-alvos binárias criadas após a Engenharia de Atributos"
      ],
      "metadata": {
        "id": "Al3JHwqoNa2w"
      },
      "id": "Al3JHwqoNa2w"
    },
    {
      "cell_type": "code",
      "source": [
        "## 📊 Distribuição das opções de variáveis-alvos binárias criadas após a Engenharia de Atributos\n",
        "# 📊 (df_feateng) – barras horizontais\n",
        "import matplotlib.pyplot as plt\n",
        "\n",
        "target_cols = [\"target_hosp\", \"target_obito_any\", \"target_obito_mpx\"]\n",
        "\n",
        "fig, axes = plt.subplots(len(target_cols), 1, figsize=(12, 6))  # uma coluna, várias linhas\n",
        "\n",
        "for i, target_col in enumerate(target_cols):\n",
        "    y = df_feateng[target_col].astype(int)\n",
        "\n",
        "    counts = y.value_counts().sort_index()\n",
        "    ratios = (counts / counts.sum() * 100).round(2)\n",
        "\n",
        "    bars = axes[i].barh([str(k) for k in counts.index], counts.values,\n",
        "                        color=[\"lightgreen\", \"green\"], alpha=1)\n",
        "\n",
        "    # Adicionar percentuais ao lado de cada barra\n",
        "    for bar, pct in zip(bars, ratios):\n",
        "        width = bar.get_width()\n",
        "        axes[i].text(width + (0.01*width), bar.get_y() + bar.get_height()/2,\n",
        "                     f\"{pct:.2f}%\", ha=\"left\", va=\"center\", fontsize=10)\n",
        "\n",
        "    axes[i].set_title(f\"{target_col}\")\n",
        "    axes[i].set_xlabel(\"Contagem\")\n",
        "    axes[i].set_ylabel(\"Classe\")\n",
        "\n",
        "plt.suptitle(\"Distribuição de classes – Opções de Variáveis-alvos Binárias\", fontsize=14)\n",
        "plt.tight_layout(rect=[0, 0, 1, 0.95])\n",
        "plt.show()\n"
      ],
      "metadata": {
        "colab": {
          "base_uri": "https://localhost:8080/",
          "height": 332
        },
        "id": "9ZXxm3y2NaBt",
        "outputId": "e7ee1abf-6397-4fbc-880e-ad61efcb7476"
      },
      "execution_count": 10,
      "outputs": [
        {
          "output_type": "display_data",
          "data": {
            "text/plain": [
              "<Figure size 1200x600 with 3 Axes>"
            ],
            "image/png": "[encoded data removed]"
          },
          "metadata": {}
        }
      ],
      "id": "9ZXxm3y2NaBt"
    },
    {
      "cell_type": "markdown",
      "source": [
        "### 📌 Nota da seção – Distribuição das variáveis-alvo binárias\n",
        "\n",
        "- Foram verificadas as distribuições das três variáveis-alvo derivadas na Engenharia de Atributos:  \n",
        "  - `target_hosp` → indica se o paciente foi hospitalizado.  \n",
        "  - `target_obito_any` → indica se houve óbito (por Mpox ou outra causa).  \n",
        "  - `target_obito_mpx` → indica se o óbito foi diretamente relacionado à Mpox.  \n",
        "\n",
        "- Cada gráfico mostra a contagem absoluta e o percentual (%) de cada classe.  \n",
        "- Observação:\n",
        "  - Todas são **binárias (0 = ausência, 1 = ocorrência)**.  \n",
        "  - As distribuições confirmam a presença de **desbalanceamento de classes**.  \n",
        "  - Nesta fase do projeto, **ainda não se definiu um único target principal**.  \n",
        "  - Serão aplicadas técnicas de modelagem em todas as três opções para avaliar:  \n",
        "    - Relevância clínica/epidemiológica.  \n",
        "    - Estabilidade do modelo.  \n",
        "    - Métricas robustas (F1-score, AUC-PR).  \n",
        "  - A decisão final sobre a variável-alvo será documentada após essa análise comparativa.\n"
      ],
      "metadata": {
        "id": "mthJImZ9Qv0y"
      },
      "id": "mthJImZ9Qv0y"
    },
    {
      "cell_type": "markdown",
      "source": [
        "## 💾 Salvamento Final da Base Pós-Engenharia de Atributos"
      ],
      "metadata": {
        "id": "AVpOksWP91k9"
      },
      "id": "AVpOksWP91k9"
    },
    {
      "cell_type": "code",
      "source": [
        "# 💾 Salvamento final da base pós-engenharia de atributos\n",
        "output_path = \"mpox_2022_feateng.csv\"\n",
        "df_feateng.to_csv(output_path, index=False, encoding=\"utf-8\")\n",
        "print(f\"✔️ Arquivo salvo em: {output_path}\")\n",
        "\n",
        "# 🔍 Verificação pós-salvamento (recarrega e confere shape + distribuição dos targets)\n",
        "df_check = pd.read_csv(output_path)\n",
        "print(\"\\nCarregado de volta com sucesso:\", df_check.shape)\n",
        "\n",
        "# Lista de possíveis targets\n",
        "targets = [\"target_hosp\", \"target_obito_any\", \"target_obito_mpx\"]\n",
        "\n",
        "for t in targets:\n",
        "    if t in df_check.columns:\n",
        "        counts = (df_check[t].value_counts(normalize=True) * 100).round(2)\n",
        "        distrib_dict = counts.to_dict()\n",
        "        print(f\"Distribuição (%) de {t}: {distrib_dict}\")\n"
      ],
      "metadata": {
        "id": "6xRH43kZtSSW",
        "colab": {
          "base_uri": "https://localhost:8080/"
        },
        "outputId": "56821013-e3dc-4213-f89b-fdcae009933d"
      },
      "execution_count": 11,
      "outputs": [
        {
          "output_type": "stream",
          "name": "stdout",
          "text": [
            "✔️ Arquivo salvo em: mpox_2022_feateng.csv\n",
            "\n",
            "Carregado de volta com sucesso: (10920, 222)\n",
            "Distribuição (%) de target_hosp: {0: 97.32, 1: 2.68}\n",
            "Distribuição (%) de target_obito_any: {0: 99.74, 1: 0.26}\n",
            "Distribuição (%) de target_obito_mpx: {0: 99.87, 1: 0.13}\n"
          ]
        }
      ],
      "id": "6xRH43kZtSSW"
    },
    {
      "cell_type": "markdown",
      "source": [
        "## **🔄 Transformação de Dados Preparatória (Feature Transformation / Data Transformation)**\n"
      ],
      "metadata": {
        "id": "Ltxpva9T0n_Q"
      },
      "id": "Ltxpva9T0n_Q"
    },
    {
      "cell_type": "markdown",
      "source": [
        "### Vetores de Colunas por Tipo de Variáveis (para as próximas etapas)"
      ],
      "metadata": {
        "id": "EYlFQJV6ozrk"
      },
      "id": "EYlFQJV6ozrk"
    },
    {
      "cell_type": "code",
      "source": [
        "# ==========================================\n",
        "# VETORES DE COLUNAS — ORGANIZAÇÃO POR TIPO\n",
        "# (base: df_feateng após Engenharia de Atributos)\n",
        "# ==========================================\n",
        "\n",
        "# ================================\n",
        "# CATEGÓRICAS NOMINAIS (texto / códigos IBGE)\n",
        "# ================================\n",
        "nominal_categorical_cols = [\n",
        "    'SG_UF',        # sigla da UF\n",
        "    'SG_UF_NOT',    # sigla da UF da notificação\n",
        "    'ID_MUNICIP',   # código IBGE do município\n",
        "    'CO_UF_RES',    # código IBGE da UF de residência\n",
        "    'ID_MN_RESI'    # código IBGE do município de residência\n",
        "]\n",
        "\n",
        "# ================================\n",
        "# NUMÉRICAS CATEGÓRICAS BINÁRIAS (0/1 já tratadas)\n",
        "# ================================\n",
        "numerical_as_binary_categ_cols = [\n",
        "    'GONORREIA','CLAMIDEA','SIFILIS','HERPES_GENITAL','CANCRO_MOLE',\n",
        "    'TRICHOMOMAS_VAGINALS','LINFOGRANULOMA','MYCOPLASMA_GENITAL',\n",
        "    'HPV','DIP','DONOVANOSE','HTLV','VERRUGA_GENITAL'\n",
        "]\n",
        "\n",
        "# ================================\n",
        "# NUMÉRICAS CATEGÓRICAS NOMINAIS (códigos sem ordem natural)\n",
        "# ================================\n",
        "numerical_as_nominal_categ_cols = [\n",
        "    'CLASSI_FIN',             # classificação final\n",
        "    'CS_SEXO',                # sexo do paciente\n",
        "    'COMP_SEXUAL',            # comportamento sexual\n",
        "    'ORIENTA_SEXUAL',         # orientação sexual\n",
        "    'IDENT_GENERO',           # identidade de gênero\n",
        "    'CS_RACA',                # raça/cor\n",
        "    'IST_ATIVA',              # presença de IST ativa\n",
        "    'TP_AMOST',               # tipo de amostra\n",
        "    'ESTRANGEIRO',            # paciente estrangeiro\n",
        "    'HIV',                    # status HIV\n",
        "    'UTI',                    # internação em UTI\n",
        "    'RESULTADO_EXA_LAB',      # resultado do exame laboratorial\n",
        "    'PROFIS_SAUDE',           # paciente é profissional de saúde\n",
        "    'TRATAMENTO_MONKEYPOX',   # realizou tratamento específico\n",
        "    'HOSPITAL',               # status de hospitalização\n",
        "    'EVOLUCAO',               # evolução do caso\n",
        "    'VINCULO_EPI',            # vínculo epidemiológico\n",
        "    'LOCAL_CONT',             # local provável de contágio\n",
        "    'TRANSM',                 # forma de transmissão\n",
        "    'CONTAT_ANIMAL',          # contato com animal\n",
        "    'CS_GESTANT',             # condição gestacional\n",
        "    'MET_LAB',                # método laboratorial\n",
        "    'CARACT_GENOMICA',        # característica genômica\n",
        "    'CLADO',                  # clado do vírus\n",
        "    'DOENCA_TRA.1'            # código categórico de doença (coluna ajustada)\n",
        "]\n",
        "\n",
        "# ⚠️ Atenção:\n",
        "# - PAC_IMUNOSSUP e VACINA já foram tratados na Engenharia (viraram imune_risco e vacina_qualquer).\n",
        "# - SINTOMA já foi explodido em dummies sx_* na Engenharia.\n",
        "# - Portanto, essas colunas não entram mais na codificação.\n",
        "\n",
        "# ================================\n",
        "# NUMÉRICAS DISCRETAS (para escalonamento posterior)\n",
        "# ================================\n",
        "numerical_discrete_cols = [\n",
        "    'NU_IDADE_N',   # idade em anos\n",
        "    'CONTAG_CD4'    # contagem de células CD4\n",
        "]\n",
        "\n",
        "# ================================\n",
        "# TEMPORAIS (datas originais, mantidas para rastreio)\n",
        "# ================================\n",
        "date_temporal_cols = [\n",
        "    'DT_NOTIFIC','DT_SIN_PRI','DT_COLETA','DATA_VACINA',\n",
        "    'DT_INTERNA','DT_EVOLUCAO'\n",
        "]\n",
        "\n",
        "# ================================\n",
        "# TEXTO LIVRE\n",
        "# ================================\n",
        "text_cols = [\n",
        "    'OUTRO_DES'     # campo de descrição livre\n",
        "]\n",
        "\n",
        "# ================================\n",
        "# IDENTIFICADOR TÉCNICO\n",
        "# ================================\n",
        "identif_cols = [\n",
        "    '__arquivo_origem__'   # rastreabilidade da origem do arquivo\n",
        "]\n",
        "\n",
        "# ================================\n",
        "# LISTA FINAL DE COLUNAS PARA ONE-HOT\n",
        "# ================================\n",
        "onehot_cols = [c for c in df_feateng.columns\n",
        "               if c in nominal_categorical_cols\n",
        "               or c in numerical_as_nominal_categ_cols]\n",
        "\n",
        "print(\"✅ Colunas preparadas para OneHotEncoder:\", onehot_cols)\n"
      ],
      "metadata": {
        "id": "QdVB_LSveYuo",
        "outputId": "75464544-a2cd-49b5-89ef-7a557e46ce9f",
        "colab": {
          "base_uri": "https://localhost:8080/"
        }
      },
      "id": "QdVB_LSveYuo",
      "execution_count": 12,
      "outputs": [
        {
          "output_type": "stream",
          "name": "stdout",
          "text": [
            "✅ Colunas preparadas para OneHotEncoder: ['CLASSI_FIN', 'SG_UF', 'SG_UF_NOT', 'ID_MUNICIP', 'CO_UF_RES', 'ID_MN_RESI', 'CS_SEXO', 'COMP_SEXUAL', 'ORIENTA_SEXUAL', 'IDENT_GENERO', 'CS_RACA', 'IST_ATIVA', 'TP_AMOST', 'CS_GESTANT', 'ESTRANGEIRO', 'HIV', 'UTI', 'RESULTADO_EXA_LAB', 'PROFIS_SAUDE', 'TRATAMENTO_MONKEYPOX', 'HOSPITAL', 'EVOLUCAO', 'VINCULO_EPI', 'DOENCA_TRA.1', 'LOCAL_CONT', 'TRANSM', 'CONTAT_ANIMAL', 'MET_LAB', 'CARACT_GENOMICA', 'CLADO']\n"
          ]
        }
      ]
    },
    {
      "cell_type": "markdown",
      "source": [
        "### 📌 Nota da seção – Definição dos vetores de colunas  \n",
        "\n",
        "As variáveis do dataset foram classificadas em grupos para orientar o pré-processamento:  \n",
        "- **Nominais** (ex.: `SG_UF`, `ID_MUNICIP`) → sem ordem natural.  \n",
        "- **Múltiplas em texto** (ex.: `SINTOMA`) → listas de sintomas separadas por vírgula.  \n",
        "- **Texto livre** (ex.: `OUTRO_DES`).  \n",
        "- **Binárias (0/1)** (ex.: ISTs).  \n",
        "- **Nominais numéricas** (ex.: `EVOLUCAO`, `VACINA`).  \n",
        "- **Discretas** (ex.: `NU_IDADE_N`, `CONTAG_CD4`).  \n",
        "- **Temporais** (ex.: `DT_NOTIFIC`, `DT_EVOLUCAO`).  \n",
        "\n",
        "Essa organização garante consistência nas etapas de **codificação** e **escalonamento**.  \n",
        "\n",
        "---"
      ],
      "metadata": {
        "id": "_xqQGsL9e91_"
      },
      "id": "_xqQGsL9e91_"
    },
    {
      "cell_type": "markdown",
      "source": [
        "---\n",
        "### **🔤 Atividade 3 — Codificação de Variáveis Categóricas**  \n",
        "\n",
        " Nesta etapa, as variáveis categóricas foram transformadas em representações numéricas adequadas para modelos de ML.\n",
        "\n",
        "#### 🔎 Trade-offs da codificação categórica  \n",
        "\n",
        "| Método         | Vantagens                                   | Desvantagens                                   | Indicado para |\n",
        "|----------------|---------------------------------------------|------------------------------------------------|---------------|\n",
        "| **OrdinalEncoder** | Simples; mantém hierarquia natural           | Induz ordens artificiais em variáveis nominais | Variáveis ordinais genuínas |\n",
        "| **OneHotEncoder**  | Evita ordens falsas; compatível com ML       | Explosão de dimensionalidade                   | Variáveis nominais |\n",
        "| **LabelEncoder**   | Simples; usado no *y* categórico             | Não adequado para variáveis explicativas       | Variável-alvo categórica |\n",
        "\n",
        "\n",
        "---\n",
        "\n"
      ],
      "metadata": {
        "id": "z8ju2I-CKsd_"
      },
      "id": "z8ju2I-CKsd_"
    },
    {
      "cell_type": "markdown",
      "source": [
        "Codificação OneHotEncoder"
      ],
      "metadata": {
        "id": "BpDDTxi3Kt8d"
      },
      "id": "BpDDTxi3Kt8d"
    },
    {
      "cell_type": "code",
      "source": [
        "# =================================================\n",
        "# 1) CODIFICAÇÃO DE VARIÁVEIS CATEGÓRICAS (ONE-HOT)\n",
        "# =================================================\n",
        "#from sklearn.preprocessing import OneHotEncoder\n",
        "#import pandas as pd\n",
        "\n",
        "# Usa vetores já definidos no bloco anterior (garantem todas categóricas relevantes)\n",
        "# ⚠️ Atenção: baseado em df_feateng\n",
        "onehot_cols = [c for c in df_feateng.columns\n",
        "               if c in nominal_categorical_cols\n",
        "               or c in numerical_as_nominal_categ_cols]\n",
        "\n",
        "# Inicializa encoder\n",
        "encoder = OneHotEncoder(\n",
        "    drop='first',            # remove a 1ª categoria de cada coluna → evita multicolinearidade\n",
        "    sparse_output=False,     # saída densa → fácil converter em DataFrame\n",
        "    dtype=int,               # saída como inteiros 0/1\n",
        "    handle_unknown='ignore'  # ignora categorias não vistas em treino\n",
        ")\n",
        "\n",
        "# Aplica transformação\n",
        "encoded = encoder.fit_transform(df_feateng[onehot_cols])\n",
        "\n",
        "# Converte para DataFrame com os novos nomes de colunas\n",
        "encoded_df = pd.DataFrame(\n",
        "    encoded,\n",
        "    columns=encoder.get_feature_names_out(onehot_cols),\n",
        "    index=df_feateng.index\n",
        ")\n",
        "\n",
        "print(f\"[OneHot] Colunas categóricas codificadas: {len(onehot_cols)}\")\n",
        "\n",
        "# Junta com o dataset original removendo colunas categóricas brutas\n",
        "df_eng_ohe = pd.concat([df_feateng.drop(columns=onehot_cols), encoded_df], axis=1)\n"
      ],
      "metadata": {
        "id": "uRCOOKV_fYMW",
        "outputId": "1cac7b93-83ed-4b93-85d6-8aecf9dd1e03",
        "colab": {
          "base_uri": "https://localhost:8080/"
        }
      },
      "id": "uRCOOKV_fYMW",
      "execution_count": 13,
      "outputs": [
        {
          "output_type": "stream",
          "name": "stdout",
          "text": [
            "[OneHot] Colunas categóricas codificadas: 30\n"
          ]
        }
      ]
    },
    {
      "cell_type": "markdown",
      "source": [
        "### Auditoria Pós-codificação de Variáveis Categóricas"
      ],
      "metadata": {
        "id": "J14g1BtacZzF"
      },
      "id": "J14g1BtacZzF"
    },
    {
      "cell_type": "code",
      "source": [
        "# ==========================================\n",
        "# 2) AUDITORIA PÓS-CODIFICAÇÃO\n",
        "# ==========================================\n",
        "print(\"=== Auditoria Pós-Codificação de Variáveis Categóricas ===\")\n",
        "\n",
        "# Total de colunas antes e depois\n",
        "print(f\"- Total antes da codificação: {df_feateng.shape[1]}\")\n",
        "print(f\"- Total depois da codificação: {df_eng_ohe.shape[1]}\")\n",
        "\n",
        "# Conferir se não restaram colunas categóricas \"cruas\"\n",
        "restantes_cat = df_eng_ohe.select_dtypes(include=['object','category']).columns\n",
        "if len(restantes_cat) > 0:\n",
        "    print(\"⚠️ Restaram colunas categóricas sem codificação:\", list(restantes_cat))\n",
        "else:\n",
        "    print(\"✅ Todas as categóricas foram codificadas.\")\n",
        "\n",
        "# Garantir que os targets continuam presentes\n",
        "targets = [\"target_hosp\", \"target_obito_any\", \"target_obito_mpx\"]\n",
        "alvo_faltando = [t for t in targets if t not in df_eng_ohe.columns]\n",
        "if alvo_faltando:\n",
        "    print(\"⚠️ Targets ausentes após codificação:\", alvo_faltando)\n",
        "else:\n",
        "    print(\"✅ Variáveis-alvo preservadas:\", targets)\n",
        "\n",
        "# Conferir tipos predominantes\n",
        "print(\"\\nDtypes principais no dataset final:\")\n",
        "print(df_eng_ohe.dtypes.value_counts())\n",
        "\n",
        "# Conferir presença de NaNs\n",
        "nulos = df_eng_ohe.isna().sum().sum()\n",
        "print(f\"\\nValores ausentes após codificação: {nulos}\")\n",
        "\n",
        "# ==========================================\n",
        "# 📊 Auditoria da expansão dimensional (OneHotEncoder)\n",
        "# ==========================================\n",
        "orig_cols = len(onehot_cols)   # número de colunas categóricas originais\n",
        "# incremento real = total pós - (total pré - originais)\n",
        "new_cols = df_eng_ohe.shape[1] - (df_feateng.shape[1] - orig_cols)\n",
        "increase = ((new_cols - orig_cols) / orig_cols) * 100 if orig_cols > 0 else 0\n",
        "\n",
        "print(\"\\n=== Auditoria da expansão dimensional (OneHotEncoder) ===\")\n",
        "print(f\"Variáveis categóricas originais: {orig_cols}\")\n",
        "print(f\"Variáveis após OneHotEncoder: {new_cols}\")\n",
        "print(f\"Aumento percentual: {increase:.2f}%\")\n"
      ],
      "metadata": {
        "colab": {
          "base_uri": "https://localhost:8080/"
        },
        "id": "YPf0aVbYcYRZ",
        "outputId": "9355082b-556d-44f4-dbde-b41f2e8962a8"
      },
      "execution_count": 14,
      "outputs": [
        {
          "output_type": "stream",
          "name": "stdout",
          "text": [
            "=== Auditoria Pós-Codificação de Variáveis Categóricas ===\n",
            "- Total antes da codificação: 222\n",
            "- Total depois da codificação: 1573\n",
            "⚠️ Restaram colunas categóricas sem codificação: ['SINTOMA', 'OUTRO_DES', '__arquivo_origem__', 'faixa_etaria', 'regiao']\n",
            "✅ Variáveis-alvo preservadas: ['target_hosp', 'target_obito_any', 'target_obito_mpx']\n",
            "\n",
            "Dtypes principais no dataset final:\n",
            "int64             1381\n",
            "Int64              174\n",
            "datetime64[ns]       6\n",
            "float64              4\n",
            "boolean              3\n",
            "object               3\n",
            "category             1\n",
            "category             1\n",
            "Name: count, dtype: int64\n",
            "\n",
            "Valores ausentes após codificação: 62061\n",
            "\n",
            "=== Auditoria da expansão dimensional (OneHotEncoder) ===\n",
            "Variáveis categóricas originais: 30\n",
            "Variáveis após OneHotEncoder: 1381\n",
            "Aumento percentual: 4503.33%\n"
          ]
        }
      ],
      "id": "YPf0aVbYcYRZ"
    },
    {
      "cell_type": "markdown",
      "source": [
        "### 📌 Nota da seção – Pós-Codificação e Trade-offs\n",
        "---\n",
        "- Foi aplicada a codificação **One-Hot** (`OneHotEncoder`) às variáveis categóricas nominais de `df_feateng`.  \n",
        "- Principais decisões técnicas:  \n",
        "  - `drop='first'` → evita multicolinearidade ao descartar a primeira categoria.  \n",
        "  - `handle_unknown='ignore'` → garante robustez caso surjam categorias novas em dados futuros.  \n",
        "- O resultado foi armazenado em `df_eng_ohe`, com auditoria confirmando:  \n",
        "  - ✅ Nenhuma variável categórica bruta restante.  \n",
        "  - ✅ Targets preservados (`target_hosp`, `target_obito_any`, `target_obito_mpx`).  \n",
        "  - 📈 Expansão dimensional: de **30 variáveis categóricas originais** para **1381 variáveis dummies** (≈ +4.503%), considerado aceitável pois preserva a informação clínica.\n",
        "\n",
        "#### 📘 **Conclusão:**\n",
        "Optou-se por **OneHotEncoder**. O aumento de colunas foi aceito como custo metodológico necessário, pois garante **consistência estatística** e evita ordens artificiais.  \n",
        "O dataset `df_eng_ohe` está pronto para a próxima etapa: **Escalonamento das variáveis numéricas discretas**.\n"
      ],
      "metadata": {
        "id": "wxHWAll-DyXj"
      },
      "id": "wxHWAll-DyXj"
    },
    {
      "cell_type": "markdown",
      "source": [
        "---\n",
        "\n",
        "### **Atividade 4: Escalonamento de variáveis numéricas (StandardScaler e MinMaxScaler)**\n",
        "\n",
        "O escalonamento é uma etapa essencial para adequar variáveis numéricas a diferentes algoritmos de Machine Learning, garantindo comparabilidade entre atributos em magnitudes distintas.  \n",
        "\n",
        "---\n"
      ],
      "metadata": {
        "id": "j__ukP2vjjcF"
      },
      "id": "j__ukP2vjjcF"
    },
    {
      "cell_type": "code",
      "source": [
        "# ==========================================\n",
        "# 4) ESCALONAMENTO DE VARIÁVEIS NUMÉRICAS\n",
        "# ==========================================\n",
        "from sklearn.preprocessing import StandardScaler, MinMaxScaler\n",
        "\n",
        "# Colunas discretas já definidas nos vetores\n",
        "focus_vars = numerical_discrete_cols  # [\"NU_IDADE_N\", \"CONTAG_CD4\"]\n",
        "\n",
        "# Inicializa escalonadores\n",
        "scaler_std = StandardScaler()\n",
        "scaler_mm = MinMaxScaler()\n",
        "\n",
        "# Aplica transformações\n",
        "df_scaled_std = pd.DataFrame(\n",
        "    scaler_std.fit_transform(df_eng_ohe[focus_vars].astype(float)),\n",
        "    columns=focus_vars,\n",
        "    index=df_eng_ohe.index\n",
        ")\n",
        "\n",
        "df_scaled_mm = pd.DataFrame(\n",
        "    scaler_mm.fit_transform(df_eng_ohe[focus_vars].astype(float)),\n",
        "    columns=focus_vars,\n",
        "    index=df_eng_ohe.index\n",
        ")\n",
        "\n",
        "# Junta ao dataset codificado\n",
        "df_eng_scaled = pd.concat([df_eng_ohe, df_scaled_std.add_suffix(\"_std\"), df_scaled_mm.add_suffix(\"_mm\")], axis=1)\n",
        "\n",
        "print(\"[Scaling] Dataset final:\", df_eng_scaled.shape)\n",
        "print(\"[Scaling] Variáveis numéricas escalonadas:\", focus_vars)\n"
      ],
      "metadata": {
        "id": "SMkaxI3IjlJC",
        "outputId": "2dd1865b-9cc9-46fe-aaa0-6d465a948e47",
        "colab": {
          "base_uri": "https://localhost:8080/"
        }
      },
      "id": "SMkaxI3IjlJC",
      "execution_count": 15,
      "outputs": [
        {
          "output_type": "stream",
          "name": "stdout",
          "text": [
            "[Scaling] Dataset final: (10920, 1577)\n",
            "[Scaling] Variáveis numéricas escalonadas: ['NU_IDADE_N', 'CONTAG_CD4']\n"
          ]
        }
      ]
    },
    {
      "cell_type": "markdown",
      "source": [
        "### Auditoria Pós-Escalonamento — Comparação de Estratégias (StandardScaler e MinMaxScaler)"
      ],
      "metadata": {
        "id": "5sdTaAw0k28d"
      },
      "id": "5sdTaAw0k28d"
    },
    {
      "cell_type": "code",
      "source": [
        "# ==========================================\n",
        "# 📊 AUDITORIA PÓS-ESCALONAMENTO\n",
        "# Boxplots + Histogramas + Estatísticas\n",
        "# ==========================================\n",
        "import matplotlib.pyplot as plt\n",
        "\n",
        "focus_vars = numerical_discrete_cols  # [\"NU_IDADE_N\", \"CONTAG_CD4\"]\n",
        "\n",
        "# ----------------------------------------------------------\n",
        "# 1) Função para estatísticas comparativas\n",
        "# ----------------------------------------------------------\n",
        "def resumo_stats_matriz(df_before, df_std, df_mm, cols):\n",
        "    stats = {}\n",
        "    for col in cols:\n",
        "        stats[col] = {\n",
        "            (\"Antes\", \"Média\"):  df_before[col].mean(),\n",
        "            (\"Antes\", \"Desvio\"): df_before[col].std(),\n",
        "            (\"Antes\", \"Min\"):    df_before[col].min(),\n",
        "            (\"Antes\", \"Max\"):    df_before[col].max(),\n",
        "\n",
        "            (\"Pós-Std\", \"Média\"):  df_std[col].mean(),\n",
        "            (\"Pós-Std\", \"Desvio\"): df_std[col].std(),\n",
        "            (\"Pós-Std\", \"Min\"):    df_std[col].min(),\n",
        "            (\"Pós-Std\", \"Max\"):    df_std[col].max(),\n",
        "\n",
        "            (\"Pós-MinMax\", \"Média\"):  df_mm[col].mean(),\n",
        "            (\"Pós-MinMax\", \"Desvio\"): df_mm[col].std(),\n",
        "            (\"Pós-MinMax\", \"Min\"):    df_mm[col].min(),\n",
        "            (\"Pós-MinMax\", \"Max\"):    df_mm[col].max(),\n",
        "        }\n",
        "    df_stats = pd.DataFrame(stats).T.round(3)\n",
        "    df_stats.columns = pd.MultiIndex.from_tuples(df_stats.columns)\n",
        "    return df_stats\n",
        "\n",
        "# ----------------------------------------------------------\n",
        "# 2) Boxplots comparativos\n",
        "# ----------------------------------------------------------\n",
        "datasets = {\n",
        "    \"Original (sem escalonamento)\": df_eng_ohe[focus_vars].astype(float).values,\n",
        "    \"Após StandardScaler\": df_scaled_std.values,\n",
        "    \"Após MinMaxScaler\": df_scaled_mm.values\n",
        "}\n",
        "\n",
        "colors = [\"lightgreen\", \"blue\", \"green\"]\n",
        "\n",
        "fig, axes = plt.subplots(1, len(datasets), figsize=(18, 6))\n",
        "for ax, (title, data), color in zip(axes, datasets.items(), colors):\n",
        "    ax.boxplot(data, tick_labels=focus_vars, vert=True, patch_artist=True,\n",
        "               boxprops=dict(facecolor=color))\n",
        "    ax.set_title(title, fontsize=12)\n",
        "    ax.tick_params(axis='x', rotation=45)\n",
        "\n",
        "plt.suptitle(\"Comparação dos Escalonadores – Boxplots\", fontsize=14)\n",
        "plt.tight_layout(rect=[0, 0, 1, 0.95])\n",
        "plt.show()\n",
        "\n",
        "# ----------------------------------------------------------\n",
        "# 3) Histogramas comparativos\n",
        "# ----------------------------------------------------------\n",
        "fig, axes = plt.subplots(len(focus_vars), len(datasets), figsize=(18, 6))\n",
        "for i, var in enumerate(focus_vars):\n",
        "    for j, (title, data) in enumerate(datasets.items()):\n",
        "        axes[i, j].hist(data[:, i], bins=50, color=colors[j], alpha=0.8)\n",
        "        axes[i, j].set_title(f\"{var} – {title}\", fontsize=11)\n",
        "        axes[i, j].set_xlabel(\"Valor\")\n",
        "        axes[i, j].set_ylabel(\"Frequência\")\n",
        "plt.suptitle(\"Comparação dos Escalonadores – Histogramas\", fontsize=14)\n",
        "plt.tight_layout(rect=[0, 0, 1, 0.95])\n",
        "plt.show()\n",
        "\"\"\"\n",
        "# ----------------------------------------------------------\n",
        "# 3b) Histogramas extras para CONTAG_CD4 com escala log\n",
        "# ----------------------------------------------------------\n",
        "fig, axes = plt.subplots(1, len(datasets), figsize=(18, 4))\n",
        "for j, (title, data) in enumerate(datasets.items()):\n",
        "    axes[j].hist(data[:, focus_vars.index(\"CONTAG_CD4\")], bins=50, color=colors[j], alpha=0.8)\n",
        "    axes[j].set_xscale(\"log\")\n",
        "    axes[j].set_title(f\"CONTAG_CD4 – {title} (escala log)\", fontsize=11)\n",
        "    axes[j].set_xlabel(\"Valor (log)\")\n",
        "    axes[j].set_ylabel(\"Frequência\")\n",
        "\n",
        "plt.suptitle(\"Distribuição de CONTAG_CD4 – Escala log\", fontsize=14)\n",
        "plt.tight_layout(rect=[0, 0, 1, 0.95])\n",
        "plt.show()\n",
        "\"\"\"\n",
        "# ----------------------------------------------------------\n",
        "# 4) Estatísticas comparativas em formato matricial\n",
        "# ----------------------------------------------------------\n",
        "comparativo_stats_matriz = resumo_stats_matriz(\n",
        "    df_eng_ohe[focus_vars], df_scaled_std, df_scaled_mm, focus_vars\n",
        ")\n",
        "\n",
        "print(\"\\n=== Estatísticas comparativas (antes vs pós-escalonamento) ===\")\n",
        "display(comparativo_stats_matriz)\n"
      ],
      "metadata": {
        "id": "Dzi0p44jkX-A",
        "outputId": "472dd852-d3e6-49e3-bd92-f13191e4055f",
        "colab": {
          "base_uri": "https://localhost:8080/",
          "height": 615
        }
      },
      "id": "Dzi0p44jkX-A",
      "execution_count": 16,
      "outputs": [
        {
          "output_type": "display_data",
          "data": {
            "text/plain": [
              "<Figure size 1800x600 with 3 Axes>"
            ],
            "image/png": "[encoded data removed]"
          },
          "metadata": {}
        },
        {
          "output_type": "display_data",
          "data": {
            "text/plain": [
              "<Figure size 1800x600 with 6 Axes>"
            ],
            "image/png": "[encoded data removed]"
          },
          "metadata": {}
        },
        {
          "output_type": "stream",
          "name": "stdout",
          "text": [
            "\n",
            "=== Estatísticas comparativas (antes vs pós-escalonamento) ===\n"
          ]
        },
        {
          "output_type": "display_data",
          "data": {
            "text/plain": [
              "             Antes                          Pós-Std                        \\\n",
              "             Média    Desvio  Min       Max   Média Desvio    Min     Max   \n",
              "NU_IDADE_N  32.652    10.023  0.0      95.0    -0.0    1.0 -3.258   6.221   \n",
              "CONTAG_CD4  93.436  2352.481  0.0  222781.0    -0.0    1.0 -0.040  94.665   \n",
              "\n",
              "           Pós-MinMax                   \n",
              "                Média Desvio  Min  Max  \n",
              "NU_IDADE_N      0.344  0.106  0.0  1.0  \n",
              "CONTAG_CD4      0.000  0.011  0.0  1.0  "
            ],
            "text/html": [
              "\n",
              "  <div id=\"df-e62294b4-6155-4208-9409-5369e19626f7\" class=\"colab-df-container\">\n",
              "    <div>\n",
              "<style scoped>\n",
              "    .dataframe tbody tr th:only-of-type {\n",
              "        vertical-align: middle;\n",
              "    }\n",
              "\n",
              "    .dataframe tbody tr th {\n",
              "        vertical-align: top;\n",
              "    }\n",
              "\n",
              "    .dataframe thead tr th {\n",
              "        text-align: left;\n",
              "    }\n",
              "</style>\n",
              "<table border=\"1\" class=\"dataframe\">\n",
              "  <thead>\n",
              "    <tr>\n",
              "      <th></th>\n",
              "      <th colspan=\"4\" halign=\"left\">Antes</th>\n",
              "      <th colspan=\"4\" halign=\"left\">Pós-Std</th>\n",
              "      <th colspan=\"4\" halign=\"left\">Pós-MinMax</th>\n",
              "    </tr>\n",
              "    <tr>\n",
              "      <th></th>\n",
              "      <th>Média</th>\n",
              "      <th>Desvio</th>\n",
              "      <th>Min</th>\n",
              "      <th>Max</th>\n",
              "      <th>Média</th>\n",
              "      <th>Desvio</th>\n",
              "      <th>Min</th>\n",
              "      <th>Max</th>\n",
              "      <th>Média</th>\n",
              "      <th>Desvio</th>\n",
              "      <th>Min</th>\n",
              "      <th>Max</th>\n",
              "    </tr>\n",
              "  </thead>\n",
              "  <tbody>\n",
              "    <tr>\n",
              "      <th>NU_IDADE_N</th>\n",
              "      <td>32.652</td>\n",
              "      <td>10.023</td>\n",
              "      <td>0.0</td>\n",
              "      <td>95.0</td>\n",
              "      <td>-0.0</td>\n",
              "      <td>1.0</td>\n",
              "      <td>-3.258</td>\n",
              "      <td>6.221</td>\n",
              "      <td>0.344</td>\n",
              "      <td>0.106</td>\n",
              "      <td>0.0</td>\n",
              "      <td>1.0</td>\n",
              "    </tr>\n",
              "    <tr>\n",
              "      <th>CONTAG_CD4</th>\n",
              "      <td>93.436</td>\n",
              "      <td>2352.481</td>\n",
              "      <td>0.0</td>\n",
              "      <td>222781.0</td>\n",
              "      <td>-0.0</td>\n",
              "      <td>1.0</td>\n",
              "      <td>-0.040</td>\n",
              "      <td>94.665</td>\n",
              "      <td>0.000</td>\n",
              "      <td>0.011</td>\n",
              "      <td>0.0</td>\n",
              "      <td>1.0</td>\n",
              "    </tr>\n",
              "  </tbody>\n",
              "</table>\n",
              "</div>\n",
              "    <div class=\"colab-df-buttons\">\n",
              "\n",
              "  <div class=\"colab-df-container\">\n",
              "    <button class=\"colab-df-convert\" onclick=\"convertToInteractive('df-e62294b4-6155-4208-9409-5369e19626f7')\"\n",
              "            title=\"Convert this dataframe to an interactive table.\"\n",
              "            style=\"display:none;\">\n",
              "\n",
              "  <svg xmlns=\"http://www.w3.org/2000/svg\" height=\"24px\" viewBox=\"0 -960 960 960\">\n",
              "    <path d=\"M120-120v-720h720v720H120Zm60-500h600v-160H180v160Zm220 220h160v-160H400v160Zm0 220h160v-160H400v160ZM180-400h160v-160H180v160Zm440 0h160v-160H620v160ZM180-180h160v-160H180v160Zm440 0h160v-160H620v160Z\"/>\n",
              "  </svg>\n",
              "    </button>\n",
              "\n",
              "  <style>\n",
              "    .colab-df-container {\n",
              "      display:flex;\n",
              "      gap: 12px;\n",
              "    }\n",
              "\n",
              "    .colab-df-convert {\n",
              "      background-color: #E8F0FE;\n",
              "      border: none;\n",
              "      border-radius: 50%;\n",
              "      cursor: pointer;\n",
              "      display: none;\n",
              "      fill: #1967D2;\n",
              "      height: 32px;\n",
              "      padding: 0 0 0 0;\n",
              "      width: 32px;\n",
              "    }\n",
              "\n",
              "    .colab-df-convert:hover {\n",
              "      background-color: #E2EBFA;\n",
              "      box-shadow: 0px 1px 2px rgba(60, 64, 67, 0.3), 0px 1px 3px 1px rgba(60, 64, 67, 0.15);\n",
              "      fill: #174EA6;\n",
              "    }\n",
              "\n",
              "    .colab-df-buttons div {\n",
              "      margin-bottom: 4px;\n",
              "    }\n",
              "\n",
              "    [theme=dark] .colab-df-convert {\n",
              "      background-color: #3B4455;\n",
              "      fill: #D2E3FC;\n",
              "    }\n",
              "\n",
              "    [theme=dark] .colab-df-convert:hover {\n",
              "      background-color: #434B5C;\n",
              "      box-shadow: 0px 1px 3px 1px rgba(0, 0, 0, 0.15);\n",
              "      filter: drop-shadow(0px 1px 2px rgba(0, 0, 0, 0.3));\n",
              "      fill: #FFFFFF;\n",
              "    }\n",
              "  </style>\n",
              "\n",
              "    <script>\n",
              "      const buttonEl =\n",
              "        document.querySelector('#df-e62294b4-6155-4208-9409-5369e19626f7 button.colab-df-convert');\n",
              "      buttonEl.style.display =\n",
              "        google.colab.kernel.accessAllowed ? 'block' : 'none';\n",
              "\n",
              "      async function convertToInteractive(key) {\n",
              "        const element = document.querySelector('#df-e62294b4-6155-4208-9409-5369e19626f7');\n",
              "        const dataTable =\n",
              "          await google.colab.kernel.invokeFunction('convertToInteractive',\n",
              "                                                    [key], {});\n",
              "        if (!dataTable) return;\n",
              "\n",
              "        const docLinkHtml = 'Like what you see? Visit the ' +\n",
              "          '<a target=\"_blank\" href=https://colab.research.google.com/notebooks/data_table.ipynb>data table notebook</a>'\n",
              "          + ' to learn more about interactive tables.';\n",
              "        element.innerHTML = '';\n",
              "        dataTable['output_type'] = 'display_data';\n",
              "        await google.colab.output.renderOutput(dataTable, element);\n",
              "        const docLink = document.createElement('div');\n",
              "        docLink.innerHTML = docLinkHtml;\n",
              "        element.appendChild(docLink);\n",
              "      }\n",
              "    </script>\n",
              "  </div>\n",
              "\n",
              "\n",
              "    <div id=\"df-522da859-cfdf-4e8e-86e0-3a5abe0612a0\">\n",
              "      <button class=\"colab-df-quickchart\" onclick=\"quickchart('df-522da859-cfdf-4e8e-86e0-3a5abe0612a0')\"\n",
              "                title=\"Suggest charts\"\n",
              "                style=\"display:none;\">\n",
              "\n",
              "<svg xmlns=\"http://www.w3.org/2000/svg\" height=\"24px\"viewBox=\"0 0 24 24\"\n",
              "     width=\"24px\">\n",
              "    <g>\n",
              "        <path d=\"M19 3H5c-1.1 0-2 .9-2 2v14c0 1.1.9 2 2 2h14c1.1 0 2-.9 2-2V5c0-1.1-.9-2-2-2zM9 17H7v-7h2v7zm4 0h-2V7h2v10zm4 0h-2v-4h2v4z\"/>\n",
              "    </g>\n",
              "</svg>\n",
              "      </button>\n",
              "\n",
              "<style>\n",
              "  .colab-df-quickchart {\n",
              "      --bg-color: #E8F0FE;\n",
              "      --fill-color: #1967D2;\n",
              "      --hover-bg-color: #E2EBFA;\n",
              "      --hover-fill-color: #174EA6;\n",
              "      --disabled-fill-color: #AAA;\n",
              "      --disabled-bg-color: #DDD;\n",
              "  }\n",
              "\n",
              "  [theme=dark] .colab-df-quickchart {\n",
              "      --bg-color: #3B4455;\n",
              "      --fill-color: #D2E3FC;\n",
              "      --hover-bg-color: #434B5C;\n",
              "      --hover-fill-color: #FFFFFF;\n",
              "      --disabled-bg-color: #3B4455;\n",
              "      --disabled-fill-color: #666;\n",
              "  }\n",
              "\n",
              "  .colab-df-quickchart {\n",
              "    background-color: var(--bg-color);\n",
              "    border: none;\n",
              "    border-radius: 50%;\n",
              "    cursor: pointer;\n",
              "    display: none;\n",
              "    fill: var(--fill-color);\n",
              "    height: 32px;\n",
              "    padding: 0;\n",
              "    width: 32px;\n",
              "  }\n",
              "\n",
              "  .colab-df-quickchart:hover {\n",
              "    background-color: var(--hover-bg-color);\n",
              "    box-shadow: 0 1px 2px rgba(60, 64, 67, 0.3), 0 1px 3px 1px rgba(60, 64, 67, 0.15);\n",
              "    fill: var(--button-hover-fill-color);\n",
              "  }\n",
              "\n",
              "  .colab-df-quickchart-complete:disabled,\n",
              "  .colab-df-quickchart-complete:disabled:hover {\n",
              "    background-color: var(--disabled-bg-color);\n",
              "    fill: var(--disabled-fill-color);\n",
              "    box-shadow: none;\n",
              "  }\n",
              "\n",
              "  .colab-df-spinner {\n",
              "    border: 2px solid var(--fill-color);\n",
              "    border-color: transparent;\n",
              "    border-bottom-color: var(--fill-color);\n",
              "    animation:\n",
              "      spin 1s steps(1) infinite;\n",
              "  }\n",
              "\n",
              "  @keyframes spin {\n",
              "    0% {\n",
              "      border-color: transparent;\n",
              "      border-bottom-color: var(--fill-color);\n",
              "      border-left-color: var(--fill-color);\n",
              "    }\n",
              "    20% {\n",
              "      border-color: transparent;\n",
              "      border-left-color: var(--fill-color);\n",
              "      border-top-color: var(--fill-color);\n",
              "    }\n",
              "    30% {\n",
              "      border-color: transparent;\n",
              "      border-left-color: var(--fill-color);\n",
              "      border-top-color: var(--fill-color);\n",
              "      border-right-color: var(--fill-color);\n",
              "    }\n",
              "    40% {\n",
              "      border-color: transparent;\n",
              "      border-right-color: var(--fill-color);\n",
              "      border-top-color: var(--fill-color);\n",
              "    }\n",
              "    60% {\n",
              "      border-color: transparent;\n",
              "      border-right-color: var(--fill-color);\n",
              "    }\n",
              "    80% {\n",
              "      border-color: transparent;\n",
              "      border-right-color: var(--fill-color);\n",
              "      border-bottom-color: var(--fill-color);\n",
              "    }\n",
              "    90% {\n",
              "      border-color: transparent;\n",
              "      border-bottom-color: var(--fill-color);\n",
              "    }\n",
              "  }\n",
              "</style>\n",
              "\n",
              "      <script>\n",
              "        async function quickchart(key) {\n",
              "          const quickchartButtonEl =\n",
              "            document.querySelector('#' + key + ' button');\n",
              "          quickchartButtonEl.disabled = true;  // To prevent multiple clicks.\n",
              "          quickchartButtonEl.classList.add('colab-df-spinner');\n",
              "          try {\n",
              "            const charts = await google.colab.kernel.invokeFunction(\n",
              "                'suggestCharts', [key], {});\n",
              "          } catch (error) {\n",
              "            console.error('Error during call to suggestCharts:', error);\n",
              "          }\n",
              "          quickchartButtonEl.classList.remove('colab-df-spinner');\n",
              "          quickchartButtonEl.classList.add('colab-df-quickchart-complete');\n",
              "        }\n",
              "        (() => {\n",
              "          let quickchartButtonEl =\n",
              "            document.querySelector('#df-522da859-cfdf-4e8e-86e0-3a5abe0612a0 button');\n",
              "          quickchartButtonEl.style.display =\n",
              "            google.colab.kernel.accessAllowed ? 'block' : 'none';\n",
              "        })();\n",
              "      </script>\n",
              "    </div>\n",
              "\n",
              "  <div id=\"id_b77a1250-f306-4413-8596-683e6cda8695\">\n",
              "    <style>\n",
              "      .colab-df-generate {\n",
              "        background-color: #E8F0FE;\n",
              "        border: none;\n",
              "        border-radius: 50%;\n",
              "        cursor: pointer;\n",
              "        display: none;\n",
              "        fill: #1967D2;\n",
              "        height: 32px;\n",
              "        padding: 0 0 0 0;\n",
              "        width: 32px;\n",
              "      }\n",
              "\n",
              "      .colab-df-generate:hover {\n",
              "        background-color: #E2EBFA;\n",
              "        box-shadow: 0px 1px 2px rgba(60, 64, 67, 0.3), 0px 1px 3px 1px rgba(60, 64, 67, 0.15);\n",
              "        fill: #174EA6;\n",
              "      }\n",
              "\n",
              "      [theme=dark] .colab-df-generate {\n",
              "        background-color: #3B4455;\n",
              "        fill: #D2E3FC;\n",
              "      }\n",
              "\n",
              "      [theme=dark] .colab-df-generate:hover {\n",
              "        background-color: #434B5C;\n",
              "        box-shadow: 0px 1px 3px 1px rgba(0, 0, 0, 0.15);\n",
              "        filter: drop-shadow(0px 1px 2px rgba(0, 0, 0, 0.3));\n",
              "        fill: #FFFFFF;\n",
              "      }\n",
              "    </style>\n",
              "    <button class=\"colab-df-generate\" onclick=\"generateWithVariable('comparativo_stats_matriz')\"\n",
              "            title=\"Generate code using this dataframe.\"\n",
              "            style=\"display:none;\">\n",
              "\n",
              "  <svg xmlns=\"http://www.w3.org/2000/svg\" height=\"24px\"viewBox=\"0 0 24 24\"\n",
              "       width=\"24px\">\n",
              "    <path d=\"M7,19H8.4L18.45,9,17,7.55,7,17.6ZM5,21V16.75L18.45,3.32a2,2,0,0,1,2.83,0l1.4,1.43a1.91,1.91,0,0,1,.58,1.4,1.91,1.91,0,0,1-.58,1.4L9.25,21ZM18.45,9,17,7.55Zm-12,3A5.31,5.31,0,0,0,4.9,8.1,5.31,5.31,0,0,0,1,6.5,5.31,5.31,0,0,0,4.9,4.9,5.31,5.31,0,0,0,6.5,1,5.31,5.31,0,0,0,8.1,4.9,5.31,5.31,0,0,0,12,6.5,5.46,5.46,0,0,0,6.5,12Z\"/>\n",
              "  </svg>\n",
              "    </button>\n",
              "    <script>\n",
              "      (() => {\n",
              "      const buttonEl =\n",
              "        document.querySelector('#id_b77a1250-f306-4413-8596-683e6cda8695 button.colab-df-generate');\n",
              "      buttonEl.style.display =\n",
              "        google.colab.kernel.accessAllowed ? 'block' : 'none';\n",
              "\n",
              "      buttonEl.onclick = () => {\n",
              "        google.colab.notebook.generateWithVariable('comparativo_stats_matriz');\n",
              "      }\n",
              "      })();\n",
              "    </script>\n",
              "  </div>\n",
              "\n",
              "    </div>\n",
              "  </div>\n"
            ],
            "application/vnd.google.colaboratory.intrinsic+json": {
              "type": "dataframe",
              "variable_name": "comparativo_stats_matriz",
              "summary": "{\n  \"name\": \"comparativo_stats_matriz\",\n  \"rows\": 2,\n  \"fields\": [\n    {\n      \"column\": [\n        \"Antes\",\n        \"M\\u00e9dia\"\n      ],\n      \"properties\": {\n        \"dtype\": \"number\",\n        \"std\": 42.98077858764311,\n        \"min\": 32.652,\n        \"max\": 93.436,\n        \"num_unique_values\": 2,\n        \"samples\": [\n          93.436,\n          32.652\n        ],\n        \"semantic_type\": \"\",\n        \"description\": \"\"\n      }\n    },\n    {\n      \"column\": [\n        \"Antes\",\n        \"Desvio\"\n      ],\n      \"properties\": {\n        \"dtype\": \"number\",\n        \"std\": 1656.367936444678,\n        \"min\": 10.023,\n        \"max\": 2352.481,\n        \"num_unique_values\": 2,\n        \"samples\": [\n          2352.481,\n          10.023\n        ],\n        \"semantic_type\": \"\",\n        \"description\": \"\"\n      }\n    },\n    {\n      \"column\": [\n        \"Antes\",\n        \"Min\"\n      ],\n      \"properties\": {\n        \"dtype\": \"number\",\n        \"std\": 0.0,\n        \"min\": 0.0,\n        \"max\": 0.0,\n        \"num_unique_values\": 1,\n        \"samples\": [\n          0.0\n        ],\n        \"semantic_type\": \"\",\n        \"description\": \"\"\n      }\n    },\n    {\n      \"column\": [\n        \"Antes\",\n        \"Max\"\n      ],\n      \"properties\": {\n        \"dtype\": \"number\",\n        \"std\": 157462.78067530753,\n        \"min\": 95.0,\n        \"max\": 222781.0,\n        \"num_unique_values\": 2,\n        \"samples\": [\n          222781.0\n        ],\n        \"semantic_type\": \"\",\n        \"description\": \"\"\n      }\n    },\n    {\n      \"column\": [\n        \"P\\u00f3s-Std\",\n        \"M\\u00e9dia\"\n      ],\n      \"properties\": {\n        \"dtype\": \"number\",\n        \"std\": 0.0,\n        \"min\": -0.0,\n        \"max\": -0.0,\n        \"num_unique_values\": 1,\n        \"samples\": [\n          -0.0\n        ],\n        \"semantic_type\": \"\",\n        \"description\": \"\"\n      }\n    },\n    {\n      \"column\": [\n        \"P\\u00f3s-Std\",\n        \"Desvio\"\n      ],\n      \"properties\": {\n        \"dtype\": \"number\",\n        \"std\": 0.0,\n        \"min\": 1.0,\n        \"max\": 1.0,\n        \"num_unique_values\": 1,\n        \"samples\": [\n          1.0\n        ],\n        \"semantic_type\": \"\",\n        \"description\": \"\"\n      }\n    },\n    {\n      \"column\": [\n        \"P\\u00f3s-Std\",\n        \"Min\"\n      ],\n      \"properties\": {\n        \"dtype\": \"number\",\n        \"std\": 2.27546962185831,\n        \"min\": -3.258,\n        \"max\": -0.04,\n        \"num_unique_values\": 2,\n        \"samples\": [\n          -0.04\n        ],\n        \"semantic_type\": \"\",\n        \"description\": \"\"\n      }\n    },\n    {\n      \"column\": [\n        \"P\\u00f3s-Std\",\n        \"Max\"\n      ],\n      \"properties\": {\n        \"dtype\": \"number\",\n        \"std\": 62.53935215526302,\n        \"min\": 6.221,\n        \"max\": 94.665,\n        \"num_unique_values\": 2,\n        \"samples\": [\n          94.665\n        ],\n        \"semantic_type\": \"\",\n        \"description\": \"\"\n      }\n    },\n    {\n      \"column\": [\n        \"P\\u00f3s-MinMax\",\n        \"M\\u00e9dia\"\n      ],\n      \"properties\": {\n        \"dtype\": \"number\",\n        \"std\": 0.24324473272817232,\n        \"min\": 0.0,\n        \"max\": 0.344,\n        \"num_unique_values\": 2,\n        \"samples\": [\n          0.0\n        ],\n        \"semantic_type\": \"\",\n        \"description\": \"\"\n      }\n    },\n    {\n      \"column\": [\n        \"P\\u00f3s-MinMax\",\n        \"Desvio\"\n      ],\n      \"properties\": {\n        \"dtype\": \"number\",\n        \"std\": 0.06717514421272201,\n        \"min\": 0.011,\n        \"max\": 0.106,\n        \"num_unique_values\": 2,\n        \"samples\": [\n          0.011\n        ],\n        \"semantic_type\": \"\",\n        \"description\": \"\"\n      }\n    },\n    {\n      \"column\": [\n        \"P\\u00f3s-MinMax\",\n        \"Min\"\n      ],\n      \"properties\": {\n        \"dtype\": \"number\",\n        \"std\": 0.0,\n        \"min\": 0.0,\n        \"max\": 0.0,\n        \"num_unique_values\": 1,\n        \"samples\": [\n          0.0\n        ],\n        \"semantic_type\": \"\",\n        \"description\": \"\"\n      }\n    },\n    {\n      \"column\": [\n        \"P\\u00f3s-MinMax\",\n        \"Max\"\n      ],\n      \"properties\": {\n        \"dtype\": \"number\",\n        \"std\": 0.0,\n        \"min\": 1.0,\n        \"max\": 1.0,\n        \"num_unique_values\": 1,\n        \"samples\": [\n          1.0\n        ],\n        \"semantic_type\": \"\",\n        \"description\": \"\"\n      }\n    }\n  ]\n}"
            }
          },
          "metadata": {}
        }
      ]
    },
    {
      "cell_type": "markdown",
      "source": [
        "### 📊 Nota da seção – Auditoria Pós-Escalonamento (StandardScaler vs *MinMaxScaler*)  \n",
        "\n",
        "Foram aplicados dois escalonadores nas variáveis numéricas discretas (`NU_IDADE_N`, `CONTAG_CD4`).  \n",
        "\n",
        "| Variável    | Distribuição observada                           | StandardScaler (z-score)                              | MinMaxScaler [0,1]                         | Implicações |\n",
        "|-------------|--------------------------------------------------|-------------------------------------------------------|---------------------------------------------|-------------|\n",
        "| NU_IDADE_N  | Discreta, outliers plausíveis em idosos (80+)     | Centraliza em média ≈ 0; DP ≈ 1; reduz impacto outliers | Reescala para [0,1]; mantém extremos        | Modelos lineares ↔ z-score; modelos de distância ↔ [0,1] |\n",
        "| CONTAG_CD4  | Altamente assimétrica (muitos baixos, poucos altos) | Cauda longa ainda influencia                         | Forte compressão dos valores baixos, cauda em 1 | Modelos de distância ↔ [0,1]; avaliar robustez em lineares |\n",
        "\n",
        "✅ **Conclusão:** ambos funcionaram corretamente; serão mantidos no pipeline e comparados na modelagem para definir o mais adequado.  \n",
        "\n",
        "---"
      ],
      "metadata": {
        "id": "UiyaMLvf0bBX"
      },
      "id": "UiyaMLvf0bBX"
    },
    {
      "cell_type": "markdown",
      "source": [
        "### 💾 Persistência dos *Escalonadores*"
      ],
      "metadata": {
        "id": "FfCShb-cZw33"
      },
      "id": "FfCShb-cZw33"
    },
    {
      "cell_type": "code",
      "source": [
        "# ==========================================\n",
        "# 💾 Persistência dos Escalonadores\n",
        "# ==========================================\n",
        "#import joblib\n",
        "\n",
        "# Caminhos de saída (pode ajustar para seu diretório /data)\n",
        "scaler_std_path = \"mpox_2022_scaler_standard.pkl\"\n",
        "scaler_mm_path  = \"mpox_2022_scaler_minmax.pkl\"\n",
        "\n",
        "# Salvar objetos treinados\n",
        "joblib.dump(scaler_std, scaler_std_path)\n",
        "joblib.dump(scaler_mm, scaler_mm_path)\n",
        "\n",
        "print(f\"✔️ Escalonadores persistidos com sucesso:\")\n",
        "print(f\"- StandardScaler → {scaler_std_path}\")\n",
        "print(f\"- MinMaxScaler   → {scaler_mm_path}\")\n",
        "\n",
        "# 🔍 Verificação rápida (recarregar e testar)\n",
        "scaler_std_loaded = joblib.load(scaler_std_path)\n",
        "scaler_mm_loaded  = joblib.load(scaler_mm_path)\n",
        "\n",
        "print(\"\\n✅ Teste de recarregamento concluído:\")\n",
        "print(\"StandardScaler:\", type(scaler_std_loaded))\n",
        "print(\"MinMaxScaler  :\", type(scaler_mm_loaded))\n"
      ],
      "metadata": {
        "colab": {
          "base_uri": "https://localhost:8080/"
        },
        "id": "aTjWWaetZm-Q",
        "outputId": "35b58ad2-3f77-4696-9964-e2f395089c4b"
      },
      "id": "aTjWWaetZm-Q",
      "execution_count": 17,
      "outputs": [
        {
          "output_type": "stream",
          "name": "stdout",
          "text": [
            "✔️ Escalonadores persistidos com sucesso:\n",
            "- StandardScaler → mpox_2022_scaler_standard.pkl\n",
            "- MinMaxScaler   → mpox_2022_scaler_minmax.pkl\n",
            "\n",
            "✅ Teste de recarregamento concluído:\n",
            "StandardScaler: <class 'sklearn.preprocessing._data.StandardScaler'>\n",
            "MinMaxScaler  : <class 'sklearn.preprocessing._data.MinMaxScaler'>\n"
          ]
        }
      ]
    },
    {
      "cell_type": "markdown",
      "source": [
        "## 📌 Nota da seção – Transformação de Dados\n",
        "\n",
        "- **Vetores de colunas** definidos para orientar pré-processamento.  \n",
        "- **Codificação categórica (OneHotEncoder)** aplicada, garantindo consistência e robustez.  \n",
        "- **Escalonamento numérico** (StandardScaler e MinMaxScaler) avaliado com auditoria visual e estatística.  \n",
        "- Dataset resultante está pronto para a próxima etapa: **Seleção de Atributos**.  \n",
        "\n"
      ],
      "metadata": {
        "id": "E5GpmH-m1Hoj"
      },
      "id": "E5GpmH-m1Hoj"
    },
    {
      "cell_type": "markdown",
      "source": [
        "---\n",
        "## 🎯 Benchmarking dos Alvos Binários\n",
        "---\n",
        "\n",
        "Agora que se concluiu a etapa de **Transformação de Dados** (codificação de categóricas + escalonamento de numéricas), pode-se avaliar qual alvo binário é mais promissor para modelagem.\n",
        "\n",
        "Critérios de comparação:\n",
        "1. **Distribuição de classes** → verificar desbalanceamento.  \n",
        "2. **Informatividade inicial** → Mutual Information entre X e cada y.  \n",
        "3. **Benchmark rápido** → desempenho de uma Regressão Logística simples (Recall, F1, ROC-AUC).\n",
        "\n",
        "Esse benchmarking orientará a escolha do **alvo principal** para o notebook parte 2.\n"
      ],
      "metadata": {
        "id": "cPQDI_IDO7rG"
      },
      "id": "cPQDI_IDO7rG"
    },
    {
      "cell_type": "code",
      "source": [
        "# --- Distribuição de classes dos 3 alvos ---\n",
        "# import pandas as pd\n",
        "\n",
        "targets = [\"target_hosp\", \"target_obito_any\", \"target_obito_mpx\"]\n",
        "\n",
        "for target in targets:\n",
        "    if target in df_atribsel_final.columns:\n",
        "        dist = df_atribsel_final[target].value_counts(normalize=True).rename(\"proporção\")\n",
        "        print(f\"\\n📊 {target} — distribuição de classes\")\n",
        "        print(dist)\n"
      ],
      "metadata": {
        "id": "5Huve2NgO1hH"
      },
      "id": "5Huve2NgO1hH",
      "execution_count": null,
      "outputs": []
    },
    {
      "cell_type": "markdown",
      "source": [],
      "metadata": {
        "id": "2-YyK9H1O1EM"
      },
      "id": "2-YyK9H1O1EM"
    },
    {
      "cell_type": "markdown",
      "source": [],
      "metadata": {
        "id": "y0gT25nmO0-E"
      },
      "id": "y0gT25nmO0-E"
    },
    {
      "cell_type": "markdown",
      "source": [
        "#SEÇÃO FEITA MAS PRECISA DE REANÁLISE APÓS IMPLEMENTAR BENCHMARKING DOS ALVOS\n"
      ],
      "metadata": {
        "id": "zhYonXoxOgLU"
      },
      "id": "zhYonXoxOgLU"
    },
    {
      "cell_type": "markdown",
      "source": [
        "---\n",
        "## 🔄 Seleção de Atributos\n",
        "---"
      ],
      "metadata": {
        "id": "7xj7zO1KIBKI"
      },
      "id": "7xj7zO1KIBKI"
    },
    {
      "cell_type": "markdown",
      "source": [
        "\n",
        "\n",
        "### 1️⃣ Filtros Estatísticos (Filter Methods)\n",
        "- ✂️ **Remoção manual de inviáveis**  \n",
        "- 📉 **Filtro de variância** (atributos quase constantes)  \n",
        "- 🔎 **Filtro semântico/manual** (variáveis redundantes em significado)  \n",
        "- 🔍 **Diagnóstico + Filtro de correlação** (remover colinearidade > 0.9)  \n",
        "\n",
        "📖 *Cap. 5.4 Extensions and Variations, p. 227*  \n",
        "> “Filter methods evaluate attributes independently of the target variable, removing those that are unlikely to be predictive.”\n",
        "\n",
        "---\n",
        "\n"
      ],
      "metadata": {
        "id": "XUAAz4hSoPQ8"
      },
      "id": "XUAAz4hSoPQ8"
    },
    {
      "cell_type": "code",
      "source": [
        "# 1. Seleção de Atributos — Remoção inicial + filtro de variância + redundâncias\n",
        "\n",
        "from sklearn.feature_selection import VarianceThreshold\n",
        "import warnings\n",
        "\n",
        "# Suprime apenas os RuntimeWarnings (ex.: variância de colunas constantes ou NaN)\n",
        "warnings.filterwarnings(\"ignore\", category=RuntimeWarning)\n",
        "\n",
        "# Carrega dataset pós-engenharia de atributos\n",
        "df_feateng = pd.read_csv(\"mpox_2022_feateng.csv\")\n",
        "print(\"\\nTotal de variáveis:\")\n",
        "print(f\"[0] No dataset inicial: {df_feateng.shape[1]}\")\n",
        "\n",
        "# --------------------------\n",
        "# A) Remoção de inviáveis\n",
        "# --------------------------\n",
        "inviaveis = [\n",
        "    \"__arquivo_origem__\",   # identificador técnico\n",
        "    \"OUTRO_DES\"             # texto livre cru\n",
        "] + [c for c in df_feateng.columns if c.startswith(\"DT_\")]  # datas puras\n",
        "\n",
        "df_reduced = df_feateng.drop(columns=[c for c in inviaveis if c in df_feateng.columns])\n",
        "print(f\"[1] Após remoção de inviáveis (identificadores, texto livre cru): {df_reduced.shape[1]}\")\n",
        "\n",
        "# --------------------------\n",
        "# B) Filtro de variância\n",
        "# --------------------------\n",
        "sel = VarianceThreshold(threshold=0.01)  # <1% de variância → descartar\n",
        "sel.fit(df_reduced.select_dtypes(include=[\"int64\",\"float64\"]))\n",
        "\n",
        "variaveis_ok = df_reduced.select_dtypes(include=[\"int64\",\"float64\"]).columns[sel.get_support()]\n",
        "\n",
        "# Mantém numéricas filtradas + categóricas\n",
        "df_atribsel = df_reduced[variaveis_ok.tolist() + df_reduced.select_dtypes(include=[\"object\",\"category\"]).columns.tolist()]\n",
        "\n",
        "print(f\"[2] Após Filtro de Variância (remoção de atributos de variância < 1% ): {df_atribsel.shape[1]}\")\n",
        "\n",
        "# --------------------------\n",
        "# C) 🔎 Filtro semântico/manual — remoção de variáveis redundantes\n",
        "# --------------------------\n",
        "redundant_cols = [\n",
        "    \"SG_UF\", \"CO_UF_RES\"  # redundância semântica com UF (exemplo)\n",
        "    # adiciona outras colunas redundantes aqui conforme auditoria\n",
        "]\n",
        "\n",
        "df_atribsel = df_atribsel.drop(columns=[c for c in redundant_cols if c in df_atribsel.columns])\n",
        "\n",
        "print(f\"[3] Após Filtro Semântico (remoção de atributos redundantes): {df_atribsel.shape[1]}\")\n"
      ],
      "metadata": {
        "colab": {
          "base_uri": "https://localhost:8080/"
        },
        "id": "cd6tEkOAWuG1",
        "outputId": "287609d5-a47e-475a-8831-742b6f6a8f81"
      },
      "id": "cd6tEkOAWuG1",
      "execution_count": 18,
      "outputs": [
        {
          "output_type": "stream",
          "name": "stdout",
          "text": [
            "\n",
            "Total de variáveis:\n",
            "[0] No dataset inicial: 222\n",
            "[1] Após remoção de inviáveis (identificadores, texto livre cru): 210\n",
            "[2] Após Filtro de Variância (remoção de atributos de variância < 1% ): 87\n",
            "[3] Após Filtro Semântico (remoção de atributos redundantes): 85\n"
          ]
        }
      ]
    },
    {
      "cell_type": "markdown",
      "source": [
        "---\n",
        "#### 🔍 Diagnóstico de Correlação\n",
        "---\n",
        "\n",
        "Após os filtros de inviabilidade, variância e redundâncias semânticas, é importante verificar se ainda restam\n",
        "atributos numéricos fortemente correlacionados entre si.\n",
        "\n",
        "- **Diagnóstico numérico**: lista pares de variáveis com correlação > 0.9.  \n",
        "- **Visualização gráfica (heatmap)**: permite identificar blocos redundantes de forma exploratória.  \n",
        "- **Decisão de exclusão**: esta etapa não remove automaticamente variáveis, apenas sinaliza redundâncias; a decisão pode considerar também o contexto clínico/epidemiológico e não apenas critérios estatísticos.  \n",
        "\n",
        "📖 *“Highly correlated features can distort linear models and increase variance in tree-based models. Identifying and handling redundancy is a key step in feature selection.”*  \n",
        "— **Kelleher et al., Cap. 3.5 Advanced Data Exploration, p. 85 (2nd Ed.)**\n"
      ],
      "metadata": {
        "id": "AgEDnNTcq5P2"
      },
      "id": "AgEDnNTcq5P2"
    },
    {
      "cell_type": "code",
      "source": [
        "# 2) 📊 Diagnóstico e Visualização de Correlação (apenas numéricas reais contínuas/discretas)\n",
        "\n",
        "import numpy as np\n",
        "import pandas as pd\n",
        "import matplotlib.pyplot as plt\n",
        "import seaborn as sns\n",
        "\n",
        "def corr_diag_numeric_only(df: pd.DataFrame, threshold: float = 0.9):\n",
        "    \"\"\"\n",
        "    Avalia pares de variáveis numéricas com correlação acima do limiar definido.\n",
        "    Retorna:\n",
        "      - high_corr: lista de tuplas (variavel_1, variavel_2, |correlação|)\n",
        "      - corr_abs:  matriz de correlação (em módulo) entre variáveis numéricas\n",
        "    \"\"\"\n",
        "    num_df = df.select_dtypes(include=[\"number\"])\n",
        "    if num_df.shape[1] == 0:\n",
        "        print(\"ℹ️ Não há variáveis numéricas para calcular correlação.\")\n",
        "        return [], pd.DataFrame()\n",
        "\n",
        "    corr_abs = num_df.corr().abs()\n",
        "\n",
        "    high_corr = [\n",
        "        (i, j, corr_abs.loc[i, j])\n",
        "        for i in corr_abs.columns\n",
        "        for j in corr_abs.columns\n",
        "        if i < j and corr_abs.loc[i, j] > threshold\n",
        "    ]\n",
        "    high_corr.sort(key=lambda x: -x[2])\n",
        "    return high_corr, corr_abs\n",
        "\n",
        "# ▶️ Execução do diagnóstico\n",
        "THRESH_CORR = 0.90\n",
        "high_corr_pairs, corr_abs = corr_diag_numeric_only(df_atribsel, threshold=THRESH_CORR)\n",
        "\n",
        "if not high_corr_pairs:\n",
        "    print(f\"✅ Nenhuma correlação forte encontrada entre variáveis numéricas (>{THRESH_CORR:.2f}).\")\n",
        "else:\n",
        "    print(f\"⚠️ {len(high_corr_pairs)} pares altamente correlacionados encontrados (>{THRESH_CORR:.2f}):\")\n",
        "    for i, j, corr in high_corr_pairs:\n",
        "        print(f\" - {i}  ×  {j}: {corr:.2f}\")\n",
        "\n",
        "# ▶️ Heatmap (triângulo inferior) para melhor legibilidade\n",
        "if not corr_abs.empty:\n",
        "    mask = np.triu(np.ones_like(corr_abs, dtype=bool))  # esconde triângulo superior\n",
        "    plt.figure(figsize=(12, 8))\n",
        "    sns.heatmap(\n",
        "        corr_abs,\n",
        "        mask=mask,\n",
        "        cmap=\"coolwarm\",\n",
        "        center=0,\n",
        "        annot=False,\n",
        "        linewidths=0.4,\n",
        "        cbar=True\n",
        "    )\n",
        "    plt.title(\"Mapa de calor — |Correlação| entre variáveis numéricas (triângulo inferior)\", fontsize=13)\n",
        "    plt.tight_layout()\n",
        "    plt.show()\n"
      ],
      "metadata": {
        "id": "SjBQSRxizZSM",
        "outputId": "845358fd-bd36-44f3-a383-a440c27c5948",
        "colab": {
          "base_uri": "https://localhost:8080/",
          "height": 815
        }
      },
      "id": "SjBQSRxizZSM",
      "execution_count": 19,
      "outputs": [
        {
          "output_type": "stream",
          "name": "stdout",
          "text": [
            "⚠️ 19 pares altamente correlacionados encontrados (>0.90):\n",
            " - LOCAL_CONT_missing  ×  PROFIS_SAUDE_missing: 1.00\n",
            " - CONTAT_ANIMAL_missing  ×  TRANSM_missing: 1.00\n",
            " - CARACT_GENOMICA_missing  ×  TRANSM_missing: 1.00\n",
            " - CARACT_GENOMICA_missing  ×  CONTAT_ANIMAL_missing: 1.00\n",
            " - CARACT_GENOMICA_missing  ×  CLADO_missing: 1.00\n",
            " - CLADO_missing  ×  TRANSM_missing: 1.00\n",
            " - CLADO_missing  ×  CONTAT_ANIMAL_missing: 1.00\n",
            " - delay_notif  ×  delay_notif_centered_regiao: 1.00\n",
            " - PAC_IMUNOSSUP  ×  imune_risco: 1.00\n",
            " - VACINA  ×  vacina_qualquer: 0.99\n",
            " - ist_any  ×  ist_count: 0.99\n",
            " - sx_astenia  ×  sx_fraqueza: 0.96\n",
            " - OUTRO_DES_missing  ×  sx_outros: 0.95\n",
            " - ID_MN_RESI  ×  ID_MUNICIP: 0.95\n",
            " - sx_nausea  ×  sx_vomito: 0.94\n",
            " - sx_calafrios  ×  sx_sudorese: 0.92\n",
            " - CONTAG_CD4_missing  ×  PROFIS_SAUDE_missing: 0.92\n",
            " - CONTAG_CD4_missing  ×  LOCAL_CONT_missing: 0.92\n",
            " - SIFILIS  ×  ist_any: 0.91\n"
          ]
        },
        {
          "output_type": "display_data",
          "data": {
            "text/plain": [
              "<Figure size 1200x800 with 2 Axes>"
            ],
            "image/png": "[encoded data removed]"
          },
          "metadata": {}
        }
      ]
    },
    {
      "cell_type": "markdown",
      "source": [
        "---\n",
        "#### 🔎 Filtro de Alta Correlação\n",
        "---\n",
        "\n",
        "Após o diagnóstico de correlação, aplicamos a remoção automática de variáveis redundantes.\n",
        "\n",
        "- Critério de análise: pares com correlação muito alta (> 0.9) compartilham praticamente a mesma informação.  \n",
        "- Critério de exclusão:  \n",
        "  - Remove-se a variável com maior proporção de valores ausentes.  \n",
        "  - Em caso de empate, remove-se a de menor variância.  \n",
        "- Objetivo: reduzir colinearidade, melhorar estabilidade de modelos lineares e evitar distorções em modelos baseados em árvores.  \n",
        "\n",
        "📖 *“Highly correlated features can distort linear models and increase variance in tree-based models. Identifying and handling redundancy is a key step in feature selection.”*  \n",
        "— **Kelleher et al., Cap. 3.5 Advanced Data Exploration, p. 85 (2nd Ed.)**\n"
      ],
      "metadata": {
        "id": "iZxRThSinSXl"
      },
      "id": "iZxRThSinSXl"
    },
    {
      "cell_type": "code",
      "source": [
        "# 3. Filtro de Alta Correlação — Remoção automática de variáveis redundantes\n",
        "\n",
        "def drop_high_corr_features(df, threshold=0.9):\n",
        "    \"\"\"\n",
        "    Remove variáveis altamente correlacionadas com base em um critério:\n",
        "    - Mantém apenas uma variável de cada par correlacionado.\n",
        "    - Remove aquela com maior proporção de valores ausentes;\n",
        "      em caso de empate, remove a de menor variância.\n",
        "    \"\"\"\n",
        "    num_df = df.select_dtypes(include=[\"number\"])\n",
        "    corr_matrix = num_df.corr().abs()\n",
        "\n",
        "    # Conjunto para armazenar colunas a remover\n",
        "    to_drop = set()\n",
        "\n",
        "    for i in corr_matrix.columns:\n",
        "        for j in corr_matrix.columns:\n",
        "            if i < j and corr_matrix.loc[i, j] > threshold:\n",
        "                # Critério de decisão\n",
        "                na_i = df[i].isna().mean()\n",
        "                na_j = df[j].isna().mean()\n",
        "                var_i = df[i].var()\n",
        "                var_j = df[j].var()\n",
        "\n",
        "                if na_i > na_j or (na_i == na_j and var_i < var_j):\n",
        "                    to_drop.add(i)\n",
        "                else:\n",
        "                    to_drop.add(j)\n",
        "\n",
        "    # Remove variáveis redundantes\n",
        "    df_out = df.drop(columns=list(to_drop), errors=\"ignore\")\n",
        "    return df_out, list(to_drop)\n",
        "\n",
        "\n",
        "# ▶️ Execução\n",
        "df_atribsel_final, removed_corr = drop_high_corr_features(df_atribsel, threshold=0.9)\n",
        "\n",
        "print(f\"✅ Removidas {len(removed_corr)} variáveis altamente correlacionadas.\")\n",
        "if removed_corr:\n",
        "    print(\"Lista de variáveis descartadas por alta correlação:\")\n",
        "    for col in removed_corr:\n",
        "        print(f\" - {col}\")\n",
        "\n",
        "print(f\"📊 Total final de variáveis: {df_atribsel_final.shape[1]}\")\n"
      ],
      "metadata": {
        "id": "nWBP9TpW0wJu",
        "outputId": "a179623b-61d5-48a3-9e1b-ad40cb813044",
        "colab": {
          "base_uri": "https://localhost:8080/"
        }
      },
      "id": "nWBP9TpW0wJu",
      "execution_count": 20,
      "outputs": [
        {
          "output_type": "stream",
          "name": "stdout",
          "text": [
            "✅ Removidas 15 variáveis altamente correlacionadas.\n",
            "Lista de variáveis descartadas por alta correlação:\n",
            " - OUTRO_DES_missing\n",
            " - PROFIS_SAUDE_missing\n",
            " - imune_risco\n",
            " - ID_MN_RESI\n",
            " - TRANSM_missing\n",
            " - CONTAG_CD4_missing\n",
            " - CONTAT_ANIMAL_missing\n",
            " - vacina_qualquer\n",
            " - CLADO_missing\n",
            " - sx_vomito\n",
            " - ist_any\n",
            " - sx_sudorese\n",
            " - delay_notif_centered_regiao\n",
            " - SIFILIS\n",
            " - sx_fraqueza\n",
            "📊 Total final de variáveis: 70\n"
          ]
        }
      ]
    },
    {
      "cell_type": "markdown",
      "source": [
        "### 2️⃣ Métodos Supervisionados (Wrapper + Embedded)\n",
        "- 🔁 **RFE (Recursive Feature Elimination)**  \n",
        "  - Treina iterativamente um modelo base (ex.: regressão logística, árvore).  \n",
        "  - Elimina atributos menos relevantes em cada rodada.  \n",
        "\n",
        "- 🌲 **Feature Importance (Random Forest / Gradient Boosting)**  \n",
        "  - Avalia a contribuição de cada atributo na redução de impureza.  \n",
        "  - Produz ranking de variáveis mais relevantes.  \n",
        "\n",
        "  >📖 *Cap. 5.4 Extensions and Variations, p. 229*  \n",
        "  > “Wrapper and embedded methods provide attribute selection that is directly aligned with the target variable.”\n",
        "\n",
        "---\n",
        "\n"
      ],
      "metadata": {
        "id": "E-XeboDRJljH"
      },
      "id": "E-XeboDRJljH"
    },
    {
      "cell_type": "code",
      "source": [
        "# 1. Seleção supervisionada — RFE (Recursive Feature Elimination)\n",
        "\n",
        "#from sklearn.feature_selection import RFE\n",
        "#from sklearn.linear_model import LogisticRegression\n",
        "\n",
        "top_n = 20\n",
        "\n",
        "# Definir X e y (exemplo com target_hosp)\n",
        "X = df_atribsel_final.drop(columns=[\"target_hosp\", \"target_obito_any\", \"target_obito_mpx\"], errors=\"ignore\")\n",
        "y = df_atribsel_final[\"target_hosp\"].dropna()\n",
        "\n",
        "# Garantir consistência (apenas numéricas)\n",
        "X = X.select_dtypes(include=[\"int64\", \"float64\"]).fillna(0)\n",
        "\n",
        "# Modelo base\n",
        "logreg = LogisticRegression(max_iter=1000, solver=\"liblinear\")\n",
        "\n",
        "# RFE para selecionar, por exemplo, 20 features (top_n = 20)\n",
        "rfe = RFE(estimator=logreg, n_features_to_select=top_n, step=1)\n",
        "rfe.fit(X, y)\n",
        "\n",
        "# Atributos selecionados\n",
        "selected_features = X.columns[rfe.support_].tolist()\n",
        "print(\"✅ Atributos selecionados via RFE:\")\n",
        "for feat in selected_features:\n",
        "    print(f\" - {feat}\")\n"
      ],
      "metadata": {
        "colab": {
          "base_uri": "https://localhost:8080/"
        },
        "id": "XuZXwrByJsrf",
        "outputId": "cae8e342-d308-4e02-d53c-66b18b21f24b"
      },
      "id": "XuZXwrByJsrf",
      "execution_count": 21,
      "outputs": [
        {
          "output_type": "stream",
          "name": "stdout",
          "text": [
            "✅ Atributos selecionados via RFE:\n",
            " - CS_SEXO\n",
            " - CS_GESTANT\n",
            " - ESTRANGEIRO\n",
            " - PROFIS_SAUDE\n",
            " - TRATAMENTO_MONKEYPOX\n",
            " - HOSPITAL\n",
            " - VINCULO_EPI\n",
            " - CONTAT_ANIMAL\n",
            " - CLADO\n",
            " - sx_erupcao_cutanea\n",
            " - sx_cefaleia\n",
            " - sx_adenomegalia\n",
            " - sx_dor_muscular\n",
            " - sx_lesao_anal\n",
            " - sx_dor_nas_costas\n",
            " - sx_dor_de_garganta\n",
            " - sx_linfadenopatia\n",
            " - sx_outros\n",
            " - sx_edema_peniano\n",
            " - sx_proctite\n"
          ]
        }
      ]
    },
    {
      "cell_type": "code",
      "source": [
        "# 2. Seleção supervisionada — Feature Importance (Random Forest)\n",
        "\n",
        "#from sklearn.ensemble import RandomForestClassifier\n",
        "#import pandas as pd\n",
        "\n",
        "top_n = 15\n",
        "\n",
        "# Modelo de árvore em ensemble\n",
        "rf = RandomForestClassifier(n_estimators=200, random_state=42)\n",
        "rf.fit(X, y)\n",
        "\n",
        "# Ranking de importâncias\n",
        "importances = pd.Series(rf.feature_importances_, index=X.columns).sort_values(ascending=False)\n",
        "\n",
        "print(\"🏆 Top 15 variáveis mais importantes (Random Forest):\")\n",
        "print(importances.head(top_n))\n"
      ],
      "metadata": {
        "colab": {
          "base_uri": "https://localhost:8080/",
          "height": 211
        },
        "id": "eoysVg19OP8G",
        "outputId": "2e53be24-568b-4717-ecab-4d408f110492"
      },
      "id": "eoysVg19OP8G",
      "execution_count": 22,
      "outputs": [
        {
          "output_type": "error",
          "ename": "NameError",
          "evalue": "name 'RandomForestClassifier' is not defined",
          "traceback": [
            "\u001b[0;31m---------------------------------------------------------------------------\u001b[0m",
            "\u001b[0;31mNameError\u001b[0m                                 Traceback (most recent call last)",
            "\u001b[0;32m/tmp/ipython-input-1143170643.py\u001b[0m in \u001b[0;36m<cell line: 0>\u001b[0;34m()\u001b[0m\n\u001b[1;32m      7\u001b[0m \u001b[0;34m\u001b[0m\u001b[0m\n\u001b[1;32m      8\u001b[0m \u001b[0;31m# Modelo de árvore em ensemble\u001b[0m\u001b[0;34m\u001b[0m\u001b[0;34m\u001b[0m\u001b[0m\n\u001b[0;32m----> 9\u001b[0;31m \u001b[0mrf\u001b[0m \u001b[0;34m=\u001b[0m \u001b[0mRandomForestClassifier\u001b[0m\u001b[0;34m(\u001b[0m\u001b[0mn_estimators\u001b[0m\u001b[0;34m=\u001b[0m\u001b[0;36m200\u001b[0m\u001b[0;34m,\u001b[0m \u001b[0mrandom_state\u001b[0m\u001b[0;34m=\u001b[0m\u001b[0;36m42\u001b[0m\u001b[0;34m)\u001b[0m\u001b[0;34m\u001b[0m\u001b[0;34m\u001b[0m\u001b[0m\n\u001b[0m\u001b[1;32m     10\u001b[0m \u001b[0mrf\u001b[0m\u001b[0;34m.\u001b[0m\u001b[0mfit\u001b[0m\u001b[0;34m(\u001b[0m\u001b[0mX\u001b[0m\u001b[0;34m,\u001b[0m \u001b[0my\u001b[0m\u001b[0;34m)\u001b[0m\u001b[0;34m\u001b[0m\u001b[0;34m\u001b[0m\u001b[0m\n\u001b[1;32m     11\u001b[0m \u001b[0;34m\u001b[0m\u001b[0m\n",
            "\u001b[0;31mNameError\u001b[0m: name 'RandomForestClassifier' is not defined"
          ]
        }
      ]
    },
    {
      "cell_type": "markdown",
      "source": [
        "---\n",
        "### 📊 Visualização — RFE (Recursive Feature Elimination)\n",
        "---\n",
        "\n",
        "Usamos duas visualizações complementares para interpretar a seleção supervisionada:\n",
        "\n",
        "1. **RFECV**: curva de validação cruzada mostrando o desempenho em função do número de atributos.  \n",
        "2. **Peso no subset escolhido**: ranking das *features* selecionadas pelo modelo base (ex.: |coef| na Regressão Logística).\n",
        "\n",
        "Esses gráficos tornam explícitos os trade-offs entre **parcimônia** e **desempenho preditivo** e ajudam a justificar o tamanho do subconjunto selecionado.\n",
        "\n",
        "📖 *Wrapper methods (como RFE/RFECV) realizam seleção diretamente orientada ao alvo, ajustando o conjunto de atributos ao objetivo preditivo.* — **Kelleher et al., Cap. 5.4 (2nd Ed.)**\n"
      ],
      "metadata": {
        "id": "RqlVspTUfMDp"
      },
      "id": "RqlVspTUfMDp"
    },
    {
      "cell_type": "code",
      "source": [
        "# A. RFECV — curva de desempenho vs número de atributos\n",
        "\n",
        "from sklearn.feature_selection import RFECV\n",
        "from sklearn.linear_model import LogisticRegression\n",
        "from sklearn.model_selection import StratifiedKFold\n",
        "import matplotlib.pyplot as plt\n",
        "import numpy as np\n",
        "\n",
        "# X e y conforme definido na seleção supervisionada (numéricas, sem targets)\n",
        "X_base = df_atribsel_final.drop(columns=[\"target_hosp\", \"target_obito_any\", \"target_obito_mpx\"], errors=\"ignore\")\n",
        "y_base = df_atribsel_final[\"target_hosp\"].dropna()\n",
        "\n",
        "# Alinha X a y (caso y tenha NaN removidos)\n",
        "X_base = X_base.loc[y_base.index].select_dtypes(include=[\"int64\", \"float64\"]).fillna(0)\n",
        "\n",
        "clf = LogisticRegression(max_iter=1000, solver=\"liblinear\")\n",
        "cv = StratifiedKFold(n_splits=5, shuffle=True, random_state=42)\n",
        "\n",
        "# Em saúde, recall ou F1 tendem a ser prioritários. Ajuste se desejar.\n",
        "rfecv = RFECV(\n",
        "    estimator=clf,\n",
        "    step=1,\n",
        "    cv=cv,\n",
        "    scoring=\"f1\",        # ou \"recall\", \"average_precision\", \"roc_auc\"\n",
        "    min_features_to_select=5,\n",
        "    n_jobs=-1\n",
        ")\n",
        "rfecv.fit(X_base, y_base)\n",
        "\n",
        "print(f\"✅ Nº ótimo de atributos: {rfecv.n_features_}\")\n",
        "print(\"Atributos selecionados:\")\n",
        "selected_rfecv = X_base.columns[rfecv.support_].tolist()\n",
        "for f in selected_rfecv:\n",
        "    print(\" -\", f)\n",
        "\n",
        "# Curva\n",
        "plt.figure(figsize=(8,5))\n",
        "plt.plot(range(1, len(rfecv.cv_results_['mean_test_score'])+1),\n",
        "         rfecv.cv_results_['mean_test_score'], marker=\"o\")\n",
        "plt.xlabel(\"Número de atributos\")\n",
        "plt.ylabel(\"Score médio (CV)\")\n",
        "plt.title(\"RFECV — desempenho vs. nº de atributos\")\n",
        "plt.grid(True, alpha=0.3)\n",
        "plt.show()\n"
      ],
      "metadata": {
        "id": "UKfkmyaVfN6f"
      },
      "id": "UKfkmyaVfN6f",
      "execution_count": null,
      "outputs": []
    },
    {
      "cell_type": "code",
      "source": [
        "# B. Ranking das features selecionadas pelo RFECV usando |coef| (Regressão Logística)\n",
        "\n",
        "import pandas as pd\n",
        "import numpy as np\n",
        "import matplotlib.pyplot as plt\n",
        "\n",
        "# Coeficientes do modelo ajustado no RFECV (já treinado)\n",
        "coef = np.abs(rfecv.estimator_.coef_).ravel()\n",
        "rank_df = pd.DataFrame({\n",
        "    \"feature\": selected_rfecv,\n",
        "    \"|coef|\": coef\n",
        "}).sort_values(\"|coef|\", ascending=False)\n",
        "\n",
        "print(\"🏆 Top 15 (por |coef|) dentro do subset selecionado:\")\n",
        "print(rank_df.head(15))\n",
        "\n",
        "# Barplot\n",
        "top_n = 15\n",
        "plt.figure(figsize=(10,6))\n",
        "plt.barh(rank_df[\"feature\"].head(top_n)[::-1], rank_df[\"|coef|\"].head(top_n)[::-1])\n",
        "plt.title(f\"Importância (|coef|) — subset selecionado pelo RFECV (Top {top_n})\")\n",
        "plt.xlabel(\"|coef|\")\n",
        "plt.ylabel(\"Feature\")\n",
        "plt.tight_layout()\n",
        "plt.show()\n"
      ],
      "metadata": {
        "colab": {
          "base_uri": "https://localhost:8080/",
          "height": 211
        },
        "id": "UiJGw37ifcRF",
        "outputId": "84a2fc76-70f4-474c-98fd-e824a0067c17"
      },
      "id": "UiJGw37ifcRF",
      "execution_count": 23,
      "outputs": [
        {
          "output_type": "error",
          "ename": "NameError",
          "evalue": "name 'rfecv' is not defined",
          "traceback": [
            "\u001b[0;31m---------------------------------------------------------------------------\u001b[0m",
            "\u001b[0;31mNameError\u001b[0m                                 Traceback (most recent call last)",
            "\u001b[0;32m/tmp/ipython-input-1313882195.py\u001b[0m in \u001b[0;36m<cell line: 0>\u001b[0;34m()\u001b[0m\n\u001b[1;32m      6\u001b[0m \u001b[0;34m\u001b[0m\u001b[0m\n\u001b[1;32m      7\u001b[0m \u001b[0;31m# Coeficientes do modelo ajustado no RFECV (já treinado)\u001b[0m\u001b[0;34m\u001b[0m\u001b[0;34m\u001b[0m\u001b[0m\n\u001b[0;32m----> 8\u001b[0;31m \u001b[0mcoef\u001b[0m \u001b[0;34m=\u001b[0m \u001b[0mnp\u001b[0m\u001b[0;34m.\u001b[0m\u001b[0mabs\u001b[0m\u001b[0;34m(\u001b[0m\u001b[0mrfecv\u001b[0m\u001b[0;34m.\u001b[0m\u001b[0mestimator_\u001b[0m\u001b[0;34m.\u001b[0m\u001b[0mcoef_\u001b[0m\u001b[0;34m)\u001b[0m\u001b[0;34m.\u001b[0m\u001b[0mravel\u001b[0m\u001b[0;34m(\u001b[0m\u001b[0;34m)\u001b[0m\u001b[0;34m\u001b[0m\u001b[0;34m\u001b[0m\u001b[0m\n\u001b[0m\u001b[1;32m      9\u001b[0m rank_df = pd.DataFrame({\n\u001b[1;32m     10\u001b[0m     \u001b[0;34m\"feature\"\u001b[0m\u001b[0;34m:\u001b[0m \u001b[0mselected_rfecv\u001b[0m\u001b[0;34m,\u001b[0m\u001b[0;34m\u001b[0m\u001b[0;34m\u001b[0m\u001b[0m\n",
            "\u001b[0;31mNameError\u001b[0m: name 'rfecv' is not defined"
          ]
        }
      ]
    },
    {
      "cell_type": "code",
      "source": [
        "# C. Auditoria de ranking do RFE “simples” (se quiseres comparar com um RFE fixo)\n",
        "\n",
        "from sklearn.feature_selection import RFE\n",
        "\n",
        "rfe_fixed = RFE(estimator=LogisticRegression(max_iter=1000, solver=\"liblinear\"),\n",
        "                n_features_to_select=20, step=1)\n",
        "rfe_fixed.fit(X_base, y_base)\n",
        "\n",
        "audit_df = pd.DataFrame({\n",
        "    \"feature\": X_base.columns,\n",
        "    \"selected_RFE\": rfe_fixed.support_,\n",
        "    \"rank_RFE\": rfe_fixed.ranking_\n",
        "}).sort_values([\"selected_RFE\",\"rank_RFE\"], ascending=[False, True])\n",
        "\n",
        "print(\"📋 Auditoria RFE (selected, rank):\")\n",
        "print(audit_df.head(25))\n"
      ],
      "metadata": {
        "colab": {
          "base_uri": "https://localhost:8080/"
        },
        "id": "roSF2LwNfoEm",
        "outputId": "f650979f-6fa2-4628-994f-df9ea38dc9b9"
      },
      "id": "roSF2LwNfoEm",
      "execution_count": 33,
      "outputs": [
        {
          "output_type": "stream",
          "name": "stdout",
          "text": [
            "📋 Auditoria RFE (selected, rank):\n",
            "                 feature  selected_RFE  rank_RFE\n",
            "3                CS_SEXO          True         1\n",
            "11            CS_GESTANT          True         1\n",
            "12           ESTRANGEIRO          True         1\n",
            "16          PROFIS_SAUDE          True         1\n",
            "19  TRATAMENTO_MONKEYPOX          True         1\n",
            "20              HOSPITAL          True         1\n",
            "22           VINCULO_EPI          True         1\n",
            "26         CONTAT_ANIMAL          True         1\n",
            "29                 CLADO          True         1\n",
            "33    sx_erupcao_cutanea          True         1\n",
            "36           sx_cefaleia          True         1\n",
            "37       sx_adenomegalia          True         1\n",
            "38       sx_dor_muscular          True         1\n",
            "40         sx_lesao_anal          True         1\n",
            "41     sx_dor_nas_costas          True         1\n",
            "42    sx_dor_de_garganta          True         1\n",
            "44     sx_linfadenopatia          True         1\n",
            "45             sx_outros          True         1\n",
            "49      sx_edema_peniano          True         1\n",
            "50           sx_proctite          True         1\n",
            "0             CLASSI_FIN         False         2\n",
            "30       SINTOMA_missing         False         3\n",
            "15     RESULTADO_EXA_LAB         False         4\n",
            "54  sx_fotosensibilidade         False         5\n",
            "14                   UTI         False         6\n"
          ]
        }
      ]
    },
    {
      "cell_type": "markdown",
      "source": [
        "---\n",
        "### 📊 Visualização — Importâncias das Variáveis\n",
        "---\n",
        "\n",
        "O gráfico abaixo mostra as variáveis mais relevantes segundo o critério de **redução de impureza** do Random Forest.  \n",
        "Esse tipo de ranking facilita a interpretação e fornece uma visão complementar ao RFE.  \n",
        "\n",
        "📖 *“Feature importance scores in decision tree ensembles provide an interpretable measure of how strongly each attribute contributes to prediction.”*  \n",
        "— **Kelleher et al., Cap. 5.4, p. 229 (2nd Ed.)**\n"
      ],
      "metadata": {
        "id": "itOyklhTOlR_"
      },
      "id": "itOyklhTOlR_"
    },
    {
      "cell_type": "code",
      "source": [
        "# 3. Visualização — Importâncias das variáveis (Random Forest)\n",
        "\n",
        "#import seaborn as sns\n",
        "#import matplotlib.pyplot as plt\n",
        "\n",
        "# Selecionar top 15 variáveis mais importantes\n",
        "top_n = 15\n",
        "top_features = importances.head(top_n)\n",
        "\n",
        "plt.figure(figsize=(10, 6))\n",
        "sns.barplot(x=top_features.values, y=top_features.index, palette=\"viridis\", hue=top_features.index, legend=False)\n",
        "plt.title(f\"Top {top_n} variáveis mais importantes (Random Forest)\", fontsize=14)\n",
        "plt.xlabel(\"Importância relativa\")\n",
        "plt.ylabel(\"Variável\")\n",
        "plt.show()\n"
      ],
      "metadata": {
        "colab": {
          "base_uri": "https://localhost:8080/",
          "height": 359
        },
        "id": "6vTpSI_DOovr",
        "outputId": "e49c1818-f6ec-4328-9b6a-dc9146652e61"
      },
      "id": "6vTpSI_DOovr",
      "execution_count": 30,
      "outputs": [
        {
          "output_type": "display_data",
          "data": {
            "text/plain": [
              "<Figure size 1000x600 with 1 Axes>"
            ],
            "image/png": "[encoded data removed]"
          },
          "metadata": {}
        }
      ]
    },
    {
      "cell_type": "markdown",
      "source": [
        "### 3️⃣ Redução de Dimensionalidade (opcional)\n",
        "- 📐 **PCA (Principal Component Analysis)**  \n",
        "  - Reduz dimensionalidade criando **componentes principais** (combinações lineares das variáveis).  \n",
        "  - Preserva variância máxima dos dados, mas perde interpretabilidade direta.  \n",
        "  - Útil quando ainda há muitas variáveis ou colinearidade residual.  \n",
        "\n",
        "- 🔬 **Outras técnicas possíveis:**  \n",
        "  - **LDA (Linear Discriminant Analysis):** supervisionado, otimiza separação entre classes.  \n",
        "  - **ICA (Independent Component Analysis):** busca independência estatística, útil para dados de sinais.  \n",
        "\n",
        "  >📖 *Cap. 3.5 Advanced Data Exploration, p. 85* (correlação e redundância)  \n",
        "  >📖 *Cap. 10 Dimensionality Reduction, p. 455–460* (PCA e variantes)  \n",
        "\n",
        "---\n",
        "\n",
        "### 4️⃣ Dataset Final\n",
        "- Após filtros estatísticos, métodos supervisionados e/ou redução de dimensionalidade →  \n",
        "- Obtemos um dataset **otimizado**:  \n",
        "  - Informativo  \n",
        "  - Não redundante  \n",
        "  - Parcimonioso (menos atributos, melhor generalização)  \n",
        "\n",
        "👉 Esse dataset final é a entrada para a **Modelagem Preditiva Binária** (hospitalização, óbito etc.).  \n",
        "\n"
      ],
      "metadata": {
        "id": "d-9UBCTuJtp6"
      },
      "id": "d-9UBCTuJtp6"
    },
    {
      "cell_type": "markdown",
      "source": [
        "---\n",
        "## 📌 Nota da Seção – Dataset após Engenharia e Seleção de Atributos\n",
        "---\n",
        "\n",
        "### 🔄 Fluxo de Dataframes\n",
        "- `df_feateng` → saída da **Engenharia de Atributos**, derivado de `df_prep`.  \n",
        "- `df_atribsel_final` → derivado de `df_feateng`, após aplicação dos filtros de seleção:  \n",
        "  - Remoção de inviáveis (datas, IDs técnicos, texto cru).  \n",
        "  - Filtro estatístico de variância (< 1%).  \n",
        "  - Filtro semântico/manual de redundâncias.  \n",
        "\n",
        "### 📊 Impacto Quantitativo\n",
        "- O dataset passou de **222** para **70** variáveis.  \n",
        "- Foi realizado **diagnóstico de correlação** para identificar pares com correlação > 0.9.  \n",
        "\n",
        "### 📖 Justificativa Metodológica\n",
        "A eliminação de variáveis inviáveis, quase constantes e redundantes:  \n",
        "- Reduz a dimensionalidade.  \n",
        "- Melhora a generalização.  \n",
        "- Mitiga o risco de *overfitting*.  \n",
        "\n",
        "Esse processo segue as recomendações de *Kelleher et al.*:  \n",
        "- **Cap. 3.5 Advanced Data Exploration, p. 85** → redundâncias e correlação.  \n",
        "- **Cap. 5.4 Extensions and Variations, p. 227** → variância baixa e atributos não informativos.  \n"
      ],
      "metadata": {
        "id": "bBhCadf3fkBg"
      },
      "id": "bBhCadf3fkBg"
    },
    {
      "cell_type": "code",
      "source": [
        "#Total de variáveis antes da seleção de atributos\n",
        "df_feateng.shape[1]"
      ],
      "metadata": {
        "colab": {
          "base_uri": "https://localhost:8080/"
        },
        "id": "Ln-KfCIPlKgG",
        "outputId": "996d1aae-2748-4735-986a-b7aed08b63a6"
      },
      "id": "Ln-KfCIPlKgG",
      "execution_count": null,
      "outputs": [
        {
          "output_type": "execute_result",
          "data": {
            "text/plain": [
              "222"
            ]
          },
          "metadata": {},
          "execution_count": 20
        }
      ]
    },
    {
      "cell_type": "code",
      "source": [
        "#Total de variáveis após seleção de atributos\n",
        "df_atribsel_final.shape[1]"
      ],
      "metadata": {
        "colab": {
          "base_uri": "https://localhost:8080/"
        },
        "id": "h2TfIHHdlTlH",
        "outputId": "24f3b363-6420-47d6-d69c-68fb85fc411d"
      },
      "id": "h2TfIHHdlTlH",
      "execution_count": null,
      "outputs": [
        {
          "output_type": "execute_result",
          "data": {
            "text/plain": [
              "70"
            ]
          },
          "metadata": {},
          "execution_count": 21
        }
      ]
    },
    {
      "cell_type": "markdown",
      "source": [],
      "metadata": {
        "id": "wPvcSrn35I22"
      },
      "id": "wPvcSrn35I22"
    },
    {
      "cell_type": "markdown",
      "source": [],
      "metadata": {
        "id": "dJmwuLv45Iay"
      },
      "id": "dJmwuLv45Iay"
    },
    {
      "cell_type": "markdown",
      "source": [
        "#PENDÊNCIAS\n"
      ],
      "metadata": {
        "id": "qEr6d_p45IKy"
      },
      "id": "qEr6d_p45IKy"
    },
    {
      "cell_type": "markdown",
      "source": [
        "---\n",
        "\n",
        "## **Divisão de preditoras (X) e alvo (y)**\n",
        "\n",
        "---"
      ],
      "metadata": {
        "id": "mjRFb0vXayqQ"
      },
      "id": "mjRFb0vXayqQ"
    },
    {
      "cell_type": "code",
      "source": [
        "# 5.0 Divisão de preditoras (X) e alvo (y)\n",
        "# ----------------------------------------\n",
        "# - Objetivo: separar features (X) e variável-alvo (y).\n",
        "# - Aqui você escolhe QUAL alvo quer balancear (hospitalização ou óbito).\n",
        "# - Pré-requisito: df_encoded (ou df_enc) já codificado (OneHot) e sem colunas não-numéricas.\n",
        "# - Observação: por ora, vamos seguir com 'target_hosp'; depois você pode trocar pelo alvo de óbito.\n",
        "\n",
        "import pandas as pd\n",
        "\n",
        "# Escolhe o alvo aqui:\n",
        "target_col = \"target_hosp\"   # alternativas: \"target_obito_any\", \"target_obito_mpx\" (se estiverem com menor desbalanceamento)\n",
        "\n",
        "# Verificações básicas\n",
        "assert target_col in df_encoded.columns, f\"Alvo '{target_col}' não existe em df_encoded.\"\n",
        "assert set(df_encoded[target_col].dropna().unique()) <= {0,1}, \"Alvo precisa ser binário (0/1).\"\n",
        "\n",
        "# Separa X e y\n",
        "X = df_encoded.drop(columns=[target_col]).copy()\n",
        "y = df_encoded[target_col].copy()\n",
        "\n",
        "print(\"[5.0] X e y criados:\", X.shape, y.shape)\n",
        "print(\"Distribuição (%) do alvo selecionado:\",\n",
        "      (y.value_counts(normalize=True)*100).round(2).to_dict(), '\\n')\n"
      ],
      "metadata": {
        "colab": {
          "base_uri": "https://localhost:8080/",
          "height": 245
        },
        "id": "Gg01OEkLavyk",
        "outputId": "565e0d0e-91f2-41a3-eab8-73fdf1ae0406"
      },
      "execution_count": null,
      "outputs": [
        {
          "output_type": "error",
          "ename": "NameError",
          "evalue": "name 'df_encoded' is not defined",
          "traceback": [
            "\u001b[0;31m---------------------------------------------------------------------------\u001b[0m",
            "\u001b[0;31mNameError\u001b[0m                                 Traceback (most recent call last)",
            "\u001b[0;32m/tmp/ipython-input-1376456671.py\u001b[0m in \u001b[0;36m<cell line: 0>\u001b[0;34m()\u001b[0m\n\u001b[1;32m     12\u001b[0m \u001b[0;34m\u001b[0m\u001b[0m\n\u001b[1;32m     13\u001b[0m \u001b[0;31m# Verificações básicas\u001b[0m\u001b[0;34m\u001b[0m\u001b[0;34m\u001b[0m\u001b[0m\n\u001b[0;32m---> 14\u001b[0;31m \u001b[0;32massert\u001b[0m \u001b[0mtarget_col\u001b[0m \u001b[0;32min\u001b[0m \u001b[0mdf_encoded\u001b[0m\u001b[0;34m.\u001b[0m\u001b[0mcolumns\u001b[0m\u001b[0;34m,\u001b[0m \u001b[0;34mf\"Alvo '{target_col}' não existe em df_encoded.\"\u001b[0m\u001b[0;34m\u001b[0m\u001b[0;34m\u001b[0m\u001b[0m\n\u001b[0m\u001b[1;32m     15\u001b[0m \u001b[0;32massert\u001b[0m \u001b[0mset\u001b[0m\u001b[0;34m(\u001b[0m\u001b[0mdf_encoded\u001b[0m\u001b[0;34m[\u001b[0m\u001b[0mtarget_col\u001b[0m\u001b[0;34m]\u001b[0m\u001b[0;34m.\u001b[0m\u001b[0mdropna\u001b[0m\u001b[0;34m(\u001b[0m\u001b[0;34m)\u001b[0m\u001b[0;34m.\u001b[0m\u001b[0munique\u001b[0m\u001b[0;34m(\u001b[0m\u001b[0;34m)\u001b[0m\u001b[0;34m)\u001b[0m \u001b[0;34m<=\u001b[0m \u001b[0;34m{\u001b[0m\u001b[0;36m0\u001b[0m\u001b[0;34m,\u001b[0m\u001b[0;36m1\u001b[0m\u001b[0;34m}\u001b[0m\u001b[0;34m,\u001b[0m \u001b[0;34m\"Alvo precisa ser binário (0/1).\"\u001b[0m\u001b[0;34m\u001b[0m\u001b[0;34m\u001b[0m\u001b[0m\n\u001b[1;32m     16\u001b[0m \u001b[0;34m\u001b[0m\u001b[0m\n",
            "\u001b[0;31mNameError\u001b[0m: name 'df_encoded' is not defined"
          ]
        }
      ],
      "id": "Gg01OEkLavyk"
    },
    {
      "cell_type": "markdown",
      "source": [
        "---\n",
        "## **Atividade 5: Balanceamento dos dados (Tomek e Smote)**\n",
        "- Checar se os dados estão desbalanceados\n",
        "- Aplicar os algoritmos Tomek e Smote\n",
        "- Avaliar impacto no desempenho dos modelos treinados\n",
        "---"
      ],
      "metadata": {
        "id": "ebBpIesASikf"
      },
      "id": "ebBpIesASikf"
    },
    {
      "cell_type": "markdown",
      "source": [
        "### Checagem de desbalanceamento das classes\n"
      ],
      "metadata": {
        "id": "oI-Fh2VVbyxf"
      },
      "id": "oI-Fh2VVbyxf"
    },
    {
      "cell_type": "code",
      "source": [
        "# 5.1 Checagem de desbalanceamento das classes\n",
        "# --------------------------------------------\n",
        "# - Objetivo: medir a proporção das classes antes de balancear.\n",
        "# - Saída: distribuição percentual e alerta visual simples.\n",
        "\n",
        "from collections import Counter\n",
        "\n",
        "dist_original = (y.value_counts(normalize=True) * 100).round(2).to_dict()\n",
        "print(f\"\\nVariável-alvo: {target_col}\")\n",
        "print(\"\\n[5.1] Distribuição (%) do alvo (Original -> Pós-codificação/escalonamento):\\n\", dist_original)\n",
        "\n",
        "# Regras práticas (heurística):\n",
        "#   - Se min(classe) < 20% → dataset bastante desbalanceado\n",
        "#   - Entre 20% e 40% → moderadamente desbalanceado\n",
        "minority_pct = min(dist_original.values())\n",
        "if minority_pct < 20:\n",
        "    print(\"\\n⚠️ Alerta: classe minoritária < 20% (desbalanceamento alto).\")\n",
        "elif minority_pct < 40:\n",
        "    print(\"ℹ️ Observação: desbalanceamento moderado.\")\n",
        "else:\n",
        "    print(\"✅ Classes relativamente equilibradas.\")\n"
      ],
      "metadata": {
        "id": "7S4nQbpuzmkJ"
      },
      "execution_count": null,
      "outputs": [],
      "id": "7S4nQbpuzmkJ"
    },
    {
      "cell_type": "markdown",
      "source": [
        "### 🔧 Sanitização e Imputação só para Balanceamento (garante só numéricos)"
      ],
      "metadata": {
        "id": "siFCYTsCiq_6"
      },
      "id": "siFCYTsCiq_6"
    },
    {
      "cell_type": "code",
      "source": [
        "# 5.2 Sanitização/Imputação (só para balanceamento) + Escalonamento\n",
        "# ------------------------------------------------------------------\n",
        "# - Objetivo: garantir que X esteja 100% numérico e sem NaN antes do Tomek/SMOTE.\n",
        "# - Passos:\n",
        "#   1) Selecionar apenas colunas numéricas (df_encoded já tende a ser numérico após OneHot).\n",
        "#   2) Imputar com mediana (robusta a outliers) — SOMENTE para esta etapa técnica.\n",
        "#   3) Padronizar (StandardScaler) para que SMOTE/Tomek usem distâncias sem viés de escala.\n",
        "# - Observação: Na modelagem final (cv/grid search), faremos TUDO em pipeline para evitar vazamento.\n",
        "\n",
        "#import numpy as np\n",
        "#from sklearn.impute import SimpleImputer\n",
        "#from sklearn.preprocessing import StandardScaler\n",
        "\n",
        "# 1) Garante numéricos\n",
        "X_num = X.select_dtypes(include=[np.number]).copy()\n",
        "drop_cols = [c for c in X.columns if c not in X_num.columns]\n",
        "if drop_cols:\n",
        "    print(f\"[5.2] Removidas do X (não numéricas para balanceamento): {drop_cols}\")\n",
        "\n",
        "# 2) Imputação simples (mediana)\n",
        "imp_bal = SimpleImputer(strategy=\"median\")\n",
        "X_num_imp = pd.DataFrame(\n",
        "    imp_bal.fit_transform(X_num),\n",
        "    columns=X_num.columns,\n",
        "    index=X_num.index\n",
        ")\n",
        "\n",
        "# 3) Escalonamento (StandardScaler)\n",
        "scaler_bal = StandardScaler()\n",
        "X_num_imp_scaled = pd.DataFrame(\n",
        "    scaler_bal.fit_transform(X_num_imp),\n",
        "    columns=X_num.columns,\n",
        "    index=X_num.index\n",
        ")\n",
        "\n",
        "print(\"[5.2] X_num_imp_scaled pronto para Tomek/SMOTE:\", X_num_imp_scaled.shape)\n",
        "\n",
        "# (Opcional) Salvar artefatos técnicos desta etapa\n",
        "# X_num_imp_scaled.to_csv(\"X_balance_ready.csv\", index=False)\n",
        "# y.to_csv(\"y_balance_ready.csv\", index=False)\n"
      ],
      "metadata": {
        "id": "15p4qR1Z2Ux4"
      },
      "execution_count": null,
      "outputs": [],
      "id": "15p4qR1Z2Ux4"
    },
    {
      "cell_type": "markdown",
      "source": [
        "### **Tomek Links (remoção de pares fronteira)**"
      ],
      "metadata": {
        "id": "1_MoefY9dKte"
      },
      "id": "1_MoefY9dKte"
    },
    {
      "cell_type": "code",
      "source": [
        "# 5.3 Tomek Links\n",
        "# ----------------\n",
        "# - Objetivo: remover pares (maioria/minoria) que formam \"bordas\" ruidosas, deixando as classes mais separáveis.\n",
        "# - Deve rodar APÓS escalonamento (distâncias ficam corretas).\n",
        "# - Resultado: base levemente menor e menos ruído.\n",
        "\n",
        "#from imblearn.under_sampling import TomekLinks\n",
        "\n",
        "tl = TomekLinks(n_jobs=-1)\n",
        "X_tomek, y_tomek = tl.fit_resample(X_num_imp_scaled, y)\n",
        "\n",
        "dist_tomek = (y_tomek.value_counts(normalize=True) * 100).round(2).to_dict()\n",
        "print(\"[5.3] Pós-Tomek — distribuição (%):\", dist_tomek)\n",
        "print(\"[5.3] Shape:\", X_tomek.shape)\n"
      ],
      "metadata": {
        "id": "ITmvV0PHYezT"
      },
      "execution_count": null,
      "outputs": [],
      "id": "ITmvV0PHYezT"
    },
    {
      "cell_type": "markdown",
      "source": [
        "### **SMOTE (_Oversampling_ da Minoritária)**\n"
      ],
      "metadata": {
        "id": "4CFPLm7bdwB3"
      },
      "id": "4CFPLm7bdwB3"
    },
    {
      "cell_type": "code",
      "source": [
        "# 5.4 Balanceamento com SMOTE (Synthetic Minority Oversampling Technique)\n",
        "# ----------------------------------------------------------------------\n",
        "# Objetivo: gerar amostras sintéticas da classe minoritária para reduzir desbalanceamento.\n",
        "# Sequência recomendada: aplicar após Tomek Links (limpa ruídos/pares conflitantes),\n",
        "#                        mas SMOTE também pode ser usado isoladamente.\n",
        "# Param k_neighbors: nº de vizinhos usados para gerar pontos sintéticos.\n",
        "#   - Ajuste dinâmico: k = min(5, minority_count - 1) → evita erro quando minoria tem poucos registros.\n",
        "# Param random_state: garante reprodutibilidade.\n",
        "# Obs: SMOTE não aceita 'n_jobs' (não paraleliza internamente).\n",
        "\n",
        "#from imblearn.over_sampling import SMOTE\n",
        "\n",
        "minority_count = y_tomek.value_counts().min()\n",
        "k = min(5, max(1, minority_count - 1))\n",
        "\n",
        "smote = SMOTE(k_neighbors=k, random_state=42)\n",
        "X_tomek_smote, y_tomek_smote = smote.fit_resample(X_tomek, y_tomek)\n",
        "\n",
        "dist_tomek_smote = (y_tomek_smote.value_counts(normalize=True) * 100).round(2).to_dict()\n",
        "print(\"[5.4] Pós-Tomek/SMOTE — distribuição (%):\", dist_tomek_smote)\n",
        "print(\"[5.4] Shape:\", X_tomek_smote.shape)\n"
      ],
      "metadata": {
        "id": "qW69IJ1tYeoT"
      },
      "execution_count": null,
      "outputs": [],
      "id": "qW69IJ1tYeoT"
    },
    {
      "cell_type": "markdown",
      "source": [
        "## 💾 Salvamento de Bases Balanceadas\n"
      ],
      "metadata": {
        "id": "iE7QyX4z5m-k"
      },
      "id": "iE7QyX4z5m-k"
    },
    {
      "cell_type": "code",
      "source": [
        "# (Opcional) salvar bases balanceadas\n",
        "pd.DataFrame(X_tomek, columns=X_num_imp_scaled.columns).to_csv(\"X_mpox_2022_target_hosp_tomek.csv\", index=False)\n",
        "y_tomek.to_csv(\"y_mpox_2022_target_hosp_tomek.csv\", index=False)\n",
        "pd.DataFrame(X_tomek_smote, columns=X_num_imp_scaled.columns).to_csv(\"X_mpox_2022_target_hosp_tomek_smote.csv\", index=False)\n",
        "y_tomek_smote.to_csv(\"y_mpox_2022_target_hosp_tomek_smote.csv\", index=False)"
      ],
      "metadata": {
        "id": "m2Oepf5S5ku3"
      },
      "execution_count": null,
      "outputs": [],
      "id": "m2Oepf5S5ku3"
    },
    {
      "cell_type": "markdown",
      "source": [
        "## Auditoria comparativa de balanceamento (Antes → Pós-Tomek → Pós-Tomek-SMOTE)"
      ],
      "metadata": {
        "id": "1GUob4FCeHe7"
      },
      "id": "1GUob4FCeHe7"
    },
    {
      "cell_type": "code",
      "source": [
        "# 5.5 Auditoria comparativa de balanceamento (Antes → Pós-Tomek → Pós-Tomek-SMOTE)\n",
        "# ------------------------------------------------\n",
        "# - Objetivo: comparar a distribuição das classes ao longo das etapas de balanceamento.\n",
        "# ------------------------------------------------\n",
        "\n",
        "import matplotlib.pyplot as plt\n",
        "import seaborn as sns\n",
        "import pandas as pd\n",
        "\n",
        "dist_original = (y.value_counts(normalize=True) * 100).round(2).to_dict()\n",
        "dist_tomek    = (y_tomek.value_counts(normalize=True) * 100).round(2).to_dict()\n",
        "dist_tomek_smote    = (y_tomek_smote.value_counts(normalize=True) * 100).round(2).to_dict()\n",
        "\n",
        "audit_balance = pd.DataFrame({\n",
        "    \"Antes (%)\": dist_original,\n",
        "    \"Após Tomek (%)\": dist_tomek,\n",
        "    \"Após Tomek/SMOTE (%)\": dist_tomek_smote\n",
        "}).T\n",
        "\n",
        "print(\"=== Auditoria comparativa do balanceamento ===\")\n",
        "print(audit_balance)\n",
        "\n",
        "fig, axes = plt.subplots(1, 3, figsize=(15, 5), sharey=True)\n",
        "\n",
        "sns.barplot(x=list(dist_original.keys()), y=list(dist_original.values()),\n",
        "            ax=axes[0], color=\"lightblue\", edgecolor=\"gray\")\n",
        "axes[0].set_title(\"Antes\")\n",
        "\n",
        "sns.barplot(x=list(dist_tomek.keys()), y=list(dist_tomek.values()),\n",
        "            ax=axes[1], color=\"lightgreen\", edgecolor=\"gray\")\n",
        "axes[1].set_title(\"Após Tomek\")\n",
        "\n",
        "sns.barplot(x=list(dist_tomek_smote.keys()), y=list(dist_tomek_smote.values()),\n",
        "            ax=axes[2], color=\"green\", edgecolor=\"gray\")\n",
        "axes[2].set_title(\"Após Tomek/SMOTE\")\n",
        "\n",
        "for ax in axes:\n",
        "    ax.set_xlabel(\"Classe\")\n",
        "    ax.set_ylabel(\"Percentual (%)\")\n",
        "\n",
        "plt.suptitle(f\"Comparação de distribuição — alvo: {target_col}\", fontsize=13)\n",
        "plt.tight_layout()\n",
        "plt.show()\n"
      ],
      "metadata": {
        "id": "_9bOz-i24D0g"
      },
      "execution_count": null,
      "outputs": [],
      "id": "_9bOz-i24D0g"
    },
    {
      "cell_type": "markdown",
      "source": [
        "## 💾 Serialização dos dados balanceados (Pós Tomek-SMOTE)"
      ],
      "metadata": {
        "id": "3egZi21PLoIB"
      },
      "id": "3egZi21PLoIB"
    },
    {
      "cell_type": "code",
      "source": [
        "# 💾 Serialização em Pickle (PKL) — Pós-SMOTE\n",
        "# -------------------------------------------------\n",
        "# Objetivo:\n",
        "#   - Salvar os datasets balanceados em formato .pkl\n",
        "#   - Preserva dtypes (ex: Int64, categorias) que podem se perder no CSV\n",
        "# Saída:\n",
        "#   - X_mpox_2022_target_hosp_tomek_smote.pkl\n",
        "#   - y_mpox_2022_target_hosp_tomek_smote.pkl\n",
        "# -------------------------------------------------\n",
        "\n",
        "#import joblib\n",
        "\n",
        "# Caminhos de saída\n",
        "X_tomek_smote_pkl = \"X_mpox_2022_target_hosp_tomek_smote.pkl\"\n",
        "y_tomek_smote_pkl = \"y_mpox_2022_target_hosp_tomek_smote.pkl\"\n",
        "\n",
        "# Serializa com joblib (mais eficiente para DataFrames grandes)\n",
        "joblib.dump(pd.DataFrame(X_tomek_smote, columns=X_num_imp_scaled.columns), X_tomek_smote_pkl)\n",
        "joblib.dump(y_tomek_smote, y_tomek_smote_pkl)\n",
        "\n",
        "print(f\"✔️ X_tomek_smote salvo em: {X_tomek_smote_pkl}\")\n",
        "print(f\"✔️ y_tomek_smote salvo em: {y_tomek_smote_pkl}\")\n",
        "\n",
        "# Checagem pós-salvamento\n",
        "X_check = joblib.load(X_tomek_smote_pkl)\n",
        "y_check = joblib.load(y_tomek_smote_pkl)\n",
        "\n",
        "print(\"\\nChecagem pós-salvamento PKL:\")\n",
        "print(\"X_tomek_smote:\", X_check.shape, \"→ dtypes:\", X_check.dtypes.unique())\n",
        "print(\"y_tomek_smote:\", y_check.shape, \"→ dtype:\", y_check.dtypes)\n",
        "print(f\"\\nDistribuição alvo ({y_tomek_smote_pkl[0:-4]}):\")\n",
        "print(\"🎯Variável-alvo:\", )\n",
        "print(y_check.value_counts(normalize=True) * 100)\n"
      ],
      "metadata": {
        "id": "_2sXVKEDLlKh"
      },
      "execution_count": null,
      "outputs": [],
      "id": "_2sXVKEDLlKh"
    },
    {
      "cell_type": "markdown",
      "source": [
        "## 📂 Desserialização do dataset pré-processado"
      ],
      "metadata": {
        "id": "9m67S9fAKAsC"
      },
      "id": "9m67S9fAKAsC"
    },
    {
      "cell_type": "code",
      "source": [
        "# 📂 Desserialização do dataset pré-processado\n",
        "\n",
        "filename = project_path + f\"mpox_2022_prep.parquet\"\n",
        "df_prep = pd.read_parquet(filename)\n",
        "print(\"✅ df_prep carregado com sucesso:\", df_prep.shape)\n",
        "\n",
        "# Visualizar primeiras linhas\n",
        "df_prep.head(1)"
      ],
      "metadata": {
        "id": "8BNAEcNMJ-op"
      },
      "execution_count": null,
      "outputs": [],
      "id": "8BNAEcNMJ-op"
    },
    {
      "cell_type": "markdown",
      "source": [
        "---\n",
        "## **🤖 Modelagem — treino e avaliação dos algoritmos supervisionados**\n",
        "### **Atividade 6: Treinamento dos modelos de Machine Learning**\n",
        "- Comparar modelos: testar diferentes classificadores\n",
        "    - Classificação binária\n",
        "    - Modelos: Naive Bayes, Árvore de Decisão, Random Forest, Aprendizagem baseada em instâncias - kNN, Regressão logística, SVM, Redes Neurais Artificiais\n",
        "- Medir desempenho com métricas adequadas e evitar overfitting\n",
        "- Investigar como técnicas de imputação e codificação impactam os resultados\n",
        "- Escolher e ajustar modelos (gridsearch/validação cruzada)\n",
        "---"
      ],
      "metadata": {
        "id": "mmBvj2PyShAA"
      },
      "id": "mmBvj2PyShAA"
    },
    {
      "cell_type": "markdown",
      "source": [
        "Configuração Inicial:\n",
        "\n",
        "- 📦 Importação das bibliotecas\n",
        "- 🔄 Carregar dados já pré-processados (Tomek + SMOTE aplicados)\n",
        "- ✂️ Divisão treino/teste\n"
      ],
      "metadata": {
        "id": "5wKu0RZ2jYVt"
      },
      "id": "5wKu0RZ2jYVt"
    },
    {
      "cell_type": "code",
      "source": [
        "# ================================\n",
        "# 📦 Importação das bibliotecas\n",
        "# ================================\n",
        "# pandas/numpy → manipulação de dados\n",
        "import pandas as pd\n",
        "import numpy as np\n",
        "\n",
        "# sklearn → modelagem e avaliação\n",
        "from sklearn.model_selection import train_test_split\n",
        "from sklearn.metrics import (\n",
        "    accuracy_score, precision_score, recall_score, f1_score, roc_auc_score,\n",
        "    classification_report, confusion_matrix, RocCurveDisplay\n",
        ")\n",
        "\n",
        "# visualização\n",
        "import matplotlib.pyplot as plt\n",
        "import seaborn as sns\n",
        "\n",
        "# salvar/carregar modelos\n",
        "import joblib\n",
        "\n",
        "# ================================\n",
        "# 🔄 Carregar dados já pré-processados (Tomek + SMOTE aplicados)\n",
        "# ================================\n",
        "X = joblib.load(\"/content/X_mpox_2022_target_hosp_tomek_smote.pkl\")\n",
        "y = joblib.load(\"/content/y_mpox_2022_target_hosp_tomek_smote.pkl\")\n",
        "\n",
        "# ================================\n",
        "# ✂️ Divisão treino/teste\n",
        "# - Mantemos proporção de classes (stratify=y)\n",
        "# - 80% treino, 20% teste\n",
        "# ================================\n",
        "X_train, X_test, y_train, y_test = train_test_split(\n",
        "    X, y, test_size=0.2, stratify=y, random_state=42\n",
        ")\n",
        "\n",
        "print(\"Tamanho treino:\", X_train.shape, \" | Tamanho teste:\", X_test.shape)\n",
        "print(\"Distribuição classes (treino):\\n\", y_train.value_counts(normalize=True))\n"
      ],
      "metadata": {
        "id": "7PJ77tJ2gI5e"
      },
      "id": "7PJ77tJ2gI5e",
      "execution_count": null,
      "outputs": []
    },
    {
      "cell_type": "code",
      "source": [
        "from google.colab import drive\n",
        "drive.mount('/content/drive')"
      ],
      "metadata": {
        "id": "dtA91WQBvMYs"
      },
      "id": "dtA91WQBvMYs",
      "execution_count": null,
      "outputs": []
    },
    {
      "cell_type": "markdown",
      "source": [
        "Função auxiliar de avaliação"
      ],
      "metadata": {
        "id": "Hxp2AECcg3tc"
      },
      "id": "Hxp2AECcg3tc"
    },
    {
      "cell_type": "code",
      "source": [
        "def avaliar_modelo(modelo, X_train, y_train, X_test, y_test, nome_modelo):\n",
        "    \"\"\"\n",
        "    Treina e avalia um modelo de classificação.\n",
        "\n",
        "    Passos:\n",
        "    1. Treina com dados de treino.\n",
        "    2. Prediz nos dados de teste.\n",
        "    3. Calcula métricas (Accuracy, Precision, Recall, F1, AUC).\n",
        "    4. Exibe relatório, matriz de confusão e curva ROC.\n",
        "\n",
        "    Retorna: dicionário com métricas principais (para comparação entre modelos).\n",
        "    \"\"\"\n",
        "    # Treinamento do modelo\n",
        "    modelo.fit(X_train, y_train)\n",
        "\n",
        "    # Predição\n",
        "    y_pred = modelo.predict(X_test)\n",
        "    y_proba = modelo.predict_proba(X_test)[:,1] if hasattr(modelo, \"predict_proba\") else None\n",
        "\n",
        "    # Cálculo das métricas\n",
        "    acc = accuracy_score(y_test, y_pred)\n",
        "    prec = precision_score(y_test, y_pred)\n",
        "    rec = recall_score(y_test, y_pred)\n",
        "    f1 = f1_score(y_test, y_pred)\n",
        "    auc = roc_auc_score(y_test, y_proba) if y_proba is not None else np.nan\n",
        "\n",
        "    # Exibição de resultados\n",
        "    print(f\"\\n📊 Resultados - {nome_modelo}\")\n",
        "    print(classification_report(y_test, y_pred))\n",
        "    print(\"Matriz de Confusão:\\n\", confusion_matrix(y_test, y_pred))\n",
        "    print(f\"AUC: {auc:.3f}\")\n",
        "\n",
        "    # Curva ROC (quando disponível)\n",
        "    if y_proba is not None:\n",
        "        RocCurveDisplay.from_estimator(modelo, X_test, y_test)\n",
        "        plt.title(f\"Curva ROC - {nome_modelo}\")\n",
        "        plt.show()\n",
        "\n",
        "    # Retorno para comparação final\n",
        "    return {\"Modelo\": nome_modelo, \"Accuracy\": acc, \"Precision\": prec,\n",
        "            \"Recall\": rec, \"F1\": f1, \"AUC\": auc}\n",
        "\n",
        "# Lista para armazenar os resultados de todos os modelos\n",
        "resultados = []\n"
      ],
      "metadata": {
        "id": "itHAoB5WgQe1"
      },
      "id": "itHAoB5WgQe1",
      "execution_count": null,
      "outputs": []
    },
    {
      "cell_type": "code",
      "source": [
        "# Visualização rápida\n",
        "print(X.head(1))\n",
        "print(y.value_counts())\n",
        "\n",
        "#type(X_loaded)\n",
        "#type(y_loaded)\n"
      ],
      "metadata": {
        "id": "AZm9Ms4apDcL"
      },
      "execution_count": null,
      "outputs": [],
      "id": "AZm9Ms4apDcL"
    },
    {
      "cell_type": "markdown",
      "source": [
        "🔹 1. Naive Bayes\n",
        "\n",
        "📘 Teoria: assume independência condicional entre atributos (Kelleher, cap. 8).\n",
        "Bom para baseline rápido, mesmo que a suposição seja simplista."
      ],
      "metadata": {
        "id": "1kaU9cahhA9B"
      },
      "id": "1kaU9cahhA9B"
    },
    {
      "cell_type": "code",
      "source": [
        "from sklearn.naive_bayes import GaussianNB\n",
        "\n",
        "nb = GaussianNB()\n",
        "resultados.append(avaliar_modelo(nb, X_train, y_train, X_test, y_test, \"Naive Bayes\"))\n"
      ],
      "metadata": {
        "id": "z80Grh2vgYxs"
      },
      "id": "z80Grh2vgYxs",
      "execution_count": null,
      "outputs": []
    },
    {
      "cell_type": "markdown",
      "source": [
        "🔹 2. Regressão Logística\n",
        "\n",
        "📘 Teoria: modelo linear que estima probabilidades. Muito usado em saúde pela interpretabilidade (odds ratio)."
      ],
      "metadata": {
        "id": "_z9pZssuhMbS"
      },
      "id": "_z9pZssuhMbS"
    },
    {
      "cell_type": "code",
      "source": [
        "from sklearn.linear_model import LogisticRegression\n",
        "\n",
        "log_reg = LogisticRegression(max_iter=1000, random_state=42)\n",
        "resultados.append(avaliar_modelo(log_reg, X_train, y_train, X_test, y_test, \"Regressão Logística\"))\n"
      ],
      "metadata": {
        "id": "LeoQGC8HhF3L"
      },
      "id": "LeoQGC8HhF3L",
      "execution_count": null,
      "outputs": []
    },
    {
      "cell_type": "markdown",
      "source": [
        "🔹 3. Árvore de Decisão\n",
        "\n",
        "📘 Teoria: gera regras hierárquicas “if-then”. Boa interpretabilidade, mas risco de overfitting se não podada."
      ],
      "metadata": {
        "id": "UbN7UCblhWdi"
      },
      "id": "UbN7UCblhWdi"
    },
    {
      "cell_type": "code",
      "source": [
        "from sklearn.tree import DecisionTreeClassifier\n",
        "\n",
        "tree = DecisionTreeClassifier(random_state=42)\n",
        "resultados.append(avaliar_modelo(tree, X_train, y_train, X_test, y_test, \"Árvore de Decisão\"))\n"
      ],
      "metadata": {
        "id": "n6R_Yha-hRIf"
      },
      "id": "n6R_Yha-hRIf",
      "execution_count": null,
      "outputs": []
    },
    {
      "cell_type": "markdown",
      "source": [
        "🔹 4. kNN\n",
        "\n",
        "📘 Teoria: classifica pelo “voto” dos vizinhos mais próximos. Simples, mas sensível a escala e dados ruidosos"
      ],
      "metadata": {
        "id": "pc6AvDUthc8E"
      },
      "id": "pc6AvDUthc8E"
    },
    {
      "cell_type": "code",
      "source": [
        "from sklearn.neighbors import KNeighborsClassifier\n",
        "\n",
        "knn = KNeighborsClassifier(n_neighbors=5)  # k=5 é default, pode ser ajustado\n",
        "resultados.append(avaliar_modelo(knn, X_train, y_train, X_test, y_test, \"kNN\"))\n"
      ],
      "metadata": {
        "id": "pf9v5skIhcV_"
      },
      "id": "pf9v5skIhcV_",
      "execution_count": null,
      "outputs": []
    },
    {
      "cell_type": "markdown",
      "source": [
        "🔹 5. Random Forest\n",
        "\n",
        "📘 Teoria: conjunto de várias árvores de decisão com amostragem aleatória. Reduz overfitting, aumenta robustez"
      ],
      "metadata": {
        "id": "YwXSJu7YhmE_"
      },
      "id": "YwXSJu7YhmE_"
    },
    {
      "cell_type": "code",
      "source": [
        "from sklearn.ensemble import RandomForestClassifier\n",
        "\n",
        "rf = RandomForestClassifier(n_estimators=200, random_state=42)\n",
        "resultados.append(avaliar_modelo(rf, X_train, y_train, X_test, y_test, \"Random Forest\"))\n"
      ],
      "metadata": {
        "id": "kR8gfULthis3"
      },
      "id": "kR8gfULthis3",
      "execution_count": null,
      "outputs": []
    },
    {
      "cell_type": "markdown",
      "source": [
        "🔹 6. SVM\n",
        "\n",
        "📘 Teoria: encontra hiperplano ótimo para separar classes. Potente em dados complexos, mas exige tuning (kernel, C, γ)."
      ],
      "metadata": {
        "id": "FX5EUoWYhxJ8"
      },
      "id": "FX5EUoWYhxJ8"
    },
    {
      "cell_type": "code",
      "source": [
        "from sklearn.svm import SVC\n",
        "\n",
        "svm = SVC(probability=True, random_state=42)  # probability=True para permitir ROC\n",
        "resultados.append(avaliar_modelo(svm, X_train, y_train, X_test, y_test, \"SVM\"))\n"
      ],
      "metadata": {
        "id": "6ZPmU4xZhotm"
      },
      "id": "6ZPmU4xZhotm",
      "execution_count": null,
      "outputs": []
    },
    {
      "cell_type": "markdown",
      "source": [
        "🔹 7. Rede Neural (MLP)\n",
        "\n",
        "📘 Teoria: modelo inspirado no cérebro humano, com múltiplas camadas ocultas. Captura padrões complexos, mas menos interpretável."
      ],
      "metadata": {
        "id": "HzjZeB-Hh1yJ"
      },
      "id": "HzjZeB-Hh1yJ"
    },
    {
      "cell_type": "code",
      "source": [
        "from sklearn.neural_network import MLPClassifier\n",
        "\n",
        "mlp = MLPClassifier(hidden_layer_sizes=(50,50), max_iter=500, random_state=42)\n",
        "resultados.append(avaliar_modelo(mlp, X_train, y_train, X_test, y_test, \"Rede Neural (MLP)\"))\n"
      ],
      "metadata": {
        "id": "lgJloFZth1Pv"
      },
      "id": "lgJloFZth1Pv",
      "execution_count": null,
      "outputs": []
    },
    {
      "cell_type": "markdown",
      "source": [
        "🔹 Comparação final entre modelos"
      ],
      "metadata": {
        "id": "q9aFuevBh-Py"
      },
      "id": "q9aFuevBh-Py"
    },
    {
      "cell_type": "code",
      "source": [
        "# Criar DataFrame comparativo\n",
        "df_resultados = pd.DataFrame(resultados)\n",
        "\n",
        "print(\"\\n📊 Comparação de Métricas entre Modelos\")\n",
        "display(df_resultados.sort_values(by=\"F1\", ascending=False))\n"
      ],
      "metadata": {
        "id": "MFSbXC9Hh7C7"
      },
      "id": "MFSbXC9Hh7C7",
      "execution_count": null,
      "outputs": []
    },
    {
      "cell_type": "markdown",
      "source": [
        "---\n",
        "## **Atividade 7: Usar o modelo treinado**\n",
        "- Salvar os transformadores\n",
        "- Salvar o modelo\n",
        "- Fazer predição usando dados novos\n",
        "---\n"
      ],
      "metadata": {
        "id": "BdrXHnftSUui"
      },
      "id": "BdrXHnftSUui"
    },
    {
      "cell_type": "markdown",
      "source": [
        "Naive Bayes"
      ],
      "metadata": {
        "id": "jWn_51unn13_"
      },
      "id": "jWn_51unn13_"
    },
    {
      "cell_type": "code",
      "source": [
        "# ✅ Exemplo: supondo que Random Forest foi o melhor (ajustar conforme resultados)\n",
        "modelo_final = nb\n",
        "\n",
        "# Salvar pipeline completo (inclui pré-processamentos e modelo final)\n",
        "joblib.dump(modelo_final, \"modelo_final_nb.pkl\")\n",
        "\n",
        "# Recarregar modelo para validar reutilização\n",
        "modelo_carregado = joblib.load(\"modelo_final_nb.pkl\")\n",
        "\n",
        "# Simular predição em 5 registros de teste\n",
        "amostra = X_test.iloc[:5]\n",
        "print(\"\\n🔮 Predições em novos dados simulados:\")\n",
        "print(\"Probabilidades:\", modelo_carregado.predict_proba(amostra))\n",
        "print(\"Classe prevista:\", modelo_carregado.predict(amostra))\n"
      ],
      "metadata": {
        "id": "2aC-8x7vn5LC"
      },
      "id": "2aC-8x7vn5LC",
      "execution_count": null,
      "outputs": []
    },
    {
      "cell_type": "markdown",
      "source": [
        "SVM"
      ],
      "metadata": {
        "id": "mBgAESPkoY_H"
      },
      "id": "mBgAESPkoY_H"
    },
    {
      "cell_type": "code",
      "source": [
        "# ✅ Exemplo: supondo que Random Forest foi o melhor (ajustar conforme resultados)\n",
        "modelo_final = nb\n",
        "\n",
        "# Salvar pipeline completo (inclui pré-processamentos e modelo final)\n",
        "joblib.dump(modelo_final, \"modelo_final_nb.pkl\")\n",
        "\n",
        "# Recarregar modelo para validar reutilização\n",
        "modelo_carregado = joblib.load(\"modelo_final_nb.pkl\")\n",
        "\n",
        "# Simular predição em 5 registros de teste\n",
        "amostra = X_test.iloc[:5]\n",
        "print(\"\\n🔮 Predições em novos dados simulados:\")\n",
        "print(\"Probabilidades:\", modelo_carregado.predict_proba(amostra))\n",
        "print(\"Classe prevista:\", modelo_carregado.predict(amostra))\n"
      ],
      "metadata": {
        "id": "_AZWmPT5oYZj"
      },
      "id": "_AZWmPT5oYZj",
      "execution_count": null,
      "outputs": []
    },
    {
      "cell_type": "markdown",
      "source": [
        "Árvore de Decisão"
      ],
      "metadata": {
        "id": "qChqQlbRoenW"
      },
      "id": "qChqQlbRoenW"
    },
    {
      "cell_type": "code",
      "source": [
        "# ✅ Exemplo: supondo que Random Forest foi o melhor (ajustar conforme resultados)\n",
        "modelo_final = tree\n",
        "\n",
        "# Salvar pipeline completo (inclui pré-processamentos e modelo final)\n",
        "joblib.dump(modelo_final, \"modelo_final_nb.pkl\")\n",
        "\n",
        "# Recarregar modelo para validar reutilização\n",
        "modelo_carregado = joblib.load(\"modelo_final_nb.pkl\")\n",
        "\n",
        "# Simular predição em 5 registros de teste\n",
        "amostra = X_test.iloc[:5]\n",
        "print(\"\\n🔮 Predições em novos dados simulados:\")\n",
        "print(\"Probabilidades:\", modelo_carregado.predict_proba(amostra))\n",
        "print(\"Classe prevista:\", modelo_carregado.predict(amostra))\n"
      ],
      "metadata": {
        "id": "sS0pOseDoiKI"
      },
      "id": "sS0pOseDoiKI",
      "execution_count": null,
      "outputs": []
    },
    {
      "cell_type": "markdown",
      "source": [
        "Rede Neural (MLP)"
      ],
      "metadata": {
        "id": "Hi9YlpCPoqlJ"
      },
      "id": "Hi9YlpCPoqlJ"
    },
    {
      "cell_type": "code",
      "source": [
        "# ✅ Exemplo: supondo que Random Forest foi o melhor (ajustar conforme resultados)\n",
        "modelo_final = mlp\n",
        "\n",
        "# Salvar pipeline completo (inclui pré-processamentos e modelo final)\n",
        "joblib.dump(modelo_final, \"modelo_final_mlp.pkl\")\n",
        "\n",
        "# Recarregar modelo para validar reutilização\n",
        "modelo_carregado = joblib.load(\"modelo_final_mlp.pkl\")\n",
        "\n",
        "# Simular predição em 5 registros de teste\n",
        "amostra = X_test.iloc[:5]\n",
        "print(\"\\n🔮 Predições em novos dados simulados:\")\n",
        "print(\"Probabilidades:\", modelo_carregado.predict_proba(amostra))\n",
        "print(\"Classe prevista:\", modelo_carregado.predict(amostra))\n"
      ],
      "metadata": {
        "id": "-Y6rw7_0op1T"
      },
      "id": "-Y6rw7_0op1T",
      "execution_count": null,
      "outputs": []
    },
    {
      "cell_type": "markdown",
      "source": [
        "Random Forest"
      ],
      "metadata": {
        "id": "MgG-IbOonBsQ"
      },
      "id": "MgG-IbOonBsQ"
    },
    {
      "cell_type": "code",
      "source": [
        "# ✅ Exemplo: supondo que Random Forest foi o melhor (ajustar conforme resultados)\n",
        "modelo_final = rf\n",
        "\n",
        "# Salvar pipeline completo (inclui pré-processamentos e modelo final)\n",
        "joblib.dump(modelo_final, \"modelo_final_rf.pkl\")\n",
        "\n",
        "# Recarregar modelo para validar reutilização\n",
        "modelo_carregado = joblib.load(\"modelo_final_rf.pkl\")\n",
        "\n",
        "# Simular predição em 5 registros de teste\n",
        "amostra = X_test.iloc[:5]\n",
        "print(\"\\n🔮 Predições em novos dados simulados:\")\n",
        "print(\"Probabilidades:\", modelo_carregado.predict_proba(amostra))\n",
        "print(\"Classe prevista:\", modelo_carregado.predict(amostra))\n"
      ],
      "metadata": {
        "id": "e5YSzvyMiHv4"
      },
      "id": "e5YSzvyMiHv4",
      "execution_count": null,
      "outputs": []
    },
    {
      "cell_type": "markdown",
      "source": [
        "Regressão Logística"
      ],
      "metadata": {
        "id": "LOSaXP4QozYq"
      },
      "id": "LOSaXP4QozYq"
    },
    {
      "cell_type": "code",
      "source": [
        "# ✅ Exemplo: supondo que Random Forest foi o melhor (ajustar conforme resultados)\n",
        "modelo_final = log_reg\n",
        "\n",
        "# Salvar pipeline completo (inclui pré-processamentos e modelo final)\n",
        "joblib.dump(modelo_final, \"modelo_final_log_reg.pkl\")\n",
        "\n",
        "# Recarregar modelo para validar reutilização\n",
        "modelo_carregado = joblib.load(\"modelo_final_log_reg.pkl\")\n",
        "\n",
        "# Simular predição em 5 registros de teste\n",
        "amostra = X_test.iloc[:5]\n",
        "print(\"\\n🔮 Predições em novos dados simulados:\")\n",
        "print(\"Probabilidades:\", modelo_carregado.predict_proba(amostra))\n",
        "print(\"Classe prevista:\", modelo_carregado.predict(amostra))\n"
      ],
      "metadata": {
        "id": "sUahknWao0WU"
      },
      "id": "sUahknWao0WU",
      "execution_count": null,
      "outputs": []
    },
    {
      "cell_type": "markdown",
      "source": [
        "kNN"
      ],
      "metadata": {
        "id": "9LwP_6F_pB43"
      },
      "id": "9LwP_6F_pB43"
    },
    {
      "cell_type": "code",
      "source": [
        "# ✅ Exemplo: supondo que Random Forest foi o melhor (ajustar conforme resultados)\n",
        "modelo_final = knn\n",
        "\n",
        "# Salvar pipeline completo (inclui pré-processamentos e modelo final)\n",
        "joblib.dump(modelo_final, \"modelo_final_knn.pkl\")\n",
        "\n",
        "# Recarregar modelo para validar reutilização\n",
        "modelo_carregado = joblib.load(\"modelo_final_knn.pkl\")\n",
        "\n",
        "# Simular predição em 5 registros de teste\n",
        "amostra = X_test.iloc[:5]\n",
        "print(\"\\n🔮 Predições em novos dados simulados:\")\n",
        "print(\"Probabilidades:\", modelo_carregado.predict_proba(amostra))\n",
        "print(\"Classe prevista:\", modelo_carregado.predict(amostra))\n"
      ],
      "metadata": {
        "id": "RgEe8QGLpA-p"
      },
      "id": "RgEe8QGLpA-p",
      "execution_count": null,
      "outputs": []
    },
    {
      "cell_type": "code",
      "source": [
        "import os\n",
        "\n",
        "# ================================\n",
        "# 📂 Criar pasta para salvar os modelos\n",
        "# ================================\n",
        "os.makedirs(\"modelos_salvos\", exist_ok=True)\n",
        "\n",
        "# ================================\n",
        "# 🔄 Loop para salvar e recarregar todos os modelos\n",
        "# ================================\n",
        "modelos_treinados = {\n",
        "    \"NaiveBayes\": nb,\n",
        "    \"RegressaoLogistica\": log_reg,\n",
        "    \"ArvoreDecisao\": tree,\n",
        "    \"kNN\": knn,\n",
        "    \"RandomForest\": rf,\n",
        "    \"SVM\": svm,\n",
        "    \"RedeNeuralMLP\": mlp\n",
        "}\n",
        "\n",
        "for nome, modelo in modelos_treinados.items():\n",
        "    print(f\"\\n=== 🔄 Testando reuso do modelo: {nome} ===\")\n",
        "\n",
        "    # 1. Salvar modelo em arquivo PKL\n",
        "    caminho = f\"modelos_salvos/{nome}.pkl\"\n",
        "    joblib.dump(modelo, caminho)\n",
        "    print(f\"✅ Modelo salvo em: {caminho}\")\n",
        "\n",
        "    # 2. Recarregar modelo salvo\n",
        "    modelo_carregado = joblib.load(caminho)\n",
        "\n",
        "    # 3. Testar predição em uma pequena amostra (5 registros de teste)\n",
        "    amostra = X_test.iloc[:5]\n",
        "    pred = modelo_carregado.predict(amostra)\n",
        "    proba = modelo_carregado.predict_proba(amostra)[:,1] if hasattr(modelo_carregado, \"predict_proba\") else \"N/A\"\n",
        "\n",
        "    print(\"🔮 Predições:\", pred)\n",
        "    print(\"📊 Probabilidades:\", proba)\n"
      ],
      "metadata": {
        "id": "uQLxoccLp83m"
      },
      "id": "uQLxoccLp83m",
      "execution_count": null,
      "outputs": []
    },
    {
      "cell_type": "code",
      "source": [],
      "metadata": {
        "id": "bs58HZ6a5Ptq"
      },
      "id": "bs58HZ6a5Ptq",
      "execution_count": null,
      "outputs": []
    }
  ],
  "metadata": {
    "kernelspec": {
      "display_name": "Python 3",
      "language": "python",
      "name": "python3"
    },
    "language_info": {
      "codemirror_mode": {
        "name": "ipython",
        "version": 3
      },
      "file_extension": ".py",
      "mimetype": "text/x-python",
      "name": "python",
      "nbconvert_exporter": "python",
      "pygments_lexer": "ipython3",
      "version": "3.13.3"
    },
    "colab": {
      "provenance": [],
      "include_colab_link": true
    }
  },
  "nbformat": 4,
  "nbformat_minor": 5
}