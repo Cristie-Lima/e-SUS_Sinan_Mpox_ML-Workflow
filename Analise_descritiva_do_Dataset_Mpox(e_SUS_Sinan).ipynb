{
  "nbformat": 4,
  "nbformat_minor": 0,
  "metadata": {
    "colab": {
      "provenance": [],
      "collapsed_sections": [
        "z4RKNclDYHNL",
        "4k3tbKL_-7Wg",
        "D3DcuRiI_jcF"
      ],
      "authorship_tag": "ABX9TyO0MKeryDt35GaWTK/LneE1",
      "include_colab_link": true
    },
    "kernelspec": {
      "name": "python3",
      "display_name": "Python 3"
    },
    "language_info": {
      "name": "python"
    }
  },
  "cells": [
    {
      "cell_type": "markdown",
      "metadata": {
        "id": "view-in-github",
        "colab_type": "text"
      },
      "source": [
        "<a href=\"https://colab.research.google.com/github/Cristie-Lima/e-SUS_Sinan_Mpox_ML-Workflow/blob/main/Analise_descritiva_do_Dataset_Mpox(e_SUS_Sinan).ipynb\" target=\"_parent\"><img src=\"https://colab.research.google.com/assets/colab-badge.svg\" alt=\"Open In Colab\"/></a>"
      ]
    },
    {
      "cell_type": "markdown",
      "source": [
        "## 📍 Bloco 1 – Dados Geográficos e Administrativos"
      ],
      "metadata": {
        "id": "z4RKNclDYHNL"
      }
    },
    {
      "cell_type": "markdown",
      "source": [
        "\n",
        "\n",
        "| Nome do campo                  | Campo interno         | Nome do campo na base de dados | Tipo        | Tipo de dado na literatura | Subtipo de dado | Categorias                                                   | Descrição                                                                 | Regra                                                                                     | Características |\n",
        "| ------------------------------- | --------------------- | ------------------------------ | ----------- | -------------------------- | --------------- | ------------------------------------------------------------ | ------------------------------------------------------------------------- | ----------------------------------------------------------------------------------------- | --------------- |\n",
        "| Classificação final do caso     | classi_fin            | CLASSI_FIN                     | Numérico(1) | Numérico                   | Categoria nominal | 1=Confirmado, 2=Descartado, 3=Suspeito, 9=Ignorado            | Resultado da investigação epidemiológica sobre o caso.                     | Campo obrigatório.                                                                        | No dataset, maioria = Confirmado. |\n",
        "| UF de residência (código IBGE)  | co_uf_residencia      | CO_UF_RES                      | Numérico(2) | Categórico                 | Nominal          | Código IBGE da Unidade Federativa                             | Código numérico da UF de residência do paciente.                           | Obrigatório se residente no Brasil.                                                      | Complementa SG_UF. |\n",
        "| UF de residência (sigla)        | no_uf_residencia      | SG_UF                          | varchar2(2) | Categórico                 | Nominal          | Tabela IBGE (UF)                                              | Unidade Federada de residência do paciente (sigla).                        | Obrigatório se residente no Brasil. Código ↔ descrição automáticos.                      | -               |\n",
        "| UF da notificação               | no_uf_notificacao     | SG_UF_NOT                      | varchar2(2) | Categórico                 | Nominal          | Tabela IBGE                                                  | Unidade Federativa da unidade notificadora.                               | Gerado automaticamente pelo sistema. Obrigatório.                                        | -               |\n",
        "| Código IBGE (município notif.)  | co_municipio_notificacao | ID_MUNICIP                  | varchar2(6) | Categórico                 | Nominal          | Tabela IBGE                                                  | Código do município da unidade notificadora. Nome associado ao código.     | Gerado automaticamente. Obrigatório.                                                     | -               |\n",
        "| Código IBGE (município resid.)  | co_municipio_residencia  | ID_MN_RESI                   | varchar2(7) | Categórico                 | Nominal          | Tabela IBGE                                                  | Código do município de residência do caso. Nome associado ao código.       | Obrigatório se residente no Brasil. Código ↔ descrição automáticos.                      | -               |\n",
        "| Data da notificação             | dt_notificacao        | DT_NOTIFIC                     | Date        | Data                       | Temporal         | Formato DD/MM/AAAA                                            | Data da notificação (> 01/01/2022 e < data atual).                         | Campo obrigatório.                                                                        | No dataset varia de 05/08/2022 a 13/12/2022. |\n",
        "\n",
        "📌 Nota importante:\n",
        "\n",
        "- No dataset real (`mpox_2022.csv`), os campos **SG_UF**, **SG_UF_NOT**, **ID_MUNICIP** e **ID_MN_RESI** estão quase sempre preenchidos, com raríssimos nulos.  \n",
        "- O campo **DT_NOTIFIC** aparece como texto (`object`) e precisa ser convertido para formato de data (`datetime`) antes de análises temporais.  \n",
        "- **CLASSI_FIN** indica a classificação final (confirmado, descartado etc.) e aparece sempre preenchido.  \n",
        "- **CO_UF_RES** complementa o campo SG_UF, permitindo análises por código IBGE.  \n"
      ],
      "metadata": {
        "id": "dI9BbuLs-YVB"
      }
    },
    {
      "cell_type": "markdown",
      "source": [
        "## 👤 Bloco 2 – Dados Sociodemográficos e Pessoais"
      ],
      "metadata": {
        "id": "4k3tbKL_-7Wg"
      }
    },
    {
      "cell_type": "markdown",
      "source": [
        "\n",
        "\n",
        "| Nome do campo        | Campo interno       | Nome do campo na base de dados | Tipo        | Tipo de dado na literatura | Subtipo de dado   | Categorias                                                                                                       | Descrição                                                | Regra                                                                                                   | Características                                                 |\n",
        "| -------------------- | ------------------- | ------------------------------ | ----------- | -------------------------- | ----------------- | ---------------------------------------------------------------------------------------------------------------- | -------------------------------------------------------- | ------------------------------------------------------------------------------------------------------- | --------------------------------------------------------------- |\n",
        "| Idade                | nu_idade            | NU_IDADE_N                     | Numérico(4) | Numérico                   | Discreto          | Valores inteiros (anos)                                                                                          | Idade informada quando não se sabe a data de nascimento. | Calculada automaticamente pelo sistema. Obrigatória se não houver data de nascimento.                   | No dataset real, os registros aparecem apenas em anos inteiros. |\n",
        "| Sexo ao nascimento   | tp_sexo             | CS_SEXO                        | Numérico(1) | Numérico                   | Categoria nominal | 1=Masculino, 2=Feminino, 3=Intersexo, 9=Ignorado                                                                 | Sexo da pessoa em atendimento.                           | Campo obrigatório.                                                                                      | Predomínio masculino (~91%). |\n",
        "| Comportamento sexual | comp_sexual         | COMP_SEXUAL                    | Numérico(1) | Numérico                   | Categoria nominal | 1=Homens, 2=Mulheres, 3=Ambos, 9=Ignorado                                                                        | Histórico de comportamento sexual.                       | Obrigatório. Desabilitado se Idade ≤ 14. Se Idade ≤ 14 → “Não se aplica”.                               | Alta frequência de ignorados. |\n",
        "| Orientação sexual    | tp_orienta_sexual   | ORIENTA_SEXUAL                 | Numérico(1) | Numérico                   | Categoria nominal | 1=Hetero, 2=Homo, 3=Bi, 4=Outra, 7=Não se aplica, 9=Ignorado                                                     | Orientação sexual da pessoa.                             | Campo obrigatório.                                                                                      | Alta frequência de ignorados. |\n",
        "| Identidade de gênero | tp_ident_genero     | IDENT_GENERO                   | Numérico(1) | Numérico                   | Categoria nominal | 1=Mulher cis, 2=Homem cis, 3=Mulher trans, 4=Homem trans, 5=Travesti, 6=Não binário, 7=Não se aplica, 9=Ignorado | Identidade de gênero.                                    | Campo obrigatório.                                                                                      | Alta frequência de ignorados. |\n",
        "| Raça/Cor             | tp_raca_cor         | CS_RACA                        | Numérico(1) | Numérico                   | Categoria nominal | 1=Branca, 2=Preta, 3=Amarela, 4=Parda, 5=Indígena, 9=Ignorado                                                    | Raça/cor declarada pela pessoa.                          | Campo obrigatório. Se “Indígena” → habilita campos de etnia/aldeamento.                                 | Maioria brancos e pardos. |\n",
        "| Gestante             | tp_gestante         | CS_GESTANT                     | Numérico(1) | Numérico                   | Categoria ordinal | 1=1º tri, 2=2º tri, 3=3º tri, 4=Idade gestacional ignorada, 5=Não, 7=Não se aplica, 9=Ignorado                   | Condição gestacional.                                    | Obrigatório se sexo = Feminino. Preenchido como “Não se aplica” se sexo = Masculino ou Idade ≤ 10 anos. | Muito pouco preenchido. |\n",
        "| É estrangeiro(a)?    | tp_estrangeiro      | ESTRANGEIRO                    | Numérico(1) | Numérico                   | Categoria nominal | 1=Sim, 2=Não, 9=Ignorado                                                                                         | Se a pessoa é estrangeira.                               | Campo obrigatório. Se “Sim”, habilita campos de nacionalidade/passaporte.                               | Raríssimos casos “Sim”. |\n",
        "| Situação de rua      | tp_rua              | CS_RUA                         | Numérico(1) | Numérico                   | Categoria nominal | 1=Sim, 2=Não, 9=Ignorado                                                                                         | Indica se a pessoa está em situação de rua.              | Campo obrigatório.                                                                                      | Quase todos “Não”. |\n",
        "| Profissional de saúde| tp_profis_saude     | PROFIS_SAUDE                   | Numérico(1) | Numérico                   | Categoria nominal | 1=Sim, 2=Não, 9=Ignorado                                                                                         | Informa se a pessoa é profissional de saúde.             | Campo obrigatório.                                                                                      | Maioria “Não”. |\n",
        "\n",
        "📌 Nota importante:\n",
        "\n",
        "- No dataset real (`mpox_2022.csv`), os registros de **NU_IDADE_N** estão apenas em anos, embora o dicionário preveja também horas, dias e meses.  \n",
        "- **CS_SEXO** é predominantemente masculino (~91%), com poucos registros femininos e raríssimos intersexo.  \n",
        "- **CS_RACA** mostra predominância de brancos e pardos; indígenas praticamente inexistem.  \n",
        "- Variáveis de sexualidade e gênero (**COMP_SEXUAL, ORIENTA_SEXUAL, IDENT_GENERO**) apresentam alta proporção de valores “Ignorado (9)”, limitando análises mais detalhadas.  \n",
        "- **CS_RUA** está quase sempre como “Não”, indicando poucos casos em situação de rua.  \n",
        "- **PROFIS_SAUDE** foi incluído corretamente neste bloco, com maioria de registros “Não”.  \n"
      ],
      "metadata": {
        "id": "SBXct_Es-4Tk"
      }
    },
    {
      "cell_type": "markdown",
      "source": [
        "## 🩺 Bloco 3 – Sinais, Sintomas, Histórico Clínico e Condições de Saúde"
      ],
      "metadata": {
        "id": "D3DcuRiI_jcF"
      }
    },
    {
      "cell_type": "markdown",
      "source": [
        "\n",
        "\n",
        "| Nome do campo                   | Campo interno             | Nome do campo na base de dados | Tipo        | Tipo de dado na literatura | Subtipo de dado   | Categorias                                                                                      | Descrição                                 | Regra                                   | Características |\n",
        "| -------------------------------- | ------------------------- | ------------------------------ | ----------- | -------------------------- | ----------------- | ----------------------------------------------------------------------------------------------- | ----------------------------------------- | --------------------------------------- | --------------- |\n",
        "| Data do início dos sintomas      | dt_inicio_sintomas        | DT_SIN_PRI                     | Date        | Data                       | Temporal          | Formato DD/MM/AAAA                                                                          | Data relatada de início dos primeiros sintomas.          | Campo obrigatório.                      | Pode divergir da DT_NOTIFIC em até 21 dias. |\n",
        "| Sinais e sintomas (agrupados)    | st_sintoma                | SINTOMA                        | Texto       | Categórico múltiplo        | Lista             | Lista de sintomas separados por vírgula (ex.: Febre, Cefaleia, Exantema, etc.)                | Indica todos os sintomas relatados pelo paciente.         | Campo obrigatório.                      | Campo livre, pode conter múltiplos sintomas. |\n",
        "| É imunossuprimido?               | pac_imunodeprimido        | PAC_IMUNOSSUP                  | Numérico(1) | Numérico                   | Categoria nominal | 1=Sim (doença), 2=Sim (medicação), 3=Sim (causa desconhecida), 4=Não, 9=Ignorado                | Condição de imunossupressão.              | Campo obrigatório.                      | -               |\n",
        "| Está com alguma IST ativa?       | pac_ist_ativa             | IST_ATIVA                      | Numérico(1) | Numérico                   | Categoria nominal | 1=Sim, 2=Não, 9=Ignorado                                                                       | Indica se paciente tem IST ativa.         | Campo obrigatório.                      | -               |\n",
        "| Clamídea                         | ist_clamidea              | CLAMIDEA                       | Numérico(1) | Numérico                   | Binário           | 0=Não, 1=Sim                                                                                | Paciente com Clamídea ativa.              | Obrigatório se IST_ATIVA=Sim.           | -               |\n",
        "| Gonorreia                        | ist_gonorreia             | GONORREIA                      | Numérico(1) | Numérico                   | Binário           | 0=Não, 1=Sim                                                                                | Paciente com Gonorreia ativa.             | idem                                   | -               |\n",
        "| Sífilis                          | ist_sifilis               | SIFILIS                        | Numérico(1) | Numérico                   | Binário           | 0=Não, 1=Sim                                                                                | Paciente com Sífilis ativa.               | idem                                   | -               |\n",
        "| Herpes genital                   | ist_herpes_genital        | HERPES_GENITAL                 | Numérico(1) | Numérico                   | Binário           | 0=Não, 1=Sim                                                                                | Paciente com Herpes genital ativa.        | idem                                   | -               |\n",
        "| Cancro mole                      | ist_cancro_mole           | CANCRO_MOLE                    | Numérico(1) | Numérico                   | Binário           | 0=Não, 1=Sim                                                                                | Paciente com Cancro mole ativo.           | idem                                   | -               |\n",
        "| Trichomonas vaginalis            | ist_trichomonas_vaginals  | TRICHOMOMAS_VAGINALS           | Numérico(1) | Numérico                   | Binário           | 0=Não, 1=Sim                                                                                | Paciente com Trichomonas ativa.           | idem                                   | -               |\n",
        "| Linfogranuloma venéreo           | ist_linfogranuloma        | LINFOGRANULOMA                 | Numérico(1) | Numérico                   | Binário           | 0=Não, 1=Sim                                                                                | Paciente com LGV ativo.                   | idem                                   | -               |\n",
        "| Mycoplasma genitalium            | ist_mycoplasma_genital    | MYCOPLASMA_GENITAL             | Numérico(1) | Numérico                   | Binário           | 0=Não, 1=Sim                                                                                | Paciente com Mycoplasma genitalium ativo. | idem                                   | -               |\n",
        "| HPV                              | ist_hpv                   | HPV                            | Numérico(1) | Numérico                   | Binário           | 0=Não, 1=Sim                                                                                | Paciente com HPV ativo.                   | idem                                   | -               |\n",
        "| Doença Inflamatória Pélvica (DIP)| ist_dip                   | DIP                            | Numérico(1) | Numérico                   | Binário           | 0=Não, 1=Sim                                                                                | Paciente com DIP ativa.                   | idem                                   | -               |\n",
        "| Donovanose                       | ist_donovanose            | DONOVANOSE                     | Numérico(1) | Numérico                   | Binário           | 0=Não, 1=Sim                                                                                | Paciente com Donovanose ativa.            | idem                                   | -               |\n",
        "| HTLV                             | ist_htlv                  | HTLV                           | Numérico(1) | Numérico                   | Binário           | 0=Não, 1=Sim                                                                                | Paciente com HTLV ativo.                  | idem                                   | -               |\n",
        "| Verruga genital                  | ist_verruga_genital       | VERRUGA_GENITAL                | Numérico(1) | Numérico                   | Binário           | 0=Não, 1=Sim                                                                                | Paciente com Verruga genital ativa.       | idem                                   | -               |\n",
        "| HIV positivo?                    | pac_hiv                   | HIV                            | Numérico(1) | Numérico                   | Categoria nominal | 1=Sim, 2=Não, 9=Ignorado                                                                   | Status de HIV.                            | Campo obrigatório.                      | -               |\n",
        "| Se HIV+, contagem CD4            | contagem_hiv_cd4          | CONTAG_CD4                     | Numérico(5) | Numérico                   | Contínuo          | Valor absoluto CD4                                                                         | Contagem de células CD4 se HIV positivo.  | Obrigatório se HIV=Sim.                 | Muitos ausentes. |\n",
        "\n",
        "📌 Nota importante:\n",
        "\n",
        "- No dataset real (`mpox_2022.csv`), o campo **SINTOMA** concentra todos os sintomas em texto, separados por vírgula (ex.: “Febre, Cefaleia, Exantema”), sem colunas específicas.  \n",
        "  👉 Sugestão: aplicar pré-processamento para **“explodir” o campo em variáveis binárias (0/1)**, uma para cada sintoma.  \n",
        "- Os campos de ISTs não seguem exatamente a regra do dicionário:  \n",
        "  - Quando **IST_ATIVA = 1**, as ISTs específicas podem aparecer como 0, 1, 9 ou vazio (sendo vazio equivalente a “Não”).  \n",
        "  - Quando **IST_ATIVA = 2 ou 9**, as ISTs específicas aparecem como 0, 2 ou vazio (todos equivalem a “Não”).  \n",
        "  👉 Sugestão: recodificar 0, 2, 9 e vazio como 0 (Não), mantendo apenas 1 como presença confirmada.  \n",
        "- **PAC_IMUNOSSUP** e **HIV** têm preenchimento majoritariamente como “Não”, com poucos positivos.  \n",
        "- **CONTAG_CD4** deveria ser preenchido quando HIV=Sim, mas tem muitos valores ausentes, limitando análises clínicas.  \n"
      ],
      "metadata": {
        "id": "g8Psz8CS_g29"
      }
    },
    {
      "cell_type": "markdown",
      "source": [
        "## ⚕️ Bloco 4 – Vacinação, Hospitalização e Evolução do Caso"
      ],
      "metadata": {
        "id": "ckpM2uelWWau"
      }
    },
    {
      "cell_type": "markdown",
      "source": [
        "\n",
        "\n",
        "| Nome do campo               | Campo interno        | Nome do campo na base de dados | Tipo        | Tipo de dado na literatura | Subtipo de dado   | Categorias                                                                                       | Descrição                                                | Regra                                                                                          | Características |\n",
        "| ---------------------------- | -------------------- | ------------------------------ | ----------- | -------------------------- | ----------------- | ----------------------------------------------------------------------------------------------- | -------------------------------------------------------- | ---------------------------------------------------------------------------------------------- | --------------- |\n",
        "| Histórico de vacinação       | st_vacina            | VACINA                         | Numérico(1) | Numérico                   | Categoria nominal | 1=Prévia, 2=Pré-exposição, 3=Pós-exposição, 4=Não, 9=Ignorado                                   | Indica vacinação contra varíola humana.                  | Campo obrigatório.                                                                             | -               |\n",
        "| Data da vacina               | dt_vacina            | DATA_VACINA                    | Date        | Data                       | Temporal          | Formato DD/MM/AAAA                                                                          | Data da vacinação, se aplicável.                        | Obrigatório se VACINA ≠ 4 (Não).                                                              | No dataset, majoritariamente vazio. |\n",
        "| Ocorreu Hospitalização?      | st_hospitalizacao    | HOSPITAL                       | Numérico(1) | Numérico                   | Categoria nominal | 1=Sim (clínico), 2=Sim (isolamento), 3=Não, 4=Outro, 9=Ignorado                               | Informa se houve hospitalização.                         | Campo obrigatório.                                                                             | -               |\n",
        "| Data da internação           | dt_internacao        | DT_INTERNA                     | Date        | Data                       | Temporal          | Formato DD/MM/AAAA                                                                          | Data de internação hospitalar.                          | Obrigatório se HOSPITAL = 1 ou 2.                                                             | Muitas ausentes. |\n",
        "| O paciente foi para UTI?     | st_uti               | UTI                            | Numérico(1) | Numérico                   | Categoria nominal | 1=Sim, 2=Não, 9=Ignorado                                                                   | Indica se houve internação em UTI.                       | Obrigatório se houve hospitalização.                                                          | Frequência baixa. |\n",
        "| Evolução do caso             | evolucao             | EVOLUCAO                       | Numérico(1) | Numérico                   | Categoria nominal | 1=Cura, 2=Óbito por Mpox, 3=Óbito por outras causas, 9=Ignorado                             | Situação final do caso notificado.                       | Campo obrigatório.                                                                             | -               |\n",
        "| Data do encerramento do caso | dt_encerramento      | DT_ENCERRAMENTO                | Date        | Data                       | Temporal          | Formato DD/MM/AAAA                                                                          | Data de encerramento da notificação.                     | Campo obrigatório.                                                                             | Pode coincidir com DT_NOTIFIC em alguns casos. |\n",
        "| Vínculo epidemiológico       | tp_vinculo_epi       | VINCULO_EPI                    | Numérico(1) | Numérico                   | Categoria nominal | 1=Sim, 2=Não, 9=Ignorado                                                                   | Indica se o caso foi vinculado a outro confirmado.        | Campo obrigatório.                                                                             | Maioria = Não. |\n",
        "\n",
        "📌 Nota importante:\n",
        "\n",
        "- No dataset real (mpox_2022.csv), o campo VACINA é predominantemente preenchido como \"Não\" (4) ou \"Ignorado\" (9), e DATA_VACINA está praticamente sempre vazio.  \n",
        "- O campo HOSPITAL mostra maioria absoluta de \"Não\" (3), com poucos registros de hospitalização clínica ou por isolamento.  \n",
        "- O campo UTI tem frequência muito baixa, refletindo raros casos graves.  \n",
        "- O campo EVOLUCAO diferencia cura, óbito por Mpox e óbito por outras causas.  \n",
        "  👉 Sugestão: pode ser recodificado em variável binária (Óbito vs Não-óbito) para simplificar análises preditivas.  \n",
        "- O campo VINCULO_EPI aparece quase sempre como \"Não\", refletindo que a maioria dos casos foi autóctone, sem vínculo com caso confirmado.\n"
      ],
      "metadata": {
        "id": "U0pZyUlG3K3S"
      }
    },
    {
      "cell_type": "markdown",
      "source": [
        "## ⚕️ Bloco 4 – Vacinação, Hospitalização e Evolução do Caso"
      ],
      "metadata": {
        "id": "8LiLr50KBXA8"
      }
    },
    {
      "cell_type": "markdown",
      "source": [
        "\n",
        "\n",
        "| Nome do campo               | Campo interno        | Nome do campo na base de dados | Tipo        | Tipo de dado na literatura | Subtipo de dado   | Categorias                                                                                       | Descrição                                                | Regra                                                                                          | Características |\n",
        "| ---------------------------- | -------------------- | ------------------------------ | ----------- | -------------------------- | ----------------- | ----------------------------------------------------------------------------------------------- | -------------------------------------------------------- | ---------------------------------------------------------------------------------------------- | --------------- |\n",
        "| Histórico de vacinação       | st_vacina            | VACINA                         | Numérico(1) | Numérico                   | Categoria nominal | 1=Prévia, 2=Pré-exposição, 3=Pós-exposição, 4=Não, 9=Ignorado                                   | Indica vacinação contra varíola humana.                  | Campo obrigatório.                                                                             | No dataset, predominância = Não ou Ignorado. |\n",
        "| Data da vacina               | dt_vacina            | DATA_VACINA                    | Date        | Data                       | Temporal          | Formato DD/MM/AAAA                                                                          | Data da vacinação, se aplicável.                        | Obrigatório se VACINA ≠ 4 (Não).                                                              | No dataset, quase sempre vazio. |\n",
        "| Ocorreu Hospitalização?      | st_hospitalizacao    | HOSPITAL                       | Numérico(1) | Numérico                   | Categoria nominal | 1=Sim (clínico), 2=Sim (isolamento), 3=Não, 4=Outro, 9=Ignorado                               | Informa se houve hospitalização.                         | Campo obrigatório.                                                                             | Maioria = Não. |\n",
        "| Data da internação           | dt_internacao        | DT_INTERNA                     | Date        | Data                       | Temporal          | Formato DD/MM/AAAA                                                                          | Data de internação hospitalar.                          | Obrigatório se HOSPITAL = 1 ou 2.                                                             | Muitas ausentes. |\n",
        "| O paciente foi para UTI?     | st_uti               | UTI                            | Numérico(1) | Numérico                   | Categoria nominal | 1=Sim, 2=Não, 9=Ignorado                                                                   | Indica se houve internação em UTI.                       | Obrigatório se houve hospitalização.                                                          | Frequência muito baixa. |\n",
        "| Evolução do caso             | evolucao             | EVOLUCAO                       | Numérico(1) | Numérico                   | Categoria nominal | 1=Cura, 2=Óbito por Mpox, 3=Óbito por outras causas, 9=Ignorado                             | Situação final do caso notificado.                       | Campo obrigatório.                                                                             | Maioria = Cura. |\n",
        "| Data da evolução do caso     | dt_evolucao          | DT_EVOLUCAO                    | Date        | Data                       | Temporal          | Formato DD/MM/AAAA                                                                          | Data de evolução do caso (cura/óbito).                   | Obrigatória se EVOLUCAO informado.                                                            | Pode coincidir com DT_ENCERRAMENTO. |\n",
        "| Vínculo epidemiológico       | tp_vinculo_epi       | VINCULO_EPI                    | Numérico(1) | Numérico                   | Categoria nominal | 1=Sim, 2=Não, 9=Ignorado                                                                   | Indica se o caso foi vinculado a outro confirmado.        | Campo obrigatório.                                                                             | Maioria = Não. |\n",
        "\n",
        "📌 Nota importante:\n",
        "\n",
        "- No dataset real (`mpox_2022.csv`), o campo **VACINA** mostra predominância de registros “Não” (4) e “Ignorado” (9). **DATA_VACINA** está quase sempre vazio.  \n",
        "- O campo **HOSPITAL** é majoritariamente “Não” (3), com raríssimos casos de internação clínica ou por isolamento.  \n",
        "- **UTI** apresenta frequência extremamente baixa, refletindo raríssimos casos graves.  \n",
        "- **EVOLUCAO** diferencia cura, óbito por Mpox e óbito por outras causas.  \n",
        "  👉 Sugestão: recodificar em uma variável binária (Óbito vs Não-óbito) pode facilitar análises.  \n",
        "- **DT_EVOLUCAO** acompanha a evolução do caso e pode coincidir com a data de encerramento. Porém, em alguns registros, aparece ausente ou igual à data de notificação.  \n",
        "- **VINCULO_EPI** é quase sempre “Não”, indicando que a maioria dos casos foi autóctone, ou seja, sem vínculo com caso confirmado.\n"
      ],
      "metadata": {
        "id": "mzjYOT5xBUH9"
      }
    },
    {
      "cell_type": "markdown",
      "source": [
        "## 🧪 Bloco 5 – Exames Laboratoriais e Tratamento"
      ],
      "metadata": {
        "id": "YOq1XdycDHaP"
      }
    },
    {
      "cell_type": "markdown",
      "source": [
        "\n",
        "\n",
        "| Nome do campo                | Campo interno          | Nome do campo na base de dados | Tipo        | Tipo de dado na literatura | Subtipo de dado   | Categorias                                                                                  | Descrição                                                     | Regra                                         | Características |\n",
        "| ----------------------------- | ---------------------- | ------------------------------ | ----------- | -------------------------- | ----------------- | ------------------------------------------------------------------------------------------ | ------------------------------------------------------------- | --------------------------------------------- | --------------- |\n",
        "| Tipo de amostra               | tp_amost               | TP_AMOST                       | Numérico(1) | Numérico                   | Categoria nominal | 1=Sangue, 2=Lesão, 3=Secreção, 4=Outro, 9=Ignorado                                         | Tipo de material biológico coletado.                         | Campo obrigatório se exame realizado.          | Predomina “Lesão”. |\n",
        "| Data da coleta                | dt_coleta              | DT_COLETA                      | Date        | Data                       | Temporal          | Formato DD/MM/AAAA                                                                         | Data de coleta da amostra.                                    | Obrigatório se TP_AMOST informado.             | Muitos valores ausentes. |\n",
        "| Resultado do exame laboratorial | resultado_exame_lab    | RESULTADO_EXA_LAB              | Numérico(1) | Numérico                   | Categoria nominal | 1=Detectável, 2=Não detectável, 3=Inconclusivo, 9=Ignorado                                 | Resultado do exame laboratorial.                              | Campo obrigatório se exame realizado.           | Maioria = Detectável. |\n",
        "| Método laboratorial           | met_lab                | MET_LAB                        | Numérico(1) | Numérico                   | Categoria nominal | 1=RT-PCR, 2=Sequenciamento, 3=Outro, 9=Ignorado                                            | Método utilizado no exame.                                   | Obrigatório se exame realizado.                | Poucos preenchidos. |\n",
        "| Caracterização genômica       | caract_genomica        | CARACT_GENOMICA                | Texto       | Categórico                 | Nominal           | Ex.: B.1.1, A.2                                                                           | Informação detalhada sobre a caracterização genômica viral.  | Preenchido apenas em alguns exames.            | Muito raro. |\n",
        "| Clado identificado            | clado                  | CLADO                          | Texto       | Categórico                 | Nominal           | Ex.: B.1, B.1.1                                                                           | Indica o clado viral identificado.                           | Preenchido apenas em casos com sequenciamento. | Muito raro. |\n",
        "| Tratamento antiviral          | tratamento_monkeypox   | TRATAMENTO_MONKEYPOX           | Numérico(1) | Numérico                   | Categoria nominal | 1=Tecovirimat, 2=Outro, 3=Não, 9=Ignorado                                                  | Informa se o paciente recebeu tratamento específico.          | Campo não obrigatório.                         | Quase todo = Não. |\n",
        "| Outro tratamento (descrição)  | outro_des              | OUTRO_DES                      | Texto       | Texto                      | Livre             | Livre                                                                                      | Campo de texto livre para especificar outro tratamento.       | Opcional.                                     | Raramente preenchido. |\n",
        "\n",
        "📌 Nota importante:\n",
        "\n",
        "- No dataset real (`mpox_2022.csv`), **TP_AMOST** mostra predominância de “Lesão”, refletindo a recomendação técnica e prática laboratorial padrão de coleta para Mpox.  \n",
        "- **DT_COLETA** tem alto índice de ausências, dificultando análises temporais do processo diagnóstico.  \n",
        "- **RESULTADO_EXA_LAB** é majoritariamente “Detectável”, coerente com o período de surto de 2022.  \n",
        "- **MET_LAB** quase sempre aparece vazio ou “Ignorado”, exceto alguns registros com RT-PCR.  \n",
        "- **CARACT_GENOMICA** e **CLADO** têm preenchimento muito raro, restritos a exames de sequenciamento.  \n",
        "- **TRATAMENTO_MONKEYPOX** indica baixíssimo uso de Tecovirimat no Brasil em 2022.  \n",
        "- **OUTRO_DES** praticamente não tem registros preenchidos.  \n"
      ],
      "metadata": {
        "id": "UTKvU9BxDDlq"
      }
    },
    {
      "cell_type": "markdown",
      "source": [
        "## 🧩 Bloco 6 – Exposição e Fatores de Risco"
      ],
      "metadata": {
        "id": "AoTt298AFZUO"
      }
    },
    {
      "cell_type": "markdown",
      "source": [
        "\n",
        "\n",
        "| Nome do campo                | Campo interno         | Nome do campo na base de dados | Tipo        | Tipo de dado na literatura | Subtipo de dado | Categorias                                                                                      | Descrição                                                     | Regra                                   | Características |\n",
        "| ----------------------------- | --------------------- | ------------------------------ | ----------- | -------------------------- | --------------- | ----------------------------------------------------------------------------------------------- | ------------------------------------------------------------- | --------------------------------------- | --------------- |\n",
        "| Local provável de contato     | local_cont            | LOCAL_CONT                     | Texto       | Categórico                 | Nominal          | Ex.: domicílio, unidade de saúde, viagem internacional, evento social                           | Local onde se acredita ter ocorrido a exposição.              | Campo obrigatório.                       | Muitas vezes vago ou genérico. |\n",
        "| Forma de transmissão          | transm                | TRANSM                          | Texto       | Categórico                 | Nominal          | Ex.: contato sexual, contato próximo não sexual, outro                                           | Provável forma de transmissão identificada.                   | Campo obrigatório.                       | Majoritariamente contato sexual. |\n",
        "| Contato com animal            | contat_animal         | CONTAT_ANIMAL                  | Numérico(1) | Numérico                   | Categoria nominal | 1=Sim, 2=Não, 9=Ignorado                                                                        | Indica se houve contato com animal suscetível.                | Campo obrigatório.                       | Quase sempre “Não”. |\n",
        "| Doença transmitida a partir de| doenca_transmitida    | DOENCA_TRA.1                   | Texto       | Texto                      | Livre            | Ex.: Varíola dos macacos                                                                        | Informação livre sobre outra doença transmitida.              | Opcional.                               | Raríssimo preenchimento. |\n",
        "\n",
        "📌 Nota importante:\n",
        "\n",
        "- No dataset real (`mpox_2022.csv`), **LOCAL_CONT** é muitas vezes descrito de forma genérica (“domicílio”, “evento social”), o que limita a precisão da análise espacial.  \n",
        "- **TRANSM** aparece majoritariamente como **contato sexual**, refletindo o principal modo de transmissão observado durante o surto de 2022 — em alinhamento com relatórios da OMS e práticas de vigilância epidemiológica.  \n",
        "- **CONTAT_ANIMAL** quase sempre está marcado como “Não”, coerente com a orientação técnica de que a transmissão no Brasil ocorreu predominantemente entre humanos, e não por contato zoonótico.  \n",
        "- **DOENCA_TRA.1** é um campo residual, raramente preenchido, mas mantém compatibilidade com outros agravos do sistema de notificação.  \n"
      ],
      "metadata": {
        "id": "WR6wgjToFW85"
      }
    }
  ]
}