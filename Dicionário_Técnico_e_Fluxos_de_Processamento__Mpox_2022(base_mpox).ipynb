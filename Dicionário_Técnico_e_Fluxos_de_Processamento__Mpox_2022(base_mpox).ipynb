{
  "nbformat": 4,
  "nbformat_minor": 0,
  "metadata": {
    "colab": {
      "provenance": [],
      "collapsed_sections": [
        "x9He2jCMwSH7",
        "0lnND_8_wdQC",
        "NNxpDK-lxWaT",
        "6WVDoCOOxriG",
        "6dhFSQakxzCb",
        "KVXPkyv8x3WW",
        "lZ5RTuDuFWXA",
        "fvsclvCtFd4e",
        "LbS_8-a6F07Q",
        "TM-GLAN1D5pY"
      ],
      "authorship_tag": "ABX9TyPiNCOUmt74nh6D+wrzoJoC",
      "include_colab_link": true
    },
    "kernelspec": {
      "name": "python3",
      "display_name": "Python 3"
    },
    "language_info": {
      "name": "python"
    }
  },
  "cells": [
    {
      "cell_type": "markdown",
      "metadata": {
        "id": "view-in-github",
        "colab_type": "text"
      },
      "source": [
        "<a href=\"https://colab.research.google.com/github/Cristie-Lima/e-SUS_Sinan_Mpox_ML-Workflow/blob/main/Dicion%C3%A1rio_T%C3%A9cnico_e_Fluxos_de_Processamento__Mpox_2022(base_mpox).ipynb\" target=\"_parent\"><img src=\"https://colab.research.google.com/assets/colab-badge.svg\" alt=\"Open In Colab\"/></a>"
      ]
    },
    {
      "cell_type": "markdown",
      "source": [
        "# **📘 Dicionário Técnico e 🔄 Fluxos de Processamento – Mpox 2022 (base_mpox)**\n",
        "\n",
        " Este documento é material de apoio para processamento de dados e desenvolvimento de modelos preditivos"
      ],
      "metadata": {
        "id": "vLpu4_-VBj0u"
      }
    },
    {
      "cell_type": "markdown",
      "source": [
        "# 📘 **Dicionário Técnico**"
      ],
      "metadata": {
        "id": "meqMyrwowCYc"
      }
    },
    {
      "cell_type": "markdown",
      "source": [
        "## 1) Categóricas nominais"
      ],
      "metadata": {
        "id": "x9He2jCMwSH7"
      }
    },
    {
      "cell_type": "markdown",
      "source": [
        "\n",
        "| Variável         | Tipo final | Observação                                                                 |\n",
        "| ---------------- | ---------- | -------------------------------------------------------------------------- |\n",
        "| SG_UF            | object     | Sigla UF residência; 4 nulos                                               |\n",
        "| SG_UF_NOT        | object     | Sigla UF notificação                                                       |\n",
        "| ID_MUNICIP       | Int64      | Código IBGE município notificação                                          |\n",
        "| CO_UF_RES        | Int64      | Código IBGE UF residência                                                  |\n",
        "| ID_MN_RESI       | Int64      | Código IBGE município residência                                           |\n",
        "| CS_SEXO          | Int64      | Sexo (1=Masculino, 2=Feminino, 3=Intersexo, 9=Ignorado)                    |\n",
        "| COMP_SEXUAL      | Int64      | Comportamento sexual                                                       |\n",
        "| ORIENTA_SEXUAL   | Int64      | Orientação sexual                                                          |\n",
        "| IDENT_GENERO     | Int64      | Identidade de gênero                                                       |\n",
        "| CS_RACA          | Int64      | Raça/cor declarada                                                         |\n",
        "| PAC_IMUNOSSUP    | Int64      | Imunossupressão                                                            |\n",
        "| IST_ATIVA        | Int64      | IST ativa                                                                  |\n",
        "| TP_AMOST         | Int64      | Tipo de amostra; categorias 1–9                                            |\n",
        "| ESTRANGEIRO      | Int64      | Estrangeiro (1=Sim, 2=Não, 9=Ignorado)                                     |\n",
        "| HIV              | Int64      | Status de HIV                                                              |\n",
        "| UTI              | Int64      | Internação em UTI                                                          |\n",
        "| RESULTADO_EXA_LAB| Int64      | 1=Detectável, 2=Inconclusivo, 3=Não detectável, 4=Pendente, 9=Ignorado     |\n",
        "| PROFIS_SAUDE     | Int64      | Profissional de saúde (alto índice de nulos)                               |\n",
        "| VACINA           | Int64      | Histórico de vacinação Monkeypox                                           |\n",
        "| TRATAMENTO_MONKEYPOX | Int64  | 0/9 → recodificados como 4 (Não informado)                                 |\n",
        "| HOSPITAL         | Int64      | Hospitalização                                                             |\n",
        "| EVOLUCAO         | Int64      | 1=Óbito Mpox, 2=Cura, 3=Óbito outra, 4=Em tratamento, 9=Ignorado           |\n",
        "| VINCULO_EPI      | Int64      | Vínculo epidemiológico                                                     |\n",
        "| LOCAL_CONT       | Int64      | 0 → 9 (Ignorado)                                                           |\n",
        "| TRANSM           | Int64      | 0 → 8 (Desconhecida)                                                       |\n",
        "| CONTAT_ANIMAL    | Int64      | Recomendado 0/9 → NA (ou 5=Outro se categoria fechada)                     |\n",
        "| MET_LAB          | Int64      | 0 → 9 (Ignorado)                                                           |\n",
        "| CARACT_GENOMICA  | Int64      | 0/3 → 9 (Ignorado)                                                         |\n",
        "| CLADO            | Int64      | 0 → 9 (Ignorado)                                                           |\n",
        "| DOENCA_TRA.1     | Int64      | Doença relacionada                                                         |\n",
        "\n",
        "---\n"
      ],
      "metadata": {
        "id": "19HnvpkswPSu"
      }
    },
    {
      "cell_type": "markdown",
      "source": [
        "## 2) Categóricas ordinais"
      ],
      "metadata": {
        "id": "0lnND_8_wdQC"
      }
    },
    {
      "cell_type": "markdown",
      "source": [
        "\n",
        "| Variável     | Tipo final | Observação                                                                    |\n",
        "| ------------ | ---------- | ----------------------------------------------------------------------------- |\n",
        "| CS_GESTANT   | Int64      | Gestante (1=1º tri, 2=2º tri, 3=3º tri, 4=Idade gest ignorada, 5=Não, 7=NSA, 9=Ignorado) |\n",
        "\n",
        "---"
      ],
      "metadata": {
        "id": "7PzMbOdbwaSl"
      }
    },
    {
      "cell_type": "markdown",
      "source": [
        "## 3) Categóricas binárias (conceito sim/não; dataset trazia 0/1/2/9/vazio)"
      ],
      "metadata": {
        "id": "NNxpDK-lxWaT"
      }
    },
    {
      "cell_type": "markdown",
      "source": [
        "\n",
        "| Variável               | Tipo final | Observação                                    |\n",
        "| ----------------------- | ---------- | --------------------------------------------- |\n",
        "| GONORREIA               | Int64      | Recodificação: 2/9/vazio → 0                  |\n",
        "| CLAMIDEA                | Int64      | Recodificação: 2/9/vazio → 0                  |\n",
        "| SIFILIS                 | Int64      | Recodificação: 2/9/vazio → 0                  |\n",
        "| HERPES_GENITAL          | Int64      | Recodificação: 2/9/vazio → 0                  |\n",
        "| CANCRO_MOLE             | Int64      | Recodificação: 2/9/vazio → 0                  |\n",
        "| TRICHOMOMOMAS_VAGINALS  | Int64      | Recodificação: 2/9/vazio → 0                  |\n",
        "| LINFOGRANULOMA          | Int64      | Recodificação: 2/9/vazio → 0                  |\n",
        "| MYCOPLASMA_GENITAL      | Int64      | Recodificação: 2/9/vazio → 0                  |\n",
        "| HPV                     | Int64      | Recodificação: 2/9/vazio → 0                  |\n",
        "| DIP                     | Int64      | Recodificação: 2/9/vazio → 0                  |\n",
        "| DONOVANOSE              | Int64      | Recodificação: 2/9/vazio → 0                  |\n",
        "| HTLV                    | Int64      | Recodificação: 2/9/vazio → 0                  |\n",
        "| VERRUGA_GENITAL         | Int64      | Recodificação: 2/9/vazio → 0                  |\n",
        "\n",
        "---\n"
      ],
      "metadata": {
        "id": "nOFbWcMfwH0B"
      }
    },
    {
      "cell_type": "markdown",
      "source": [
        "## 4) Variáveis discretas (quantitativas, inteiros)"
      ],
      "metadata": {
        "id": "dRTiTg_Qxkfh"
      }
    },
    {
      "cell_type": "markdown",
      "source": [
        "\n",
        "| Variável     | Tipo final | Observação                                                                    |\n",
        "| ------------ | ---------- | ----------------------------------------------------------------------------- |\n",
        "| NU_IDADE_N   | Int64      | Idade em anos                                                                 |\n",
        "| CONTAG_CD4   | Int64      | Contagem de células CD4; limpar caracteres, não-negativos, muitos ausentes     |\n",
        "\n",
        "---"
      ],
      "metadata": {
        "id": "zPSnzFzcxhrl"
      }
    },
    {
      "cell_type": "markdown",
      "source": [
        "\n",
        "## 5) Variáveis temporais (datas)"
      ],
      "metadata": {
        "id": "6WVDoCOOxriG"
      }
    },
    {
      "cell_type": "markdown",
      "source": [
        "\n",
        "| Variável     | Tipo final     | Observação                                      |\n",
        "| ------------ | -------------- | ----------------------------------------------- |\n",
        "| DT_NOTIFIC   | datetime64[ns] | Notificação (05/08/2022 a 13/12/2022)           |\n",
        "| DT_SIN_PRI   | datetime64[ns] | Início dos sintomas                             |\n",
        "| DT_COLETA    | datetime64[ns] | Data da coleta da amostra                       |\n",
        "| DATA_VACINA  | datetime64[ns] | 100% nula                                       |\n",
        "| DT_INTERNA   | datetime64[ns] | Data da internação hospitalar                   |\n",
        "| DT_EVOLUCAO  | datetime64[ns] | Data do desfecho (cura, óbito, etc.)            |\n",
        "\n",
        "---"
      ],
      "metadata": {
        "id": "STYNc_2SxoG4"
      }
    },
    {
      "cell_type": "markdown",
      "source": [
        "## 6) Texto livre e listas múltiplas"
      ],
      "metadata": {
        "id": "6dhFSQakxzCb"
      }
    },
    {
      "cell_type": "markdown",
      "source": [
        "\n",
        "| Variável     | Tipo final | Observação                                      |\n",
        "| ------------ | ---------- | ----------------------------------------------- |\n",
        "| SINTOMA      | object     | Lista separada por vírgula (precisa “explodir”) |\n",
        "| OUTRO_DES    | object     | Texto livre (tratamento outro, raríssimos)      |\n",
        "\n",
        "---"
      ],
      "metadata": {
        "id": "HREOG6ldxwoD"
      }
    },
    {
      "cell_type": "markdown",
      "source": [
        "\n",
        "## 7) Identificador técnico"
      ],
      "metadata": {
        "id": "KVXPkyv8x3WW"
      }
    },
    {
      "cell_type": "markdown",
      "source": [
        "| Variável           | Tipo final | Observação                                  |\n",
        "| ------------------ | ---------- | ------------------------------------------- |\n",
        "| __arquivo_origem__ | object     | Identificador técnico do OpenDatasus        |\n"
      ],
      "metadata": {
        "id": "ZuiHzetZxe7d"
      }
    },
    {
      "cell_type": "markdown",
      "source": [
        "# 🔄 **Fluxo de pré-processamento**"
      ],
      "metadata": {
        "id": "zTYuSzjwzTtF"
      }
    },
    {
      "cell_type": "markdown",
      "source": [
        "## 1) Categóricas nominais"
      ],
      "metadata": {
        "id": "2QXhktTazRZF"
      }
    },
    {
      "cell_type": "markdown",
      "source": [
        "\n",
        "- Garantir que códigos numéricos sejam tratados como Int64 (ex.: ID_MUNICIP, CO_UF_RES, ID_MN_RESI).  \n",
        "- Checar e tratar nulos em SG_UF (~4 registros).  \n",
        "- Aplicar recodificações:\n",
        "  - MET_LAB: 0 → 9\n",
        "  - CARACT_GENOMICA: 0/3 → 9\n",
        "  - CLADO: 0 → 9\n",
        "  - TRATAMENTO_MONKEYPOX: 0/9 → 4 (Não informado)\n",
        "  - LOCAL_CONT: 0 → 9\n",
        "  - TRANSM: 0 → 8\n",
        "  - CONTAT_ANIMAL: 0/9 → NA (ou 5=Outro, se categoria fechada)\n",
        "\n",
        "---"
      ],
      "metadata": {
        "id": "4v0rFr_nzOUM"
      }
    },
    {
      "cell_type": "markdown",
      "source": [
        "\n",
        "\n",
        "## 2) Categóricas ordinais\n",
        "- CS_GESTANT: manter como Int64, mas considerar `category` ordenada (ordinal).  \n",
        "- Validar coerência: se CS_SEXO ≠ Feminino → valores devem ser 5=Não, 7=NSA ou 9.\n",
        "\n",
        "---\n",
        "\n",
        "## 3) Categóricas binárias (ISTs)\n",
        "- Recodificar: 2/9/vazio → 0 (Não).  \n",
        "- Converter todas para Int64.  \n",
        "- Conferir consistência com IST_ATIVA:\n",
        "  - Se IST_ATIVA = 1 → ISTs podem ser 0/1.  \n",
        "  - Se IST_ATIVA ≠ 1 → ISTs devem ser todos 0.  \n",
        "\n",
        "---\n",
        "\n",
        "## 4) Variáveis discretas\n",
        "- NU_IDADE_N: confirmar distribuição (anos). Tratar outliers (<0 ou >110).  \n",
        "- CONTAG_CD4:\n",
        "  - Remover caracteres não numéricos.\n",
        "  - Converter para Int64.\n",
        "  - Garantir não-negativos.\n",
        "  - Muitos ausentes → documentar limitação analítica.\n",
        "\n",
        "---\n",
        "\n",
        "## 5) Variáveis temporais\n",
        "- Converter todas para datetime (`dayfirst=True`).  \n",
        "- Campos:\n",
        "  - DT_NOTIFIC\n",
        "  - DT_SIN_PRI\n",
        "  - DT_COLETA\n",
        "  - DATA_VACINA (100% nula)\n",
        "  - DT_INTERNA\n",
        "  - DT_EVOLUCAO\n",
        "- Validar ranges (2022).  \n",
        "- Verificar coerência: DT_SIN_PRI ≤ DT_NOTIFIC, DT_COLETA próximo da notificação, etc.\n",
        "\n",
        "---\n",
        "\n",
        "## 6) Texto livre e listas múltiplas\n",
        "- SINTOMA:\n",
        "  - Separar valores por vírgula.\n",
        "  - Explodir em dummies binárias (0/1) para cada sintoma.\n",
        "- OUTRO_DES:\n",
        "  - Revisar ortografia/duplicados.\n",
        "  - Poucos registros válidos, mas manter.\n",
        "\n",
        "---\n",
        "\n",
        "## 7) Identificador técnico\n",
        "- __arquivo_origem__:\n",
        "  - Manter apenas para rastreabilidade.\n",
        "  - Não usar em análises estatísticas.\n",
        "\n",
        "---\n",
        "\n",
        "## ✅ Resultado esperado após o pré-processamento\n",
        "- Categóricas → `Int64` ou `category`.  \n",
        "- Binárias → `Int64` (0/1 consistentes).  \n",
        "- Discretas → `Int64` (NU_IDADE_N, CONTAG_CD4).  \n",
        "- Datas → `datetime64[ns]`.  \n",
        "- Texto livre → `object` tratado (SINTOMA expandido, OUTRO_DES limpo).  \n",
        "- Identificador técnico → reservado para auditoria.\n"
      ],
      "metadata": {
        "id": "99cNV7axzFfl"
      }
    },
    {
      "cell_type": "markdown",
      "source": [
        "# 🔄 **Fluxo de Pré-processamento – Mpox 2022 (base_mpox)**"
      ],
      "metadata": {
        "id": "DSrZy0HHDZhs"
      }
    },
    {
      "cell_type": "markdown",
      "source": [
        "## Conversão de tipos"
      ],
      "metadata": {
        "id": "lZ5RTuDuFWXA"
      }
    },
    {
      "cell_type": "markdown",
      "source": [
        "\n",
        "- Garantir que variáveis numéricas categóricas fiquem em `Int64` (anulável).\n",
        "- Datas em `datetime64[ns]` (`dayfirst=True`).\n",
        "- Texto em `object`."
      ],
      "metadata": {
        "id": "Ad6cUo_BFPcU"
      }
    },
    {
      "cell_type": "markdown",
      "source": [
        "\n",
        "## Recodificações"
      ],
      "metadata": {
        "id": "fvsclvCtFd4e"
      }
    },
    {
      "cell_type": "markdown",
      "source": [
        "\n",
        "- Ajustar valores fora do dicionário:\n",
        "  - MET_LAB: 0 → 9\n",
        "  - CARACT_GENOMICA: 0/3 → 9\n",
        "  - CLADO: 0 → 9\n",
        "  - TRATAMENTO_MONKEYPOX: 0/9 → 4 (Não informado)\n",
        "  - LOCAL_CONT: 0 → 9\n",
        "  - TRANSM: 0 → 8\n",
        "  - ISTs específicas: 2/9/vazio → 0"
      ],
      "metadata": {
        "id": "Chm2GBpnFb44"
      }
    },
    {
      "cell_type": "markdown",
      "source": [
        "## Limpeza de CONTAG_CD4"
      ],
      "metadata": {
        "id": "VREdcR6cFkyi"
      }
    },
    {
      "cell_type": "markdown",
      "source": [
        "\n",
        "- Remover caracteres não numéricos.\n",
        "- Converter para `Int64`.\n",
        "- Garantir valores não-negativos.\n",
        "- Muitos ausentes → documentar limitação analítica."
      ],
      "metadata": {
        "id": "Ar8hRd3tFjOB"
      }
    },
    {
      "cell_type": "markdown",
      "source": [
        "## Explodir SINTOMA em *dummies*"
      ],
      "metadata": {
        "id": "LbS_8-a6F07Q"
      }
    },
    {
      "cell_type": "markdown",
      "source": [
        "\n",
        "- Coluna `SINTOMA` contém sintomas separados por vírgula.\n",
        "- Transformar em variáveis binárias 0/1 para cada sintoma identificado.\n",
        "- Normalizar strings: minúsculo, sem espaços extras."
      ],
      "metadata": {
        "id": "5qSuk8caF0vK"
      }
    },
    {
      "cell_type": "markdown",
      "source": [
        "## Relatório de checagem final"
      ],
      "metadata": {
        "id": "nl0w1o9XFxT6"
      }
    },
    {
      "cell_type": "markdown",
      "source": [
        "\n",
        "- Dtypes finais de todas as colunas.\n",
        "- % de nulos em datas.\n",
        "- Frequência das categorias principais em campos-chave (ex.: TP_AMOST, RESULTADO_EXA_LAB)."
      ],
      "metadata": {
        "id": "Zp3RJzpeFuvy"
      }
    },
    {
      "cell_type": "markdown",
      "source": [
        "\n",
        "\n",
        "## 🐍 Script Python enxuto e comentado — Pré-processamento\n",
        "\n",
        "```python\n",
        "import pandas as pd\n",
        "import numpy as np\n",
        "from typing import Tuple, Dict, Any, List\n",
        "\n",
        "DATE_COLS = ['DT_NOTIFIC','DT_SIN_PRI','DT_COLETA','DATA_VACINA','DT_INTERNA','DT_EVOLUCAO']\n",
        "IST_COLS = [\n",
        "    'GONORREIA','CLAMIDEA','SIFILIS','HERPES_GENITAL','CANCRO_MOLE',\n",
        "    'TRICHOMOMAS_VAGINALS','LINFOGRANULOMA','MYCOPLASMA_GENITAL','HPV','DIP',\n",
        "    'DONOVANOSE','HTLV','VERRUGA_GENITAL'\n",
        "]\n",
        "INT64_NULLABLE_COLS = [\n",
        "    'CANCRO_MOLE','MYCOPLASMA_GENITAL','HPV','DIP','DONOVANOSE','HTLV','VERRUGA_GENITAL',\n",
        "    'LOCAL_CONT','TRANSM','CONTAT_ANIMAL','CARACT_GENOMICA','CLADO','PROFIS_SAUDE'\n",
        "]\n",
        "RECODE_MAPS = {\n",
        "    'MET_LAB': {0: 9},\n",
        "    'CARACT_GENOMICA': {0: 9, 3: 9},\n",
        "    'CLADO': {0: 9},\n",
        "    'TRATAMENTO_MONKEYPOX': {0: 4, 9: 4},\n",
        "    'LOCAL_CONT': {0: 9},\n",
        "    'TRANSM': {0: 8},\n",
        "}\n",
        "CONTAT_ANIMAL_POLICY = 'NA'  # 'NA' (recomendado) ou 'OUTRO_5'\n",
        "\n",
        "def to_datetime_inplace(df: pd.DataFrame, cols: List[str]) -> None:\n",
        "    for c in cols:\n",
        "        if c in df.columns:\n",
        "            df[c] = pd.to_datetime(df[c], dayfirst=True, errors='coerce')\n",
        "\n",
        "def recode_values_inplace(df: pd.DataFrame, col: str, mapping: Dict[Any, Any]) -> None:\n",
        "    if col in df.columns:\n",
        "        df[col] = pd.to_numeric(df[col], errors='coerce')\n",
        "        df[col] = df[col].replace(mapping)\n",
        "\n",
        "def clean_cd4_to_int64(df: pd.DataFrame, col: str = 'CONTAG_CD4') -> None:\n",
        "    if col not in df.columns:\n",
        "        return\n",
        "    cd4 = (df[col].astype(str).str.replace(r'[^0-9\\-]', '', regex=True).replace({'': np.nan}))\n",
        "    cd4 = pd.to_numeric(cd4, errors='coerce')\n",
        "    cd4.loc[cd4 < 0] = np.nan\n",
        "    df[col] = cd4.astype('Int64')\n",
        "\n",
        "def ist_binary_recode_inplace(df: pd.DataFrame, cols: List[str]) -> None:\n",
        "    for c in cols:\n",
        "        if c in df.columns:\n",
        "            df[c] = pd.to_numeric(df[c], errors='coerce')\n",
        "            df[c] = df[c].replace({2: 0, 9: 0})\n",
        "            df[c] = df[c].fillna(0).astype('Int64')\n",
        "\n",
        "def cast_to_int64_nullable(df: pd.DataFrame, cols: List[str]) -> None:\n",
        "    for c in cols:\n",
        "        if c in df.columns:\n",
        "            df[c] = pd.to_numeric(df[c], errors='coerce').astype('Int64')\n",
        "\n",
        "def apply_contat_animal_policy_inplace(df: pd.DataFrame) -> None:\n",
        "    if 'CONTAT_ANIMAL' not in df.columns:\n",
        "        return\n",
        "    df['CONTAT_ANIMAL'] = pd.to_numeric(df['CONTAT_ANIMAL'], errors='coerce')\n",
        "    if CONTAT_ANIMAL_POLICY == 'NA':\n",
        "        df['CONTAT_ANIMAL'] = df['CONTAT_ANIMAL'].replace({0: pd.NA, 9: pd.NA}).astype('Int64')\n",
        "    elif CONTAT_ANIMAL_POLICY == 'OUTRO_5':\n",
        "        df['CONTAT_ANIMAL'] = df['CONTAT_ANIMAL'].replace({0: 5, 9: 5}).astype('Int64')\n",
        "\n",
        "def explode_sintoma_to_dummies(df: pd.DataFrame, col: str = 'SINTOMA', prefix: str = 'SINT_', sep: str = ',') -> pd.DataFrame:\n",
        "    if col not in df.columns:\n",
        "        return df\n",
        "    s = (df[col].fillna('').astype(str).str.split(sep))\n",
        "    s = s.apply(lambda items: sorted(set([i.strip().lower() for i in items if i.strip() != ''])))\n",
        "    universe = sorted({token for lst in s for token in lst})\n",
        "    for token in universe:\n",
        "        new_col = prefix + token.replace(' ', '_').replace('-', '_')\n",
        "        df[new_col] = s.apply(lambda lst: int(token in lst)).astype('Int64')\n",
        "    return df\n",
        "\n",
        "def quick_checks(df: pd.DataFrame) -> Dict[str, Any]:\n",
        "    out = {\n",
        "        'dtypes': df.dtypes.astype(str).to_dict(),\n",
        "        'dates_na': {c: int(df[c].isna().sum()) for c in DATE_COLS if c in df.columns},\n",
        "        'freq_TP_AMOST': df['TP_AMOST'].value_counts(dropna=False).to_dict() if 'TP_AMOST' in df.columns else None,\n",
        "        'freq_RESULTADO_EXA_LAB': df['RESULTADO_EXA_LAB'].value_counts(dropna=False).to_dict() if 'RESULTADO_EXA_LAB' in df.columns else None,\n",
        "        'freq_TRATAMENTO': df['TRATAMENTO_MONKEYPOX'].value_counts(dropna=False).to_dict() if 'TRATAMENTO_MONKEYPOX' in df.columns else None\n",
        "    }\n",
        "    if 'SG_UF' in df.columns:\n",
        "        out['SG_UF_nulos'] = int(df['SG_UF'].isna().sum())\n",
        "    return out\n",
        "\n",
        "def preprocess_base_mpox(base_mpox: pd.DataFrame, explode_sintomas: bool = True) -> Tuple[pd.DataFrame, Dict[str, Any]]:\n",
        "    df = base_mpox.copy()\n",
        "    to_datetime_inplace(df, DATE_COLS)\n",
        "    for col, mapping in RECODE_MAPS.items():\n",
        "        recode_values_inplace(df, col, mapping)\n",
        "    apply_contat_animal_policy_inplace(df)\n",
        "    ist_binary_recode_inplace(df, IST_COLS)\n",
        "    cast_to_int64_nullable(df, INT64_NULLABLE_COLS)\n",
        "    clean_cd4_to_int64(df, 'CONTAG_CD4')\n",
        "    for c in ['CLASSI_FIN','ID_MUNICIP','CO_UF_RES','ID_MN_RESI','CS_SEXO','COMP_SEXUAL',\n",
        "              'ORIENTA_SEXUAL','IDENT_GENERO','CS_RACA','IST_ATIVA','PAC_IMUNOSSUP',\n",
        "              'TP_AMOST','ESTRANGEIRO','HIV','UTI','RESULTADO_EXA_LAB','VACINA',\n",
        "              'TRATAMENTO_MONKEYPOX','HOSPITAL','EVOLUCAO','VINCULO_EPI','LOCAL_CONT',\n",
        "              'TRANSM','MET_LAB','CARACT_GENOMICA','CLADO','DOENCA_TRA.1','CS_GESTANT',\n",
        "              'NU_IDADE_N']:\n",
        "        if c in df.columns:\n",
        "            df[c] = pd.to_numeric(df[c], errors='coerce').astype('Int64')\n",
        "    if explode_sintomas:\n",
        "        df = explode_sintoma_to_dummies(df, col='SINTOMA', prefix='SINT_')\n",
        "    report = quick_checks(df)\n",
        "    return df, report\n"
      ],
      "metadata": {
        "id": "vAIsKfi1FPOi"
      }
    },
    {
      "cell_type": "markdown",
      "source": [
        "# ✨🐍 **Script Python enxuto e comentado — Pré-processamento**\n",
        "\n",
        "Obs.: Para ser usado como guia ao fazer o passo a passo de validação no notebook do projeto\n"
      ],
      "metadata": {
        "id": "TM-GLAN1D5pY"
      }
    },
    {
      "cell_type": "code",
      "source": [
        "\"\"\"\n",
        "import pandas as pd\n",
        "import numpy as np\n",
        "from typing import Tuple, Dict, Any, List\n",
        "\n",
        "DATE_COLS = ['DT_NOTIFIC','DT_SIN_PRI','DT_COLETA','DATA_VACINA','DT_INTERNA','DT_EVOLUCAO']\n",
        "IST_COLS = [\n",
        "    'GONORREIA','CLAMIDEA','SIFILIS','HERPES_GENITAL','CANCRO_MOLE',\n",
        "    'TRICHOMOMAS_VAGINALS','LINFOGRANULOMA','MYCOPLASMA_GENITAL','HPV','DIP',\n",
        "    'DONOVANOSE','HTLV','VERRUGA_GENITAL'\n",
        "]\n",
        "INT64_NULLABLE_COLS = [\n",
        "    'CANCRO_MOLE','MYCOPLASMA_GENITAL','HPV','DIP','DONOVANOSE','HTLV','VERRUGA_GENITAL',\n",
        "    'LOCAL_CONT','TRANSM','CONTAT_ANIMAL','CARACT_GENOMICA','CLADO','PROFIS_SAUDE'\n",
        "]\n",
        "RECODE_MAPS = {\n",
        "    'MET_LAB': {0: 9},\n",
        "    'CARACT_GENOMICA': {0: 9, 3: 9},\n",
        "    'CLADO': {0: 9},\n",
        "    'TRATAMENTO_MONKEYPOX': {0: 4, 9: 4},\n",
        "    'LOCAL_CONT': {0: 9},\n",
        "    'TRANSM': {0: 8},\n",
        "}\n",
        "CONTAT_ANIMAL_POLICY = 'NA'  # 'NA' (recomendado) ou 'OUTRO_5'\n",
        "\n",
        "def to_datetime_inplace(df: pd.DataFrame, cols: List[str]) -> None:\n",
        "    for c in cols:\n",
        "        if c in df.columns:\n",
        "            df[c] = pd.to_datetime(df[c], dayfirst=True, errors='coerce')\n",
        "\n",
        "def recode_values_inplace(df: pd.DataFrame, col: str, mapping: Dict[Any, Any]) -> None:\n",
        "    if col in df.columns:\n",
        "        df[col] = pd.to_numeric(df[col], errors='coerce')\n",
        "        df[col] = df[col].replace(mapping)\n",
        "\n",
        "def clean_cd4_to_int64(df: pd.DataFrame, col: str = 'CONTAG_CD4') -> None:\n",
        "    if col not in df.columns:\n",
        "        return\n",
        "    cd4 = (df[col].astype(str).str.replace(r'[^0-9\\-]', '', regex=True).replace({'': np.nan}))\n",
        "    cd4 = pd.to_numeric(cd4, errors='coerce')\n",
        "    cd4.loc[cd4 < 0] = np.nan\n",
        "    df[col] = cd4.astype('Int64')\n",
        "\n",
        "def ist_binary_recode_inplace(df: pd.DataFrame, cols: List[str]) -> None:\n",
        "    for c in cols:\n",
        "        if c in df.columns:\n",
        "            df[c] = pd.to_numeric(df[c], errors='coerce')\n",
        "            df[c] = df[c].replace({2: 0, 9: 0})\n",
        "            df[c] = df[c].fillna(0).astype('Int64')\n",
        "\n",
        "def cast_to_int64_nullable(df: pd.DataFrame, cols: List[str]) -> None:\n",
        "    for c in cols:\n",
        "        if c in df.columns:\n",
        "            df[c] = pd.to_numeric(df[c], errors='coerce').astype('Int64')\n",
        "\n",
        "def apply_contat_animal_policy_inplace(df: pd.DataFrame) -> None:\n",
        "    if 'CONTAT_ANIMAL' not in df.columns:\n",
        "        return\n",
        "    df['CONTAT_ANIMAL'] = pd.to_numeric(df['CONTAT_ANIMAL'], errors='coerce')\n",
        "    if CONTAT_ANIMAL_POLICY == 'NA':\n",
        "        df['CONTAT_ANIMAL'] = df['CONTAT_ANIMAL'].replace({0: pd.NA, 9: pd.NA}).astype('Int64')\n",
        "    elif CONTAT_ANIMAL_POLICY == 'OUTRO_5':\n",
        "        df['CONTAT_ANIMAL'] = df['CONTAT_ANIMAL'].replace({0: 5, 9: 5}).astype('Int64')\n",
        "\n",
        "def explode_sintoma_to_dummies(df: pd.DataFrame, col: str = 'SINTOMA', prefix: str = 'SINT_', sep: str = ',') -> pd.DataFrame:\n",
        "    if col not in df.columns:\n",
        "        return df\n",
        "    s = (df[col].fillna('').astype(str).str.split(sep))\n",
        "    s = s.apply(lambda items: sorted(set([i.strip().lower() for i in items if i.strip() != ''])))\n",
        "    universe = sorted({token for lst in s for token in lst})\n",
        "    for token in universe:\n",
        "        new_col = prefix + token.replace(' ', '_').replace('-', '_')\n",
        "        df[new_col] = s.apply(lambda lst: int(token in lst)).astype('Int64')\n",
        "    return df\n",
        "\n",
        "def quick_checks(df: pd.DataFrame) -> Dict[str, Any]:\n",
        "    out = {\n",
        "        'dtypes': df.dtypes.astype(str).to_dict(),\n",
        "        'dates_na': {c: int(df[c].isna().sum()) for c in DATE_COLS if c in df.columns},\n",
        "        'freq_TP_AMOST': df['TP_AMOST'].value_counts(dropna=False).to_dict() if 'TP_AMOST' in df.columns else None,\n",
        "        'freq_RESULTADO_EXA_LAB': df['RESULTADO_EXA_LAB'].value_counts(dropna=False).to_dict() if 'RESULTADO_EXA_LAB' in df.columns else None,\n",
        "        'freq_TRATAMENTO': df['TRATAMENTO_MONKEYPOX'].value_counts(dropna=False).to_dict() if 'TRATAMENTO_MONKEYPOX' in df.columns else None\n",
        "    }\n",
        "    if 'SG_UF' in df.columns:\n",
        "        out['SG_UF_nulos'] = int(df['SG_UF'].isna().sum())\n",
        "    return out\n",
        "\n",
        "def preprocess_base_mpox(base_mpox: pd.DataFrame, explode_sintomas: bool = True) -> Tuple[pd.DataFrame, Dict[str, Any]]:\n",
        "    df = base_mpox.copy()\n",
        "    to_datetime_inplace(df, DATE_COLS)\n",
        "    for col, mapping in RECODE_MAPS.items():\n",
        "        recode_values_inplace(df, col, mapping)\n",
        "    apply_contat_animal_policy_inplace(df)\n",
        "    ist_binary_recode_inplace(df, IST_COLS)\n",
        "    cast_to_int64_nullable(df, INT64_NULLABLE_COLS)\n",
        "    clean_cd4_to_int64(df, 'CONTAG_CD4')\n",
        "    for c in ['CLASSI_FIN','ID_MUNICIP','CO_UF_RES','ID_MN_RESI','CS_SEXO','COMP_SEXUAL',\n",
        "              'ORIENTA_SEXUAL','IDENT_GENERO','CS_RACA','IST_ATIVA','PAC_IMUNOSSUP',\n",
        "              'TP_AMOST','ESTRANGEIRO','HIV','UTI','RESULTADO_EXA_LAB','VACINA',\n",
        "              'TRATAMENTO_MONKEYPOX','HOSPITAL','EVOLUCAO','VINCULO_EPI','LOCAL_CONT',\n",
        "              'TRANSM','MET_LAB','CARACT_GENOMICA','CLADO','DOENCA_TRA.1','CS_GESTANT',\n",
        "              'NU_IDADE_N']:\n",
        "        if c in df.columns:\n",
        "            df[c] = pd.to_numeric(df[c], errors='coerce').astype('Int64')\n",
        "    if explode_sintomas:\n",
        "        df = explode_sintoma_to_dummies(df, col='SINTOMA', prefix='SINT_')\n",
        "    report = quick_checks(df)\n",
        "    return df, report\n",
        "\"\"\""
      ],
      "metadata": {
        "id": "DvhUfoPbD3kx"
      },
      "execution_count": null,
      "outputs": []
    }
  ]
}