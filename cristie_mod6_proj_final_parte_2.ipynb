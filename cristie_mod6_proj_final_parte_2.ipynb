{
  "cells": [
    {
      "cell_type": "markdown",
      "metadata": {
        "id": "view-in-github",
        "colab_type": "text"
      },
      "source": [
        "<a href=\"https://colab.research.google.com/github/Cristie-Lima/e-SUS_Sinan_Mpox_ML-Workflow/blob/main/cristie_mod6_proj_final_parte_2.ipynb\" target=\"_parent\"><img src=\"https://colab.research.google.com/assets/colab-badge.svg\" alt=\"Open In Colab\"/></a>"
      ]
    },
    {
      "cell_type": "markdown",
      "source": [
        "---\n",
        "---\n",
        "# **Ciência de Dados: Fundamentos de Machine Learning**\n",
        "---\n",
        "---"
      ],
      "metadata": {
        "id": "UZ4Wa0NV26dp"
      },
      "id": "UZ4Wa0NV26dp"
    },
    {
      "cell_type": "markdown",
      "metadata": {
        "id": "xdL1sKgB26dp"
      },
      "source": [
        "## **Pós-graduação em Ciência de Dados (2025/2026)**\n",
        "\n",
        "**Escola Superior de Tecnologia da Universidade Estadual do Amazonas - EST/UEA**\n",
        "    \n",
        "**Disciplina:** Fundamentos de Machine Learning\n",
        "\n",
        "**Prof. Me.:** Mario Bessa\n",
        "\n",
        "_**Repositório do Projeto Acadêmico no Github:** [e-SUS_Sinan_Mpox_ML-Workflow](https://github.com/Cristie-Lima/e-SUS_Sinan_Mpox_ML-Workflow)_\n",
        "\n",
        "_**Alunos:**_\n",
        "\n",
        "- _A. Cristiane R. Lima (Cristie)_\n",
        "- _José Henrique Santos Cavalcante (Henrique)_\n",
        "\n",
        "_**Data:** 30 de agosto de 2025_\n"
      ],
      "id": "xdL1sKgB26dp"
    },
    {
      "cell_type": "markdown",
      "metadata": {
        "id": "7itil0XZ26dq"
      },
      "source": [
        "## **Projeto Final**\n",
        "Este projeto está dividido em 2 notebooks para contemplar o fluxo completo de pré-modelagem e modelagem para o dataset [e-SUS Sinan/Mpox](https://opendatasus.saude.gov.br/ne/dataset/mpox), seguindo uma estrutura padronizada, do seguinte modo:\n",
        "\n",
        "- cristie_mod6_proj_final_parte_1.ipynb: Aquisição, Análise Descritiva e Exploratória de Dados (EDA), Pré-processamento (Correção )\n",
        "\n",
        "Foi desenvolvido a partir do notebook-base apresentado e explicado ao longo as aulas teórico-práticas em laboratório do Professor.\n",
        "\n",
        "---\n",
        "\n",
        "💡 **Nota técnica:** O link para o Dicionário de Dados está disponível na seção de *Análise Descritiva*. Recomenda-se mantê-lo aberto para facilitar a interpretação das variáveis.\n",
        "\n",
        "⚠️ **Observação:** Linhas com o comentário `#debug#` indicam trechos opcionais para testes e inspeções pontuais — como a geração de arquivos `.csv` temporários para verificar o estado do DataFrame após imputações.\n",
        "\n",
        "📚 **Referência:**  \n",
        "KELLEHER, John D.; MAC NAMEE, Brian; D’ARCY, Aoife. *Fundamentals of Machine Learning for Predictive Data Analytics: Algorithms, Worked Examples, and Case Studies*. 2. ed. Cambridge, MA: MIT Press, 2020.\n"
      ],
      "id": "7itil0XZ26dq"
    },
    {
      "cell_type": "markdown",
      "source": [
        "---\n",
        "### **Contextualização do Projeto**\n",
        "\n",
        "A Mpox (Monkeypox) é uma doença infecciosa emergente que ganhou atenção internacional devido ao seu potencial de disseminação e impacto na saúde pública. No Brasil, o sistema e-SUS Sinan tem sido fundamental para o registro e monitoramento dos casos, permitindo a construção de bases de dados estruturadas para análise epidemiológica.\n",
        "\n",
        "Este projeto tem como objetivo aplicar técnicas de aprendizado de máquina para explorar, tratar e modelar os dados disponíveis, com foco na geração de insights preditivos que possam apoiar estratégias de vigilância e resposta. A abordagem adotada contempla desde o pré-processamento e imputação de dados até a construção de modelos supervisionados, seguindo diretrizes metodológicas discutidas em ambiente acadêmico.\n",
        "\n",
        "---"
      ],
      "metadata": {
        "id": "pJXC5DR226dq"
      },
      "id": "pJXC5DR226dq"
    },
    {
      "cell_type": "markdown",
      "source": [
        "**Instruções:**\n",
        "\n",
        "- Realizar os processamentos abaixo:\n",
        "\n",
        "  - No notebook `cristie_mod6_proj_final_parte_1.ipynb`:\n",
        "    -  Atividade 1: Limpar dados incorretos\n",
        "    -  Atividade 2: Imputação de valores faltantes\n",
        "  - No notebook `cristie_mod6_proj_final_parte_2.ipynb`:\n",
        "    -  Atividade 3: Codificação de variáveis categóricas (OrdinalEncoder e OneHotEncoder)\n",
        "    -  Atividade 4: Escalonamento de variáveis numéricas (StandardScaler e MinMaxScaler)\n",
        "    -  Atividade 5: Balanceamento dos dados (Tomek e Smote)\n",
        "    -  Atividade 6: Treinamento dos modelos de Machine Learning\n",
        "    -  Atividade 7: Usar o modelo treinado"
      ],
      "metadata": {
        "id": "ivP80HuL26dq"
      },
      "id": "ivP80HuL26dq"
    },
    {
      "cell_type": "markdown",
      "source": [
        "## Importa bibliotecas"
      ],
      "metadata": {
        "id": "1zpmIGn2KjEU"
      },
      "id": "1zpmIGn2KjEU"
    },
    {
      "cell_type": "code",
      "source": [
        "from google.colab import drive\n",
        "import numpy as np\n",
        "import pandas as pd\n",
        "import seaborn as sns\n",
        "\n",
        "# Para filtro de variância\n",
        "from sklearn.feature_selection import VarianceThreshold\n",
        "\n",
        "\n",
        "# Para garantir X 100% numérico e sem NaN antes de Tomek/SMOTE\n",
        "from sklearn.impute import SimpleImputer\n",
        "\n",
        "# Para aplicar TomerkLinks e SMOTE\n",
        "from imblearn.under_sampling import TomekLinks\n",
        "from imblearn.over_sampling import SMOTE\n",
        "\n",
        "#import matplotlib.pyplot as plt"
      ],
      "metadata": {
        "id": "0GU1WqNWKnSu"
      },
      "id": "0GU1WqNWKnSu",
      "execution_count": 1,
      "outputs": []
    },
    {
      "cell_type": "markdown",
      "source": [
        "## Tarefas preliminares"
      ],
      "metadata": {
        "id": "hp4HG5TkPkxM"
      },
      "id": "hp4HG5TkPkxM"
    },
    {
      "cell_type": "markdown",
      "source": [
        "Montar o Google Drive no Colab"
      ],
      "metadata": {
        "id": "tca799qUKc9w"
      },
      "id": "tca799qUKc9w"
    },
    {
      "cell_type": "code",
      "source": [
        "#Montar o Google Drive no Colab\n",
        "#from google.colab import drive\n",
        "\n",
        "# Montar o Google Drive na pasta /content/drive\n",
        "drive.mount('/content/drive')"
      ],
      "metadata": {
        "colab": {
          "base_uri": "https://localhost:8080/"
        },
        "id": "HgH0Aln6LkoU",
        "outputId": "30d47051-cda7-47fa-c81e-d71c7aa3c87e"
      },
      "id": "HgH0Aln6LkoU",
      "execution_count": 3,
      "outputs": [
        {
          "output_type": "stream",
          "name": "stdout",
          "text": [
            "Mounted at /content/drive\n"
          ]
        }
      ]
    },
    {
      "cell_type": "markdown",
      "source": [
        "Registra o caminho da pasta do projeto"
      ],
      "metadata": {
        "id": "cnJREKnUP0VN"
      },
      "id": "cnJREKnUP0VN"
    },
    {
      "cell_type": "code",
      "source": [
        "\n",
        "# Caminho da pasta do projeto (ajuste conforme sua organização)\n",
        "project_path = \"/content/drive/MyDrive/data_mpox_2022_Part1/\"\n",
        "\n",
        "# Conferir se a pasta existe, senão criar\n",
        "import os\n",
        "os.makedirs(project_path, exist_ok=True)\n",
        "\n",
        "print(\"✅ Drive montado em:\", project_path)\n"
      ],
      "metadata": {
        "id": "Qeq7TnEdKZuK"
      },
      "id": "Qeq7TnEdKZuK",
      "execution_count": null,
      "outputs": []
    },
    {
      "cell_type": "markdown",
      "source": [
        "## 📂 Desserialização do dataset pré-processado"
      ],
      "metadata": {
        "id": "9m67S9fAKAsC"
      },
      "id": "9m67S9fAKAsC"
    },
    {
      "cell_type": "code",
      "source": [
        "# 📂 Desserialização do dataset pré-processado\n",
        "\n",
        "filename = project_path + \"mpox_2022_prep.parquet\"\n",
        "df_prep = pd.read_parquet(filename)\n",
        "print(\"✅ df_prep carregado com sucesso:\", df_prep.shape)\n",
        "\n",
        "# Visualizar primeiras linhas\n",
        "df_prep.head(1)"
      ],
      "metadata": {
        "id": "8BNAEcNMJ-op"
      },
      "id": "8BNAEcNMJ-op",
      "execution_count": null,
      "outputs": []
    },
    {
      "cell_type": "markdown",
      "source": [
        "---\n",
        "\n",
        "## **⚙️ Engenharia de Atributos: criando novas variáveis a partir das existentes.**\n",
        "\n",
        "---\n",
        "\n",
        "\n",
        "\n",
        "    Resumo da ações:\n",
        "      1. Explosão de SINTOMA → dummies (min_freq opcional; default preserva todos).\n",
        "      2. Deltas de datas (sem imputar; respeita NaT).\n",
        "      3. Agregados clínicos (ISTs, imuno, vacina).\n",
        "      4. Bins demográficos (idade, região).\n",
        "      5. Interações (ex.: imuno × sintomas, centralização de delay por região).\n",
        "      6. Targets (hosp, óbito).\n",
        "      7. Auditorias.\n",
        "\n",
        "\n",
        "---\n"
      ],
      "metadata": {
        "id": "tdoF2Scm6iWF"
      },
      "id": "tdoF2Scm6iWF"
    },
    {
      "cell_type": "markdown",
      "source": [
        "### Engenharia de Atributos — Funções"
      ],
      "metadata": {
        "id": "BprpIlrrDm5y"
      },
      "id": "BprpIlrrDm5y"
    },
    {
      "cell_type": "code",
      "source": [
        "# ==========================================\n",
        "# ⚙️ ENGENHARIA DE ATRIBUTOS — FUNÇÕES E EXECUÇÃO\n",
        "# ==========================================\n",
        "#import pandas as pd\n",
        "#import numpy as np\n",
        "\n",
        "# ------------------------------------------------------------\n",
        "# 1) Explosão de sintomas em dummies (com min_freq opcional)\n",
        "# ------------------------------------------------------------\n",
        "def explode_sintoma_dummies_simple(\n",
        "    df: pd.DataFrame,\n",
        "    col: str = \"SINTOMA\",\n",
        "    prefix: str = \"sx_\",\n",
        "    min_freq: int | None = None\n",
        ") -> tuple[pd.DataFrame, list]:\n",
        "    \"\"\"\n",
        "    Transforma a coluna de sintomas (strings separadas por vírgula) em colunas dummies (0/1).\n",
        "\n",
        "    Parâmetros\n",
        "    ----------\n",
        "    df : DataFrame\n",
        "        Base de entrada.\n",
        "    col : str\n",
        "        Nome da coluna que contém a lista de sintomas (ex.: \"Febre, Cefaleia\").\n",
        "    prefix : str\n",
        "        Prefixo a ser usado nas colunas dummies geradas (ex.: \"sx_\").\n",
        "    min_freq : int | None\n",
        "        - None → mantém TODOS os sintomas (recomendado para saúde; preserva informação).\n",
        "        - inteiro ≥1 → mantém apenas sintomas com frequência absoluta ≥ min_freq\n",
        "                       (útil futuramente para reduzir esparsidade).\n",
        "\n",
        "    Retorno\n",
        "    -------\n",
        "    df_out : DataFrame\n",
        "        DataFrame original + colunas dummies para cada sintoma selecionado.\n",
        "    sintomas_cols : list[str]\n",
        "        Lista com os nomes das colunas de sintomas criadas.\n",
        "    \"\"\"\n",
        "    df_out = df.copy()\n",
        "\n",
        "    if col not in df_out.columns:\n",
        "        return df_out, []\n",
        "\n",
        "    # Lista de sintomas por linha (minúsculas, trim de espaços; ignora strings vazias)\n",
        "    s_clean = df_out[col].fillna(\"\").astype(str)\n",
        "    listas = s_clean.str.split(\",\").apply(lambda xs: [t.strip().lower() for t in xs if t.strip() != \"\"])\n",
        "\n",
        "    # Frequência dos termos\n",
        "    freq = pd.Series([t for sub in listas for t in sub]).value_counts()\n",
        "\n",
        "    # Seleção por min_freq (se None → todos)\n",
        "    if min_freq is None:\n",
        "        termos = freq.index\n",
        "    else:\n",
        "        termos = freq[freq >= int(min_freq)].index\n",
        "\n",
        "    # Criação de dummies (0/1) linha a linha\n",
        "    for termo in termos:\n",
        "        c = f\"{prefix}{termo.replace(' ', '_')}\"\n",
        "        df_out[c] = listas.apply(lambda L: int(termo in L)).astype(\"Int64\")\n",
        "\n",
        "    sintomas_cols = [c for c in df_out.columns if c.startswith(prefix)]\n",
        "    return df_out, sintomas_cols\n",
        "\n",
        "\n",
        "# ------------------------------------------------------------\n",
        "# 2) Features derivadas de datas (sem imputar datas)\n",
        "# ------------------------------------------------------------\n",
        "def add_date_features(\n",
        "    df: pd.DataFrame,\n",
        "    col_notif: str = \"DT_NOTIFIC\",\n",
        "    col_inicio: str = \"DT_SIN_PRI\",\n",
        "    col_evol: str = \"DT_EVOLUCAO\",\n",
        "    col_intern: str = \"DT_INTERNA\",\n",
        "    create_missing_flags: bool = True\n",
        ") -> pd.DataFrame:\n",
        "    \"\"\"\n",
        "    Cria deltas de tempo (em dias) a partir de colunas de datas — sem imputação.\n",
        "    Se a linha não tiver ambas as datas válidas, o delta fica NaN.\n",
        "\n",
        "    Parâmetros\n",
        "    ----------\n",
        "    df : DataFrame\n",
        "        Base de entrada (datas podem estar em string; serão convertidas durante o cálculo).\n",
        "    col_notif, col_inicio, col_evol, col_intern : str\n",
        "        Nomes das colunas de datas conforme o dicionário.\n",
        "    create_missing_flags : bool\n",
        "        Se True, mantém/gera indicadores *_missing (0/1) para cada coluna de data original.\n",
        "\n",
        "    Retorno\n",
        "    -------\n",
        "    DataFrame com as colunas:\n",
        "      - delay_notif        = DT_NOTIFIC - DT_SIN_PRI\n",
        "      - tempo_internacao   = DT_EVOLUCAO - DT_INTERNA\n",
        "      - duracao_caso       = DT_EVOLUCAO - DT_SIN_PRI\n",
        "    \"\"\"\n",
        "    out = df.copy()\n",
        "\n",
        "    # Flags de ausência (se existirem as colunas)\n",
        "    def _flag(col):\n",
        "        if create_missing_flags and col in out.columns:\n",
        "            out[f\"{col}_missing\"] = out[col].isna().astype(\"Int64\")\n",
        "\n",
        "    for c in [col_notif, col_inicio, col_evol, col_intern]:\n",
        "        _flag(c)\n",
        "\n",
        "    # Converte sob demanda apenas para calcular deltas\n",
        "    to_dt = lambda s: pd.to_datetime(s, errors=\"coerce\", dayfirst=True)\n",
        "\n",
        "    if {col_notif, col_inicio}.issubset(out.columns):\n",
        "        out[\"delay_notif\"] = (to_dt(out[col_notif]) - to_dt(out[col_inicio])).dt.days\n",
        "\n",
        "    if {col_evol, col_intern}.issubset(out.columns):\n",
        "        out[\"tempo_internacao\"] = (to_dt(out[col_evol]) - to_dt(out[col_intern])).dt.days\n",
        "\n",
        "    if {col_evol, col_inicio}.issubset(out.columns):\n",
        "        out[\"duracao_caso\"] = (to_dt(out[col_evol]) - to_dt(out[col_inicio])).dt.days\n",
        "\n",
        "    return out\n",
        "\n",
        "\n",
        "# ------------------------------------------------------------\n",
        "# 3) Agregados clínicos (ISTs, imunossupressão, vacinação)\n",
        "# ------------------------------------------------------------\n",
        "def add_clinical_aggregates(\n",
        "    df: pd.DataFrame,\n",
        "    ist_cols: list | None = None,\n",
        "    col_imuno: str = \"PAC_IMUNOSSUP\",\n",
        "    col_vacina: str = \"VACINA\"\n",
        ") -> pd.DataFrame:\n",
        "    \"\"\"\n",
        "    Cria agregações clínicas:\n",
        "\n",
        "    - ist_any   : 1 se pelo menos uma IST específica = 1; 0 caso contrário (ignora NaN ao somar/max).\n",
        "    - ist_count : soma das ISTs específicas (contagem).\n",
        "    - imune_risco:\n",
        "        PAC_IMUNOSSUP (1,2,3) → 1; 4→0; outros (9/NaN) → NA.\n",
        "    - vacina_qualquer:\n",
        "        VACINA in {1,2,3} → 1; VACINA==4 → 0; caso contrário → NA.\n",
        "\n",
        "    Parâmetros\n",
        "    ----------\n",
        "    df : DataFrame\n",
        "    ist_cols : list | None\n",
        "        Lista explícita de colunas de ISTs. Se None, usa o conjunto padrão do mpox_2022.\n",
        "    col_imuno : str\n",
        "        Nome da coluna de imunossupressão.\n",
        "    col_vacina : str\n",
        "        Nome da coluna de vacinação.\n",
        "\n",
        "    Retorno\n",
        "    -------\n",
        "    DataFrame com novas colunas: ist_any, ist_count, imune_risco, vacina_qualquer.\n",
        "    \"\"\"\n",
        "    out = df.copy()\n",
        "\n",
        "    if ist_cols is None:\n",
        "        ist_cols = [\n",
        "            \"GONORREIA\",\"CLAMIDEA\",\"SIFILIS\",\"HERPES_GENITAL\",\"CANCRO_MOLE\",\n",
        "            \"TRICHOMOMAS_VAGINALS\",\"LINFOGRANULOMA\",\"MYCOPLASMA_GENITAL\",\n",
        "            \"HPV\",\"DIP\",\"DONOVANOSE\",\"HTLV\",\"VERRUGA_GENITAL\"\n",
        "        ]\n",
        "    ist_cols = [c for c in ist_cols if c in out.columns]\n",
        "\n",
        "    if ist_cols:\n",
        "        out[\"ist_any\"] = out[ist_cols].max(axis=1, skipna=True).astype(\"Int64\")\n",
        "        out[\"ist_count\"] = out[ist_cols].sum(axis=1, skipna=True).astype(\"Int64\")\n",
        "\n",
        "    if col_imuno in out.columns:\n",
        "        m = out[col_imuno].map({1:1, 2:1, 3:1, 4:0})\n",
        "        out[\"imune_risco\"] = m.astype(\"Int64\")\n",
        "\n",
        "    if col_vacina in out.columns:\n",
        "        v = pd.Series(pd.NA, index=out.index, dtype=\"Int64\")\n",
        "        v = v.mask(out[col_vacina].isin([1,2,3])==True, 1)\n",
        "        v = v.mask(out[col_vacina].eq(4)==True, 0)\n",
        "        out[\"vacina_qualquer\"] = v\n",
        "\n",
        "    return out\n",
        "\n",
        "\n",
        "# ------------------------------------------------------------\n",
        "# 4) Bins demográficos / Região (UF→região)\n",
        "# ------------------------------------------------------------\n",
        "def add_demo_bins(\n",
        "    df: pd.DataFrame,\n",
        "    col_idade: str = \"NU_IDADE_N\",\n",
        "    col_uf: str = \"SG_UF\"\n",
        ") -> pd.DataFrame:\n",
        "    \"\"\"\n",
        "    Cria faixas etárias e região (a partir de SG_UF).\n",
        "    - faixa_etaria: categorias textuais (0–9, 10–17, 18–29, 30–39, 40–49, 50–59, 60+).\n",
        "      (Mantém NaN quando NU_IDADE_N ausente).\n",
        "    - regiao: Norte, Nordeste, Centro-Oeste, Sudeste, Sul (NaN se SG_UF ausente ou desconhecido).\n",
        "\n",
        "    Parâmetros\n",
        "    ----------\n",
        "    df : DataFrame\n",
        "    col_idade : str\n",
        "        Nome da coluna de idade (anos).\n",
        "    col_uf : str\n",
        "        Nome da coluna de UF (sigla).\n",
        "\n",
        "    Retorno\n",
        "    -------\n",
        "    DataFrame com 'faixa_etaria' (category) e 'regiao' (category).\n",
        "    \"\"\"\n",
        "    out = df.copy()\n",
        "\n",
        "    # Faixas etárias (ajustáveis)\n",
        "    if col_idade in out.columns:\n",
        "        bins = [-np.inf, 9, 17, 29, 39, 49, 59, np.inf]\n",
        "        labels = [\"0-9\",\"10-17\",\"18-29\",\"30-39\",\"40-49\",\"50-59\",\"60+\"]\n",
        "        out[\"faixa_etaria\"] = pd.cut(out[col_idade], bins=bins, labels=labels).astype(\"category\")\n",
        "\n",
        "    # Mapeamento UF → Região (IBGE)\n",
        "    uf_regiao = {\n",
        "        # Norte\n",
        "        \"AC\":\"Norte\",\"AP\":\"Norte\",\"AM\":\"Norte\",\"PA\":\"Norte\",\"RO\":\"Norte\",\"RR\":\"Norte\",\"TO\":\"Norte\",\n",
        "        # Nordeste\n",
        "        \"AL\":\"Nordeste\",\"BA\":\"Nordeste\",\"CE\":\"Nordeste\",\"MA\":\"Nordeste\",\"PB\":\"Nordeste\",\n",
        "        \"PE\":\"Nordeste\",\"PI\":\"Nordeste\",\"RN\":\"Nordeste\",\"SE\":\"Nordeste\",\n",
        "        # Centro-Oeste\n",
        "        \"DF\":\"Centro-Oeste\",\"GO\":\"Centro-Oeste\",\"MS\":\"Centro-Oeste\",\"MT\":\"Centro-Oeste\",\n",
        "        # Sudeste\n",
        "        \"ES\":\"Sudeste\",\"MG\":\"Sudeste\",\"RJ\":\"Sudeste\",\"SP\":\"Sudeste\",\n",
        "        # Sul\n",
        "        \"PR\":\"Sul\",\"RS\":\"Sul\",\"SC\":\"Sul\",\n",
        "    }\n",
        "    if col_uf in out.columns:\n",
        "        out[\"regiao\"] = out[col_uf].map(uf_regiao).astype(\"category\")\n",
        "\n",
        "    return out\n",
        "\n",
        "\n",
        "# ------------------------------------------------------------\n",
        "# 5) Interações (exemplos pragmáticos)\n",
        "# ------------------------------------------------------------\n",
        "def add_interactions(\n",
        "    df: pd.DataFrame,\n",
        "    sintomas_prefix: str = \"sx_\",\n",
        "    center_delay_by: str = \"regiao\"\n",
        ") -> pd.DataFrame:\n",
        "    \"\"\"\n",
        "    Cria interações/transformações simples:\n",
        "\n",
        "    - sintoma_count: soma dos dummies de sintomas (se existirem colunas com prefixo sintomas_prefix).\n",
        "    - imune_risco_x_sintomas: produto de imune_risco * sintoma_count (se ambas existirem).\n",
        "    - delay_notif_centered_regiao: delay_notif centrado pela média da região (se 'regiao' existir).\n",
        "\n",
        "    Parâmetros\n",
        "    ----------\n",
        "    df : DataFrame\n",
        "    sintomas_prefix : str\n",
        "        Prefixo que identifica as colunas dummies de sintomas (default 'sx_').\n",
        "    center_delay_by : str\n",
        "        Coluna categórica para centralizar delay_notif por grupo (default 'regiao').\n",
        "\n",
        "    Retorno\n",
        "    -------\n",
        "    DataFrame com novas colunas se aplicáveis.\n",
        "    \"\"\"\n",
        "    out = df.copy()\n",
        "\n",
        "    # Conta dummies de sintomas\n",
        "    sint_cols = [c for c in out.columns if c.startswith(sintomas_prefix)]\n",
        "    if sint_cols:\n",
        "        out[\"sintoma_count\"] = out[sint_cols].sum(axis=1, skipna=True).astype(\"Int64\")\n",
        "\n",
        "    # Interação com imunossupressão\n",
        "    if {\"imune_risco\",\"sintoma_count\"}.issubset(out.columns):\n",
        "        # Usa 0 para NA ao multiplicar; resultado volta a Int64 com NA onde ambos eram NA\n",
        "        tmp = out[\"imune_risco\"].fillna(0) * out[\"sintoma_count\"].fillna(0)\n",
        "        tmp = tmp.mask(out[\"imune_risco\"].isna() & out[\"sintoma_count\"].isna(), pd.NA)\n",
        "        out[\"imune_risco_x_sintomas\"] = tmp.astype(\"Int64\")\n",
        "\n",
        "    # Centralização de delay_notif por região (ou outra coluna categórica)\n",
        "    if \"delay_notif\" in out.columns and center_delay_by in out.columns:\n",
        "        out[\"delay_notif_centered_regiao\"] = (\n",
        "            out[\"delay_notif\"] - out.groupby(center_delay_by)[\"delay_notif\"].transform(\"mean\")\n",
        "        )\n",
        "\n",
        "    return out\n",
        "\n",
        "\n",
        "# ------------------------------------------------------------\n",
        "# 6) Targets (variáveis-alvo binárias)\n",
        "# ------------------------------------------------------------\n",
        "def add_targets(\n",
        "    df: pd.DataFrame,\n",
        "    col_hosp: str = \"HOSPITAL\",\n",
        "    col_evol: str = \"EVOLUCAO\"\n",
        ") -> pd.DataFrame:\n",
        "    \"\"\"\n",
        "    Cria variáveis-alvo padronizadas para classificação:\n",
        "\n",
        "    - target_hosp      : 1 se HOSPITAL == 1; 0 caso contrário (Int64 com NA onde não há dado).\n",
        "    - target_obito_any : 1 se EVOLUCAO ∈ {1 (óbito MPX), 3 (óbito outra causa)}; 0 caso contrário.\n",
        "    - target_obito_mpx : 1 se EVOLUCAO == 1; 0 caso contrário.\n",
        "\n",
        "    Parâmetros\n",
        "    ----------\n",
        "    df : DataFrame\n",
        "    col_hosp : str\n",
        "        Nome da coluna de hospitalização (código).\n",
        "    col_evol : str\n",
        "        Nome da coluna de evolução (código).\n",
        "\n",
        "    Retorno\n",
        "    -------\n",
        "    DataFrame com as três colunas de target.\n",
        "    \"\"\"\n",
        "    out = df.copy()\n",
        "\n",
        "    if col_hosp in out.columns:\n",
        "        t = out[col_hosp].eq(1)\n",
        "        out[\"target_hosp\"] = t.where(out[col_hosp].notna(), pd.NA).astype(\"Int64\")\n",
        "\n",
        "    if col_evol in out.columns:\n",
        "        any_obito = out[col_evol].isin([1,3])\n",
        "        out[\"target_obito_any\"] = any_obito.where(out[col_evol].notna(), pd.NA).astype(\"Int64\")\n",
        "        mpx = out[col_evol].eq(1)\n",
        "        out[\"target_obito_mpx\"] = mpx.where(out[col_evol].notna(), pd.NA).astype(\"Int64\")\n",
        "\n",
        "    return out\n",
        "\n",
        "\n",
        "# ------------------------------------------------------------\n",
        "# 7) Auditorias\n",
        "# ------------------------------------------------------------\n",
        "def audit_sintomas(df: pd.DataFrame, sintomas_cols: list[str]) -> pd.DataFrame:\n",
        "    \"\"\"\n",
        "    Auditoria das dummies de sintomas:\n",
        "    - non_nulls, sum_positives, percent_positives\n",
        "    - status: marca colunas sempre-zero / sempre-NaN\n",
        "    \"\"\"\n",
        "    if not sintomas_cols:\n",
        "        return pd.DataFrame({\"msg\": [\"Sem colunas de sintomas (prefixo não encontrado).\"]})\n",
        "\n",
        "    audit = pd.DataFrame({\n",
        "        \"non_nulls\": df[sintomas_cols].notna().sum(),\n",
        "        \"sum_positives\": df[sintomas_cols].sum(),\n",
        "        \"percent_positives\": df[sintomas_cols].mean() * 100\n",
        "    })\n",
        "    audit[\"status\"] = \"-\"\n",
        "    audit.loc[audit[\"sum_positives\"] == 0, \"status\"] = \"⚠️ Sempre 0\"\n",
        "    audit.loc[audit[\"non_nulls\"] == 0, \"status\"] = \"⚠️ Sempre NaN\"\n",
        "    return audit.sort_values(\"percent_positives\", ascending=False)\n",
        "\n",
        "\n",
        "def audit_feature_engineering(df: pd.DataFrame) -> pd.DataFrame:\n",
        "    \"\"\"\n",
        "    Checagem rápida de presença e sanidade das principais novas features.\n",
        "    Retorna um pequeno quadro-resumo (counts/NA/descrição de colunas-chave).\n",
        "    \"\"\"\n",
        "    cols_check = [\n",
        "        \"delay_notif\",\"tempo_internacao\",\"duracao_caso\",\n",
        "        \"ist_any\",\"ist_count\",\"imune_risco\",\"vacina_qualquer\",\n",
        "        \"faixa_etaria\",\"regiao\",\"sintoma_count\",\"imune_risco_x_sintomas\",\n",
        "        \"delay_notif_centered_regiao\",\n",
        "        \"target_hosp\",\"target_obito_any\",\"target_obito_mpx\"\n",
        "    ]\n",
        "    cols_check = [c for c in cols_check if c in df.columns]\n",
        "    if not cols_check:\n",
        "        return pd.DataFrame({\"msg\": [\"Nenhuma coluna derivada encontrada para auditar.\"]})\n",
        "\n",
        "    out = []\n",
        "    for c in cols_check:\n",
        "        s = df[c]\n",
        "        out.append({\n",
        "            \"col\": c,\n",
        "            \"dtype\": str(s.dtype),\n",
        "            \"non_null\": int(s.notna().sum()),\n",
        "            \"na\": int(s.isna().sum()),\n",
        "            \"unique\": int(s.nunique(dropna=True)),\n",
        "            \"sample_values\": s.dropna().unique()[:5] if s.nunique(dropna=True) <= 10 else \"many\"\n",
        "        })\n",
        "    return pd.DataFrame(out).set_index(\"col\")"
      ],
      "metadata": {
        "id": "WHE72Kwv-8I7"
      },
      "execution_count": null,
      "outputs": [],
      "id": "WHE72Kwv-8I7"
    },
    {
      "cell_type": "markdown",
      "source": [
        "### **Estrutura de Execução (orquestra todas as etapas)**\n",
        "\n",
        "Neste momento como ainda está-se a explorar e atuar na Engenharia de Atributos, melhor manter todos os dummies de sintomas"
      ],
      "metadata": {
        "id": "JOLTxaRnmdNw"
      },
      "id": "JOLTxaRnmdNw"
    },
    {
      "cell_type": "code",
      "source": [
        "# ------------------------------------------------------------\n",
        "# 8) PIPELINE DE EXECUÇÃO (orquestra todas as etapas)\n",
        "# ------------------------------------------------------------\n",
        "def run_feature_engineering_pipeline(\n",
        "    df: pd.DataFrame,\n",
        "    sintomas_min_freq: int | None = None\n",
        ") -> tuple[pd.DataFrame, dict]:\n",
        "    \"\"\"\n",
        "    Executa a Engenharia de Atributos end-to-end:\n",
        "\n",
        "    Etapas:\n",
        "      1. Explosão de SINTOMA → dummies (min_freq opcional; default preserva todos).\n",
        "      2. Deltas de datas (sem imputar; respeita NaT).\n",
        "      3. Agregados clínicos (ISTs, imuno, vacina).\n",
        "      4. Bins demográficos (idade, região).\n",
        "      5. Interações (ex.: imuno × sintomas, centralização de delay por região).\n",
        "      6. Targets (hosp, óbito).\n",
        "      7. Auditorias.\n",
        "\n",
        "    Parâmetros\n",
        "    ----------\n",
        "    df : DataFrame\n",
        "        DataFrame pós-imputação/limpeza.\n",
        "    sintomas_min_freq : int | None\n",
        "        Cutoff para filtrar sintomas raros (None = mantém todos).\n",
        "\n",
        "    Retorno\n",
        "    -------\n",
        "    df_feat : DataFrame\n",
        "        DataFrame final enriquecido com todas as features derivadas.\n",
        "    info : dict\n",
        "        Dicionário com artefatos úteis:\n",
        "          - 'sintomas_cols': lista de colunas dummies geradas\n",
        "          - 'audit_sintomas': DataFrame de auditoria de sintomas\n",
        "          - 'audit_features': DataFrame de auditoria final de features\n",
        "    \"\"\"\n",
        "    # 1) Sintomas → dummies\n",
        "    df1, sx_cols = explode_sintoma_dummies_simple(df, col=\"SINTOMA\", prefix=\"sx_\", min_freq=sintomas_min_freq)\n",
        "\n",
        "    # 2) Datas → deltas\n",
        "    df2 = add_date_features(df1)\n",
        "\n",
        "    # 3) Agregados clínicos\n",
        "    df3 = add_clinical_aggregates(df2)\n",
        "\n",
        "    # 4) Bins demográficos / região\n",
        "    df4 = add_demo_bins(df3)\n",
        "\n",
        "    # 5) Interações\n",
        "    df5 = add_interactions(df4)\n",
        "\n",
        "    # 6) Targets\n",
        "    df_feat = add_targets(df5)\n",
        "\n",
        "    # 7) Auditorias\n",
        "    audit_sx = audit_sintomas(df_feat, sx_cols)\n",
        "    audit_ft = audit_feature_engineering(df_feat)\n",
        "\n",
        "    info = {\n",
        "        \"sintomas_cols\": sx_cols,\n",
        "        \"audit_sintomas\": audit_sx,\n",
        "        \"audit_features\": audit_ft\n",
        "    }\n",
        "    return df_feat, info\n",
        "\n",
        "\n",
        "# ==========================================\n",
        "# 🚀 EXECUÇÃO REAL NO DATAFRAME\n",
        "# (assume que já existe mpox_2022_prep como df pós-imputação)\n",
        "# ==========================================\n",
        "df0 = df_prep.copy()\n",
        "\n",
        "# ► Mantém todos os sintomas (literatura/consenso: preservar informação clínica agora)\n",
        "df_feateng, fe_info = run_feature_engineering_pipeline(df0, sintomas_min_freq=None)\n",
        "\n",
        "print(\"\\n✔️ Engenharia de atributos concluída:\")\n",
        "print(\"\\nTotal de colunas:\", df_feateng.shape[1])\n",
        "print(\"Total de linhas :\", df_feateng.shape[0])\n"
      ],
      "metadata": {
        "id": "p4wLF8FqtFKI"
      },
      "execution_count": null,
      "outputs": [],
      "id": "p4wLF8FqtFKI"
    },
    {
      "cell_type": "markdown",
      "source": [
        "## **⚙️ Auditoria Pós-Engenharia de Dados**"
      ],
      "metadata": {
        "id": "B19PnoRGe0AW"
      },
      "id": "B19PnoRGe0AW"
    },
    {
      "cell_type": "code",
      "source": [
        "# Amostra de auditorias\n",
        "print(\"\\n✔️ Resultado da Auditoria Pós-Engenharia de Dados:\")\n",
        "print(\"\\n[Audit] Dummies de sintomas (top 10 por % positivos):\")\n",
        "print(fe_info[\"audit_sintomas\"].head(10))\n",
        "\n",
        "print(\"\\n\\n[Audit] Quadro-resumo de features derivadas:\")\n",
        "print(fe_info[\"audit_features\"],'\\n')"
      ],
      "metadata": {
        "id": "OI7tH48ze0pm"
      },
      "execution_count": null,
      "outputs": [],
      "id": "OI7tH48ze0pm"
    },
    {
      "cell_type": "markdown",
      "source": [
        "## 📊 Distribuição das variáveis-alvo binárias"
      ],
      "metadata": {
        "id": "Al3JHwqoNa2w"
      },
      "id": "Al3JHwqoNa2w"
    },
    {
      "cell_type": "code",
      "source": [
        "# 📊 Distribuição das variáveis-alvo binárias (df_feateng) – barras horizontais\n",
        "import matplotlib.pyplot as plt\n",
        "\n",
        "target_cols = [\"target_hosp\", \"target_obito_any\", \"target_obito_mpx\"]\n",
        "\n",
        "fig, axes = plt.subplots(len(target_cols), 1, figsize=(12, 6))  # uma coluna, várias linhas\n",
        "\n",
        "for i, target_col in enumerate(target_cols):\n",
        "    y = df_feateng[target_col].astype(int)\n",
        "\n",
        "    counts = y.value_counts().sort_index()\n",
        "    ratios = (counts / counts.sum() * 100).round(2)\n",
        "\n",
        "    bars = axes[i].barh([str(k) for k in counts.index], counts.values,\n",
        "                        color=[\"lightgreen\", \"green\"], alpha=1)\n",
        "\n",
        "    # Adicionar percentuais ao lado de cada barra\n",
        "    for bar, pct in zip(bars, ratios):\n",
        "        width = bar.get_width()\n",
        "        axes[i].text(width + (0.01*width), bar.get_y() + bar.get_height()/2,\n",
        "                     f\"{pct:.2f}%\", ha=\"left\", va=\"center\", fontsize=10)\n",
        "\n",
        "    axes[i].set_title(f\"{target_col}\")\n",
        "    axes[i].set_xlabel(\"Contagem\")\n",
        "    axes[i].set_ylabel(\"Classe\")\n",
        "\n",
        "plt.suptitle(\"📊 Distribuição de classes – Variáveis-alvo binárias\", fontsize=14)\n",
        "plt.tight_layout(rect=[0, 0, 1, 0.95])\n",
        "plt.show()\n"
      ],
      "metadata": {
        "id": "9ZXxm3y2NaBt"
      },
      "execution_count": null,
      "outputs": [],
      "id": "9ZXxm3y2NaBt"
    },
    {
      "cell_type": "markdown",
      "source": [
        "## 📊 Verificação de Distribuição dos Targets após Engenharia de Atributos"
      ],
      "metadata": {
        "id": "TIqTEv3v9-xu"
      },
      "id": "TIqTEv3v9-xu"
    },
    {
      "cell_type": "code",
      "source": [
        "# 📊 Distribuição percentual dos targets + gráficos lado a lado (Seaborn)\n",
        "#import seaborn as sns\n",
        "#import matplotlib.pyplot as plt\n",
        "\n",
        "# Lista de possíveis targets\n",
        "targets = [\"target_hosp\", \"target_obito_any\", \"target_obito_mpx\"]\n",
        "\n",
        "# Impressão no console (percentuais simplificados)\n",
        "print(f\"Distribuição (%) de:\\n\")\n",
        "for t in targets:\n",
        "    if t in df_feateng.columns:\n",
        "        counts = (df_feateng[t].value_counts(normalize=True) * 100).round(2)\n",
        "        distrib_dict = counts.to_dict()\n",
        "\n",
        "        print(f\"{t}: {distrib_dict}\")\n",
        "\n",
        "# Preparar dados em formato longo para o seaborn\n",
        "plot_data = []\n",
        "for t in targets:\n",
        "    if t in df_feateng.columns:\n",
        "        counts = (df_feateng[t].value_counts(normalize=True) * 100).round(2)\n",
        "        for cls, val in counts.items():\n",
        "            plot_data.append({\"Target\": t, \"Classe\": str(cls), \"Percentual\": val})\n",
        "\n",
        "df_plot = pd.DataFrame(plot_data)\n",
        "\n",
        "# Plot com seaborn — um subplot por target\n",
        "n = df_plot[\"Target\"].nunique()\n",
        "fig, axes = plt.subplots(1, n, figsize=(5*n, 4), sharey=True)\n",
        "\n",
        "if n == 1:  # garante que axes seja iterável mesmo com 1 target\n",
        "    axes = [axes]\n",
        "\n",
        "for ax, target in zip(axes, df_plot[\"Target\"].unique()):\n",
        "    sns.barplot(\n",
        "        data=df_plot[df_plot[\"Target\"] == target],\n",
        "        x=\"Classe\", y=\"Percentual\",\n",
        "        color=\"lightgreen\", edgecolor=\"gray\", linewidth=1.2, ax=ax\n",
        "    )\n",
        "    ax.set_title(f\"{target}\", fontsize=10)\n",
        "    ax.set_ylabel(\"Percentual (%)\")\n",
        "    ax.set_xlabel(\"Classe\")\n",
        "\n",
        "plt.suptitle(\"Distribuição percentual dos targets\", fontsize=12, y=1.05)\n",
        "plt.tight_layout()\n",
        "plt.show()\n"
      ],
      "metadata": {
        "id": "p1AWzS8lGlbm"
      },
      "execution_count": null,
      "outputs": [],
      "id": "p1AWzS8lGlbm"
    },
    {
      "cell_type": "markdown",
      "source": [
        "## 💾 Salvamento Final da Base Pós-Engenharia de Atributos"
      ],
      "metadata": {
        "id": "AVpOksWP91k9"
      },
      "id": "AVpOksWP91k9"
    },
    {
      "cell_type": "code",
      "source": [
        "# 💾 Salvamento final da base pós-engenharia de atributos\n",
        "output_path = \"mpox_2022_feateng.csv\"\n",
        "df_feateng.to_csv(output_path, index=False, encoding=\"utf-8\")\n",
        "print(f\"✔️ Arquivo salvo em: {output_path}\")\n",
        "\n",
        "# 🔍 Verificação pós-salvamento (recarrega e confere shape + distribuição dos targets)\n",
        "df_check = pd.read_csv(output_path)\n",
        "print(\"\\nCarregado de volta com sucesso:\", df_check.shape)\n",
        "\n",
        "# Lista de possíveis targets\n",
        "targets = [\"target_hosp\", \"target_obito_any\", \"target_obito_mpx\"]\n",
        "\n",
        "for t in targets:\n",
        "    if t in df_check.columns:\n",
        "        counts = (df_check[t].value_counts(normalize=True) * 100).round(2)\n",
        "        distrib_dict = counts.to_dict()\n",
        "        print(f\"Distribuição (%) de {t}: {distrib_dict}\")\n"
      ],
      "metadata": {
        "id": "6xRH43kZtSSW"
      },
      "execution_count": null,
      "outputs": [],
      "id": "6xRH43kZtSSW"
    },
    {
      "cell_type": "markdown",
      "source": [
        "---\n",
        "##🧹 **Seleção de Atributos — Resumo das Ações**\n",
        "\n",
        "---\n",
        "\n",
        "- ✂️ Elimina:\n",
        "\n",
        "  - Variáveis de datas (`DT_*`),  \n",
        "  - Identificadores técnicos (`__arquivo_origem__`),  \n",
        "  - Texto livre cru (`OUTRO_DES`).  \n",
        "\n",
        "- 📉 Aplica filtro de variância:\n",
        "  - Remove variáveis numéricas com variância < 1% (sem poder discriminativo:\n",
        "              `VarianceThreshold(threshold=0.01)`).  \n",
        "\n",
        "- 🎯 Mantém:\n",
        "  - Variáveis categóricas para uso em **codificadores** (LabelEncoder / OneHotEncoder)."
      ],
      "metadata": {
        "id": "XUAAz4hSoPQ8"
      },
      "id": "XUAAz4hSoPQ8"
    },
    {
      "cell_type": "markdown",
      "source": [
        "🧑 Esclarecimento\n",
        "\n",
        "Filtro de variância:\n",
        "- A variância de uma feature é uma medida estatística que indica o quanto os valores dessa variável se dispersam em relação à média.\n",
        "\n",
        "- Atributos com baixa variância tendem a ser pouco informativos, pois não ajudam a distinguir entre diferentes classes ou padrões nos dados.\n",
        "\n",
        "- Objetivo do filtro é melhorar a qualidade dos dados antes de aplicar algoritmos de aprendizado.\n",
        "\n",
        "    “Features that do not vary much across the dataset are unlikely to be useful for prediction and can be removed during preprocessing.” — Kelleher et al., 2nd Ed."
      ],
      "metadata": {
        "id": "tTYIGpJisSe5"
      },
      "id": "tTYIGpJisSe5"
    },
    {
      "cell_type": "code",
      "source": [
        "# 1. Seleção de Atributos — Remoção inicial de inviáveis + filtro de variância\n",
        "\n",
        "#import pandas as pd\n",
        "#from sklearn.feature_selection import VarianceThreshold\n",
        "\n",
        "# Carrega o dataset pós-engenharia de atributos\n",
        "df_feateng = pd.read_csv(\"mpox_2022_feateng.csv\")\n",
        "\n",
        "print(f\"[0] Dataset carregado com {df_feateng.shape[1]} variáveis\")\n",
        "\n",
        "print(\"\\nTotal de variáveis após:\\n\")\n",
        "# --------------------------\n",
        "# A) Remover variáveis inviáveis\n",
        "# --------------------------\n",
        "inviaveis = [\n",
        "    \"__arquivo_origem__\",   # identificador técnico\n",
        "    \"OUTRO_DES\"             # texto livre cru (já não entra em modelagem)\n",
        "] + [c for c in df_feateng.columns if c.startswith(\"DT_\")]  # datas puras\n",
        "\n",
        "df_reduced = df_feateng.drop(columns=[c for c in inviaveis if c in df_feateng.columns])\n",
        "\n",
        "print(f\"[1] Remoção de inviáveis: {df_reduced.shape[1]} variáveis\")\n",
        "\n",
        "# --------------------------\n",
        "# B) Filtro de variância\n",
        "# --------------------------\n",
        "sel = VarianceThreshold(threshold=0.01)  # <1% de variância → descartar\n",
        "sel.fit(df_reduced.select_dtypes(include=[\"int64\",\"float64\"]))\n",
        "\n",
        "variaveis_ok = df_reduced.select_dtypes(include=[\"int64\",\"float64\"]).columns[sel.get_support()]\n",
        "df_atribsel = df_reduced[variaveis_ok.tolist() + df_reduced.select_dtypes(include=[\"object\"]).columns.tolist()]\n",
        "\n",
        "print(f\"\\n[2] Filtro de variância: {df_atribsel.shape[1]} variáveis\")"
      ],
      "metadata": {
        "id": "lCPoYJ-BoTxO"
      },
      "execution_count": null,
      "outputs": [],
      "id": "lCPoYJ-BoTxO"
    },
    {
      "cell_type": "markdown",
      "source": [
        "Filtro semântico\n"
      ],
      "metadata": {
        "id": "zSIhboIf_Ojz"
      },
      "id": "zSIhboIf_Ojz"
    },
    {
      "cell_type": "code",
      "source": [
        "# --------------------------\n",
        "# C) 🔎 Filtro semântico/manual — remoção de variáveis redundantes (após filtro estatístico)\n",
        "# --------------------------\n",
        "#\n",
        "redundant_cols = [\n",
        "    \"SG_UF\", \"CO_UF_RES\"  # exemplo redundância semântica com UF\n",
        "    # adiciona outras colunas redundantes aqui\n",
        "]\n",
        "\n",
        "df_atribsel = df_atribsel.drop(columns=[c for c in redundant_cols if c in df_atribsel.columns])\n",
        "\n",
        "print(f\"✅ Variáveis redundantes removidas. \\n\\nTotal atual de variáveis no dataframe: {df_atribsel.shape[1]}\")\n"
      ],
      "metadata": {
        "id": "-2wprku1_Nny"
      },
      "execution_count": null,
      "outputs": [],
      "id": "-2wprku1_Nny"
    },
    {
      "cell_type": "markdown",
      "source": [
        "## 📊 Diagnóstico de correlação (apenas numéricas reais contínuas/discretas)"
      ],
      "metadata": {
        "id": "p_YGe8KaScAk"
      },
      "id": "p_YGe8KaScAk"
    },
    {
      "cell_type": "code",
      "source": [
        "# 📊 Diagnóstico de correlação (apenas numéricas reais contínuas/discretas)\n",
        "def corr_diag_numeric_only(df, threshold=0.9):\n",
        "    # Apenas avalia correlação em colunas numéricas contínuas/discretas.\n",
        "    # Não remove nada — só retorna pares correlacionados.\n",
        "    num_df = df.select_dtypes(include=[\"number\"])\n",
        "    corr_matrix = num_df.corr().abs()\n",
        "\n",
        "    high_corr = [\n",
        "        (i, j, corr_matrix.loc[i, j])\n",
        "        for i in corr_matrix.columns\n",
        "        for j in corr_matrix.columns\n",
        "        if i != j and corr_matrix.loc[i, j] > threshold\n",
        "    ]\n",
        "\n",
        "    return sorted(high_corr, key=lambda x: -x[2])\n",
        "\n",
        "\n",
        "\n",
        "# ▶️ Execução: Diagnóstico de alta correlação em variáveis numéricas (pré-encoding)\n",
        "\n",
        "high_corr_pairs = corr_diag_numeric_only(df_atribsel, threshold=0.9)\n",
        "\n",
        "if not high_corr_pairs:\n",
        "    print(\"\\n✅ Nenhuma correlação forte encontrada entre variáveis numéricas.\")\n",
        "else:\n",
        "    print(f\"\\n⚠️ Total de {len(high_corr_pairs)} pares de variáveis altamente correlacionadas encontrados.\")\n",
        "    print(\"\\n[Diagnóstico] Pares de variáveis altamente correlacionadas (>0.9):\")\n",
        "    for i, j, corr in high_corr_pairs:\n",
        "      print(f\" - {i} vs {j}: {corr:.2f}\")\n",
        "print('\\n')"
      ],
      "metadata": {
        "id": "xmCU4MwfSZLI"
      },
      "execution_count": null,
      "outputs": [],
      "id": "xmCU4MwfSZLI"
    },
    {
      "cell_type": "markdown",
      "source": [
        "## Salva dados Pós-Seleção de Atributos"
      ],
      "metadata": {
        "id": "iLAyNAE6AoTd"
      },
      "id": "iLAyNAE6AoTd"
    },
    {
      "cell_type": "code",
      "source": [
        "# --------------------------\n",
        "# Exporta versão reduzida\n",
        "# --------------------------\n",
        "out_path = \"mpox_2022_atribsel.csv\"\n",
        "df_atribsel.to_csv(out_path, index=False)\n",
        "print(f\"\\n[3] Dataset salvo como: {out_path}\\n\")"
      ],
      "metadata": {
        "id": "amrYgXJU_jEh"
      },
      "execution_count": null,
      "outputs": [],
      "id": "amrYgXJU_jEh"
    },
    {
      "cell_type": "markdown",
      "source": [
        "## 📌 Nota da seção – Dataset após Engenharia e Seleção de Atributos\n",
        "\n",
        "- `df_feateng` → saída da Engenharia de Atributos; é um dataframe derivado de df_prep\n",
        "- `df_atribsel` → dataframe derivado de `df_feateng`, após seleção inicial (remoção de inviáveis + filtro de variância + filtro semântico/manual):  \n",
        "  - Objetivo: evitar redundâncias e reduzir multicolinearidade.  \n",
        "  - Este dataframe será utilizado como entrada na etapa de **Codificação (Encoding)**.\n"
      ],
      "metadata": {
        "id": "bBhCadf3fkBg"
      },
      "id": "bBhCadf3fkBg"
    },
    {
      "cell_type": "markdown",
      "source": [
        "---\n",
        "## **Atividade 3: Codificação de variáveis categóricas (OrdinalEncoder e OneHotEncoder)**\n",
        "---\n",
        "\n",
        "-  Como não se tem variáveis categóricas ordinais, somente OneHotEncoder será **utilizado**"
      ],
      "metadata": {
        "id": "z8ju2I-CKsd_"
      },
      "id": "z8ju2I-CKsd_"
    },
    {
      "cell_type": "markdown",
      "source": [
        "### Vetores de Colunas por Tipo de Variáveis"
      ],
      "metadata": {
        "id": "EYlFQJV6ozrk"
      },
      "id": "EYlFQJV6ozrk"
    },
    {
      "cell_type": "code",
      "source": [
        "# ================================\n",
        "# CATEGÓRICAS NOMINAIS (texto / códigos IBGE)\n",
        "# ================================\n",
        "nominal_categorical_cols = [\n",
        "    'SG_UF',        # string, sigla da UF\n",
        "    'SG_UF_NOT',    # string, sigla da UF da notificação\n",
        "    'ID_MUNICIP',   # int64 (código IBGE)\n",
        "    'CO_UF_RES',    # int64 (código IBGE da UF residência)\n",
        "    'ID_MN_RESI'    # int64 (código IBGE município residência)\n",
        "]\n",
        "\n",
        "# ================================\n",
        "# CATEGÓRICAS MÚLTIPLAS (lista em texto)\n",
        "# ================================\n",
        "list_multiple_categorical_cols = [\n",
        "    'SINTOMA'   # object (lista de sintomas separados por vírgula)\n",
        "]\n",
        "\n",
        "# ================================\n",
        "# TEXTO LIVRE\n",
        "# ================================\n",
        "text_cols = [\n",
        "    'OUTRO_DES'   # object\n",
        "]\n",
        "\n",
        "# ================================\n",
        "# NUMÉRICAS CATEGÓRICAS BINÁRIAS (0/1 após recodificação)\n",
        "# ================================\n",
        "numerical_as_binary_categ_cols = [\n",
        "    'GONORREIA','CLAMIDEA','SIFILIS','HERPES_GENITAL','CANCRO_MOLE',\n",
        "    'TRICHOMOMAS_VAGINALS','LINFOGRANULOMA','MYCOPLASMA_GENITAL',\n",
        "    'HPV','DIP','DONOVANOSE','HTLV','VERRUGA_GENITAL'\n",
        "]\n",
        "\n",
        "# ================================\n",
        "# NUMÉRICAS CATEGÓRICAS NOMINAIS (códigos)\n",
        "# ================================\n",
        "numerical_as_nominal_categ_cols = [\n",
        "    'CLASSI_FIN', 'CS_SEXO','COMP_SEXUAL','ORIENTA_SEXUAL','IDENT_GENERO',\n",
        "    'CS_RACA','PAC_IMUNOSSUP','IST_ATIVA','TP_AMOST','ESTRANGEIRO',\n",
        "    'HIV','UTI','RESULTADO_EXA_LAB','PROFIS_SAUDE','VACINA',\n",
        "    'TRATAMENTO_MONKEYPOX','HOSPITAL','EVOLUCAO','VINCULO_EPI',\n",
        "    'LOCAL_CONT','TRANSM','CONTAT_ANIMAL', 'CS_GESTANT',\n",
        "    'MET_LAB','CARACT_GENOMICA','CLADO',\n",
        "    'DOENCA_TRA.1'   # ⚠️ ajustado: não é texto, é código categórico\n",
        "]\n",
        "\n",
        "# ==============COMENTADO==================\n",
        "# CATEGÓRICAS ORDINAIS (numéricas com hierarquia natural)\n",
        "# ================================\n",
        "#numerical_as_ordinal_categ_cols = [\n",
        "#    'CS_GESTANT'  # int64 → ordinal (ordem gestacional)]\n",
        "\n",
        "# =============COMENTADO===================\n",
        "# NUMÉRICAS REAIS / CONTÍNUAS\n",
        "# ================================\n",
        "\n",
        "# ================================\n",
        "# NUMÉRICAS REAIS / DISCRETAS\n",
        "# ================================\n",
        "numerical_discrete_cols = [\n",
        "    'NU_IDADE_N',   # int64 → idade em anos (discreta)\n",
        "    'CONTAG_CD4'    # contagem de células CD4 (discreta, mas pode ser analisada como contínua)\n",
        "]\n",
        "\n",
        "# ================================\n",
        "# TEMPORAIS (datas)\n",
        "# ================================\n",
        "date_temporal_cols = [\n",
        "    'DT_NOTIFIC','DT_SIN_PRI','DT_COLETA','DATA_VACINA',\n",
        "    'DT_INTERNA','DT_EVOLUCAO'   # todos devem virar datetime64[ns]\n",
        "]\n",
        "\n",
        "# ================================\n",
        "# IDENTIFICADOR TÉCNICO\n",
        "# ================================\n",
        "identif_cols = [\n",
        "    '__arquivo_origem__'  # object, só para rastreabilidade\n",
        "]\n",
        "\n"
      ],
      "metadata": {
        "id": "E0bmTkQ2LcYX"
      },
      "execution_count": null,
      "outputs": [],
      "id": "E0bmTkQ2LcYX"
    },
    {
      "cell_type": "markdown",
      "source": [
        "### **Codificação OneHotEncoder**"
      ],
      "metadata": {
        "id": "BpDDTxi3Kt8d"
      },
      "id": "BpDDTxi3Kt8d"
    },
    {
      "cell_type": "code",
      "source": [
        "# 1) Codificação de variáveis categóricas (One-Hot)\n",
        "from sklearn.preprocessing import OneHotEncoder\n",
        "\n",
        "# Usa vetores já definidos (garantem todas categóricas relevantes)\n",
        "onehot_cols = [c for c in df_atribsel.columns\n",
        "               if c in nominal_categorical_cols\n",
        "               or c in numerical_as_nominal_categ_cols]\n",
        "\n",
        "# Inicializa encoder\n",
        "encoder = OneHotEncoder(drop='first', sparse_output=False, dtype=int, handle_unknown='ignore')\n",
        "\n",
        "# Aplica transform\n",
        "encoded = encoder.fit_transform(df_atribsel[onehot_cols])\n",
        "\n",
        "# Converte para DataFrame\n",
        "encoded_df = pd.DataFrame(encoded,\n",
        "                          columns=encoder.get_feature_names_out(onehot_cols),\n",
        "                          index=df_atribsel.index)\n",
        "\n",
        "# Junta e remove originais\n",
        "df_encoded = pd.concat([df_atribsel.drop(columns=onehot_cols), encoded_df], axis=1)\n",
        "\n",
        "print(\"[Encoding] Dataset final:\", df_encoded.shape)\n",
        "print(\"[Encoding] Categóricas originais:\", len(onehot_cols))\n",
        "print(\"[Encoding] Variáveis após OneHot:\", encoded_df.shape[1])\n"
      ],
      "metadata": {
        "id": "h9lgdAQPKxGF"
      },
      "execution_count": null,
      "outputs": [],
      "id": "h9lgdAQPKxGF"
    },
    {
      "cell_type": "markdown",
      "source": [
        "## Auditoria Pós-codificação de Variáveis Categóricas"
      ],
      "metadata": {
        "id": "J14g1BtacZzF"
      },
      "id": "J14g1BtacZzF"
    },
    {
      "cell_type": "code",
      "source": [
        "# 2) Auditoria pós-codificação\n",
        "print(\"=== Auditoria Pós-codificação de Variáveis Categóricas ===\")\n",
        "\n",
        "# Total de colunas antes e depois\n",
        "print(f\"- Total antes da codificação: {df_atribsel.shape[1]}\")\n",
        "print(f\"- Total depois da codificação: {df_encoded.shape[1]}\")\n",
        "\n",
        "# Conferir se não há mais colunas categóricas \"cruas\"\n",
        "restantes_cat = df_encoded.select_dtypes(include=['object', 'category']).columns\n",
        "if len(restantes_cat) > 0:\n",
        "    print(\"⚠️ Restaram colunas categóricas sem codificação:\", list(restantes_cat))\n",
        "else:\n",
        "    print(\"✅ Todas as categóricas foram codificadas.\")\n",
        "\n",
        "# Conferir tipos predominantes\n",
        "print(\"\\nDtypes principais no dataset final:\")\n",
        "print(df_encoded.dtypes.value_counts())\n",
        "\n",
        "# Conferir presença de NaNs\n",
        "nulos = df_encoded.isna().sum().sum()\n",
        "print(f\"\\nValores ausentes após codificação: {nulos}\")\n"
      ],
      "metadata": {
        "id": "YPf0aVbYcYRZ"
      },
      "execution_count": null,
      "outputs": [],
      "id": "YPf0aVbYcYRZ"
    },
    {
      "cell_type": "markdown",
      "source": [
        "## ▶️ **Filtro de Alta Correlação na Pós-codificação**"
      ],
      "metadata": {
        "id": "lAw5zRgGOKdD"
      },
      "id": "lAw5zRgGOKdD"
    },
    {
      "cell_type": "code",
      "source": [
        "# 3) Filtro de Alta Correlação na Pós-codificação\n",
        "import numpy as np\n",
        "\n",
        "def drop_high_corr(df, threshold=0.9):\n",
        "    \"\"\"\n",
        "    Remove variáveis altamente correlacionadas.\n",
        "\n",
        "    Parâmetros:\n",
        "    - df : DataFrame (numérico, já codificado)\n",
        "    - threshold : float (correlação acima desse valor será considerada redundante)\n",
        "\n",
        "    Retorna:\n",
        "    - df_reduced : DataFrame sem colunas redundantes\n",
        "    - dropped : lista de colunas removidas\n",
        "    \"\"\"\n",
        "    # Seleciona apenas numéricas (evita erro com datas)\n",
        "    num_df = df.select_dtypes(include=[np.number])\n",
        "\n",
        "    # Calcula matriz de correlação\n",
        "    corr = num_df.corr().abs()\n",
        "\n",
        "    # Seleciona parte triangular superior\n",
        "    upper = corr.where(np.triu(np.ones(corr.shape), k=1).astype(bool))\n",
        "\n",
        "    # Colunas a remover\n",
        "    to_drop = [col for col in upper.columns if any(upper[col] > threshold)]\n",
        "\n",
        "    df_reduced = df.drop(columns=to_drop, errors=\"ignore\")\n",
        "    return df_reduced, to_drop\n",
        "\n",
        "\n",
        "# ▶️ Aplicação: no df_encoded (já pós-codificação)\n",
        "df_atribsel, dropped_corr = drop_high_corr(df_encoded, threshold=0.9)\n",
        "\n",
        "print(f\"[Filtro de Alta Correlação] Colunas removidas: {len(dropped_corr)}\")\n",
        "#debug# print(\"Exemplo de colunas removidas:\", dropped_corr[:10])\n",
        "print(\"Shape final:\", df_atribsel.shape)\n"
      ],
      "metadata": {
        "id": "DQwA9zMWOLM7"
      },
      "execution_count": null,
      "outputs": [],
      "id": "DQwA9zMWOLM7"
    },
    {
      "cell_type": "markdown",
      "source": [
        "## Auditoria Pós-filtro de Alta Correlação"
      ],
      "metadata": {
        "id": "FQR-BXlqlkP1"
      },
      "id": "FQR-BXlqlkP1"
    },
    {
      "cell_type": "code",
      "source": [
        "# Auditoria Pós-filtro de Correlação na Pós-codificação\n",
        "\n",
        "print(\"=== Auditoria Pós-Correlação ===\")\n",
        "print(f\"- Total de colunas antes: {df_encoded.shape[1]}\")\n",
        "print(f\"- Total de colunas depois: {df_atribsel.shape[1]}\")\n",
        "print(f\"- Colunas removidas por alta correlação: {len(dropped_corr)}\")\n",
        "\n",
        "if dropped_corr:\n",
        "    print(\"\\n⚠️ Lista das primeiras colunas removidas:\\n\", dropped_corr[:15])\n",
        "else:\n",
        "    print(\"\\n✅ Nenhuma coluna altamente correlacionada foi removida.\")\n",
        "\n",
        "# Conferir se restaram colunas categóricas (não deveria)\n",
        "restantes_cat = df_atribsel.select_dtypes(include=['object', 'category']).columns\n",
        "if len(restantes_cat) > 0:\n",
        "    print(\"\\n⚠️ Restaram colunas categóricas:\\n\", list(restantes_cat))\n",
        "else:\n",
        "    print(\"\\n✅ Apenas numéricas, pronto para escalonamento.\")\n",
        "\n",
        "print('\\n')"
      ],
      "metadata": {
        "id": "QIu9OVB-ljWd"
      },
      "execution_count": null,
      "outputs": [],
      "id": "QIu9OVB-ljWd"
    },
    {
      "cell_type": "markdown",
      "source": [
        "## 🔎 Notas sobre trade-offs da codificação de variáveis categóricas\n",
        "\n",
        "- **OrdinalEncoder**: preserva ordem entre categorias, mas introduz risco de assumir relações numéricas inexistentes (ex.: \"azul\" < \"verde\").\n",
        "- **OneHotEncoder**: evita ordens artificiais, mas pode gerar explosão de dimensionalidade em variáveis com muitas categorias.\n",
        "- **Trade-off prático neste projeto**:\n",
        "  - Variáveis com ordem natural → `OrdinalEncoder`.\n",
        "  - Variáveis nominais sem ordem → `OneHotEncoder`.\n",
        "- Essa escolha equilibra **interpretabilidade** (menos colunas) e **capacidade preditiva** (evitar falsas relações).\n",
        "\n",
        "🎗 Lembrete: sem variáveis categóricas ordinais neste dataset, visto que `CS_GESTANTE`não pode ser considerada como ordinal (é somente em parte)\n"
      ],
      "metadata": {
        "id": "ci66h4-TwJrV"
      },
      "id": "ci66h4-TwJrV"
    },
    {
      "cell_type": "markdown",
      "source": [
        "---\n",
        "## **Atividade 4: Escalonamento de variáveis numéricas (StandardScaler e MinMaxScaler)**\n",
        "\n",
        "##### Percepção analítica: \"Idade tem muitos outliers em 80+, mas o StandardScaler reduz o impacto no treino do modelo, enquanto o MinMax preserva os extremos comprimidos em 1.\"\n",
        "---"
      ],
      "metadata": {
        "id": "HskBbrCBsEQB"
      },
      "id": "HskBbrCBsEQB"
    },
    {
      "cell_type": "markdown",
      "source": [
        "### **Escalonamento StandardScaler**"
      ],
      "metadata": {
        "id": "dRd-BNIluPDR"
      },
      "id": "dRd-BNIluPDR"
    },
    {
      "cell_type": "code",
      "source": [
        "# 4.1) Escalonamento de variáveis numéricas — StandardScaler\n",
        "from sklearn.preprocessing import StandardScaler\n",
        "\n",
        "def scale_with_standard(df):\n",
        "    \"\"\"\n",
        "    Aplica StandardScaler (z-score) às variáveis numéricas.\n",
        "    Retorna:\n",
        "    - df_scaled_std : dataframe escalonado\n",
        "    - num_cols : lista de colunas numéricas escalonadas\n",
        "    \"\"\"\n",
        "    num_cols = df.select_dtypes(include=[np.number]).columns\n",
        "    scaler = StandardScaler()\n",
        "\n",
        "    df_scaled_std = df.copy()\n",
        "    df_scaled_std[num_cols] = scaler.fit_transform(df[num_cols])\n",
        "\n",
        "    return df_scaled_std, num_cols\n",
        "\n",
        "\n",
        "# ▶️ Execução 4.1\n",
        "df_scaled_std, num_cols_std = scale_with_standard(df_atribsel)\n",
        "print(f\"[4.1] StandardScaler aplicado em {len(num_cols_std)} variáveis numéricas.\\n\")\n"
      ],
      "metadata": {
        "id": "8s4W2d7TsnEE"
      },
      "execution_count": null,
      "outputs": [],
      "id": "8s4W2d7TsnEE"
    },
    {
      "cell_type": "markdown",
      "source": [
        "### Auditoria Pós-Escalonamento — StandardScaler"
      ],
      "metadata": {
        "id": "Hs8zw7KtW2TW"
      },
      "id": "Hs8zw7KtW2TW"
    },
    {
      "cell_type": "code",
      "source": [
        "# Auditoria 4.1 — StandardScaler\n",
        "def audit_standard_scaling(df_original, df_scaled, cols):\n",
        "    \"\"\"\n",
        "    Verifica se StandardScaler funcionou:\n",
        "    - média ≈ 0\n",
        "    - desvio padrão ≈ 1\n",
        "    \"\"\"\n",
        "    audit = {}\n",
        "    for col in cols:\n",
        "        sc = df_scaled[col]\n",
        "        audit[col] = {\n",
        "            \"mean_scaled\": float(sc.mean()),\n",
        "            \"std_scaled\": float(sc.std())\n",
        "        }\n",
        "    return pd.DataFrame(audit).T\n",
        "\n",
        "audit_std = audit_standard_scaling(df_atribsel, df_scaled_std, num_cols_std)\n",
        "print(audit_std.head(), '\\n')\n"
      ],
      "metadata": {
        "id": "2mI3wC1cW7BA"
      },
      "execution_count": null,
      "outputs": [],
      "id": "2mI3wC1cW7BA"
    },
    {
      "cell_type": "markdown",
      "source": [
        "### **Escalonamento de variáveis numéricas — MinMaxScaler**"
      ],
      "metadata": {
        "id": "LhphFguKwIEq"
      },
      "id": "LhphFguKwIEq"
    },
    {
      "cell_type": "code",
      "source": [
        "# 4.2) Escalonamento de variáveis numéricas — MinMaxScaler\n",
        "from sklearn.preprocessing import MinMaxScaler\n",
        "\n",
        "def scale_with_minmax(df):\n",
        "    \"\"\"\n",
        "    Aplica MinMaxScaler [0,1] às variáveis numéricas.\n",
        "    Retorna:\n",
        "    - df_scaled_mm : dataframe escalonado\n",
        "    - num_cols : lista de colunas numéricas escalonadas\n",
        "    \"\"\"\n",
        "    num_cols = df.select_dtypes(include=[np.number]).columns\n",
        "    scaler = MinMaxScaler()\n",
        "\n",
        "    df_scaled_mm = df.copy()\n",
        "    df_scaled_mm[num_cols] = scaler.fit_transform(df[num_cols])\n",
        "\n",
        "    return df_scaled_mm, num_cols\n",
        "\n",
        "\n",
        "# ▶️ Execução 4.2\n",
        "df_scaled_mm, num_cols_mm = scale_with_minmax(df_atribsel)\n",
        "print(f\"[4.2] MinMaxScaler aplicado em {len(num_cols_mm)} variáveis numéricas.\")\n"
      ],
      "metadata": {
        "id": "uXlaYzoPvHxc"
      },
      "execution_count": null,
      "outputs": [],
      "id": "uXlaYzoPvHxc"
    },
    {
      "cell_type": "markdown",
      "source": [
        " ### Auditoria Pós-Escalonamento — MinMaxScaler"
      ],
      "metadata": {
        "id": "xegl83s5wU1-"
      },
      "id": "xegl83s5wU1-"
    },
    {
      "cell_type": "code",
      "source": [
        "# Auditoria 4.2 — MinMaxScaler\n",
        "def audit_minmax_scaling(df_original, df_scaled, cols):\n",
        "    \"\"\"\n",
        "    Verifica se MinMaxScaler funcionou:\n",
        "    - min = 0\n",
        "    - max = 1\n",
        "    \"\"\"\n",
        "    audit = {}\n",
        "    for col in cols:\n",
        "        sc = df_scaled[col]\n",
        "        audit[col] = {\n",
        "            \"min_scaled\": float(sc.min()),\n",
        "            \"max_scaled\": float(sc.max())\n",
        "        }\n",
        "    return pd.DataFrame(audit).T\n",
        "\n",
        "audit_mm = audit_minmax_scaling(df_atribsel, df_scaled_mm, num_cols_mm)\n",
        "print(audit_mm.head())\n"
      ],
      "metadata": {
        "id": "Ay3HyalFvtqI"
      },
      "execution_count": null,
      "outputs": [],
      "id": "Ay3HyalFvtqI"
    },
    {
      "cell_type": "markdown",
      "source": [
        "### 📊 Comparação gráfica e estatística dos escalonadores"
      ],
      "metadata": {
        "id": "7H0pPG4CWWGm"
      },
      "id": "7H0pPG4CWWGm"
    },
    {
      "cell_type": "code",
      "source": [
        "# 📊 Comparação gráfica e estatística dos escalonadores\n",
        "\n",
        "# Usar diretamente as colunas numéricas discretas já definidas\n",
        "focus_vars = numerical_discrete_cols  # Ex.: [\"NU_IDADE_N\", \"CONTAG_CD4\"]\n",
        "\n",
        "FIGSIZE = (18, 8)  # Altura fixa, já que será só uma linha de gráficos\n",
        "figsPerLine = 3    # Número de figuras por linha\n",
        "\n",
        "colors = [\"lightgreen\", \"blue\", \"green\"]\n",
        "titles = [\"Original (sem escalonamento)\", \"Após StandardScaler\", \"Após MinMaxScaler\"]\n",
        "\n",
        "scaler_std = StandardScaler()\n",
        "scaler_mm = MinMaxScaler()\n",
        "\n",
        "# Aplicar transformações e manter nomes das colunas\n",
        "df_scaled_std = pd.DataFrame(\n",
        "    scaler_std.fit_transform(df_atribsel[focus_vars].astype(float)),\n",
        "    columns=focus_vars\n",
        ")\n",
        "df_scaled_mm = pd.DataFrame(\n",
        "    scaler_mm.fit_transform(df_atribsel[focus_vars].astype(float)),\n",
        "    columns=focus_vars\n",
        ")\n",
        "\n",
        "# ----------------------------------------------------------\n",
        "# Boxplots lado a lado (Antes, Pós-Std, Pós-MinMax)\n",
        "# ----------------------------------------------------------\n",
        "datasets = {\n",
        "    \"Original (sem escalonamento)\": df_atribsel[focus_vars].astype(float).values,\n",
        "    \"Após StandardScaler\": df_scaled_std.values,\n",
        "    \"Após MinMaxScaler\": df_scaled_mm.values\n",
        "}\n",
        "\n",
        "fig, axes = plt.subplots(1, figsPerLine, figsize=FIGSIZE)\n",
        "\n",
        "for ax, (title, data), color in zip(axes, datasets.items(), colors):\n",
        "    ax.boxplot(data, labels=focus_vars, vert=True, patch_artist=True,\n",
        "               boxprops=dict(facecolor=color))\n",
        "    ax.set_title(title, fontsize=12)\n",
        "    ax.tick_params(axis='x', rotation=45)\n",
        "\n",
        "plt.suptitle(\"📊 Comparação dos Escalonadores – Variáveis Numéricas Discretas\", fontsize=14)\n",
        "plt.tight_layout(rect=[0, 0, 1, 0.95])\n",
        "plt.show()\n",
        "\n",
        "# ----------------------------------------------------------\n",
        "# Estatísticas comparativas em formato matricial\n",
        "# ----------------------------------------------------------\n",
        "def resumo_stats_matriz(df_before, df_std, df_mm, cols):\n",
        "    stats = {}\n",
        "    for col in cols:\n",
        "        stats[col] = {\n",
        "            (\"Antes\", \"Média\"):  df_before[col].mean(),\n",
        "            (\"Antes\", \"Desvio\"): df_before[col].std(),\n",
        "            (\"Antes\", \"Min\"):    df_before[col].min(),\n",
        "            (\"Antes\", \"Max\"):    df_before[col].max(),\n",
        "\n",
        "            (\"Pós-Std\", \"Média\"):  df_std[col].mean(),\n",
        "            (\"Pós-Std\", \"Desvio\"): df_std[col].std(),\n",
        "            (\"Pós-Std\", \"Min\"):    df_std[col].min(),\n",
        "            (\"Pós-Std\", \"Max\"):    df_std[col].max(),\n",
        "\n",
        "            (\"Pós-MinMax\", \"Média\"):  df_mm[col].mean(),\n",
        "            (\"Pós-MinMax\", \"Desvio\"): df_mm[col].std(),\n",
        "            (\"Pós-MinMax\", \"Min\"):    df_mm[col].min(),\n",
        "            (\"Pós-MinMax\", \"Max\"):    df_mm[col].max(),\n",
        "        }\n",
        "\n",
        "    df_stats = pd.DataFrame(stats).T.round(3)\n",
        "    df_stats.columns = pd.MultiIndex.from_tuples(df_stats.columns)  # cria hierarquia\n",
        "    return df_stats\n",
        "\n",
        "comparativo_stats_matriz = resumo_stats_matriz(\n",
        "    df_atribsel[focus_vars], df_scaled_std, df_scaled_mm, focus_vars\n",
        ")\n",
        "\n",
        "print(\"\\n=== Estatísticas comparativas ===\")\n",
        "display(comparativo_stats_matriz)\n"
      ],
      "metadata": {
        "id": "aO-umamiWSED"
      },
      "execution_count": null,
      "outputs": [],
      "id": "aO-umamiWSED"
    },
    {
      "cell_type": "markdown",
      "source": [
        "## 📌 Nota da seção – Escolha do escalonador para modelagem\n",
        "\n",
        "- As variáveis numéricas do dataset (`NU_IDADE_N`, `CONTAG_CD4`) são **discretas** – não existem variáveis contínuas reais neste caso.\n",
        "\n",
        "- Foram avaliadas duas estratégias de escalonamento: `StandardScaler` e `MinMaxScaler`.  \n",
        "- A comparação gráfica e estatística mostrou que ambos funcionam conforme o esperado:\n",
        "  - `Original (sem escalonamento)`: mantém médias, desvios, mínimos e máximos originais.\n",
        "  - `StandardScaler`: centraliza variáveis em média ≈ 0 e desvio ≈ 1.  \n",
        "    - _Útil para modelos que assumem distribuição aproximadamente gaussiana (ex.: Regressão Logística, Redes Neurais)._\n",
        "\n",
        "  - `MinMaxScaler`: normaliza variáveis para o intervalo [0, 1].  \n",
        "    - _Essencial para modelos baseados em distância (ex.: kNN, SVM)._\n",
        "\n",
        "\n",
        "- **Decisão metodológica:**  \n",
        "  - Ambos os escalonadores serão mantidos no pipeline de pré-processamento.  \n",
        "  - A escolha final será feita na **Parte 2 (Modelagem)**, comparando o impacto de cada abordagem no desempenho dos modelos sensíveis à escala (ex.: kNN, SVM, Redes Neurais).\n",
        "  \n",
        "  ## 📌 Nota da seção – Impacto do escalonamento nas variáveis numéricas discretas\n",
        "\n",
        "- A comparação foi feita em **dois níveis**:\n",
        "  1. **Visual (boxplots)** → mostram a mudança da distribuição antes e depois de aplicar os escalonadores.\n",
        "  2. **Numérica (tabela comparativa)** → confirma estatisticamente os efeitos esperados.\n",
        "- **StandardScaler:**\n",
        "- **MinMaxScaler:**\n",
        "  - Normaliza cada variável para o intervalo **[0, 1]**.- **Decisão prática:**\n",
        "  - O uso de ambos os escalonadores será considerado nos pipelines, avaliando impacto direto no desempenho dos modelos sensíveis à escala.\n",
        "\n",
        "\n",
        "- As variáveis numéricas do dataset (`NU_IDADE_N`, `CONTAG_CD4`) são **discretas** – não existem variáveis contínuas reais neste caso.\n"
      ],
      "metadata": {
        "id": "B4H5wijhaOMR"
      },
      "id": "B4H5wijhaOMR"
    },
    {
      "cell_type": "markdown",
      "source": [
        "---\n",
        "\n",
        "## **Divisão de preditoras (X) e alvo (y)**\n",
        "\n",
        "---"
      ],
      "metadata": {
        "id": "mjRFb0vXayqQ"
      },
      "id": "mjRFb0vXayqQ"
    },
    {
      "cell_type": "code",
      "source": [
        "# 5.0 Divisão de preditoras (X) e alvo (y)\n",
        "# ----------------------------------------\n",
        "# - Objetivo: separar features (X) e variável-alvo (y).\n",
        "# - Aqui você escolhe QUAL alvo quer balancear (hospitalização ou óbito).\n",
        "# - Pré-requisito: df_encoded (ou df_enc) já codificado (OneHot) e sem colunas não-numéricas.\n",
        "# - Observação: por ora, vamos seguir com 'target_hosp'; depois você pode trocar pelo alvo de óbito.\n",
        "\n",
        "import pandas as pd\n",
        "\n",
        "# Escolhe o alvo aqui:\n",
        "target_col = \"target_hosp\"   # alternativas: \"target_obito_any\", \"target_obito_mpx\" (se estiverem com menor desbalanceamento)\n",
        "\n",
        "# Verificações básicas\n",
        "assert target_col in df_encoded.columns, f\"Alvo '{target_col}' não existe em df_encoded.\"\n",
        "assert set(df_encoded[target_col].dropna().unique()) <= {0,1}, \"Alvo precisa ser binário (0/1).\"\n",
        "\n",
        "# Separa X e y\n",
        "X = df_encoded.drop(columns=[target_col]).copy()\n",
        "y = df_encoded[target_col].copy()\n",
        "\n",
        "print(\"[5.0] X e y criados:\", X.shape, y.shape)\n",
        "print(\"Distribuição (%) do alvo selecionado:\",\n",
        "      (y.value_counts(normalize=True)*100).round(2).to_dict(), '\\n')\n"
      ],
      "metadata": {
        "id": "Gg01OEkLavyk"
      },
      "execution_count": null,
      "outputs": [],
      "id": "Gg01OEkLavyk"
    },
    {
      "cell_type": "markdown",
      "source": [
        "---\n",
        "## **Atividade 5: Balanceamento dos dados (Tomek e Smote)**\n",
        "- Checar se os dados estão desbalanceados\n",
        "- Aplicar os algoritmos Tomek e Smote\n",
        "- Avaliar impacto no desempenho dos modelos treinados\n",
        "---"
      ],
      "metadata": {
        "id": "ebBpIesASikf"
      },
      "id": "ebBpIesASikf"
    },
    {
      "cell_type": "markdown",
      "source": [
        "### Checagem de desbalanceamento das classes\n"
      ],
      "metadata": {
        "id": "oI-Fh2VVbyxf"
      },
      "id": "oI-Fh2VVbyxf"
    },
    {
      "cell_type": "code",
      "source": [
        "# 5.1 Checagem de desbalanceamento das classes\n",
        "# --------------------------------------------\n",
        "# - Objetivo: medir a proporção das classes antes de balancear.\n",
        "# - Saída: distribuição percentual e alerta visual simples.\n",
        "\n",
        "from collections import Counter\n",
        "\n",
        "dist_original = (y.value_counts(normalize=True) * 100).round(2).to_dict()\n",
        "print(f\"\\nVariável-alvo: {target_col}\")\n",
        "print(\"\\n[5.1] Distribuição (%) do alvo (Original -> Pós-codificação/escalonamento):\\n\", dist_original)\n",
        "\n",
        "# Regras práticas (heurística):\n",
        "#   - Se min(classe) < 20% → dataset bastante desbalanceado\n",
        "#   - Entre 20% e 40% → moderadamente desbalanceado\n",
        "minority_pct = min(dist_original.values())\n",
        "if minority_pct < 20:\n",
        "    print(\"\\n⚠️ Alerta: classe minoritária < 20% (desbalanceamento alto).\")\n",
        "elif minority_pct < 40:\n",
        "    print(\"ℹ️ Observação: desbalanceamento moderado.\")\n",
        "else:\n",
        "    print(\"✅ Classes relativamente equilibradas.\")\n"
      ],
      "metadata": {
        "id": "7S4nQbpuzmkJ"
      },
      "execution_count": null,
      "outputs": [],
      "id": "7S4nQbpuzmkJ"
    },
    {
      "cell_type": "markdown",
      "source": [
        "### 🔧 Sanitização e Imputação só para Balanceamento (garante só numéricos)"
      ],
      "metadata": {
        "id": "siFCYTsCiq_6"
      },
      "id": "siFCYTsCiq_6"
    },
    {
      "cell_type": "code",
      "source": [
        "# 5.2 Sanitização/Imputação (só para balanceamento) + Escalonamento\n",
        "# ------------------------------------------------------------------\n",
        "# - Objetivo: garantir que X esteja 100% numérico e sem NaN antes do Tomek/SMOTE.\n",
        "# - Passos:\n",
        "#   1) Selecionar apenas colunas numéricas (df_encoded já tende a ser numérico após OneHot).\n",
        "#   2) Imputar com mediana (robusta a outliers) — SOMENTE para esta etapa técnica.\n",
        "#   3) Padronizar (StandardScaler) para que SMOTE/Tomek usem distâncias sem viés de escala.\n",
        "# - Observação: Na modelagem final (cv/grid search), faremos TUDO em pipeline para evitar vazamento.\n",
        "\n",
        "#import numpy as np\n",
        "#from sklearn.impute import SimpleImputer\n",
        "#from sklearn.preprocessing import StandardScaler\n",
        "\n",
        "# 1) Garante numéricos\n",
        "X_num = X.select_dtypes(include=[np.number]).copy()\n",
        "drop_cols = [c for c in X.columns if c not in X_num.columns]\n",
        "if drop_cols:\n",
        "    print(f\"[5.2] Removidas do X (não numéricas para balanceamento): {drop_cols}\")\n",
        "\n",
        "# 2) Imputação simples (mediana)\n",
        "imp_bal = SimpleImputer(strategy=\"median\")\n",
        "X_num_imp = pd.DataFrame(\n",
        "    imp_bal.fit_transform(X_num),\n",
        "    columns=X_num.columns,\n",
        "    index=X_num.index\n",
        ")\n",
        "\n",
        "# 3) Escalonamento (StandardScaler)\n",
        "scaler_bal = StandardScaler()\n",
        "X_num_imp_scaled = pd.DataFrame(\n",
        "    scaler_bal.fit_transform(X_num_imp),\n",
        "    columns=X_num.columns,\n",
        "    index=X_num.index\n",
        ")\n",
        "\n",
        "print(\"[5.2] X_num_imp_scaled pronto para Tomek/SMOTE:\", X_num_imp_scaled.shape)\n",
        "\n",
        "# (Opcional) Salvar artefatos técnicos desta etapa\n",
        "# X_num_imp_scaled.to_csv(\"X_balance_ready.csv\", index=False)\n",
        "# y.to_csv(\"y_balance_ready.csv\", index=False)\n"
      ],
      "metadata": {
        "id": "15p4qR1Z2Ux4"
      },
      "execution_count": null,
      "outputs": [],
      "id": "15p4qR1Z2Ux4"
    },
    {
      "cell_type": "markdown",
      "source": [
        "### **Tomek Links (remoção de pares fronteira)**"
      ],
      "metadata": {
        "id": "1_MoefY9dKte"
      },
      "id": "1_MoefY9dKte"
    },
    {
      "cell_type": "code",
      "source": [
        "# 5.3 Tomek Links\n",
        "# ----------------\n",
        "# - Objetivo: remover pares (maioria/minoria) que formam \"bordas\" ruidosas, deixando as classes mais separáveis.\n",
        "# - Deve rodar APÓS escalonamento (distâncias ficam corretas).\n",
        "# - Resultado: base levemente menor e menos ruído.\n",
        "\n",
        "#from imblearn.under_sampling import TomekLinks\n",
        "\n",
        "tl = TomekLinks(n_jobs=-1)\n",
        "X_tomek, y_tomek = tl.fit_resample(X_num_imp_scaled, y)\n",
        "\n",
        "dist_tomek = (y_tomek.value_counts(normalize=True) * 100).round(2).to_dict()\n",
        "print(\"[5.3] Pós-Tomek — distribuição (%):\", dist_tomek)\n",
        "print(\"[5.3] Shape:\", X_tomek.shape)\n"
      ],
      "metadata": {
        "id": "ITmvV0PHYezT"
      },
      "execution_count": null,
      "outputs": [],
      "id": "ITmvV0PHYezT"
    },
    {
      "cell_type": "markdown",
      "source": [
        "### **SMOTE (_Oversampling_ da Minoritária)**\n"
      ],
      "metadata": {
        "id": "4CFPLm7bdwB3"
      },
      "id": "4CFPLm7bdwB3"
    },
    {
      "cell_type": "code",
      "source": [
        "# 5.4 Balanceamento com SMOTE (Synthetic Minority Oversampling Technique)\n",
        "# ----------------------------------------------------------------------\n",
        "# Objetivo: gerar amostras sintéticas da classe minoritária para reduzir desbalanceamento.\n",
        "# Sequência recomendada: aplicar após Tomek Links (limpa ruídos/pares conflitantes),\n",
        "#                        mas SMOTE também pode ser usado isoladamente.\n",
        "# Param k_neighbors: nº de vizinhos usados para gerar pontos sintéticos.\n",
        "#   - Ajuste dinâmico: k = min(5, minority_count - 1) → evita erro quando minoria tem poucos registros.\n",
        "# Param random_state: garante reprodutibilidade.\n",
        "# Obs: SMOTE não aceita 'n_jobs' (não paraleliza internamente).\n",
        "\n",
        "#from imblearn.over_sampling import SMOTE\n",
        "\n",
        "minority_count = y_tomek.value_counts().min()\n",
        "k = min(5, max(1, minority_count - 1))\n",
        "\n",
        "smote = SMOTE(k_neighbors=k, random_state=42)\n",
        "X_tomek_smote, y_tomek_smote = smote.fit_resample(X_tomek, y_tomek)\n",
        "\n",
        "dist_tomek_smote = (y_tomek_smote.value_counts(normalize=True) * 100).round(2).to_dict()\n",
        "print(\"[5.4] Pós-Tomek/SMOTE — distribuição (%):\", dist_tomek_smote)\n",
        "print(\"[5.4] Shape:\", X_tomek_smote.shape)\n"
      ],
      "metadata": {
        "id": "qW69IJ1tYeoT"
      },
      "execution_count": null,
      "outputs": [],
      "id": "qW69IJ1tYeoT"
    },
    {
      "cell_type": "markdown",
      "source": [
        "## 💾 Salvamento de Bases Balanceadas\n"
      ],
      "metadata": {
        "id": "iE7QyX4z5m-k"
      },
      "id": "iE7QyX4z5m-k"
    },
    {
      "cell_type": "code",
      "source": [
        "# (Opcional) salvar bases balanceadas\n",
        "pd.DataFrame(X_tomek, columns=X_num_imp_scaled.columns).to_csv(\"X_mpox_2022_target_hosp_tomek.csv\", index=False)\n",
        "y_tomek.to_csv(\"y_mpox_2022_target_hosp_tomek.csv\", index=False)\n",
        "pd.DataFrame(X_tomek_smote, columns=X_num_imp_scaled.columns).to_csv(\"X_mpox_2022_target_hosp_tomek_smote.csv\", index=False)\n",
        "y_tomek_smote.to_csv(\"y_mpox_2022_target_hosp_tomek_smote.csv\", index=False)"
      ],
      "metadata": {
        "id": "m2Oepf5S5ku3"
      },
      "execution_count": null,
      "outputs": [],
      "id": "m2Oepf5S5ku3"
    },
    {
      "cell_type": "markdown",
      "source": [
        "## Auditoria comparativa de balanceamento: Antes → Tomek → SMOTE (Após Tomek)"
      ],
      "metadata": {
        "id": "1GUob4FCeHe7"
      },
      "id": "1GUob4FCeHe7"
    },
    {
      "cell_type": "code",
      "source": [
        "# 5.5 Auditoria comparativa (Antes → Tomek → SMOTE (Após Tomek))\n",
        "# ------------------------------------------------\n",
        "# - Objetivo: comparar a distribuição das classes ao longo das etapas de balanceamento.\n",
        "# ------------------------------------------------\n",
        "\n",
        "import matplotlib.pyplot as plt\n",
        "import seaborn as sns\n",
        "import pandas as pd\n",
        "\n",
        "dist_original = (y.value_counts(normalize=True) * 100).round(2).to_dict()\n",
        "dist_tomek    = (y_tomek.value_counts(normalize=True) * 100).round(2).to_dict()\n",
        "dist_tomek_smote    = (y_tomek_smote.value_counts(normalize=True) * 100).round(2).to_dict()\n",
        "\n",
        "audit_balance = pd.DataFrame({\n",
        "    \"Antes (%)\": dist_original,\n",
        "    \"Após Tomek (%)\": dist_tomek,\n",
        "    \"Após Tomek/SMOTE (%)\": dist_tomek_smote\n",
        "}).T\n",
        "\n",
        "print(\"=== Auditoria comparativa do balanceamento ===\")\n",
        "print(audit_balance)\n",
        "\n",
        "fig, axes = plt.subplots(1, 3, figsize=(15, 5), sharey=True)\n",
        "\n",
        "sns.barplot(x=list(dist_original.keys()), y=list(dist_original.values()),\n",
        "            ax=axes[0], color=\"lightblue\", edgecolor=\"gray\")\n",
        "axes[0].set_title(\"Antes\")\n",
        "\n",
        "sns.barplot(x=list(dist_tomek.keys()), y=list(dist_tomek.values()),\n",
        "            ax=axes[1], color=\"lightgreen\", edgecolor=\"gray\")\n",
        "axes[1].set_title(\"Após Tomek\")\n",
        "\n",
        "sns.barplot(x=list(dist_tomek_smote.keys()), y=list(dist_tomek_smote.values()),\n",
        "            ax=axes[2], color=\"green\", edgecolor=\"gray\")\n",
        "axes[2].set_title(\"Após Tomek/SMOTE\")\n",
        "\n",
        "for ax in axes:\n",
        "    ax.set_xlabel(\"Classe\")\n",
        "    ax.set_ylabel(\"Percentual (%)\")\n",
        "\n",
        "plt.suptitle(f\"Comparação de distribuição — alvo: {target_col}\", fontsize=13)\n",
        "plt.tight_layout()\n",
        "plt.show()\n"
      ],
      "metadata": {
        "id": "_9bOz-i24D0g"
      },
      "execution_count": null,
      "outputs": [],
      "id": "_9bOz-i24D0g"
    },
    {
      "cell_type": "markdown",
      "source": [
        "## 💾 Serialização dos dados balanceados (SMOTE)"
      ],
      "metadata": {
        "id": "3egZi21PLoIB"
      },
      "id": "3egZi21PLoIB"
    },
    {
      "cell_type": "code",
      "source": [
        "# 💾 Serialização em Pickle (PKL) — Pós-SMOTE\n",
        "# -------------------------------------------------\n",
        "# Objetivo:\n",
        "#   - Salvar os datasets balanceados em formato .pkl\n",
        "#   - Preserva dtypes (ex: Int64, categorias) que podem se perder no CSV\n",
        "# Saída:\n",
        "#   - X_mpox_2022_target_hosp_tomek_smote.pkl\n",
        "#   - y_mpox_2022_target_hosp_tomek_smote.pkl\n",
        "# -------------------------------------------------\n",
        "\n",
        "import joblib\n",
        "\n",
        "# Caminhos de saída\n",
        "X_tomek_smote_pkl = \"X_mpox_2022_target_hosp_tomek_smote.pkl\"\n",
        "y_tomek_smote_pkl = \"y_mpox_2022_target_hosp_tomek_smote.pkl\"\n",
        "\n",
        "# Serializa com joblib (mais eficiente para DataFrames grandes)\n",
        "joblib.dump(pd.DataFrame(X_tomek_smote, columns=X_num_imp_scaled.columns), X_tomek_smote_pkl)\n",
        "joblib.dump(y_tomek_smote, y_tomek_smote_pkl)\n",
        "\n",
        "print(f\"✔️ X_tomek_smote salvo em: {X_tomek_smote_pkl}\")\n",
        "print(f\"✔️ y_tomek_smote salvo em: {y_tomek_smote_pkl}\")\n",
        "\n",
        "# Checagem pós-salvamento\n",
        "X_check = joblib.load(X_tomek_smote_pkl)\n",
        "y_check = joblib.load(y_tomek_smote_pkl)\n",
        "\n",
        "print(\"\\nChecagem pós-salvamento PKL:\")\n",
        "print(\"X_tomek_smote:\", X_check.shape, \"→ dtypes:\", X_check.dtypes.unique())\n",
        "print(\"y_tomek_smote:\", y_check.shape, \"→ dtype:\", y_check.dtypes)\n",
        "print(f\"\\nDistribuição alvo ({y_tomek_smote_pkl[0:-4]}):\")\n",
        "print(\"🎯Variável-alvo:\", )\n",
        "print(y_check.value_counts(normalize=True) * 100)\n"
      ],
      "metadata": {
        "id": "_2sXVKEDLlKh"
      },
      "execution_count": null,
      "outputs": [],
      "id": "_2sXVKEDLlKh"
    },
    {
      "cell_type": "markdown",
      "source": [
        "---\n",
        "## **Atividade 6: Treinamento dos modelos de Machine Learning**\n",
        "- Comparar modelos: testar diferentes classificadores\n",
        "    - Classificação binária\n",
        "    - Modelos: Naive Bayes, Árvore de Decisão, Random Forest, Aprendizagem baseada em instâncias - kNN, Regressão logística, SVM, Redes Neurais Artificiais\n",
        "- Medir desempenho com métricas adequadas e evitar overfitting\n",
        "- Investigar como técnicas de imputação e codificação impactam os resultados\n",
        "- Escolher e ajustar modelos (gridsearch/validação cruzada)\n",
        "---"
      ],
      "metadata": {
        "id": "mmBvj2PyShAA"
      },
      "id": "mmBvj2PyShAA"
    },
    {
      "cell_type": "markdown",
      "source": [
        "Configuração Inicial:\n",
        "\n",
        "- 📦 Importação das bibliotecas\n",
        "- 🔄 Carregar dados já pré-processados (Tomek + SMOTE aplicados)\n",
        "- ✂️ Divisão treino/teste\n"
      ],
      "metadata": {
        "id": "5wKu0RZ2jYVt"
      },
      "id": "5wKu0RZ2jYVt"
    },
    {
      "cell_type": "code",
      "source": [
        "# ================================\n",
        "# 📦 Importação das bibliotecas\n",
        "# ================================\n",
        "# pandas/numpy → manipulação de dados\n",
        "import pandas as pd\n",
        "import numpy as np\n",
        "\n",
        "# sklearn → modelagem e avaliação\n",
        "from sklearn.model_selection import train_test_split\n",
        "from sklearn.metrics import (\n",
        "    accuracy_score, precision_score, recall_score, f1_score, roc_auc_score,\n",
        "    classification_report, confusion_matrix, RocCurveDisplay\n",
        ")\n",
        "\n",
        "# visualização\n",
        "import matplotlib.pyplot as plt\n",
        "import seaborn as sns\n",
        "\n",
        "# salvar/carregar modelos\n",
        "import joblib\n",
        "\n",
        "# ================================\n",
        "# 🔄 Carregar dados já pré-processados (Tomek + SMOTE aplicados)\n",
        "# ================================\n",
        "X = joblib.load(\"/content/X_mpox_2022_target_hosp_tomek_smote.pkl\")\n",
        "y = joblib.load(\"/content/y_mpox_2022_target_hosp_tomek_smote.pkl\")\n",
        "\n",
        "# ================================\n",
        "# ✂️ Divisão treino/teste\n",
        "# - Mantemos proporção de classes (stratify=y)\n",
        "# - 80% treino, 20% teste\n",
        "# ================================\n",
        "X_train, X_test, y_train, y_test = train_test_split(\n",
        "    X, y, test_size=0.2, stratify=y, random_state=42\n",
        ")\n",
        "\n",
        "print(\"Tamanho treino:\", X_train.shape, \" | Tamanho teste:\", X_test.shape)\n",
        "print(\"Distribuição classes (treino):\\n\", y_train.value_counts(normalize=True))\n"
      ],
      "metadata": {
        "id": "7PJ77tJ2gI5e"
      },
      "id": "7PJ77tJ2gI5e",
      "execution_count": null,
      "outputs": []
    },
    {
      "cell_type": "code",
      "source": [
        "from google.colab import drive\n",
        "drive.mount('/content/drive')"
      ],
      "metadata": {
        "id": "dtA91WQBvMYs"
      },
      "id": "dtA91WQBvMYs",
      "execution_count": null,
      "outputs": []
    },
    {
      "cell_type": "markdown",
      "source": [
        "Função auxiliar de avaliação"
      ],
      "metadata": {
        "id": "Hxp2AECcg3tc"
      },
      "id": "Hxp2AECcg3tc"
    },
    {
      "cell_type": "code",
      "source": [
        "def avaliar_modelo(modelo, X_train, y_train, X_test, y_test, nome_modelo):\n",
        "    \"\"\"\n",
        "    Treina e avalia um modelo de classificação.\n",
        "\n",
        "    Passos:\n",
        "    1. Treina com dados de treino.\n",
        "    2. Prediz nos dados de teste.\n",
        "    3. Calcula métricas (Accuracy, Precision, Recall, F1, AUC).\n",
        "    4. Exibe relatório, matriz de confusão e curva ROC.\n",
        "\n",
        "    Retorna: dicionário com métricas principais (para comparação entre modelos).\n",
        "    \"\"\"\n",
        "    # Treinamento do modelo\n",
        "    modelo.fit(X_train, y_train)\n",
        "\n",
        "    # Predição\n",
        "    y_pred = modelo.predict(X_test)\n",
        "    y_proba = modelo.predict_proba(X_test)[:,1] if hasattr(modelo, \"predict_proba\") else None\n",
        "\n",
        "    # Cálculo das métricas\n",
        "    acc = accuracy_score(y_test, y_pred)\n",
        "    prec = precision_score(y_test, y_pred)\n",
        "    rec = recall_score(y_test, y_pred)\n",
        "    f1 = f1_score(y_test, y_pred)\n",
        "    auc = roc_auc_score(y_test, y_proba) if y_proba is not None else np.nan\n",
        "\n",
        "    # Exibição de resultados\n",
        "    print(f\"\\n📊 Resultados - {nome_modelo}\")\n",
        "    print(classification_report(y_test, y_pred))\n",
        "    print(\"Matriz de Confusão:\\n\", confusion_matrix(y_test, y_pred))\n",
        "    print(f\"AUC: {auc:.3f}\")\n",
        "\n",
        "    # Curva ROC (quando disponível)\n",
        "    if y_proba is not None:\n",
        "        RocCurveDisplay.from_estimator(modelo, X_test, y_test)\n",
        "        plt.title(f\"Curva ROC - {nome_modelo}\")\n",
        "        plt.show()\n",
        "\n",
        "    # Retorno para comparação final\n",
        "    return {\"Modelo\": nome_modelo, \"Accuracy\": acc, \"Precision\": prec,\n",
        "            \"Recall\": rec, \"F1\": f1, \"AUC\": auc}\n",
        "\n",
        "# Lista para armazenar os resultados de todos os modelos\n",
        "resultados = []\n"
      ],
      "metadata": {
        "id": "itHAoB5WgQe1"
      },
      "id": "itHAoB5WgQe1",
      "execution_count": null,
      "outputs": []
    },
    {
      "cell_type": "code",
      "source": [
        "# Visualização rápida\n",
        "print(X.head(1))\n",
        "print(y.value_counts())\n",
        "\n",
        "#type(X_loaded)\n",
        "#type(y_loaded)\n"
      ],
      "metadata": {
        "id": "AZm9Ms4apDcL"
      },
      "execution_count": null,
      "outputs": [],
      "id": "AZm9Ms4apDcL"
    },
    {
      "cell_type": "markdown",
      "source": [
        "🔹 1. Naive Bayes\n",
        "\n",
        "📘 Teoria: assume independência condicional entre atributos (Kelleher, cap. 8).\n",
        "Bom para baseline rápido, mesmo que a suposição seja simplista."
      ],
      "metadata": {
        "id": "1kaU9cahhA9B"
      },
      "id": "1kaU9cahhA9B"
    },
    {
      "cell_type": "code",
      "source": [
        "from sklearn.naive_bayes import GaussianNB\n",
        "\n",
        "nb = GaussianNB()\n",
        "resultados.append(avaliar_modelo(nb, X_train, y_train, X_test, y_test, \"Naive Bayes\"))\n"
      ],
      "metadata": {
        "id": "z80Grh2vgYxs"
      },
      "id": "z80Grh2vgYxs",
      "execution_count": null,
      "outputs": []
    },
    {
      "cell_type": "markdown",
      "source": [
        "🔹 2. Regressão Logística\n",
        "\n",
        "📘 Teoria: modelo linear que estima probabilidades. Muito usado em saúde pela interpretabilidade (odds ratio)."
      ],
      "metadata": {
        "id": "_z9pZssuhMbS"
      },
      "id": "_z9pZssuhMbS"
    },
    {
      "cell_type": "code",
      "source": [
        "from sklearn.linear_model import LogisticRegression\n",
        "\n",
        "log_reg = LogisticRegression(max_iter=1000, random_state=42)\n",
        "resultados.append(avaliar_modelo(log_reg, X_train, y_train, X_test, y_test, \"Regressão Logística\"))\n"
      ],
      "metadata": {
        "id": "LeoQGC8HhF3L"
      },
      "id": "LeoQGC8HhF3L",
      "execution_count": null,
      "outputs": []
    },
    {
      "cell_type": "markdown",
      "source": [
        "🔹 3. Árvore de Decisão\n",
        "\n",
        "📘 Teoria: gera regras hierárquicas “if-then”. Boa interpretabilidade, mas risco de overfitting se não podada."
      ],
      "metadata": {
        "id": "UbN7UCblhWdi"
      },
      "id": "UbN7UCblhWdi"
    },
    {
      "cell_type": "code",
      "source": [
        "from sklearn.tree import DecisionTreeClassifier\n",
        "\n",
        "tree = DecisionTreeClassifier(random_state=42)\n",
        "resultados.append(avaliar_modelo(tree, X_train, y_train, X_test, y_test, \"Árvore de Decisão\"))\n"
      ],
      "metadata": {
        "id": "n6R_Yha-hRIf"
      },
      "id": "n6R_Yha-hRIf",
      "execution_count": null,
      "outputs": []
    },
    {
      "cell_type": "markdown",
      "source": [
        "🔹 4. kNN\n",
        "\n",
        "📘 Teoria: classifica pelo “voto” dos vizinhos mais próximos. Simples, mas sensível a escala e dados ruidosos"
      ],
      "metadata": {
        "id": "pc6AvDUthc8E"
      },
      "id": "pc6AvDUthc8E"
    },
    {
      "cell_type": "code",
      "source": [
        "from sklearn.neighbors import KNeighborsClassifier\n",
        "\n",
        "knn = KNeighborsClassifier(n_neighbors=5)  # k=5 é default, pode ser ajustado\n",
        "resultados.append(avaliar_modelo(knn, X_train, y_train, X_test, y_test, \"kNN\"))\n"
      ],
      "metadata": {
        "id": "pf9v5skIhcV_"
      },
      "id": "pf9v5skIhcV_",
      "execution_count": null,
      "outputs": []
    },
    {
      "cell_type": "markdown",
      "source": [
        "🔹 5. Random Forest\n",
        "\n",
        "📘 Teoria: conjunto de várias árvores de decisão com amostragem aleatória. Reduz overfitting, aumenta robustez"
      ],
      "metadata": {
        "id": "YwXSJu7YhmE_"
      },
      "id": "YwXSJu7YhmE_"
    },
    {
      "cell_type": "code",
      "source": [
        "from sklearn.ensemble import RandomForestClassifier\n",
        "\n",
        "rf = RandomForestClassifier(n_estimators=200, random_state=42)\n",
        "resultados.append(avaliar_modelo(rf, X_train, y_train, X_test, y_test, \"Random Forest\"))\n"
      ],
      "metadata": {
        "id": "kR8gfULthis3"
      },
      "id": "kR8gfULthis3",
      "execution_count": null,
      "outputs": []
    },
    {
      "cell_type": "markdown",
      "source": [
        "🔹 6. SVM\n",
        "\n",
        "📘 Teoria: encontra hiperplano ótimo para separar classes. Potente em dados complexos, mas exige tuning (kernel, C, γ)."
      ],
      "metadata": {
        "id": "FX5EUoWYhxJ8"
      },
      "id": "FX5EUoWYhxJ8"
    },
    {
      "cell_type": "code",
      "source": [
        "from sklearn.svm import SVC\n",
        "\n",
        "svm = SVC(probability=True, random_state=42)  # probability=True para permitir ROC\n",
        "resultados.append(avaliar_modelo(svm, X_train, y_train, X_test, y_test, \"SVM\"))\n"
      ],
      "metadata": {
        "id": "6ZPmU4xZhotm"
      },
      "id": "6ZPmU4xZhotm",
      "execution_count": null,
      "outputs": []
    },
    {
      "cell_type": "markdown",
      "source": [
        "🔹 7. Rede Neural (MLP)\n",
        "\n",
        "📘 Teoria: modelo inspirado no cérebro humano, com múltiplas camadas ocultas. Captura padrões complexos, mas menos interpretável."
      ],
      "metadata": {
        "id": "HzjZeB-Hh1yJ"
      },
      "id": "HzjZeB-Hh1yJ"
    },
    {
      "cell_type": "code",
      "source": [
        "from sklearn.neural_network import MLPClassifier\n",
        "\n",
        "mlp = MLPClassifier(hidden_layer_sizes=(50,50), max_iter=500, random_state=42)\n",
        "resultados.append(avaliar_modelo(mlp, X_train, y_train, X_test, y_test, \"Rede Neural (MLP)\"))\n"
      ],
      "metadata": {
        "id": "lgJloFZth1Pv"
      },
      "id": "lgJloFZth1Pv",
      "execution_count": null,
      "outputs": []
    },
    {
      "cell_type": "markdown",
      "source": [
        "🔹 Comparação final entre modelos"
      ],
      "metadata": {
        "id": "q9aFuevBh-Py"
      },
      "id": "q9aFuevBh-Py"
    },
    {
      "cell_type": "code",
      "source": [
        "# Criar DataFrame comparativo\n",
        "df_resultados = pd.DataFrame(resultados)\n",
        "\n",
        "print(\"\\n📊 Comparação de Métricas entre Modelos\")\n",
        "display(df_resultados.sort_values(by=\"F1\", ascending=False))\n"
      ],
      "metadata": {
        "id": "MFSbXC9Hh7C7"
      },
      "id": "MFSbXC9Hh7C7",
      "execution_count": null,
      "outputs": []
    },
    {
      "cell_type": "markdown",
      "source": [
        "---\n",
        "## **Atividade 7: Usar o modelo treinado**\n",
        "- Salvar os transformadores\n",
        "- Salvar o modelo\n",
        "- Fazer predição usando dados novos\n",
        "---\n"
      ],
      "metadata": {
        "id": "BdrXHnftSUui"
      },
      "id": "BdrXHnftSUui"
    },
    {
      "cell_type": "markdown",
      "source": [
        "Naive Bayes"
      ],
      "metadata": {
        "id": "jWn_51unn13_"
      },
      "id": "jWn_51unn13_"
    },
    {
      "cell_type": "code",
      "source": [
        "# ✅ Exemplo: supondo que Random Forest foi o melhor (ajustar conforme resultados)\n",
        "modelo_final = nb\n",
        "\n",
        "# Salvar pipeline completo (inclui pré-processamentos e modelo final)\n",
        "joblib.dump(modelo_final, \"modelo_final_nb.pkl\")\n",
        "\n",
        "# Recarregar modelo para validar reutilização\n",
        "modelo_carregado = joblib.load(\"modelo_final_nb.pkl\")\n",
        "\n",
        "# Simular predição em 5 registros de teste\n",
        "amostra = X_test.iloc[:5]\n",
        "print(\"\\n🔮 Predições em novos dados simulados:\")\n",
        "print(\"Probabilidades:\", modelo_carregado.predict_proba(amostra))\n",
        "print(\"Classe prevista:\", modelo_carregado.predict(amostra))\n"
      ],
      "metadata": {
        "id": "2aC-8x7vn5LC"
      },
      "id": "2aC-8x7vn5LC",
      "execution_count": null,
      "outputs": []
    },
    {
      "cell_type": "markdown",
      "source": [
        "SVM"
      ],
      "metadata": {
        "id": "mBgAESPkoY_H"
      },
      "id": "mBgAESPkoY_H"
    },
    {
      "cell_type": "code",
      "source": [
        "# ✅ Exemplo: supondo que Random Forest foi o melhor (ajustar conforme resultados)\n",
        "modelo_final = nb\n",
        "\n",
        "# Salvar pipeline completo (inclui pré-processamentos e modelo final)\n",
        "joblib.dump(modelo_final, \"modelo_final_nb.pkl\")\n",
        "\n",
        "# Recarregar modelo para validar reutilização\n",
        "modelo_carregado = joblib.load(\"modelo_final_nb.pkl\")\n",
        "\n",
        "# Simular predição em 5 registros de teste\n",
        "amostra = X_test.iloc[:5]\n",
        "print(\"\\n🔮 Predições em novos dados simulados:\")\n",
        "print(\"Probabilidades:\", modelo_carregado.predict_proba(amostra))\n",
        "print(\"Classe prevista:\", modelo_carregado.predict(amostra))\n"
      ],
      "metadata": {
        "id": "_AZWmPT5oYZj"
      },
      "id": "_AZWmPT5oYZj",
      "execution_count": null,
      "outputs": []
    },
    {
      "cell_type": "markdown",
      "source": [
        "Árvore de Decisão"
      ],
      "metadata": {
        "id": "qChqQlbRoenW"
      },
      "id": "qChqQlbRoenW"
    },
    {
      "cell_type": "code",
      "source": [
        "# ✅ Exemplo: supondo que Random Forest foi o melhor (ajustar conforme resultados)\n",
        "modelo_final = tree\n",
        "\n",
        "# Salvar pipeline completo (inclui pré-processamentos e modelo final)\n",
        "joblib.dump(modelo_final, \"modelo_final_nb.pkl\")\n",
        "\n",
        "# Recarregar modelo para validar reutilização\n",
        "modelo_carregado = joblib.load(\"modelo_final_nb.pkl\")\n",
        "\n",
        "# Simular predição em 5 registros de teste\n",
        "amostra = X_test.iloc[:5]\n",
        "print(\"\\n🔮 Predições em novos dados simulados:\")\n",
        "print(\"Probabilidades:\", modelo_carregado.predict_proba(amostra))\n",
        "print(\"Classe prevista:\", modelo_carregado.predict(amostra))\n"
      ],
      "metadata": {
        "id": "sS0pOseDoiKI"
      },
      "id": "sS0pOseDoiKI",
      "execution_count": null,
      "outputs": []
    },
    {
      "cell_type": "markdown",
      "source": [
        "Rede Neural (MLP)"
      ],
      "metadata": {
        "id": "Hi9YlpCPoqlJ"
      },
      "id": "Hi9YlpCPoqlJ"
    },
    {
      "cell_type": "code",
      "source": [
        "# ✅ Exemplo: supondo que Random Forest foi o melhor (ajustar conforme resultados)\n",
        "modelo_final = mlp\n",
        "\n",
        "# Salvar pipeline completo (inclui pré-processamentos e modelo final)\n",
        "joblib.dump(modelo_final, \"modelo_final_mlp.pkl\")\n",
        "\n",
        "# Recarregar modelo para validar reutilização\n",
        "modelo_carregado = joblib.load(\"modelo_final_mlp.pkl\")\n",
        "\n",
        "# Simular predição em 5 registros de teste\n",
        "amostra = X_test.iloc[:5]\n",
        "print(\"\\n🔮 Predições em novos dados simulados:\")\n",
        "print(\"Probabilidades:\", modelo_carregado.predict_proba(amostra))\n",
        "print(\"Classe prevista:\", modelo_carregado.predict(amostra))\n"
      ],
      "metadata": {
        "id": "-Y6rw7_0op1T"
      },
      "id": "-Y6rw7_0op1T",
      "execution_count": null,
      "outputs": []
    },
    {
      "cell_type": "markdown",
      "source": [
        "Random Forest"
      ],
      "metadata": {
        "id": "MgG-IbOonBsQ"
      },
      "id": "MgG-IbOonBsQ"
    },
    {
      "cell_type": "code",
      "source": [
        "# ✅ Exemplo: supondo que Random Forest foi o melhor (ajustar conforme resultados)\n",
        "modelo_final = rf\n",
        "\n",
        "# Salvar pipeline completo (inclui pré-processamentos e modelo final)\n",
        "joblib.dump(modelo_final, \"modelo_final_rf.pkl\")\n",
        "\n",
        "# Recarregar modelo para validar reutilização\n",
        "modelo_carregado = joblib.load(\"modelo_final_rf.pkl\")\n",
        "\n",
        "# Simular predição em 5 registros de teste\n",
        "amostra = X_test.iloc[:5]\n",
        "print(\"\\n🔮 Predições em novos dados simulados:\")\n",
        "print(\"Probabilidades:\", modelo_carregado.predict_proba(amostra))\n",
        "print(\"Classe prevista:\", modelo_carregado.predict(amostra))\n"
      ],
      "metadata": {
        "id": "e5YSzvyMiHv4"
      },
      "id": "e5YSzvyMiHv4",
      "execution_count": null,
      "outputs": []
    },
    {
      "cell_type": "markdown",
      "source": [
        "Regressão Logística"
      ],
      "metadata": {
        "id": "LOSaXP4QozYq"
      },
      "id": "LOSaXP4QozYq"
    },
    {
      "cell_type": "code",
      "source": [
        "# ✅ Exemplo: supondo que Random Forest foi o melhor (ajustar conforme resultados)\n",
        "modelo_final = log_reg\n",
        "\n",
        "# Salvar pipeline completo (inclui pré-processamentos e modelo final)\n",
        "joblib.dump(modelo_final, \"modelo_final_log_reg.pkl\")\n",
        "\n",
        "# Recarregar modelo para validar reutilização\n",
        "modelo_carregado = joblib.load(\"modelo_final_log_reg.pkl\")\n",
        "\n",
        "# Simular predição em 5 registros de teste\n",
        "amostra = X_test.iloc[:5]\n",
        "print(\"\\n🔮 Predições em novos dados simulados:\")\n",
        "print(\"Probabilidades:\", modelo_carregado.predict_proba(amostra))\n",
        "print(\"Classe prevista:\", modelo_carregado.predict(amostra))\n"
      ],
      "metadata": {
        "id": "sUahknWao0WU"
      },
      "id": "sUahknWao0WU",
      "execution_count": null,
      "outputs": []
    },
    {
      "cell_type": "markdown",
      "source": [
        "kNN"
      ],
      "metadata": {
        "id": "9LwP_6F_pB43"
      },
      "id": "9LwP_6F_pB43"
    },
    {
      "cell_type": "code",
      "source": [
        "# ✅ Exemplo: supondo que Random Forest foi o melhor (ajustar conforme resultados)\n",
        "modelo_final = knn\n",
        "\n",
        "# Salvar pipeline completo (inclui pré-processamentos e modelo final)\n",
        "joblib.dump(modelo_final, \"modelo_final_knn.pkl\")\n",
        "\n",
        "# Recarregar modelo para validar reutilização\n",
        "modelo_carregado = joblib.load(\"modelo_final_knn.pkl\")\n",
        "\n",
        "# Simular predição em 5 registros de teste\n",
        "amostra = X_test.iloc[:5]\n",
        "print(\"\\n🔮 Predições em novos dados simulados:\")\n",
        "print(\"Probabilidades:\", modelo_carregado.predict_proba(amostra))\n",
        "print(\"Classe prevista:\", modelo_carregado.predict(amostra))\n"
      ],
      "metadata": {
        "id": "RgEe8QGLpA-p"
      },
      "id": "RgEe8QGLpA-p",
      "execution_count": null,
      "outputs": []
    },
    {
      "cell_type": "code",
      "source": [
        "import os\n",
        "\n",
        "# ================================\n",
        "# 📂 Criar pasta para salvar os modelos\n",
        "# ================================\n",
        "os.makedirs(\"modelos_salvos\", exist_ok=True)\n",
        "\n",
        "# ================================\n",
        "# 🔄 Loop para salvar e recarregar todos os modelos\n",
        "# ================================\n",
        "modelos_treinados = {\n",
        "    \"NaiveBayes\": nb,\n",
        "    \"RegressaoLogistica\": log_reg,\n",
        "    \"ArvoreDecisao\": tree,\n",
        "    \"kNN\": knn,\n",
        "    \"RandomForest\": rf,\n",
        "    \"SVM\": svm,\n",
        "    \"RedeNeuralMLP\": mlp\n",
        "}\n",
        "\n",
        "for nome, modelo in modelos_treinados.items():\n",
        "    print(f\"\\n=== 🔄 Testando reuso do modelo: {nome} ===\")\n",
        "\n",
        "    # 1. Salvar modelo em arquivo PKL\n",
        "    caminho = f\"modelos_salvos/{nome}.pkl\"\n",
        "    joblib.dump(modelo, caminho)\n",
        "    print(f\"✅ Modelo salvo em: {caminho}\")\n",
        "\n",
        "    # 2. Recarregar modelo salvo\n",
        "    modelo_carregado = joblib.load(caminho)\n",
        "\n",
        "    # 3. Testar predição em uma pequena amostra (5 registros de teste)\n",
        "    amostra = X_test.iloc[:5]\n",
        "    pred = modelo_carregado.predict(amostra)\n",
        "    proba = modelo_carregado.predict_proba(amostra)[:,1] if hasattr(modelo_carregado, \"predict_proba\") else \"N/A\"\n",
        "\n",
        "    print(\"🔮 Predições:\", pred)\n",
        "    print(\"📊 Probabilidades:\", proba)\n"
      ],
      "metadata": {
        "id": "uQLxoccLp83m"
      },
      "id": "uQLxoccLp83m",
      "execution_count": null,
      "outputs": []
    },
    {
      "cell_type": "code",
      "source": [],
      "metadata": {
        "id": "bs58HZ6a5Ptq"
      },
      "id": "bs58HZ6a5Ptq",
      "execution_count": null,
      "outputs": []
    }
  ],
  "metadata": {
    "kernelspec": {
      "display_name": "Python 3",
      "language": "python",
      "name": "python3"
    },
    "language_info": {
      "codemirror_mode": {
        "name": "ipython",
        "version": 3
      },
      "file_extension": ".py",
      "mimetype": "text/x-python",
      "name": "python",
      "nbconvert_exporter": "python",
      "pygments_lexer": "ipython3",
      "version": "3.13.3"
    },
    "colab": {
      "provenance": [],
      "include_colab_link": true
    }
  },
  "nbformat": 4,
  "nbformat_minor": 5
}